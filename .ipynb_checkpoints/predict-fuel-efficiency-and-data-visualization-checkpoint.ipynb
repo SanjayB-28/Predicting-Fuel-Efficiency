{
 "cells": [
  {
   "cell_type": "code",
   "execution_count": 31,
   "metadata": {
    "_cell_guid": "b1076dfc-b9ad-4769-8c92-a6c4dae69d19",
    "_uuid": "8f2839f25d086af736a60e9eeb907d3b93b6e0e5"
   },
   "outputs": [],
   "source": [
    "# In a regression problem, we aim to predict the output of a continuous value, like a price or a probability. \n",
    "# Contrast this with a classification problem, where we aim to predict a discrete label (for example, where a \n",
    "# picture contains an apple or an orange).\n",
    "# \n",
    "# This notebook uses the classic Auto MPG Dataset and builds a model to predict the fuel efficiency of late-1970s \n",
    "# and early 1980s automobiles. To do this, we'll provide the model with a description of many models from that time period. \n",
    "# \n",
    "# This description includes attributes like: cylinders, displacement, horsepower, and weight.\n",
    "# \n",
    "# This example uses the tf.keras API, and mentioned in TensorFlow tutorial page. Here I tried to use the same\n",
    "# dataset and enhanced whenever I could."
   ]
  },
  {
   "cell_type": "code",
   "execution_count": 32,
   "metadata": {
    "_cell_guid": "79c7e3d0-c299-4dcb-8224-4455121ee9b0",
    "_uuid": "d629ff2d2480ee46fbb7e2d37f6b5fab8052498a"
   },
   "outputs": [
    {
     "data": {
      "text/html": [
       "        <script type=\"text/javascript\">\n",
       "        window.PlotlyConfig = {MathJaxConfig: 'local'};\n",
       "        if (window.MathJax) {MathJax.Hub.Config({SVG: {font: \"STIX-Web\"}});}\n",
       "        if (typeof require !== 'undefined') {\n",
       "        require.undef(\"plotly\");\n",
       "        requirejs.config({\n",
       "            paths: {\n",
       "                'plotly': ['https://cdn.plot.ly/plotly-latest.min']\n",
       "            }\n",
       "        });\n",
       "        require(['plotly'], function(Plotly) {\n",
       "            window._Plotly = Plotly;\n",
       "        });\n",
       "        }\n",
       "        </script>\n",
       "        "
      ]
     },
     "metadata": {},
     "output_type": "display_data"
    },
    {
     "data": {
      "text/html": [
       "        <script type=\"text/javascript\">\n",
       "        window.PlotlyConfig = {MathJaxConfig: 'local'};\n",
       "        if (window.MathJax) {MathJax.Hub.Config({SVG: {font: \"STIX-Web\"}});}\n",
       "        if (typeof require !== 'undefined') {\n",
       "        require.undef(\"plotly\");\n",
       "        requirejs.config({\n",
       "            paths: {\n",
       "                'plotly': ['https://cdn.plot.ly/plotly-latest.min']\n",
       "            }\n",
       "        });\n",
       "        require(['plotly'], function(Plotly) {\n",
       "            window._Plotly = Plotly;\n",
       "        });\n",
       "        }\n",
       "        </script>\n",
       "        "
      ]
     },
     "metadata": {},
     "output_type": "display_data"
    },
    {
     "name": "stdout",
     "output_type": "stream",
     "text": [
      "2.2.0\n",
      "3.7.10\n"
     ]
    }
   ],
   "source": [
    "from __future__ import absolute_import, division, print_function\n",
    "\n",
    "import pathlib\n",
    "import pandas as pd\n",
    "import seaborn as sns\n",
    "sns.set(style=\"whitegrid\")\n",
    "import tensorflow as tf\n",
    "from tensorflow import keras\n",
    "from tensorflow.keras import layers\n",
    "import numpy as np\n",
    "import matplotlib.pyplot as plt\n",
    "import warnings\n",
    "warnings.filterwarnings('ignore')\n",
    "\n",
    "# ML Libraries: \n",
    "from sklearn.preprocessing import OneHotEncoder\n",
    "from sklearn import linear_model\n",
    "from sklearn.linear_model import LogisticRegression\n",
    "from sklearn.ensemble import RandomForestClassifier\n",
    "from sklearn.linear_model import Perceptron\n",
    "from sklearn.linear_model import SGDClassifier\n",
    "from sklearn.tree import DecisionTreeClassifier\n",
    "from sklearn.neighbors import KNeighborsClassifier\n",
    "from sklearn.svm import SVC, LinearSVC\n",
    "from sklearn.naive_bayes import GaussianNB\n",
    "from sklearn import preprocessing\n",
    "from sklearn.utils import shuffle\n",
    "\n",
    "import plotly.figure_factory as ff\n",
    "import plotly.offline as py \n",
    "import plotly.graph_objs as go \n",
    "from plotly.offline import download_plotlyjs, init_notebook_mode, plot, iplot\n",
    "from plotly import tools \n",
    "py.init_notebook_mode (connected = True)\n",
    "\n",
    "import cufflinks as cf\n",
    "cf.go_offline()\n",
    "import platform\n",
    "\n",
    "print(tf.__version__)\n",
    "print(platform.python_version())"
   ]
  },
  {
   "cell_type": "code",
   "execution_count": 33,
   "metadata": {
    "_uuid": "774efddc101cec6fd862498ee842d947f9c57ee5"
   },
   "outputs": [],
   "source": [
    "# The Auto MPG dataset\n",
    "# --------------------\n",
    "# The dataset is available from the UCI Machine Learning Repository.\n",
    "# \n",
    "# Get the data\n",
    "# First download the dataset.\n",
    "\n",
    "#dataset_path = keras.utils.get_file(\"auto-mpg.data\", \"https://archive.ics.uci.edu/ml/machine-learning-databases/auto-mpg/auto-mpg.data\")\n",
    "#dataset_path"
   ]
  },
  {
   "cell_type": "code",
   "execution_count": 34,
   "metadata": {
    "_uuid": "999d445d6edd0e9e7f3c52cee4f9dfb3b12f4212"
   },
   "outputs": [
    {
     "data": {
      "text/html": [
       "<div>\n",
       "<style scoped>\n",
       "    .dataframe tbody tr th:only-of-type {\n",
       "        vertical-align: middle;\n",
       "    }\n",
       "\n",
       "    .dataframe tbody tr th {\n",
       "        vertical-align: top;\n",
       "    }\n",
       "\n",
       "    .dataframe thead th {\n",
       "        text-align: right;\n",
       "    }\n",
       "</style>\n",
       "<table border=\"1\" class=\"dataframe\">\n",
       "  <thead>\n",
       "    <tr style=\"text-align: right;\">\n",
       "      <th></th>\n",
       "      <th>mpg</th>\n",
       "      <th>cylinders</th>\n",
       "      <th>displacement</th>\n",
       "      <th>horsepower</th>\n",
       "      <th>weight</th>\n",
       "      <th>acceleration</th>\n",
       "      <th>model year</th>\n",
       "      <th>origin</th>\n",
       "      <th>car name</th>\n",
       "    </tr>\n",
       "  </thead>\n",
       "  <tbody>\n",
       "    <tr>\n",
       "      <th>393</th>\n",
       "      <td>27.0</td>\n",
       "      <td>4</td>\n",
       "      <td>140.0</td>\n",
       "      <td>86</td>\n",
       "      <td>2790</td>\n",
       "      <td>15.6</td>\n",
       "      <td>82</td>\n",
       "      <td>1</td>\n",
       "      <td>ford mustang gl</td>\n",
       "    </tr>\n",
       "    <tr>\n",
       "      <th>394</th>\n",
       "      <td>44.0</td>\n",
       "      <td>4</td>\n",
       "      <td>97.0</td>\n",
       "      <td>52</td>\n",
       "      <td>2130</td>\n",
       "      <td>24.6</td>\n",
       "      <td>82</td>\n",
       "      <td>2</td>\n",
       "      <td>vw pickup</td>\n",
       "    </tr>\n",
       "    <tr>\n",
       "      <th>395</th>\n",
       "      <td>32.0</td>\n",
       "      <td>4</td>\n",
       "      <td>135.0</td>\n",
       "      <td>84</td>\n",
       "      <td>2295</td>\n",
       "      <td>11.6</td>\n",
       "      <td>82</td>\n",
       "      <td>1</td>\n",
       "      <td>dodge rampage</td>\n",
       "    </tr>\n",
       "    <tr>\n",
       "      <th>396</th>\n",
       "      <td>28.0</td>\n",
       "      <td>4</td>\n",
       "      <td>120.0</td>\n",
       "      <td>79</td>\n",
       "      <td>2625</td>\n",
       "      <td>18.6</td>\n",
       "      <td>82</td>\n",
       "      <td>1</td>\n",
       "      <td>ford ranger</td>\n",
       "    </tr>\n",
       "    <tr>\n",
       "      <th>397</th>\n",
       "      <td>31.0</td>\n",
       "      <td>4</td>\n",
       "      <td>119.0</td>\n",
       "      <td>82</td>\n",
       "      <td>2720</td>\n",
       "      <td>19.4</td>\n",
       "      <td>82</td>\n",
       "      <td>1</td>\n",
       "      <td>chevy s-10</td>\n",
       "    </tr>\n",
       "  </tbody>\n",
       "</table>\n",
       "</div>"
      ],
      "text/plain": [
       "      mpg  cylinders  displacement horsepower  weight  acceleration  \\\n",
       "393  27.0          4         140.0         86    2790          15.6   \n",
       "394  44.0          4          97.0         52    2130          24.6   \n",
       "395  32.0          4         135.0         84    2295          11.6   \n",
       "396  28.0          4         120.0         79    2625          18.6   \n",
       "397  31.0          4         119.0         82    2720          19.4   \n",
       "\n",
       "     model year  origin         car name  \n",
       "393          82       1  ford mustang gl  \n",
       "394          82       2        vw pickup  \n",
       "395          82       1    dodge rampage  \n",
       "396          82       1      ford ranger  \n",
       "397          82       1       chevy s-10  "
      ]
     },
     "execution_count": 34,
     "metadata": {},
     "output_type": "execute_result"
    }
   ],
   "source": [
    "# Import it using pandas\n",
    "\n",
    "column_names = ['MPG','Cylinders','Displacement','Horsepower','Weight',\n",
    "                'Acceleration', 'Model Year', 'Origin'] \n",
    "# raw_dataset = pd.read_csv(\"../input/auto-mpg.csv\", names=column_names,\n",
    "#                       na_values = \"?\", comment='\\t',\n",
    "#                       sep=\" \", skipinitialspace=True)\n",
    "\n",
    "raw_dataset = pd.read_csv(\"../Predicting Fuel Efficiency/auto-mpg.csv\")\n",
    "\n",
    "dataset = raw_dataset.copy()\n",
    "dataset.tail()"
   ]
  },
  {
   "cell_type": "code",
   "execution_count": 35,
   "metadata": {
    "_uuid": "0cb913cebac6f91ddbfb7dcd0793d2513519877e"
   },
   "outputs": [
    {
     "data": {
      "text/plain": [
       "mpg             0\n",
       "cylinders       0\n",
       "displacement    0\n",
       "horsepower      0\n",
       "weight          0\n",
       "acceleration    0\n",
       "model year      0\n",
       "origin          0\n",
       "car name        0\n",
       "dtype: int64"
      ]
     },
     "execution_count": 35,
     "metadata": {},
     "output_type": "execute_result"
    }
   ],
   "source": [
    "# Clean the data\n",
    "# --------------\n",
    "# The dataset contains a few unknown values.\n",
    "\n",
    "dataset.isna().sum()"
   ]
  },
  {
   "cell_type": "code",
   "execution_count": 36,
   "metadata": {
    "_uuid": "db7ef2ad911d04110ef96bbc766fb16be422713b"
   },
   "outputs": [
    {
     "data": {
      "text/html": [
       "<div>\n",
       "<style scoped>\n",
       "    .dataframe tbody tr th:only-of-type {\n",
       "        vertical-align: middle;\n",
       "    }\n",
       "\n",
       "    .dataframe tbody tr th {\n",
       "        vertical-align: top;\n",
       "    }\n",
       "\n",
       "    .dataframe thead th {\n",
       "        text-align: right;\n",
       "    }\n",
       "</style>\n",
       "<table border=\"1\" class=\"dataframe\">\n",
       "  <thead>\n",
       "    <tr style=\"text-align: right;\">\n",
       "      <th></th>\n",
       "      <th>mpg</th>\n",
       "      <th>cylinders</th>\n",
       "      <th>displacement</th>\n",
       "      <th>horsepower</th>\n",
       "      <th>weight</th>\n",
       "      <th>acceleration</th>\n",
       "      <th>model year</th>\n",
       "      <th>car name</th>\n",
       "      <th>USA</th>\n",
       "      <th>Europe</th>\n",
       "      <th>Japan</th>\n",
       "    </tr>\n",
       "  </thead>\n",
       "  <tbody>\n",
       "    <tr>\n",
       "      <th>393</th>\n",
       "      <td>27.0</td>\n",
       "      <td>4</td>\n",
       "      <td>140.0</td>\n",
       "      <td>86</td>\n",
       "      <td>2790</td>\n",
       "      <td>15.6</td>\n",
       "      <td>82</td>\n",
       "      <td>ford mustang gl</td>\n",
       "      <td>1.0</td>\n",
       "      <td>0.0</td>\n",
       "      <td>0.0</td>\n",
       "    </tr>\n",
       "    <tr>\n",
       "      <th>394</th>\n",
       "      <td>44.0</td>\n",
       "      <td>4</td>\n",
       "      <td>97.0</td>\n",
       "      <td>52</td>\n",
       "      <td>2130</td>\n",
       "      <td>24.6</td>\n",
       "      <td>82</td>\n",
       "      <td>vw pickup</td>\n",
       "      <td>0.0</td>\n",
       "      <td>1.0</td>\n",
       "      <td>0.0</td>\n",
       "    </tr>\n",
       "    <tr>\n",
       "      <th>395</th>\n",
       "      <td>32.0</td>\n",
       "      <td>4</td>\n",
       "      <td>135.0</td>\n",
       "      <td>84</td>\n",
       "      <td>2295</td>\n",
       "      <td>11.6</td>\n",
       "      <td>82</td>\n",
       "      <td>dodge rampage</td>\n",
       "      <td>1.0</td>\n",
       "      <td>0.0</td>\n",
       "      <td>0.0</td>\n",
       "    </tr>\n",
       "    <tr>\n",
       "      <th>396</th>\n",
       "      <td>28.0</td>\n",
       "      <td>4</td>\n",
       "      <td>120.0</td>\n",
       "      <td>79</td>\n",
       "      <td>2625</td>\n",
       "      <td>18.6</td>\n",
       "      <td>82</td>\n",
       "      <td>ford ranger</td>\n",
       "      <td>1.0</td>\n",
       "      <td>0.0</td>\n",
       "      <td>0.0</td>\n",
       "    </tr>\n",
       "    <tr>\n",
       "      <th>397</th>\n",
       "      <td>31.0</td>\n",
       "      <td>4</td>\n",
       "      <td>119.0</td>\n",
       "      <td>82</td>\n",
       "      <td>2720</td>\n",
       "      <td>19.4</td>\n",
       "      <td>82</td>\n",
       "      <td>chevy s-10</td>\n",
       "      <td>1.0</td>\n",
       "      <td>0.0</td>\n",
       "      <td>0.0</td>\n",
       "    </tr>\n",
       "  </tbody>\n",
       "</table>\n",
       "</div>"
      ],
      "text/plain": [
       "      mpg  cylinders  displacement horsepower  weight  acceleration  \\\n",
       "393  27.0          4         140.0         86    2790          15.6   \n",
       "394  44.0          4          97.0         52    2130          24.6   \n",
       "395  32.0          4         135.0         84    2295          11.6   \n",
       "396  28.0          4         120.0         79    2625          18.6   \n",
       "397  31.0          4         119.0         82    2720          19.4   \n",
       "\n",
       "     model year         car name  USA  Europe  Japan  \n",
       "393          82  ford mustang gl  1.0     0.0    0.0  \n",
       "394          82        vw pickup  0.0     1.0    0.0  \n",
       "395          82    dodge rampage  1.0     0.0    0.0  \n",
       "396          82      ford ranger  1.0     0.0    0.0  \n",
       "397          82       chevy s-10  1.0     0.0    0.0  "
      ]
     },
     "execution_count": 36,
     "metadata": {},
     "output_type": "execute_result"
    }
   ],
   "source": [
    "# To keep this initial tutorial simple drop those rows.\n",
    "\n",
    "dataset = dataset.dropna()\n",
    "\n",
    "# The \"Origin\" column is really categorical, not numeric. So convert that to a one-hot:\n",
    "\n",
    "origin = dataset.pop('origin')\n",
    "dataset['USA'] = (origin == 1)*1.0\n",
    "dataset['Europe'] = (origin == 2)*1.0\n",
    "dataset['Japan'] = (origin == 3)*1.0\n",
    "dataset.tail()"
   ]
  },
  {
   "cell_type": "code",
   "execution_count": 37,
   "metadata": {
    "_uuid": "54251bfff18e11376008a147396c3be478ca3ee9"
   },
   "outputs": [
    {
     "name": "stdout",
     "output_type": "stream",
     "text": [
      "<class 'pandas.core.frame.DataFrame'>\n",
      "Int64Index: 318 entries, 65 to 143\n",
      "Data columns (total 10 columns):\n",
      " #   Column        Non-Null Count  Dtype  \n",
      "---  ------        --------------  -----  \n",
      " 0   mpg           318 non-null    float64\n",
      " 1   cylinders     318 non-null    int64  \n",
      " 2   displacement  318 non-null    float64\n",
      " 3   horsepower    318 non-null    object \n",
      " 4   weight        318 non-null    int64  \n",
      " 5   acceleration  318 non-null    float64\n",
      " 6   model year    318 non-null    int64  \n",
      " 7   USA           318 non-null    float64\n",
      " 8   Europe        318 non-null    float64\n",
      " 9   Japan         318 non-null    float64\n",
      "dtypes: float64(6), int64(3), object(1)\n",
      "memory usage: 27.3+ KB\n",
      "________________________________\n",
      "<class 'pandas.core.frame.DataFrame'>\n",
      "Int64Index: 80 entries, 9 to 396\n",
      "Data columns (total 10 columns):\n",
      " #   Column        Non-Null Count  Dtype  \n",
      "---  ------        --------------  -----  \n",
      " 0   mpg           80 non-null     float64\n",
      " 1   cylinders     80 non-null     int64  \n",
      " 2   displacement  80 non-null     float64\n",
      " 3   horsepower    80 non-null     object \n",
      " 4   weight        80 non-null     int64  \n",
      " 5   acceleration  80 non-null     float64\n",
      " 6   model year    80 non-null     int64  \n",
      " 7   USA           80 non-null     float64\n",
      " 8   Europe        80 non-null     float64\n",
      " 9   Japan         80 non-null     float64\n",
      "dtypes: float64(6), int64(3), object(1)\n",
      "memory usage: 6.9+ KB\n"
     ]
    }
   ],
   "source": [
    "# Split the data into train and test\n",
    "# ----------------------------------\n",
    "# \n",
    "# Now split the data into a train and a test set.\n",
    "# We will use the test set in the final evaluation of out model.\n",
    "\n",
    "train_dataset = dataset.sample(frac=0.8,random_state=0)\n",
    "test_dataset = dataset.drop(train_dataset.index)\n",
    "\n",
    "#Let's copy training dataset into working dataset for data visualization\n",
    "working_dataset = train_dataset.copy();\n",
    "\n",
    "train_dataset.pop('car name')\n",
    "test_dataset.pop('car name')\n",
    "# Breif information about the Data Sets\n",
    "train_dataset.info()\n",
    "print(\"________________________________\")\n",
    "test_dataset.info()\n"
   ]
  },
  {
   "cell_type": "code",
   "execution_count": 38,
   "metadata": {
    "_uuid": "fe8f80be6e0e20ef97913e41b71f1cfc35aaff07"
   },
   "outputs": [
    {
     "data": {
      "text/html": [
       "<div>\n",
       "<style scoped>\n",
       "    .dataframe tbody tr th:only-of-type {\n",
       "        vertical-align: middle;\n",
       "    }\n",
       "\n",
       "    .dataframe tbody tr th {\n",
       "        vertical-align: top;\n",
       "    }\n",
       "\n",
       "    .dataframe thead th {\n",
       "        text-align: right;\n",
       "    }\n",
       "</style>\n",
       "<table border=\"1\" class=\"dataframe\">\n",
       "  <thead>\n",
       "    <tr style=\"text-align: right;\">\n",
       "      <th></th>\n",
       "      <th>mpg</th>\n",
       "      <th>cylinders</th>\n",
       "      <th>displacement</th>\n",
       "      <th>horsepower</th>\n",
       "      <th>weight</th>\n",
       "      <th>acceleration</th>\n",
       "      <th>model year</th>\n",
       "      <th>car name</th>\n",
       "      <th>USA</th>\n",
       "      <th>Europe</th>\n",
       "      <th>Japan</th>\n",
       "      <th>Continent</th>\n",
       "    </tr>\n",
       "  </thead>\n",
       "  <tbody>\n",
       "    <tr>\n",
       "      <th>207</th>\n",
       "      <td>20.0</td>\n",
       "      <td>4</td>\n",
       "      <td>130.0</td>\n",
       "      <td>102</td>\n",
       "      <td>3150</td>\n",
       "      <td>15.7</td>\n",
       "      <td>76</td>\n",
       "      <td>volvo 245</td>\n",
       "      <td>0.0</td>\n",
       "      <td>1.0</td>\n",
       "      <td>0.0</td>\n",
       "      <td>Europe</td>\n",
       "    </tr>\n",
       "    <tr>\n",
       "      <th>279</th>\n",
       "      <td>29.5</td>\n",
       "      <td>4</td>\n",
       "      <td>98.0</td>\n",
       "      <td>68</td>\n",
       "      <td>2135</td>\n",
       "      <td>16.6</td>\n",
       "      <td>78</td>\n",
       "      <td>honda accord lx</td>\n",
       "      <td>0.0</td>\n",
       "      <td>0.0</td>\n",
       "      <td>1.0</td>\n",
       "      <td>Japan</td>\n",
       "    </tr>\n",
       "    <tr>\n",
       "      <th>227</th>\n",
       "      <td>19.0</td>\n",
       "      <td>6</td>\n",
       "      <td>225.0</td>\n",
       "      <td>100</td>\n",
       "      <td>3630</td>\n",
       "      <td>17.7</td>\n",
       "      <td>77</td>\n",
       "      <td>plymouth volare custom</td>\n",
       "      <td>1.0</td>\n",
       "      <td>0.0</td>\n",
       "      <td>0.0</td>\n",
       "      <td>USA</td>\n",
       "    </tr>\n",
       "    <tr>\n",
       "      <th>148</th>\n",
       "      <td>26.0</td>\n",
       "      <td>4</td>\n",
       "      <td>116.0</td>\n",
       "      <td>75</td>\n",
       "      <td>2246</td>\n",
       "      <td>14.0</td>\n",
       "      <td>74</td>\n",
       "      <td>fiat 124 tc</td>\n",
       "      <td>0.0</td>\n",
       "      <td>1.0</td>\n",
       "      <td>0.0</td>\n",
       "      <td>Europe</td>\n",
       "    </tr>\n",
       "    <tr>\n",
       "      <th>143</th>\n",
       "      <td>26.0</td>\n",
       "      <td>4</td>\n",
       "      <td>97.0</td>\n",
       "      <td>78</td>\n",
       "      <td>2300</td>\n",
       "      <td>14.5</td>\n",
       "      <td>74</td>\n",
       "      <td>opel manta</td>\n",
       "      <td>0.0</td>\n",
       "      <td>1.0</td>\n",
       "      <td>0.0</td>\n",
       "      <td>Europe</td>\n",
       "    </tr>\n",
       "  </tbody>\n",
       "</table>\n",
       "</div>"
      ],
      "text/plain": [
       "      mpg  cylinders  displacement horsepower  weight  acceleration  \\\n",
       "207  20.0          4         130.0        102    3150          15.7   \n",
       "279  29.5          4          98.0         68    2135          16.6   \n",
       "227  19.0          6         225.0        100    3630          17.7   \n",
       "148  26.0          4         116.0         75    2246          14.0   \n",
       "143  26.0          4          97.0         78    2300          14.5   \n",
       "\n",
       "     model year                car name  USA  Europe  Japan Continent  \n",
       "207          76               volvo 245  0.0     1.0    0.0    Europe  \n",
       "279          78         honda accord lx  0.0     0.0    1.0     Japan  \n",
       "227          77  plymouth volare custom  1.0     0.0    0.0       USA  \n",
       "148          74             fiat 124 tc  0.0     1.0    0.0    Europe  \n",
       "143          74              opel manta  0.0     1.0    0.0    Europe  "
      ]
     },
     "execution_count": 38,
     "metadata": {},
     "output_type": "execute_result"
    }
   ],
   "source": [
    "working_dataset['Continent'] = np.where(working_dataset['USA'] == 1.0, 'USA',\n",
    "                                np.where(working_dataset['Japan'] == 1.0, 'Japan', 'Europe'))\n",
    "working_dataset.tail()"
   ]
  },
  {
   "cell_type": "code",
   "execution_count": 39,
   "metadata": {
    "_uuid": "ee3c30da7109f1bb466e166f438d6df74148000b"
   },
   "outputs": [
    {
     "name": "stdout",
     "output_type": "stream",
     "text": [
      "1.0    204\n",
      "0.0    114\n",
      "Name: USA, dtype: int64\n",
      "0.0    266\n",
      "1.0     52\n",
      "Name: Europe, dtype: int64\n",
      "0.0    256\n",
      "1.0     62\n",
      "Name: Japan, dtype: int64\n",
      "Training Set Car Count  USA       204\n",
      "Japan      62\n",
      "Europe     52\n",
      "Name: Continent, dtype: int64\n",
      "Test Set Car Count 80\n"
     ]
    }
   ],
   "source": [
    "usa = working_dataset[working_dataset[\"USA\"]==1.0]\n",
    "europe = working_dataset[working_dataset[\"Europe\"]==1.0]\n",
    "japan = working_dataset[working_dataset[\"Japan\"]==1.0]\n",
    "\n",
    "usa_car_count = working_dataset[\"USA\"].value_counts()\n",
    "europe_car_count = working_dataset[\"Europe\"].value_counts()\n",
    "japan_car_count = working_dataset[\"Japan\"].value_counts()\n",
    "\n",
    "working_dataset = shuffle(working_dataset)\n",
    "train_continet_car_count = working_dataset[\"Continent\"].value_counts()\n",
    "\n",
    "test_dataset = shuffle(test_dataset)\n",
    "test_continet_car_count = test_dataset[\"mpg\"].count()\n",
    "\n",
    "print(usa_car_count)\n",
    "print(europe_car_count)\n",
    "print(japan_car_count)\n",
    "\n",
    "print(\"Training Set Car Count \", train_continet_car_count)\n",
    "print(\"Test Set Car Count\", test_continet_car_count)"
   ]
  },
  {
   "cell_type": "markdown",
   "metadata": {
    "_uuid": "9a735b2bbd1f612ff5b8e44f2187481d3631f18c"
   },
   "source": [
    "**Data Visualization**"
   ]
  },
  {
   "cell_type": "code",
   "execution_count": 40,
   "metadata": {
    "_uuid": "a811d2d42d4fc9ae3545884da6a7ff83512da1c9"
   },
   "outputs": [
    {
     "data": {
      "application/vnd.plotly.v1+json": {
       "config": {
        "linkText": "Export to plot.ly",
        "plotlyServerURL": "https://plot.ly",
        "showLink": false
       },
       "data": [
        {
         "labels": [
          "USA",
          "Japan",
          "Europe"
         ],
         "marker": {
          "colors": [
           "aqua",
           "pink",
           "teal"
          ]
         },
         "type": "pie",
         "values": [
          204,
          62,
          52
         ]
        }
       ],
       "layout": {
        "template": {
         "data": {
          "bar": [
           {
            "error_x": {
             "color": "#2a3f5f"
            },
            "error_y": {
             "color": "#2a3f5f"
            },
            "marker": {
             "line": {
              "color": "#E5ECF6",
              "width": 0.5
             }
            },
            "type": "bar"
           }
          ],
          "barpolar": [
           {
            "marker": {
             "line": {
              "color": "#E5ECF6",
              "width": 0.5
             }
            },
            "type": "barpolar"
           }
          ],
          "carpet": [
           {
            "aaxis": {
             "endlinecolor": "#2a3f5f",
             "gridcolor": "white",
             "linecolor": "white",
             "minorgridcolor": "white",
             "startlinecolor": "#2a3f5f"
            },
            "baxis": {
             "endlinecolor": "#2a3f5f",
             "gridcolor": "white",
             "linecolor": "white",
             "minorgridcolor": "white",
             "startlinecolor": "#2a3f5f"
            },
            "type": "carpet"
           }
          ],
          "choropleth": [
           {
            "colorbar": {
             "outlinewidth": 0,
             "ticks": ""
            },
            "type": "choropleth"
           }
          ],
          "contour": [
           {
            "colorbar": {
             "outlinewidth": 0,
             "ticks": ""
            },
            "colorscale": [
             [
              0,
              "#0d0887"
             ],
             [
              0.1111111111111111,
              "#46039f"
             ],
             [
              0.2222222222222222,
              "#7201a8"
             ],
             [
              0.3333333333333333,
              "#9c179e"
             ],
             [
              0.4444444444444444,
              "#bd3786"
             ],
             [
              0.5555555555555556,
              "#d8576b"
             ],
             [
              0.6666666666666666,
              "#ed7953"
             ],
             [
              0.7777777777777778,
              "#fb9f3a"
             ],
             [
              0.8888888888888888,
              "#fdca26"
             ],
             [
              1,
              "#f0f921"
             ]
            ],
            "type": "contour"
           }
          ],
          "contourcarpet": [
           {
            "colorbar": {
             "outlinewidth": 0,
             "ticks": ""
            },
            "type": "contourcarpet"
           }
          ],
          "heatmap": [
           {
            "colorbar": {
             "outlinewidth": 0,
             "ticks": ""
            },
            "colorscale": [
             [
              0,
              "#0d0887"
             ],
             [
              0.1111111111111111,
              "#46039f"
             ],
             [
              0.2222222222222222,
              "#7201a8"
             ],
             [
              0.3333333333333333,
              "#9c179e"
             ],
             [
              0.4444444444444444,
              "#bd3786"
             ],
             [
              0.5555555555555556,
              "#d8576b"
             ],
             [
              0.6666666666666666,
              "#ed7953"
             ],
             [
              0.7777777777777778,
              "#fb9f3a"
             ],
             [
              0.8888888888888888,
              "#fdca26"
             ],
             [
              1,
              "#f0f921"
             ]
            ],
            "type": "heatmap"
           }
          ],
          "heatmapgl": [
           {
            "colorbar": {
             "outlinewidth": 0,
             "ticks": ""
            },
            "colorscale": [
             [
              0,
              "#0d0887"
             ],
             [
              0.1111111111111111,
              "#46039f"
             ],
             [
              0.2222222222222222,
              "#7201a8"
             ],
             [
              0.3333333333333333,
              "#9c179e"
             ],
             [
              0.4444444444444444,
              "#bd3786"
             ],
             [
              0.5555555555555556,
              "#d8576b"
             ],
             [
              0.6666666666666666,
              "#ed7953"
             ],
             [
              0.7777777777777778,
              "#fb9f3a"
             ],
             [
              0.8888888888888888,
              "#fdca26"
             ],
             [
              1,
              "#f0f921"
             ]
            ],
            "type": "heatmapgl"
           }
          ],
          "histogram": [
           {
            "marker": {
             "colorbar": {
              "outlinewidth": 0,
              "ticks": ""
             }
            },
            "type": "histogram"
           }
          ],
          "histogram2d": [
           {
            "colorbar": {
             "outlinewidth": 0,
             "ticks": ""
            },
            "colorscale": [
             [
              0,
              "#0d0887"
             ],
             [
              0.1111111111111111,
              "#46039f"
             ],
             [
              0.2222222222222222,
              "#7201a8"
             ],
             [
              0.3333333333333333,
              "#9c179e"
             ],
             [
              0.4444444444444444,
              "#bd3786"
             ],
             [
              0.5555555555555556,
              "#d8576b"
             ],
             [
              0.6666666666666666,
              "#ed7953"
             ],
             [
              0.7777777777777778,
              "#fb9f3a"
             ],
             [
              0.8888888888888888,
              "#fdca26"
             ],
             [
              1,
              "#f0f921"
             ]
            ],
            "type": "histogram2d"
           }
          ],
          "histogram2dcontour": [
           {
            "colorbar": {
             "outlinewidth": 0,
             "ticks": ""
            },
            "colorscale": [
             [
              0,
              "#0d0887"
             ],
             [
              0.1111111111111111,
              "#46039f"
             ],
             [
              0.2222222222222222,
              "#7201a8"
             ],
             [
              0.3333333333333333,
              "#9c179e"
             ],
             [
              0.4444444444444444,
              "#bd3786"
             ],
             [
              0.5555555555555556,
              "#d8576b"
             ],
             [
              0.6666666666666666,
              "#ed7953"
             ],
             [
              0.7777777777777778,
              "#fb9f3a"
             ],
             [
              0.8888888888888888,
              "#fdca26"
             ],
             [
              1,
              "#f0f921"
             ]
            ],
            "type": "histogram2dcontour"
           }
          ],
          "mesh3d": [
           {
            "colorbar": {
             "outlinewidth": 0,
             "ticks": ""
            },
            "type": "mesh3d"
           }
          ],
          "parcoords": [
           {
            "line": {
             "colorbar": {
              "outlinewidth": 0,
              "ticks": ""
             }
            },
            "type": "parcoords"
           }
          ],
          "pie": [
           {
            "automargin": true,
            "type": "pie"
           }
          ],
          "scatter": [
           {
            "marker": {
             "colorbar": {
              "outlinewidth": 0,
              "ticks": ""
             }
            },
            "type": "scatter"
           }
          ],
          "scatter3d": [
           {
            "line": {
             "colorbar": {
              "outlinewidth": 0,
              "ticks": ""
             }
            },
            "marker": {
             "colorbar": {
              "outlinewidth": 0,
              "ticks": ""
             }
            },
            "type": "scatter3d"
           }
          ],
          "scattercarpet": [
           {
            "marker": {
             "colorbar": {
              "outlinewidth": 0,
              "ticks": ""
             }
            },
            "type": "scattercarpet"
           }
          ],
          "scattergeo": [
           {
            "marker": {
             "colorbar": {
              "outlinewidth": 0,
              "ticks": ""
             }
            },
            "type": "scattergeo"
           }
          ],
          "scattergl": [
           {
            "marker": {
             "colorbar": {
              "outlinewidth": 0,
              "ticks": ""
             }
            },
            "type": "scattergl"
           }
          ],
          "scattermapbox": [
           {
            "marker": {
             "colorbar": {
              "outlinewidth": 0,
              "ticks": ""
             }
            },
            "type": "scattermapbox"
           }
          ],
          "scatterpolar": [
           {
            "marker": {
             "colorbar": {
              "outlinewidth": 0,
              "ticks": ""
             }
            },
            "type": "scatterpolar"
           }
          ],
          "scatterpolargl": [
           {
            "marker": {
             "colorbar": {
              "outlinewidth": 0,
              "ticks": ""
             }
            },
            "type": "scatterpolargl"
           }
          ],
          "scatterternary": [
           {
            "marker": {
             "colorbar": {
              "outlinewidth": 0,
              "ticks": ""
             }
            },
            "type": "scatterternary"
           }
          ],
          "surface": [
           {
            "colorbar": {
             "outlinewidth": 0,
             "ticks": ""
            },
            "colorscale": [
             [
              0,
              "#0d0887"
             ],
             [
              0.1111111111111111,
              "#46039f"
             ],
             [
              0.2222222222222222,
              "#7201a8"
             ],
             [
              0.3333333333333333,
              "#9c179e"
             ],
             [
              0.4444444444444444,
              "#bd3786"
             ],
             [
              0.5555555555555556,
              "#d8576b"
             ],
             [
              0.6666666666666666,
              "#ed7953"
             ],
             [
              0.7777777777777778,
              "#fb9f3a"
             ],
             [
              0.8888888888888888,
              "#fdca26"
             ],
             [
              1,
              "#f0f921"
             ]
            ],
            "type": "surface"
           }
          ],
          "table": [
           {
            "cells": {
             "fill": {
              "color": "#EBF0F8"
             },
             "line": {
              "color": "white"
             }
            },
            "header": {
             "fill": {
              "color": "#C8D4E3"
             },
             "line": {
              "color": "white"
             }
            },
            "type": "table"
           }
          ]
         },
         "layout": {
          "annotationdefaults": {
           "arrowcolor": "#2a3f5f",
           "arrowhead": 0,
           "arrowwidth": 1
          },
          "autotypenumbers": "strict",
          "coloraxis": {
           "colorbar": {
            "outlinewidth": 0,
            "ticks": ""
           }
          },
          "colorscale": {
           "diverging": [
            [
             0,
             "#8e0152"
            ],
            [
             0.1,
             "#c51b7d"
            ],
            [
             0.2,
             "#de77ae"
            ],
            [
             0.3,
             "#f1b6da"
            ],
            [
             0.4,
             "#fde0ef"
            ],
            [
             0.5,
             "#f7f7f7"
            ],
            [
             0.6,
             "#e6f5d0"
            ],
            [
             0.7,
             "#b8e186"
            ],
            [
             0.8,
             "#7fbc41"
            ],
            [
             0.9,
             "#4d9221"
            ],
            [
             1,
             "#276419"
            ]
           ],
           "sequential": [
            [
             0,
             "#0d0887"
            ],
            [
             0.1111111111111111,
             "#46039f"
            ],
            [
             0.2222222222222222,
             "#7201a8"
            ],
            [
             0.3333333333333333,
             "#9c179e"
            ],
            [
             0.4444444444444444,
             "#bd3786"
            ],
            [
             0.5555555555555556,
             "#d8576b"
            ],
            [
             0.6666666666666666,
             "#ed7953"
            ],
            [
             0.7777777777777778,
             "#fb9f3a"
            ],
            [
             0.8888888888888888,
             "#fdca26"
            ],
            [
             1,
             "#f0f921"
            ]
           ],
           "sequentialminus": [
            [
             0,
             "#0d0887"
            ],
            [
             0.1111111111111111,
             "#46039f"
            ],
            [
             0.2222222222222222,
             "#7201a8"
            ],
            [
             0.3333333333333333,
             "#9c179e"
            ],
            [
             0.4444444444444444,
             "#bd3786"
            ],
            [
             0.5555555555555556,
             "#d8576b"
            ],
            [
             0.6666666666666666,
             "#ed7953"
            ],
            [
             0.7777777777777778,
             "#fb9f3a"
            ],
            [
             0.8888888888888888,
             "#fdca26"
            ],
            [
             1,
             "#f0f921"
            ]
           ]
          },
          "colorway": [
           "#636efa",
           "#EF553B",
           "#00cc96",
           "#ab63fa",
           "#FFA15A",
           "#19d3f3",
           "#FF6692",
           "#B6E880",
           "#FF97FF",
           "#FECB52"
          ],
          "font": {
           "color": "#2a3f5f"
          },
          "geo": {
           "bgcolor": "white",
           "lakecolor": "white",
           "landcolor": "#E5ECF6",
           "showlakes": true,
           "showland": true,
           "subunitcolor": "white"
          },
          "hoverlabel": {
           "align": "left"
          },
          "hovermode": "closest",
          "mapbox": {
           "style": "light"
          },
          "paper_bgcolor": "white",
          "plot_bgcolor": "#E5ECF6",
          "polar": {
           "angularaxis": {
            "gridcolor": "white",
            "linecolor": "white",
            "ticks": ""
           },
           "bgcolor": "#E5ECF6",
           "radialaxis": {
            "gridcolor": "white",
            "linecolor": "white",
            "ticks": ""
           }
          },
          "scene": {
           "xaxis": {
            "backgroundcolor": "#E5ECF6",
            "gridcolor": "white",
            "gridwidth": 2,
            "linecolor": "white",
            "showbackground": true,
            "ticks": "",
            "zerolinecolor": "white"
           },
           "yaxis": {
            "backgroundcolor": "#E5ECF6",
            "gridcolor": "white",
            "gridwidth": 2,
            "linecolor": "white",
            "showbackground": true,
            "ticks": "",
            "zerolinecolor": "white"
           },
           "zaxis": {
            "backgroundcolor": "#E5ECF6",
            "gridcolor": "white",
            "gridwidth": 2,
            "linecolor": "white",
            "showbackground": true,
            "ticks": "",
            "zerolinecolor": "white"
           }
          },
          "shapedefaults": {
           "line": {
            "color": "#2a3f5f"
           }
          },
          "ternary": {
           "aaxis": {
            "gridcolor": "white",
            "linecolor": "white",
            "ticks": ""
           },
           "baxis": {
            "gridcolor": "white",
            "linecolor": "white",
            "ticks": ""
           },
           "bgcolor": "#E5ECF6",
           "caxis": {
            "gridcolor": "white",
            "linecolor": "white",
            "ticks": ""
           }
          },
          "title": {
           "x": 0.05
          },
          "xaxis": {
           "automargin": true,
           "gridcolor": "white",
           "linecolor": "white",
           "ticks": "",
           "title": {
            "standoff": 15
           },
           "zerolinecolor": "white",
           "zerolinewidth": 2
          },
          "yaxis": {
           "automargin": true,
           "gridcolor": "white",
           "linecolor": "white",
           "ticks": "",
           "title": {
            "standoff": 15
           },
           "zerolinecolor": "white",
           "zerolinewidth": 2
          }
         }
        },
        "title": {
         "text": "Training Data :: Car Distribution"
        }
       }
      },
      "text/html": [
       "<div>                            <div id=\"e169c04c-ea21-4cf1-b337-38e829928f6a\" class=\"plotly-graph-div\" style=\"height:525px; width:100%;\"></div>            <script type=\"text/javascript\">                require([\"plotly\"], function(Plotly) {                    window.PLOTLYENV=window.PLOTLYENV || {};                                    if (document.getElementById(\"e169c04c-ea21-4cf1-b337-38e829928f6a\")) {                    Plotly.newPlot(                        \"e169c04c-ea21-4cf1-b337-38e829928f6a\",                        [{\"labels\": [\"USA\", \"Japan\", \"Europe\"], \"marker\": {\"colors\": [\"aqua\", \"pink\", \"teal\"]}, \"type\": \"pie\", \"values\": [204, 62, 52]}],                        {\"template\": {\"data\": {\"bar\": [{\"error_x\": {\"color\": \"#2a3f5f\"}, \"error_y\": {\"color\": \"#2a3f5f\"}, \"marker\": {\"line\": {\"color\": \"#E5ECF6\", \"width\": 0.5}}, \"type\": \"bar\"}], \"barpolar\": [{\"marker\": {\"line\": {\"color\": \"#E5ECF6\", \"width\": 0.5}}, \"type\": \"barpolar\"}], \"carpet\": [{\"aaxis\": {\"endlinecolor\": \"#2a3f5f\", \"gridcolor\": \"white\", \"linecolor\": \"white\", \"minorgridcolor\": \"white\", \"startlinecolor\": \"#2a3f5f\"}, \"baxis\": {\"endlinecolor\": \"#2a3f5f\", \"gridcolor\": \"white\", \"linecolor\": \"white\", \"minorgridcolor\": \"white\", \"startlinecolor\": \"#2a3f5f\"}, \"type\": \"carpet\"}], \"choropleth\": [{\"colorbar\": {\"outlinewidth\": 0, \"ticks\": \"\"}, \"type\": \"choropleth\"}], \"contour\": [{\"colorbar\": {\"outlinewidth\": 0, \"ticks\": \"\"}, \"colorscale\": [[0.0, \"#0d0887\"], [0.1111111111111111, \"#46039f\"], [0.2222222222222222, \"#7201a8\"], [0.3333333333333333, \"#9c179e\"], [0.4444444444444444, \"#bd3786\"], [0.5555555555555556, \"#d8576b\"], [0.6666666666666666, \"#ed7953\"], [0.7777777777777778, \"#fb9f3a\"], [0.8888888888888888, \"#fdca26\"], [1.0, \"#f0f921\"]], \"type\": \"contour\"}], \"contourcarpet\": [{\"colorbar\": {\"outlinewidth\": 0, \"ticks\": \"\"}, \"type\": \"contourcarpet\"}], \"heatmap\": [{\"colorbar\": {\"outlinewidth\": 0, \"ticks\": \"\"}, \"colorscale\": [[0.0, \"#0d0887\"], [0.1111111111111111, \"#46039f\"], [0.2222222222222222, \"#7201a8\"], [0.3333333333333333, \"#9c179e\"], [0.4444444444444444, \"#bd3786\"], [0.5555555555555556, \"#d8576b\"], [0.6666666666666666, \"#ed7953\"], [0.7777777777777778, \"#fb9f3a\"], [0.8888888888888888, \"#fdca26\"], [1.0, \"#f0f921\"]], \"type\": \"heatmap\"}], \"heatmapgl\": [{\"colorbar\": {\"outlinewidth\": 0, \"ticks\": \"\"}, \"colorscale\": [[0.0, \"#0d0887\"], [0.1111111111111111, \"#46039f\"], [0.2222222222222222, \"#7201a8\"], [0.3333333333333333, \"#9c179e\"], [0.4444444444444444, \"#bd3786\"], [0.5555555555555556, \"#d8576b\"], [0.6666666666666666, \"#ed7953\"], [0.7777777777777778, \"#fb9f3a\"], [0.8888888888888888, \"#fdca26\"], [1.0, \"#f0f921\"]], \"type\": \"heatmapgl\"}], \"histogram\": [{\"marker\": {\"colorbar\": {\"outlinewidth\": 0, \"ticks\": \"\"}}, \"type\": \"histogram\"}], \"histogram2d\": [{\"colorbar\": {\"outlinewidth\": 0, \"ticks\": \"\"}, \"colorscale\": [[0.0, \"#0d0887\"], [0.1111111111111111, \"#46039f\"], [0.2222222222222222, \"#7201a8\"], [0.3333333333333333, \"#9c179e\"], [0.4444444444444444, \"#bd3786\"], [0.5555555555555556, \"#d8576b\"], [0.6666666666666666, \"#ed7953\"], [0.7777777777777778, \"#fb9f3a\"], [0.8888888888888888, \"#fdca26\"], [1.0, \"#f0f921\"]], \"type\": \"histogram2d\"}], \"histogram2dcontour\": [{\"colorbar\": {\"outlinewidth\": 0, \"ticks\": \"\"}, \"colorscale\": [[0.0, \"#0d0887\"], [0.1111111111111111, \"#46039f\"], [0.2222222222222222, \"#7201a8\"], [0.3333333333333333, \"#9c179e\"], [0.4444444444444444, \"#bd3786\"], [0.5555555555555556, \"#d8576b\"], [0.6666666666666666, \"#ed7953\"], [0.7777777777777778, \"#fb9f3a\"], [0.8888888888888888, \"#fdca26\"], [1.0, \"#f0f921\"]], \"type\": \"histogram2dcontour\"}], \"mesh3d\": [{\"colorbar\": {\"outlinewidth\": 0, \"ticks\": \"\"}, \"type\": \"mesh3d\"}], \"parcoords\": [{\"line\": {\"colorbar\": {\"outlinewidth\": 0, \"ticks\": \"\"}}, \"type\": \"parcoords\"}], \"pie\": [{\"automargin\": true, \"type\": \"pie\"}], \"scatter\": [{\"marker\": {\"colorbar\": {\"outlinewidth\": 0, \"ticks\": \"\"}}, \"type\": \"scatter\"}], \"scatter3d\": [{\"line\": {\"colorbar\": {\"outlinewidth\": 0, \"ticks\": \"\"}}, \"marker\": {\"colorbar\": {\"outlinewidth\": 0, \"ticks\": \"\"}}, \"type\": \"scatter3d\"}], \"scattercarpet\": [{\"marker\": {\"colorbar\": {\"outlinewidth\": 0, \"ticks\": \"\"}}, \"type\": \"scattercarpet\"}], \"scattergeo\": [{\"marker\": {\"colorbar\": {\"outlinewidth\": 0, \"ticks\": \"\"}}, \"type\": \"scattergeo\"}], \"scattergl\": [{\"marker\": {\"colorbar\": {\"outlinewidth\": 0, \"ticks\": \"\"}}, \"type\": \"scattergl\"}], \"scattermapbox\": [{\"marker\": {\"colorbar\": {\"outlinewidth\": 0, \"ticks\": \"\"}}, \"type\": \"scattermapbox\"}], \"scatterpolar\": [{\"marker\": {\"colorbar\": {\"outlinewidth\": 0, \"ticks\": \"\"}}, \"type\": \"scatterpolar\"}], \"scatterpolargl\": [{\"marker\": {\"colorbar\": {\"outlinewidth\": 0, \"ticks\": \"\"}}, \"type\": \"scatterpolargl\"}], \"scatterternary\": [{\"marker\": {\"colorbar\": {\"outlinewidth\": 0, \"ticks\": \"\"}}, \"type\": \"scatterternary\"}], \"surface\": [{\"colorbar\": {\"outlinewidth\": 0, \"ticks\": \"\"}, \"colorscale\": [[0.0, \"#0d0887\"], [0.1111111111111111, \"#46039f\"], [0.2222222222222222, \"#7201a8\"], [0.3333333333333333, \"#9c179e\"], [0.4444444444444444, \"#bd3786\"], [0.5555555555555556, \"#d8576b\"], [0.6666666666666666, \"#ed7953\"], [0.7777777777777778, \"#fb9f3a\"], [0.8888888888888888, \"#fdca26\"], [1.0, \"#f0f921\"]], \"type\": \"surface\"}], \"table\": [{\"cells\": {\"fill\": {\"color\": \"#EBF0F8\"}, \"line\": {\"color\": \"white\"}}, \"header\": {\"fill\": {\"color\": \"#C8D4E3\"}, \"line\": {\"color\": \"white\"}}, \"type\": \"table\"}]}, \"layout\": {\"annotationdefaults\": {\"arrowcolor\": \"#2a3f5f\", \"arrowhead\": 0, \"arrowwidth\": 1}, \"autotypenumbers\": \"strict\", \"coloraxis\": {\"colorbar\": {\"outlinewidth\": 0, \"ticks\": \"\"}}, \"colorscale\": {\"diverging\": [[0, \"#8e0152\"], [0.1, \"#c51b7d\"], [0.2, \"#de77ae\"], [0.3, \"#f1b6da\"], [0.4, \"#fde0ef\"], [0.5, \"#f7f7f7\"], [0.6, \"#e6f5d0\"], [0.7, \"#b8e186\"], [0.8, \"#7fbc41\"], [0.9, \"#4d9221\"], [1, \"#276419\"]], \"sequential\": [[0.0, \"#0d0887\"], [0.1111111111111111, \"#46039f\"], [0.2222222222222222, \"#7201a8\"], [0.3333333333333333, \"#9c179e\"], [0.4444444444444444, \"#bd3786\"], [0.5555555555555556, \"#d8576b\"], [0.6666666666666666, \"#ed7953\"], [0.7777777777777778, \"#fb9f3a\"], [0.8888888888888888, \"#fdca26\"], [1.0, \"#f0f921\"]], \"sequentialminus\": [[0.0, \"#0d0887\"], [0.1111111111111111, \"#46039f\"], [0.2222222222222222, \"#7201a8\"], [0.3333333333333333, \"#9c179e\"], [0.4444444444444444, \"#bd3786\"], [0.5555555555555556, \"#d8576b\"], [0.6666666666666666, \"#ed7953\"], [0.7777777777777778, \"#fb9f3a\"], [0.8888888888888888, \"#fdca26\"], [1.0, \"#f0f921\"]]}, \"colorway\": [\"#636efa\", \"#EF553B\", \"#00cc96\", \"#ab63fa\", \"#FFA15A\", \"#19d3f3\", \"#FF6692\", \"#B6E880\", \"#FF97FF\", \"#FECB52\"], \"font\": {\"color\": \"#2a3f5f\"}, \"geo\": {\"bgcolor\": \"white\", \"lakecolor\": \"white\", \"landcolor\": \"#E5ECF6\", \"showlakes\": true, \"showland\": true, \"subunitcolor\": \"white\"}, \"hoverlabel\": {\"align\": \"left\"}, \"hovermode\": \"closest\", \"mapbox\": {\"style\": \"light\"}, \"paper_bgcolor\": \"white\", \"plot_bgcolor\": \"#E5ECF6\", \"polar\": {\"angularaxis\": {\"gridcolor\": \"white\", \"linecolor\": \"white\", \"ticks\": \"\"}, \"bgcolor\": \"#E5ECF6\", \"radialaxis\": {\"gridcolor\": \"white\", \"linecolor\": \"white\", \"ticks\": \"\"}}, \"scene\": {\"xaxis\": {\"backgroundcolor\": \"#E5ECF6\", \"gridcolor\": \"white\", \"gridwidth\": 2, \"linecolor\": \"white\", \"showbackground\": true, \"ticks\": \"\", \"zerolinecolor\": \"white\"}, \"yaxis\": {\"backgroundcolor\": \"#E5ECF6\", \"gridcolor\": \"white\", \"gridwidth\": 2, \"linecolor\": \"white\", \"showbackground\": true, \"ticks\": \"\", \"zerolinecolor\": \"white\"}, \"zaxis\": {\"backgroundcolor\": \"#E5ECF6\", \"gridcolor\": \"white\", \"gridwidth\": 2, \"linecolor\": \"white\", \"showbackground\": true, \"ticks\": \"\", \"zerolinecolor\": \"white\"}}, \"shapedefaults\": {\"line\": {\"color\": \"#2a3f5f\"}}, \"ternary\": {\"aaxis\": {\"gridcolor\": \"white\", \"linecolor\": \"white\", \"ticks\": \"\"}, \"baxis\": {\"gridcolor\": \"white\", \"linecolor\": \"white\", \"ticks\": \"\"}, \"bgcolor\": \"#E5ECF6\", \"caxis\": {\"gridcolor\": \"white\", \"linecolor\": \"white\", \"ticks\": \"\"}}, \"title\": {\"x\": 0.05}, \"xaxis\": {\"automargin\": true, \"gridcolor\": \"white\", \"linecolor\": \"white\", \"ticks\": \"\", \"title\": {\"standoff\": 15}, \"zerolinecolor\": \"white\", \"zerolinewidth\": 2}, \"yaxis\": {\"automargin\": true, \"gridcolor\": \"white\", \"linecolor\": \"white\", \"ticks\": \"\", \"title\": {\"standoff\": 15}, \"zerolinecolor\": \"white\", \"zerolinewidth\": 2}}}, \"title\": {\"text\": \"Training Data :: Car Distribution\"}},                        {\"responsive\": true}                    ).then(function(){\n",
       "                            \n",
       "var gd = document.getElementById('e169c04c-ea21-4cf1-b337-38e829928f6a');\n",
       "var x = new MutationObserver(function (mutations, observer) {{\n",
       "        var display = window.getComputedStyle(gd).display;\n",
       "        if (!display || display === 'none') {{\n",
       "            console.log([gd, 'removed!']);\n",
       "            Plotly.purge(gd);\n",
       "            observer.disconnect();\n",
       "        }}\n",
       "}});\n",
       "\n",
       "// Listen for the removal of the full notebook cells\n",
       "var notebookContainer = gd.closest('#notebook-container');\n",
       "if (notebookContainer) {{\n",
       "    x.observe(notebookContainer, {childList: true});\n",
       "}}\n",
       "\n",
       "// Listen for the clearing of the current output cell\n",
       "var outputEl = gd.closest('.output');\n",
       "if (outputEl) {{\n",
       "    x.observe(outputEl, {childList: true});\n",
       "}}\n",
       "\n",
       "                        })                };                });            </script>        </div>"
      ]
     },
     "metadata": {},
     "output_type": "display_data"
    }
   ],
   "source": [
    "#1. Pie Chart for car count\n",
    "colors = ['aqua', 'pink', 'teal']\n",
    "\n",
    "trace_train= go.Pie(labels = train_continet_car_count.index,\n",
    "              values = train_continet_car_count.values, marker=dict(colors=colors))\n",
    "\n",
    "layout = go.Layout(title = \"Training Data :: Car Distribution\")\n",
    "data = [trace_train]\n",
    "fig = go.Figure(data=data, layout=layout)\n",
    "py.iplot(fig)"
   ]
  },
  {
   "cell_type": "code",
   "execution_count": 41,
   "metadata": {
    "_uuid": "da5b02067b2285bb8771dd16f6af10b5c0c215bb"
   },
   "outputs": [
    {
     "data": {
      "application/vnd.plotly.v1+json": {
       "config": {
        "linkText": "Export to plot.ly",
        "plotlyServerURL": "https://plot.ly",
        "showLink": false
       },
       "data": [
        {
         "fillcolor": "aqua",
         "name": "USA",
         "type": "box",
         "y": [
          22,
          21,
          21,
          21.5,
          15,
          15.5,
          13,
          24.5,
          17.5,
          13,
          19,
          19,
          17.7,
          20.8,
          11,
          16.5,
          33.5,
          22.3,
          17,
          20.5,
          13,
          18.5,
          15,
          18,
          16.5,
          25,
          12,
          16,
          30.9,
          20.5,
          12,
          15,
          39,
          14,
          16,
          13,
          14,
          30,
          19.8,
          13,
          33.5,
          27,
          10,
          24.3,
          26,
          14,
          20,
          15,
          12,
          18,
          18,
          34.2,
          14,
          14,
          20.2,
          17.5,
          17.6,
          13,
          20,
          36,
          18,
          11,
          32.1,
          23,
          21,
          19.2,
          14,
          13,
          15,
          20.6,
          26,
          26.6,
          15,
          14,
          26,
          12,
          14,
          16,
          23,
          16,
          22,
          16,
          24.5,
          18,
          28.4,
          16,
          18,
          20.2,
          13,
          13,
          18,
          21,
          23.6,
          27,
          20.2,
          20,
          14,
          13,
          13,
          25,
          25.8,
          23.5,
          22.5,
          36.1,
          30,
          19.9,
          21,
          25,
          18.6,
          14,
          30,
          25.5,
          26.8,
          16,
          18,
          15,
          16,
          11,
          25.5,
          13,
          21,
          16,
          18,
          25.1,
          14,
          14,
          19,
          38,
          16,
          18.1,
          20,
          29,
          20.6,
          14,
          11,
          28,
          15,
          23,
          15.5,
          15,
          18,
          12,
          30.5,
          16,
          13,
          19,
          23,
          25,
          18.1,
          27.4,
          15,
          15.5,
          23,
          16.9,
          28,
          29.9,
          31,
          13,
          19.4,
          13,
          17.5,
          17,
          15,
          26.5,
          18.5,
          23.2,
          23,
          14.5,
          18,
          19,
          34.7,
          34.5,
          28,
          22,
          20.5,
          35.7,
          36,
          17,
          22,
          16,
          17,
          28,
          32,
          23.9,
          22.4,
          19.1,
          24,
          27,
          21,
          34,
          18,
          23.8,
          22,
          16,
          14,
          38,
          15.5,
          14,
          28,
          17,
          19,
          28.8,
          14,
          13
         ]
        },
        {
         "fillcolor": "pink",
         "name": "Europe",
         "type": "box",
         "y": [
          31.9,
          34.3,
          29,
          28,
          17,
          43.4,
          31.5,
          30,
          34.5,
          23,
          23,
          26,
          27,
          40.9,
          20,
          44.3,
          29,
          44,
          20.3,
          26,
          18,
          29.8,
          30,
          36,
          30,
          24,
          25,
          37.3,
          26,
          19,
          24,
          30.5,
          26,
          27,
          22,
          26,
          26,
          36.4,
          24,
          27.2,
          36,
          28,
          22,
          25.4,
          26,
          19,
          41.5,
          29,
          21,
          26,
          25,
          21.6
         ]
        },
        {
         "fillcolor": "teal",
         "name": "Japan",
         "type": "box",
         "y": [
          38,
          20,
          24,
          32,
          32,
          19,
          32.8,
          27.2,
          36,
          40.8,
          32.4,
          34.1,
          37,
          18,
          38,
          35,
          37,
          33.5,
          39.4,
          26,
          30,
          31.8,
          29,
          29.5,
          19,
          31.6,
          24,
          31.5,
          29.8,
          31,
          27,
          24,
          31,
          36.1,
          28,
          31,
          28,
          36,
          46.6,
          38.1,
          22,
          20,
          33,
          44.6,
          27,
          34.1,
          32,
          25.4,
          24,
          37.7,
          33,
          32.9,
          37.2,
          31.3,
          33.8,
          21.1,
          32.3,
          24.2,
          26,
          37,
          22,
          23.7
         ]
        }
       ],
       "layout": {
        "template": {
         "data": {
          "bar": [
           {
            "error_x": {
             "color": "#2a3f5f"
            },
            "error_y": {
             "color": "#2a3f5f"
            },
            "marker": {
             "line": {
              "color": "#E5ECF6",
              "width": 0.5
             }
            },
            "type": "bar"
           }
          ],
          "barpolar": [
           {
            "marker": {
             "line": {
              "color": "#E5ECF6",
              "width": 0.5
             }
            },
            "type": "barpolar"
           }
          ],
          "carpet": [
           {
            "aaxis": {
             "endlinecolor": "#2a3f5f",
             "gridcolor": "white",
             "linecolor": "white",
             "minorgridcolor": "white",
             "startlinecolor": "#2a3f5f"
            },
            "baxis": {
             "endlinecolor": "#2a3f5f",
             "gridcolor": "white",
             "linecolor": "white",
             "minorgridcolor": "white",
             "startlinecolor": "#2a3f5f"
            },
            "type": "carpet"
           }
          ],
          "choropleth": [
           {
            "colorbar": {
             "outlinewidth": 0,
             "ticks": ""
            },
            "type": "choropleth"
           }
          ],
          "contour": [
           {
            "colorbar": {
             "outlinewidth": 0,
             "ticks": ""
            },
            "colorscale": [
             [
              0,
              "#0d0887"
             ],
             [
              0.1111111111111111,
              "#46039f"
             ],
             [
              0.2222222222222222,
              "#7201a8"
             ],
             [
              0.3333333333333333,
              "#9c179e"
             ],
             [
              0.4444444444444444,
              "#bd3786"
             ],
             [
              0.5555555555555556,
              "#d8576b"
             ],
             [
              0.6666666666666666,
              "#ed7953"
             ],
             [
              0.7777777777777778,
              "#fb9f3a"
             ],
             [
              0.8888888888888888,
              "#fdca26"
             ],
             [
              1,
              "#f0f921"
             ]
            ],
            "type": "contour"
           }
          ],
          "contourcarpet": [
           {
            "colorbar": {
             "outlinewidth": 0,
             "ticks": ""
            },
            "type": "contourcarpet"
           }
          ],
          "heatmap": [
           {
            "colorbar": {
             "outlinewidth": 0,
             "ticks": ""
            },
            "colorscale": [
             [
              0,
              "#0d0887"
             ],
             [
              0.1111111111111111,
              "#46039f"
             ],
             [
              0.2222222222222222,
              "#7201a8"
             ],
             [
              0.3333333333333333,
              "#9c179e"
             ],
             [
              0.4444444444444444,
              "#bd3786"
             ],
             [
              0.5555555555555556,
              "#d8576b"
             ],
             [
              0.6666666666666666,
              "#ed7953"
             ],
             [
              0.7777777777777778,
              "#fb9f3a"
             ],
             [
              0.8888888888888888,
              "#fdca26"
             ],
             [
              1,
              "#f0f921"
             ]
            ],
            "type": "heatmap"
           }
          ],
          "heatmapgl": [
           {
            "colorbar": {
             "outlinewidth": 0,
             "ticks": ""
            },
            "colorscale": [
             [
              0,
              "#0d0887"
             ],
             [
              0.1111111111111111,
              "#46039f"
             ],
             [
              0.2222222222222222,
              "#7201a8"
             ],
             [
              0.3333333333333333,
              "#9c179e"
             ],
             [
              0.4444444444444444,
              "#bd3786"
             ],
             [
              0.5555555555555556,
              "#d8576b"
             ],
             [
              0.6666666666666666,
              "#ed7953"
             ],
             [
              0.7777777777777778,
              "#fb9f3a"
             ],
             [
              0.8888888888888888,
              "#fdca26"
             ],
             [
              1,
              "#f0f921"
             ]
            ],
            "type": "heatmapgl"
           }
          ],
          "histogram": [
           {
            "marker": {
             "colorbar": {
              "outlinewidth": 0,
              "ticks": ""
             }
            },
            "type": "histogram"
           }
          ],
          "histogram2d": [
           {
            "colorbar": {
             "outlinewidth": 0,
             "ticks": ""
            },
            "colorscale": [
             [
              0,
              "#0d0887"
             ],
             [
              0.1111111111111111,
              "#46039f"
             ],
             [
              0.2222222222222222,
              "#7201a8"
             ],
             [
              0.3333333333333333,
              "#9c179e"
             ],
             [
              0.4444444444444444,
              "#bd3786"
             ],
             [
              0.5555555555555556,
              "#d8576b"
             ],
             [
              0.6666666666666666,
              "#ed7953"
             ],
             [
              0.7777777777777778,
              "#fb9f3a"
             ],
             [
              0.8888888888888888,
              "#fdca26"
             ],
             [
              1,
              "#f0f921"
             ]
            ],
            "type": "histogram2d"
           }
          ],
          "histogram2dcontour": [
           {
            "colorbar": {
             "outlinewidth": 0,
             "ticks": ""
            },
            "colorscale": [
             [
              0,
              "#0d0887"
             ],
             [
              0.1111111111111111,
              "#46039f"
             ],
             [
              0.2222222222222222,
              "#7201a8"
             ],
             [
              0.3333333333333333,
              "#9c179e"
             ],
             [
              0.4444444444444444,
              "#bd3786"
             ],
             [
              0.5555555555555556,
              "#d8576b"
             ],
             [
              0.6666666666666666,
              "#ed7953"
             ],
             [
              0.7777777777777778,
              "#fb9f3a"
             ],
             [
              0.8888888888888888,
              "#fdca26"
             ],
             [
              1,
              "#f0f921"
             ]
            ],
            "type": "histogram2dcontour"
           }
          ],
          "mesh3d": [
           {
            "colorbar": {
             "outlinewidth": 0,
             "ticks": ""
            },
            "type": "mesh3d"
           }
          ],
          "parcoords": [
           {
            "line": {
             "colorbar": {
              "outlinewidth": 0,
              "ticks": ""
             }
            },
            "type": "parcoords"
           }
          ],
          "pie": [
           {
            "automargin": true,
            "type": "pie"
           }
          ],
          "scatter": [
           {
            "marker": {
             "colorbar": {
              "outlinewidth": 0,
              "ticks": ""
             }
            },
            "type": "scatter"
           }
          ],
          "scatter3d": [
           {
            "line": {
             "colorbar": {
              "outlinewidth": 0,
              "ticks": ""
             }
            },
            "marker": {
             "colorbar": {
              "outlinewidth": 0,
              "ticks": ""
             }
            },
            "type": "scatter3d"
           }
          ],
          "scattercarpet": [
           {
            "marker": {
             "colorbar": {
              "outlinewidth": 0,
              "ticks": ""
             }
            },
            "type": "scattercarpet"
           }
          ],
          "scattergeo": [
           {
            "marker": {
             "colorbar": {
              "outlinewidth": 0,
              "ticks": ""
             }
            },
            "type": "scattergeo"
           }
          ],
          "scattergl": [
           {
            "marker": {
             "colorbar": {
              "outlinewidth": 0,
              "ticks": ""
             }
            },
            "type": "scattergl"
           }
          ],
          "scattermapbox": [
           {
            "marker": {
             "colorbar": {
              "outlinewidth": 0,
              "ticks": ""
             }
            },
            "type": "scattermapbox"
           }
          ],
          "scatterpolar": [
           {
            "marker": {
             "colorbar": {
              "outlinewidth": 0,
              "ticks": ""
             }
            },
            "type": "scatterpolar"
           }
          ],
          "scatterpolargl": [
           {
            "marker": {
             "colorbar": {
              "outlinewidth": 0,
              "ticks": ""
             }
            },
            "type": "scatterpolargl"
           }
          ],
          "scatterternary": [
           {
            "marker": {
             "colorbar": {
              "outlinewidth": 0,
              "ticks": ""
             }
            },
            "type": "scatterternary"
           }
          ],
          "surface": [
           {
            "colorbar": {
             "outlinewidth": 0,
             "ticks": ""
            },
            "colorscale": [
             [
              0,
              "#0d0887"
             ],
             [
              0.1111111111111111,
              "#46039f"
             ],
             [
              0.2222222222222222,
              "#7201a8"
             ],
             [
              0.3333333333333333,
              "#9c179e"
             ],
             [
              0.4444444444444444,
              "#bd3786"
             ],
             [
              0.5555555555555556,
              "#d8576b"
             ],
             [
              0.6666666666666666,
              "#ed7953"
             ],
             [
              0.7777777777777778,
              "#fb9f3a"
             ],
             [
              0.8888888888888888,
              "#fdca26"
             ],
             [
              1,
              "#f0f921"
             ]
            ],
            "type": "surface"
           }
          ],
          "table": [
           {
            "cells": {
             "fill": {
              "color": "#EBF0F8"
             },
             "line": {
              "color": "white"
             }
            },
            "header": {
             "fill": {
              "color": "#C8D4E3"
             },
             "line": {
              "color": "white"
             }
            },
            "type": "table"
           }
          ]
         },
         "layout": {
          "annotationdefaults": {
           "arrowcolor": "#2a3f5f",
           "arrowhead": 0,
           "arrowwidth": 1
          },
          "autotypenumbers": "strict",
          "coloraxis": {
           "colorbar": {
            "outlinewidth": 0,
            "ticks": ""
           }
          },
          "colorscale": {
           "diverging": [
            [
             0,
             "#8e0152"
            ],
            [
             0.1,
             "#c51b7d"
            ],
            [
             0.2,
             "#de77ae"
            ],
            [
             0.3,
             "#f1b6da"
            ],
            [
             0.4,
             "#fde0ef"
            ],
            [
             0.5,
             "#f7f7f7"
            ],
            [
             0.6,
             "#e6f5d0"
            ],
            [
             0.7,
             "#b8e186"
            ],
            [
             0.8,
             "#7fbc41"
            ],
            [
             0.9,
             "#4d9221"
            ],
            [
             1,
             "#276419"
            ]
           ],
           "sequential": [
            [
             0,
             "#0d0887"
            ],
            [
             0.1111111111111111,
             "#46039f"
            ],
            [
             0.2222222222222222,
             "#7201a8"
            ],
            [
             0.3333333333333333,
             "#9c179e"
            ],
            [
             0.4444444444444444,
             "#bd3786"
            ],
            [
             0.5555555555555556,
             "#d8576b"
            ],
            [
             0.6666666666666666,
             "#ed7953"
            ],
            [
             0.7777777777777778,
             "#fb9f3a"
            ],
            [
             0.8888888888888888,
             "#fdca26"
            ],
            [
             1,
             "#f0f921"
            ]
           ],
           "sequentialminus": [
            [
             0,
             "#0d0887"
            ],
            [
             0.1111111111111111,
             "#46039f"
            ],
            [
             0.2222222222222222,
             "#7201a8"
            ],
            [
             0.3333333333333333,
             "#9c179e"
            ],
            [
             0.4444444444444444,
             "#bd3786"
            ],
            [
             0.5555555555555556,
             "#d8576b"
            ],
            [
             0.6666666666666666,
             "#ed7953"
            ],
            [
             0.7777777777777778,
             "#fb9f3a"
            ],
            [
             0.8888888888888888,
             "#fdca26"
            ],
            [
             1,
             "#f0f921"
            ]
           ]
          },
          "colorway": [
           "#636efa",
           "#EF553B",
           "#00cc96",
           "#ab63fa",
           "#FFA15A",
           "#19d3f3",
           "#FF6692",
           "#B6E880",
           "#FF97FF",
           "#FECB52"
          ],
          "font": {
           "color": "#2a3f5f"
          },
          "geo": {
           "bgcolor": "white",
           "lakecolor": "white",
           "landcolor": "#E5ECF6",
           "showlakes": true,
           "showland": true,
           "subunitcolor": "white"
          },
          "hoverlabel": {
           "align": "left"
          },
          "hovermode": "closest",
          "mapbox": {
           "style": "light"
          },
          "paper_bgcolor": "white",
          "plot_bgcolor": "#E5ECF6",
          "polar": {
           "angularaxis": {
            "gridcolor": "white",
            "linecolor": "white",
            "ticks": ""
           },
           "bgcolor": "#E5ECF6",
           "radialaxis": {
            "gridcolor": "white",
            "linecolor": "white",
            "ticks": ""
           }
          },
          "scene": {
           "xaxis": {
            "backgroundcolor": "#E5ECF6",
            "gridcolor": "white",
            "gridwidth": 2,
            "linecolor": "white",
            "showbackground": true,
            "ticks": "",
            "zerolinecolor": "white"
           },
           "yaxis": {
            "backgroundcolor": "#E5ECF6",
            "gridcolor": "white",
            "gridwidth": 2,
            "linecolor": "white",
            "showbackground": true,
            "ticks": "",
            "zerolinecolor": "white"
           },
           "zaxis": {
            "backgroundcolor": "#E5ECF6",
            "gridcolor": "white",
            "gridwidth": 2,
            "linecolor": "white",
            "showbackground": true,
            "ticks": "",
            "zerolinecolor": "white"
           }
          },
          "shapedefaults": {
           "line": {
            "color": "#2a3f5f"
           }
          },
          "ternary": {
           "aaxis": {
            "gridcolor": "white",
            "linecolor": "white",
            "ticks": ""
           },
           "baxis": {
            "gridcolor": "white",
            "linecolor": "white",
            "ticks": ""
           },
           "bgcolor": "#E5ECF6",
           "caxis": {
            "gridcolor": "white",
            "linecolor": "white",
            "ticks": ""
           }
          },
          "title": {
           "x": 0.05
          },
          "xaxis": {
           "automargin": true,
           "gridcolor": "white",
           "linecolor": "white",
           "ticks": "",
           "title": {
            "standoff": 15
           },
           "zerolinecolor": "white",
           "zerolinewidth": 2
          },
          "yaxis": {
           "automargin": true,
           "gridcolor": "white",
           "linecolor": "white",
           "ticks": "",
           "title": {
            "standoff": 15
           },
           "zerolinecolor": "white",
           "zerolinewidth": 2
          }
         }
        },
        "title": {
         "text": "Fuel Efficiency Distribution w.r.t Continent :: [Box Plot]"
        },
        "xaxis": {
         "title": {
          "text": "Continent (USA / Europe  /Japan)"
         }
        },
        "yaxis": {
         "title": {
          "text": "Fuel Efficiency (mile per gallon)"
         }
        }
       }
      },
      "text/html": [
       "<div>                            <div id=\"deb6e4ec-cc71-4aa1-aeb5-60b530ee5d6d\" class=\"plotly-graph-div\" style=\"height:525px; width:100%;\"></div>            <script type=\"text/javascript\">                require([\"plotly\"], function(Plotly) {                    window.PLOTLYENV=window.PLOTLYENV || {};                                    if (document.getElementById(\"deb6e4ec-cc71-4aa1-aeb5-60b530ee5d6d\")) {                    Plotly.newPlot(                        \"deb6e4ec-cc71-4aa1-aeb5-60b530ee5d6d\",                        [{\"fillcolor\": \"aqua\", \"name\": \"USA\", \"type\": \"box\", \"y\": [22.0, 21.0, 21.0, 21.5, 15.0, 15.5, 13.0, 24.5, 17.5, 13.0, 19.0, 19.0, 17.7, 20.8, 11.0, 16.5, 33.5, 22.3, 17.0, 20.5, 13.0, 18.5, 15.0, 18.0, 16.5, 25.0, 12.0, 16.0, 30.9, 20.5, 12.0, 15.0, 39.0, 14.0, 16.0, 13.0, 14.0, 30.0, 19.8, 13.0, 33.5, 27.0, 10.0, 24.3, 26.0, 14.0, 20.0, 15.0, 12.0, 18.0, 18.0, 34.2, 14.0, 14.0, 20.2, 17.5, 17.6, 13.0, 20.0, 36.0, 18.0, 11.0, 32.1, 23.0, 21.0, 19.2, 14.0, 13.0, 15.0, 20.6, 26.0, 26.6, 15.0, 14.0, 26.0, 12.0, 14.0, 16.0, 23.0, 16.0, 22.0, 16.0, 24.5, 18.0, 28.4, 16.0, 18.0, 20.2, 13.0, 13.0, 18.0, 21.0, 23.6, 27.0, 20.2, 20.0, 14.0, 13.0, 13.0, 25.0, 25.8, 23.5, 22.5, 36.1, 30.0, 19.9, 21.0, 25.0, 18.6, 14.0, 30.0, 25.5, 26.8, 16.0, 18.0, 15.0, 16.0, 11.0, 25.5, 13.0, 21.0, 16.0, 18.0, 25.1, 14.0, 14.0, 19.0, 38.0, 16.0, 18.1, 20.0, 29.0, 20.6, 14.0, 11.0, 28.0, 15.0, 23.0, 15.5, 15.0, 18.0, 12.0, 30.5, 16.0, 13.0, 19.0, 23.0, 25.0, 18.1, 27.4, 15.0, 15.5, 23.0, 16.9, 28.0, 29.9, 31.0, 13.0, 19.4, 13.0, 17.5, 17.0, 15.0, 26.5, 18.5, 23.2, 23.0, 14.5, 18.0, 19.0, 34.7, 34.5, 28.0, 22.0, 20.5, 35.7, 36.0, 17.0, 22.0, 16.0, 17.0, 28.0, 32.0, 23.9, 22.4, 19.1, 24.0, 27.0, 21.0, 34.0, 18.0, 23.8, 22.0, 16.0, 14.0, 38.0, 15.5, 14.0, 28.0, 17.0, 19.0, 28.8, 14.0, 13.0]}, {\"fillcolor\": \"pink\", \"name\": \"Europe\", \"type\": \"box\", \"y\": [31.9, 34.3, 29.0, 28.0, 17.0, 43.4, 31.5, 30.0, 34.5, 23.0, 23.0, 26.0, 27.0, 40.9, 20.0, 44.3, 29.0, 44.0, 20.3, 26.0, 18.0, 29.8, 30.0, 36.0, 30.0, 24.0, 25.0, 37.3, 26.0, 19.0, 24.0, 30.5, 26.0, 27.0, 22.0, 26.0, 26.0, 36.4, 24.0, 27.2, 36.0, 28.0, 22.0, 25.4, 26.0, 19.0, 41.5, 29.0, 21.0, 26.0, 25.0, 21.6]}, {\"fillcolor\": \"teal\", \"name\": \"Japan\", \"type\": \"box\", \"y\": [38.0, 20.0, 24.0, 32.0, 32.0, 19.0, 32.8, 27.2, 36.0, 40.8, 32.4, 34.1, 37.0, 18.0, 38.0, 35.0, 37.0, 33.5, 39.4, 26.0, 30.0, 31.8, 29.0, 29.5, 19.0, 31.6, 24.0, 31.5, 29.8, 31.0, 27.0, 24.0, 31.0, 36.1, 28.0, 31.0, 28.0, 36.0, 46.6, 38.1, 22.0, 20.0, 33.0, 44.6, 27.0, 34.1, 32.0, 25.4, 24.0, 37.7, 33.0, 32.9, 37.2, 31.3, 33.8, 21.1, 32.3, 24.2, 26.0, 37.0, 22.0, 23.7]}],                        {\"template\": {\"data\": {\"bar\": [{\"error_x\": {\"color\": \"#2a3f5f\"}, \"error_y\": {\"color\": \"#2a3f5f\"}, \"marker\": {\"line\": {\"color\": \"#E5ECF6\", \"width\": 0.5}}, \"type\": \"bar\"}], \"barpolar\": [{\"marker\": {\"line\": {\"color\": \"#E5ECF6\", \"width\": 0.5}}, \"type\": \"barpolar\"}], \"carpet\": [{\"aaxis\": {\"endlinecolor\": \"#2a3f5f\", \"gridcolor\": \"white\", \"linecolor\": \"white\", \"minorgridcolor\": \"white\", \"startlinecolor\": \"#2a3f5f\"}, \"baxis\": {\"endlinecolor\": \"#2a3f5f\", \"gridcolor\": \"white\", \"linecolor\": \"white\", \"minorgridcolor\": \"white\", \"startlinecolor\": \"#2a3f5f\"}, \"type\": \"carpet\"}], \"choropleth\": [{\"colorbar\": {\"outlinewidth\": 0, \"ticks\": \"\"}, \"type\": \"choropleth\"}], \"contour\": [{\"colorbar\": {\"outlinewidth\": 0, \"ticks\": \"\"}, \"colorscale\": [[0.0, \"#0d0887\"], [0.1111111111111111, \"#46039f\"], [0.2222222222222222, \"#7201a8\"], [0.3333333333333333, \"#9c179e\"], [0.4444444444444444, \"#bd3786\"], [0.5555555555555556, \"#d8576b\"], [0.6666666666666666, \"#ed7953\"], [0.7777777777777778, \"#fb9f3a\"], [0.8888888888888888, \"#fdca26\"], [1.0, \"#f0f921\"]], \"type\": \"contour\"}], \"contourcarpet\": [{\"colorbar\": {\"outlinewidth\": 0, \"ticks\": \"\"}, \"type\": \"contourcarpet\"}], \"heatmap\": [{\"colorbar\": {\"outlinewidth\": 0, \"ticks\": \"\"}, \"colorscale\": [[0.0, \"#0d0887\"], [0.1111111111111111, \"#46039f\"], [0.2222222222222222, \"#7201a8\"], [0.3333333333333333, \"#9c179e\"], [0.4444444444444444, \"#bd3786\"], [0.5555555555555556, \"#d8576b\"], [0.6666666666666666, \"#ed7953\"], [0.7777777777777778, \"#fb9f3a\"], [0.8888888888888888, \"#fdca26\"], [1.0, \"#f0f921\"]], \"type\": \"heatmap\"}], \"heatmapgl\": [{\"colorbar\": {\"outlinewidth\": 0, \"ticks\": \"\"}, \"colorscale\": [[0.0, \"#0d0887\"], [0.1111111111111111, \"#46039f\"], [0.2222222222222222, \"#7201a8\"], [0.3333333333333333, \"#9c179e\"], [0.4444444444444444, \"#bd3786\"], [0.5555555555555556, \"#d8576b\"], [0.6666666666666666, \"#ed7953\"], [0.7777777777777778, \"#fb9f3a\"], [0.8888888888888888, \"#fdca26\"], [1.0, \"#f0f921\"]], \"type\": \"heatmapgl\"}], \"histogram\": [{\"marker\": {\"colorbar\": {\"outlinewidth\": 0, \"ticks\": \"\"}}, \"type\": \"histogram\"}], \"histogram2d\": [{\"colorbar\": {\"outlinewidth\": 0, \"ticks\": \"\"}, \"colorscale\": [[0.0, \"#0d0887\"], [0.1111111111111111, \"#46039f\"], [0.2222222222222222, \"#7201a8\"], [0.3333333333333333, \"#9c179e\"], [0.4444444444444444, \"#bd3786\"], [0.5555555555555556, \"#d8576b\"], [0.6666666666666666, \"#ed7953\"], [0.7777777777777778, \"#fb9f3a\"], [0.8888888888888888, \"#fdca26\"], [1.0, \"#f0f921\"]], \"type\": \"histogram2d\"}], \"histogram2dcontour\": [{\"colorbar\": {\"outlinewidth\": 0, \"ticks\": \"\"}, \"colorscale\": [[0.0, \"#0d0887\"], [0.1111111111111111, \"#46039f\"], [0.2222222222222222, \"#7201a8\"], [0.3333333333333333, \"#9c179e\"], [0.4444444444444444, \"#bd3786\"], [0.5555555555555556, \"#d8576b\"], [0.6666666666666666, \"#ed7953\"], [0.7777777777777778, \"#fb9f3a\"], [0.8888888888888888, \"#fdca26\"], [1.0, \"#f0f921\"]], \"type\": \"histogram2dcontour\"}], \"mesh3d\": [{\"colorbar\": {\"outlinewidth\": 0, \"ticks\": \"\"}, \"type\": \"mesh3d\"}], \"parcoords\": [{\"line\": {\"colorbar\": {\"outlinewidth\": 0, \"ticks\": \"\"}}, \"type\": \"parcoords\"}], \"pie\": [{\"automargin\": true, \"type\": \"pie\"}], \"scatter\": [{\"marker\": {\"colorbar\": {\"outlinewidth\": 0, \"ticks\": \"\"}}, \"type\": \"scatter\"}], \"scatter3d\": [{\"line\": {\"colorbar\": {\"outlinewidth\": 0, \"ticks\": \"\"}}, \"marker\": {\"colorbar\": {\"outlinewidth\": 0, \"ticks\": \"\"}}, \"type\": \"scatter3d\"}], \"scattercarpet\": [{\"marker\": {\"colorbar\": {\"outlinewidth\": 0, \"ticks\": \"\"}}, \"type\": \"scattercarpet\"}], \"scattergeo\": [{\"marker\": {\"colorbar\": {\"outlinewidth\": 0, \"ticks\": \"\"}}, \"type\": \"scattergeo\"}], \"scattergl\": [{\"marker\": {\"colorbar\": {\"outlinewidth\": 0, \"ticks\": \"\"}}, \"type\": \"scattergl\"}], \"scattermapbox\": [{\"marker\": {\"colorbar\": {\"outlinewidth\": 0, \"ticks\": \"\"}}, \"type\": \"scattermapbox\"}], \"scatterpolar\": [{\"marker\": {\"colorbar\": {\"outlinewidth\": 0, \"ticks\": \"\"}}, \"type\": \"scatterpolar\"}], \"scatterpolargl\": [{\"marker\": {\"colorbar\": {\"outlinewidth\": 0, \"ticks\": \"\"}}, \"type\": \"scatterpolargl\"}], \"scatterternary\": [{\"marker\": {\"colorbar\": {\"outlinewidth\": 0, \"ticks\": \"\"}}, \"type\": \"scatterternary\"}], \"surface\": [{\"colorbar\": {\"outlinewidth\": 0, \"ticks\": \"\"}, \"colorscale\": [[0.0, \"#0d0887\"], [0.1111111111111111, \"#46039f\"], [0.2222222222222222, \"#7201a8\"], [0.3333333333333333, \"#9c179e\"], [0.4444444444444444, \"#bd3786\"], [0.5555555555555556, \"#d8576b\"], [0.6666666666666666, \"#ed7953\"], [0.7777777777777778, \"#fb9f3a\"], [0.8888888888888888, \"#fdca26\"], [1.0, \"#f0f921\"]], \"type\": \"surface\"}], \"table\": [{\"cells\": {\"fill\": {\"color\": \"#EBF0F8\"}, \"line\": {\"color\": \"white\"}}, \"header\": {\"fill\": {\"color\": \"#C8D4E3\"}, \"line\": {\"color\": \"white\"}}, \"type\": \"table\"}]}, \"layout\": {\"annotationdefaults\": {\"arrowcolor\": \"#2a3f5f\", \"arrowhead\": 0, \"arrowwidth\": 1}, \"autotypenumbers\": \"strict\", \"coloraxis\": {\"colorbar\": {\"outlinewidth\": 0, \"ticks\": \"\"}}, \"colorscale\": {\"diverging\": [[0, \"#8e0152\"], [0.1, \"#c51b7d\"], [0.2, \"#de77ae\"], [0.3, \"#f1b6da\"], [0.4, \"#fde0ef\"], [0.5, \"#f7f7f7\"], [0.6, \"#e6f5d0\"], [0.7, \"#b8e186\"], [0.8, \"#7fbc41\"], [0.9, \"#4d9221\"], [1, \"#276419\"]], \"sequential\": [[0.0, \"#0d0887\"], [0.1111111111111111, \"#46039f\"], [0.2222222222222222, \"#7201a8\"], [0.3333333333333333, \"#9c179e\"], [0.4444444444444444, \"#bd3786\"], [0.5555555555555556, \"#d8576b\"], [0.6666666666666666, \"#ed7953\"], [0.7777777777777778, \"#fb9f3a\"], [0.8888888888888888, \"#fdca26\"], [1.0, \"#f0f921\"]], \"sequentialminus\": [[0.0, \"#0d0887\"], [0.1111111111111111, \"#46039f\"], [0.2222222222222222, \"#7201a8\"], [0.3333333333333333, \"#9c179e\"], [0.4444444444444444, \"#bd3786\"], [0.5555555555555556, \"#d8576b\"], [0.6666666666666666, \"#ed7953\"], [0.7777777777777778, \"#fb9f3a\"], [0.8888888888888888, \"#fdca26\"], [1.0, \"#f0f921\"]]}, \"colorway\": [\"#636efa\", \"#EF553B\", \"#00cc96\", \"#ab63fa\", \"#FFA15A\", \"#19d3f3\", \"#FF6692\", \"#B6E880\", \"#FF97FF\", \"#FECB52\"], \"font\": {\"color\": \"#2a3f5f\"}, \"geo\": {\"bgcolor\": \"white\", \"lakecolor\": \"white\", \"landcolor\": \"#E5ECF6\", \"showlakes\": true, \"showland\": true, \"subunitcolor\": \"white\"}, \"hoverlabel\": {\"align\": \"left\"}, \"hovermode\": \"closest\", \"mapbox\": {\"style\": \"light\"}, \"paper_bgcolor\": \"white\", \"plot_bgcolor\": \"#E5ECF6\", \"polar\": {\"angularaxis\": {\"gridcolor\": \"white\", \"linecolor\": \"white\", \"ticks\": \"\"}, \"bgcolor\": \"#E5ECF6\", \"radialaxis\": {\"gridcolor\": \"white\", \"linecolor\": \"white\", \"ticks\": \"\"}}, \"scene\": {\"xaxis\": {\"backgroundcolor\": \"#E5ECF6\", \"gridcolor\": \"white\", \"gridwidth\": 2, \"linecolor\": \"white\", \"showbackground\": true, \"ticks\": \"\", \"zerolinecolor\": \"white\"}, \"yaxis\": {\"backgroundcolor\": \"#E5ECF6\", \"gridcolor\": \"white\", \"gridwidth\": 2, \"linecolor\": \"white\", \"showbackground\": true, \"ticks\": \"\", \"zerolinecolor\": \"white\"}, \"zaxis\": {\"backgroundcolor\": \"#E5ECF6\", \"gridcolor\": \"white\", \"gridwidth\": 2, \"linecolor\": \"white\", \"showbackground\": true, \"ticks\": \"\", \"zerolinecolor\": \"white\"}}, \"shapedefaults\": {\"line\": {\"color\": \"#2a3f5f\"}}, \"ternary\": {\"aaxis\": {\"gridcolor\": \"white\", \"linecolor\": \"white\", \"ticks\": \"\"}, \"baxis\": {\"gridcolor\": \"white\", \"linecolor\": \"white\", \"ticks\": \"\"}, \"bgcolor\": \"#E5ECF6\", \"caxis\": {\"gridcolor\": \"white\", \"linecolor\": \"white\", \"ticks\": \"\"}}, \"title\": {\"x\": 0.05}, \"xaxis\": {\"automargin\": true, \"gridcolor\": \"white\", \"linecolor\": \"white\", \"ticks\": \"\", \"title\": {\"standoff\": 15}, \"zerolinecolor\": \"white\", \"zerolinewidth\": 2}, \"yaxis\": {\"automargin\": true, \"gridcolor\": \"white\", \"linecolor\": \"white\", \"ticks\": \"\", \"title\": {\"standoff\": 15}, \"zerolinecolor\": \"white\", \"zerolinewidth\": 2}}}, \"title\": {\"text\": \"Fuel Efficiency Distribution w.r.t Continent :: [Box Plot]\"}, \"xaxis\": {\"title\": {\"text\": \"Continent (USA / Europe  /Japan)\"}}, \"yaxis\": {\"title\": {\"text\": \"Fuel Efficiency (mile per gallon)\"}}},                        {\"responsive\": true}                    ).then(function(){\n",
       "                            \n",
       "var gd = document.getElementById('deb6e4ec-cc71-4aa1-aeb5-60b530ee5d6d');\n",
       "var x = new MutationObserver(function (mutations, observer) {{\n",
       "        var display = window.getComputedStyle(gd).display;\n",
       "        if (!display || display === 'none') {{\n",
       "            console.log([gd, 'removed!']);\n",
       "            Plotly.purge(gd);\n",
       "            observer.disconnect();\n",
       "        }}\n",
       "}});\n",
       "\n",
       "// Listen for the removal of the full notebook cells\n",
       "var notebookContainer = gd.closest('#notebook-container');\n",
       "if (notebookContainer) {{\n",
       "    x.observe(notebookContainer, {childList: true});\n",
       "}}\n",
       "\n",
       "// Listen for the clearing of the current output cell\n",
       "var outputEl = gd.closest('.output');\n",
       "if (outputEl) {{\n",
       "    x.observe(outputEl, {childList: true});\n",
       "}}\n",
       "\n",
       "                        })                };                });            </script>        </div>"
      ]
     },
     "metadata": {},
     "output_type": "display_data"
    },
    {
     "data": {
      "application/vnd.plotly.v1+json": {
       "config": {
        "linkText": "Export to plot.ly",
        "plotlyServerURL": "https://plot.ly",
        "showLink": false
       },
       "data": [
        {
         "fillcolor": "aqua",
         "name": "USA",
         "type": "violin",
         "y": [
          22,
          21,
          21,
          21.5,
          15,
          15.5,
          13,
          24.5,
          17.5,
          13,
          19,
          19,
          17.7,
          20.8,
          11,
          16.5,
          33.5,
          22.3,
          17,
          20.5,
          13,
          18.5,
          15,
          18,
          16.5,
          25,
          12,
          16,
          30.9,
          20.5,
          12,
          15,
          39,
          14,
          16,
          13,
          14,
          30,
          19.8,
          13,
          33.5,
          27,
          10,
          24.3,
          26,
          14,
          20,
          15,
          12,
          18,
          18,
          34.2,
          14,
          14,
          20.2,
          17.5,
          17.6,
          13,
          20,
          36,
          18,
          11,
          32.1,
          23,
          21,
          19.2,
          14,
          13,
          15,
          20.6,
          26,
          26.6,
          15,
          14,
          26,
          12,
          14,
          16,
          23,
          16,
          22,
          16,
          24.5,
          18,
          28.4,
          16,
          18,
          20.2,
          13,
          13,
          18,
          21,
          23.6,
          27,
          20.2,
          20,
          14,
          13,
          13,
          25,
          25.8,
          23.5,
          22.5,
          36.1,
          30,
          19.9,
          21,
          25,
          18.6,
          14,
          30,
          25.5,
          26.8,
          16,
          18,
          15,
          16,
          11,
          25.5,
          13,
          21,
          16,
          18,
          25.1,
          14,
          14,
          19,
          38,
          16,
          18.1,
          20,
          29,
          20.6,
          14,
          11,
          28,
          15,
          23,
          15.5,
          15,
          18,
          12,
          30.5,
          16,
          13,
          19,
          23,
          25,
          18.1,
          27.4,
          15,
          15.5,
          23,
          16.9,
          28,
          29.9,
          31,
          13,
          19.4,
          13,
          17.5,
          17,
          15,
          26.5,
          18.5,
          23.2,
          23,
          14.5,
          18,
          19,
          34.7,
          34.5,
          28,
          22,
          20.5,
          35.7,
          36,
          17,
          22,
          16,
          17,
          28,
          32,
          23.9,
          22.4,
          19.1,
          24,
          27,
          21,
          34,
          18,
          23.8,
          22,
          16,
          14,
          38,
          15.5,
          14,
          28,
          17,
          19,
          28.8,
          14,
          13
         ]
        },
        {
         "fillcolor": "pink",
         "name": "Europe",
         "type": "violin",
         "y": [
          31.9,
          34.3,
          29,
          28,
          17,
          43.4,
          31.5,
          30,
          34.5,
          23,
          23,
          26,
          27,
          40.9,
          20,
          44.3,
          29,
          44,
          20.3,
          26,
          18,
          29.8,
          30,
          36,
          30,
          24,
          25,
          37.3,
          26,
          19,
          24,
          30.5,
          26,
          27,
          22,
          26,
          26,
          36.4,
          24,
          27.2,
          36,
          28,
          22,
          25.4,
          26,
          19,
          41.5,
          29,
          21,
          26,
          25,
          21.6
         ]
        },
        {
         "fillcolor": "teal",
         "name": "Japan",
         "type": "violin",
         "y": [
          38,
          20,
          24,
          32,
          32,
          19,
          32.8,
          27.2,
          36,
          40.8,
          32.4,
          34.1,
          37,
          18,
          38,
          35,
          37,
          33.5,
          39.4,
          26,
          30,
          31.8,
          29,
          29.5,
          19,
          31.6,
          24,
          31.5,
          29.8,
          31,
          27,
          24,
          31,
          36.1,
          28,
          31,
          28,
          36,
          46.6,
          38.1,
          22,
          20,
          33,
          44.6,
          27,
          34.1,
          32,
          25.4,
          24,
          37.7,
          33,
          32.9,
          37.2,
          31.3,
          33.8,
          21.1,
          32.3,
          24.2,
          26,
          37,
          22,
          23.7
         ]
        }
       ],
       "layout": {
        "template": {
         "data": {
          "bar": [
           {
            "error_x": {
             "color": "#2a3f5f"
            },
            "error_y": {
             "color": "#2a3f5f"
            },
            "marker": {
             "line": {
              "color": "#E5ECF6",
              "width": 0.5
             }
            },
            "type": "bar"
           }
          ],
          "barpolar": [
           {
            "marker": {
             "line": {
              "color": "#E5ECF6",
              "width": 0.5
             }
            },
            "type": "barpolar"
           }
          ],
          "carpet": [
           {
            "aaxis": {
             "endlinecolor": "#2a3f5f",
             "gridcolor": "white",
             "linecolor": "white",
             "minorgridcolor": "white",
             "startlinecolor": "#2a3f5f"
            },
            "baxis": {
             "endlinecolor": "#2a3f5f",
             "gridcolor": "white",
             "linecolor": "white",
             "minorgridcolor": "white",
             "startlinecolor": "#2a3f5f"
            },
            "type": "carpet"
           }
          ],
          "choropleth": [
           {
            "colorbar": {
             "outlinewidth": 0,
             "ticks": ""
            },
            "type": "choropleth"
           }
          ],
          "contour": [
           {
            "colorbar": {
             "outlinewidth": 0,
             "ticks": ""
            },
            "colorscale": [
             [
              0,
              "#0d0887"
             ],
             [
              0.1111111111111111,
              "#46039f"
             ],
             [
              0.2222222222222222,
              "#7201a8"
             ],
             [
              0.3333333333333333,
              "#9c179e"
             ],
             [
              0.4444444444444444,
              "#bd3786"
             ],
             [
              0.5555555555555556,
              "#d8576b"
             ],
             [
              0.6666666666666666,
              "#ed7953"
             ],
             [
              0.7777777777777778,
              "#fb9f3a"
             ],
             [
              0.8888888888888888,
              "#fdca26"
             ],
             [
              1,
              "#f0f921"
             ]
            ],
            "type": "contour"
           }
          ],
          "contourcarpet": [
           {
            "colorbar": {
             "outlinewidth": 0,
             "ticks": ""
            },
            "type": "contourcarpet"
           }
          ],
          "heatmap": [
           {
            "colorbar": {
             "outlinewidth": 0,
             "ticks": ""
            },
            "colorscale": [
             [
              0,
              "#0d0887"
             ],
             [
              0.1111111111111111,
              "#46039f"
             ],
             [
              0.2222222222222222,
              "#7201a8"
             ],
             [
              0.3333333333333333,
              "#9c179e"
             ],
             [
              0.4444444444444444,
              "#bd3786"
             ],
             [
              0.5555555555555556,
              "#d8576b"
             ],
             [
              0.6666666666666666,
              "#ed7953"
             ],
             [
              0.7777777777777778,
              "#fb9f3a"
             ],
             [
              0.8888888888888888,
              "#fdca26"
             ],
             [
              1,
              "#f0f921"
             ]
            ],
            "type": "heatmap"
           }
          ],
          "heatmapgl": [
           {
            "colorbar": {
             "outlinewidth": 0,
             "ticks": ""
            },
            "colorscale": [
             [
              0,
              "#0d0887"
             ],
             [
              0.1111111111111111,
              "#46039f"
             ],
             [
              0.2222222222222222,
              "#7201a8"
             ],
             [
              0.3333333333333333,
              "#9c179e"
             ],
             [
              0.4444444444444444,
              "#bd3786"
             ],
             [
              0.5555555555555556,
              "#d8576b"
             ],
             [
              0.6666666666666666,
              "#ed7953"
             ],
             [
              0.7777777777777778,
              "#fb9f3a"
             ],
             [
              0.8888888888888888,
              "#fdca26"
             ],
             [
              1,
              "#f0f921"
             ]
            ],
            "type": "heatmapgl"
           }
          ],
          "histogram": [
           {
            "marker": {
             "colorbar": {
              "outlinewidth": 0,
              "ticks": ""
             }
            },
            "type": "histogram"
           }
          ],
          "histogram2d": [
           {
            "colorbar": {
             "outlinewidth": 0,
             "ticks": ""
            },
            "colorscale": [
             [
              0,
              "#0d0887"
             ],
             [
              0.1111111111111111,
              "#46039f"
             ],
             [
              0.2222222222222222,
              "#7201a8"
             ],
             [
              0.3333333333333333,
              "#9c179e"
             ],
             [
              0.4444444444444444,
              "#bd3786"
             ],
             [
              0.5555555555555556,
              "#d8576b"
             ],
             [
              0.6666666666666666,
              "#ed7953"
             ],
             [
              0.7777777777777778,
              "#fb9f3a"
             ],
             [
              0.8888888888888888,
              "#fdca26"
             ],
             [
              1,
              "#f0f921"
             ]
            ],
            "type": "histogram2d"
           }
          ],
          "histogram2dcontour": [
           {
            "colorbar": {
             "outlinewidth": 0,
             "ticks": ""
            },
            "colorscale": [
             [
              0,
              "#0d0887"
             ],
             [
              0.1111111111111111,
              "#46039f"
             ],
             [
              0.2222222222222222,
              "#7201a8"
             ],
             [
              0.3333333333333333,
              "#9c179e"
             ],
             [
              0.4444444444444444,
              "#bd3786"
             ],
             [
              0.5555555555555556,
              "#d8576b"
             ],
             [
              0.6666666666666666,
              "#ed7953"
             ],
             [
              0.7777777777777778,
              "#fb9f3a"
             ],
             [
              0.8888888888888888,
              "#fdca26"
             ],
             [
              1,
              "#f0f921"
             ]
            ],
            "type": "histogram2dcontour"
           }
          ],
          "mesh3d": [
           {
            "colorbar": {
             "outlinewidth": 0,
             "ticks": ""
            },
            "type": "mesh3d"
           }
          ],
          "parcoords": [
           {
            "line": {
             "colorbar": {
              "outlinewidth": 0,
              "ticks": ""
             }
            },
            "type": "parcoords"
           }
          ],
          "pie": [
           {
            "automargin": true,
            "type": "pie"
           }
          ],
          "scatter": [
           {
            "marker": {
             "colorbar": {
              "outlinewidth": 0,
              "ticks": ""
             }
            },
            "type": "scatter"
           }
          ],
          "scatter3d": [
           {
            "line": {
             "colorbar": {
              "outlinewidth": 0,
              "ticks": ""
             }
            },
            "marker": {
             "colorbar": {
              "outlinewidth": 0,
              "ticks": ""
             }
            },
            "type": "scatter3d"
           }
          ],
          "scattercarpet": [
           {
            "marker": {
             "colorbar": {
              "outlinewidth": 0,
              "ticks": ""
             }
            },
            "type": "scattercarpet"
           }
          ],
          "scattergeo": [
           {
            "marker": {
             "colorbar": {
              "outlinewidth": 0,
              "ticks": ""
             }
            },
            "type": "scattergeo"
           }
          ],
          "scattergl": [
           {
            "marker": {
             "colorbar": {
              "outlinewidth": 0,
              "ticks": ""
             }
            },
            "type": "scattergl"
           }
          ],
          "scattermapbox": [
           {
            "marker": {
             "colorbar": {
              "outlinewidth": 0,
              "ticks": ""
             }
            },
            "type": "scattermapbox"
           }
          ],
          "scatterpolar": [
           {
            "marker": {
             "colorbar": {
              "outlinewidth": 0,
              "ticks": ""
             }
            },
            "type": "scatterpolar"
           }
          ],
          "scatterpolargl": [
           {
            "marker": {
             "colorbar": {
              "outlinewidth": 0,
              "ticks": ""
             }
            },
            "type": "scatterpolargl"
           }
          ],
          "scatterternary": [
           {
            "marker": {
             "colorbar": {
              "outlinewidth": 0,
              "ticks": ""
             }
            },
            "type": "scatterternary"
           }
          ],
          "surface": [
           {
            "colorbar": {
             "outlinewidth": 0,
             "ticks": ""
            },
            "colorscale": [
             [
              0,
              "#0d0887"
             ],
             [
              0.1111111111111111,
              "#46039f"
             ],
             [
              0.2222222222222222,
              "#7201a8"
             ],
             [
              0.3333333333333333,
              "#9c179e"
             ],
             [
              0.4444444444444444,
              "#bd3786"
             ],
             [
              0.5555555555555556,
              "#d8576b"
             ],
             [
              0.6666666666666666,
              "#ed7953"
             ],
             [
              0.7777777777777778,
              "#fb9f3a"
             ],
             [
              0.8888888888888888,
              "#fdca26"
             ],
             [
              1,
              "#f0f921"
             ]
            ],
            "type": "surface"
           }
          ],
          "table": [
           {
            "cells": {
             "fill": {
              "color": "#EBF0F8"
             },
             "line": {
              "color": "white"
             }
            },
            "header": {
             "fill": {
              "color": "#C8D4E3"
             },
             "line": {
              "color": "white"
             }
            },
            "type": "table"
           }
          ]
         },
         "layout": {
          "annotationdefaults": {
           "arrowcolor": "#2a3f5f",
           "arrowhead": 0,
           "arrowwidth": 1
          },
          "autotypenumbers": "strict",
          "coloraxis": {
           "colorbar": {
            "outlinewidth": 0,
            "ticks": ""
           }
          },
          "colorscale": {
           "diverging": [
            [
             0,
             "#8e0152"
            ],
            [
             0.1,
             "#c51b7d"
            ],
            [
             0.2,
             "#de77ae"
            ],
            [
             0.3,
             "#f1b6da"
            ],
            [
             0.4,
             "#fde0ef"
            ],
            [
             0.5,
             "#f7f7f7"
            ],
            [
             0.6,
             "#e6f5d0"
            ],
            [
             0.7,
             "#b8e186"
            ],
            [
             0.8,
             "#7fbc41"
            ],
            [
             0.9,
             "#4d9221"
            ],
            [
             1,
             "#276419"
            ]
           ],
           "sequential": [
            [
             0,
             "#0d0887"
            ],
            [
             0.1111111111111111,
             "#46039f"
            ],
            [
             0.2222222222222222,
             "#7201a8"
            ],
            [
             0.3333333333333333,
             "#9c179e"
            ],
            [
             0.4444444444444444,
             "#bd3786"
            ],
            [
             0.5555555555555556,
             "#d8576b"
            ],
            [
             0.6666666666666666,
             "#ed7953"
            ],
            [
             0.7777777777777778,
             "#fb9f3a"
            ],
            [
             0.8888888888888888,
             "#fdca26"
            ],
            [
             1,
             "#f0f921"
            ]
           ],
           "sequentialminus": [
            [
             0,
             "#0d0887"
            ],
            [
             0.1111111111111111,
             "#46039f"
            ],
            [
             0.2222222222222222,
             "#7201a8"
            ],
            [
             0.3333333333333333,
             "#9c179e"
            ],
            [
             0.4444444444444444,
             "#bd3786"
            ],
            [
             0.5555555555555556,
             "#d8576b"
            ],
            [
             0.6666666666666666,
             "#ed7953"
            ],
            [
             0.7777777777777778,
             "#fb9f3a"
            ],
            [
             0.8888888888888888,
             "#fdca26"
            ],
            [
             1,
             "#f0f921"
            ]
           ]
          },
          "colorway": [
           "#636efa",
           "#EF553B",
           "#00cc96",
           "#ab63fa",
           "#FFA15A",
           "#19d3f3",
           "#FF6692",
           "#B6E880",
           "#FF97FF",
           "#FECB52"
          ],
          "font": {
           "color": "#2a3f5f"
          },
          "geo": {
           "bgcolor": "white",
           "lakecolor": "white",
           "landcolor": "#E5ECF6",
           "showlakes": true,
           "showland": true,
           "subunitcolor": "white"
          },
          "hoverlabel": {
           "align": "left"
          },
          "hovermode": "closest",
          "mapbox": {
           "style": "light"
          },
          "paper_bgcolor": "white",
          "plot_bgcolor": "#E5ECF6",
          "polar": {
           "angularaxis": {
            "gridcolor": "white",
            "linecolor": "white",
            "ticks": ""
           },
           "bgcolor": "#E5ECF6",
           "radialaxis": {
            "gridcolor": "white",
            "linecolor": "white",
            "ticks": ""
           }
          },
          "scene": {
           "xaxis": {
            "backgroundcolor": "#E5ECF6",
            "gridcolor": "white",
            "gridwidth": 2,
            "linecolor": "white",
            "showbackground": true,
            "ticks": "",
            "zerolinecolor": "white"
           },
           "yaxis": {
            "backgroundcolor": "#E5ECF6",
            "gridcolor": "white",
            "gridwidth": 2,
            "linecolor": "white",
            "showbackground": true,
            "ticks": "",
            "zerolinecolor": "white"
           },
           "zaxis": {
            "backgroundcolor": "#E5ECF6",
            "gridcolor": "white",
            "gridwidth": 2,
            "linecolor": "white",
            "showbackground": true,
            "ticks": "",
            "zerolinecolor": "white"
           }
          },
          "shapedefaults": {
           "line": {
            "color": "#2a3f5f"
           }
          },
          "ternary": {
           "aaxis": {
            "gridcolor": "white",
            "linecolor": "white",
            "ticks": ""
           },
           "baxis": {
            "gridcolor": "white",
            "linecolor": "white",
            "ticks": ""
           },
           "bgcolor": "#E5ECF6",
           "caxis": {
            "gridcolor": "white",
            "linecolor": "white",
            "ticks": ""
           }
          },
          "title": {
           "x": 0.05
          },
          "xaxis": {
           "automargin": true,
           "gridcolor": "white",
           "linecolor": "white",
           "ticks": "",
           "title": {
            "standoff": 15
           },
           "zerolinecolor": "white",
           "zerolinewidth": 2
          },
          "yaxis": {
           "automargin": true,
           "gridcolor": "white",
           "linecolor": "white",
           "ticks": "",
           "title": {
            "standoff": 15
           },
           "zerolinecolor": "white",
           "zerolinewidth": 2
          }
         }
        },
        "title": {
         "text": "Fuel Efficiency Distribution w.r.t Continent :: [Violin Plot]"
        },
        "xaxis": {
         "title": {
          "text": "Continent (USA / Europe  /Japan)"
         }
        },
        "yaxis": {
         "title": {
          "text": "Fuel Efficiency (mile per gallon)"
         }
        }
       }
      },
      "text/html": [
       "<div>                            <div id=\"879e6b99-b760-4cb8-b9d9-1cc9492ee67a\" class=\"plotly-graph-div\" style=\"height:525px; width:100%;\"></div>            <script type=\"text/javascript\">                require([\"plotly\"], function(Plotly) {                    window.PLOTLYENV=window.PLOTLYENV || {};                                    if (document.getElementById(\"879e6b99-b760-4cb8-b9d9-1cc9492ee67a\")) {                    Plotly.newPlot(                        \"879e6b99-b760-4cb8-b9d9-1cc9492ee67a\",                        [{\"fillcolor\": \"aqua\", \"name\": \"USA\", \"type\": \"violin\", \"y\": [22.0, 21.0, 21.0, 21.5, 15.0, 15.5, 13.0, 24.5, 17.5, 13.0, 19.0, 19.0, 17.7, 20.8, 11.0, 16.5, 33.5, 22.3, 17.0, 20.5, 13.0, 18.5, 15.0, 18.0, 16.5, 25.0, 12.0, 16.0, 30.9, 20.5, 12.0, 15.0, 39.0, 14.0, 16.0, 13.0, 14.0, 30.0, 19.8, 13.0, 33.5, 27.0, 10.0, 24.3, 26.0, 14.0, 20.0, 15.0, 12.0, 18.0, 18.0, 34.2, 14.0, 14.0, 20.2, 17.5, 17.6, 13.0, 20.0, 36.0, 18.0, 11.0, 32.1, 23.0, 21.0, 19.2, 14.0, 13.0, 15.0, 20.6, 26.0, 26.6, 15.0, 14.0, 26.0, 12.0, 14.0, 16.0, 23.0, 16.0, 22.0, 16.0, 24.5, 18.0, 28.4, 16.0, 18.0, 20.2, 13.0, 13.0, 18.0, 21.0, 23.6, 27.0, 20.2, 20.0, 14.0, 13.0, 13.0, 25.0, 25.8, 23.5, 22.5, 36.1, 30.0, 19.9, 21.0, 25.0, 18.6, 14.0, 30.0, 25.5, 26.8, 16.0, 18.0, 15.0, 16.0, 11.0, 25.5, 13.0, 21.0, 16.0, 18.0, 25.1, 14.0, 14.0, 19.0, 38.0, 16.0, 18.1, 20.0, 29.0, 20.6, 14.0, 11.0, 28.0, 15.0, 23.0, 15.5, 15.0, 18.0, 12.0, 30.5, 16.0, 13.0, 19.0, 23.0, 25.0, 18.1, 27.4, 15.0, 15.5, 23.0, 16.9, 28.0, 29.9, 31.0, 13.0, 19.4, 13.0, 17.5, 17.0, 15.0, 26.5, 18.5, 23.2, 23.0, 14.5, 18.0, 19.0, 34.7, 34.5, 28.0, 22.0, 20.5, 35.7, 36.0, 17.0, 22.0, 16.0, 17.0, 28.0, 32.0, 23.9, 22.4, 19.1, 24.0, 27.0, 21.0, 34.0, 18.0, 23.8, 22.0, 16.0, 14.0, 38.0, 15.5, 14.0, 28.0, 17.0, 19.0, 28.8, 14.0, 13.0]}, {\"fillcolor\": \"pink\", \"name\": \"Europe\", \"type\": \"violin\", \"y\": [31.9, 34.3, 29.0, 28.0, 17.0, 43.4, 31.5, 30.0, 34.5, 23.0, 23.0, 26.0, 27.0, 40.9, 20.0, 44.3, 29.0, 44.0, 20.3, 26.0, 18.0, 29.8, 30.0, 36.0, 30.0, 24.0, 25.0, 37.3, 26.0, 19.0, 24.0, 30.5, 26.0, 27.0, 22.0, 26.0, 26.0, 36.4, 24.0, 27.2, 36.0, 28.0, 22.0, 25.4, 26.0, 19.0, 41.5, 29.0, 21.0, 26.0, 25.0, 21.6]}, {\"fillcolor\": \"teal\", \"name\": \"Japan\", \"type\": \"violin\", \"y\": [38.0, 20.0, 24.0, 32.0, 32.0, 19.0, 32.8, 27.2, 36.0, 40.8, 32.4, 34.1, 37.0, 18.0, 38.0, 35.0, 37.0, 33.5, 39.4, 26.0, 30.0, 31.8, 29.0, 29.5, 19.0, 31.6, 24.0, 31.5, 29.8, 31.0, 27.0, 24.0, 31.0, 36.1, 28.0, 31.0, 28.0, 36.0, 46.6, 38.1, 22.0, 20.0, 33.0, 44.6, 27.0, 34.1, 32.0, 25.4, 24.0, 37.7, 33.0, 32.9, 37.2, 31.3, 33.8, 21.1, 32.3, 24.2, 26.0, 37.0, 22.0, 23.7]}],                        {\"template\": {\"data\": {\"bar\": [{\"error_x\": {\"color\": \"#2a3f5f\"}, \"error_y\": {\"color\": \"#2a3f5f\"}, \"marker\": {\"line\": {\"color\": \"#E5ECF6\", \"width\": 0.5}}, \"type\": \"bar\"}], \"barpolar\": [{\"marker\": {\"line\": {\"color\": \"#E5ECF6\", \"width\": 0.5}}, \"type\": \"barpolar\"}], \"carpet\": [{\"aaxis\": {\"endlinecolor\": \"#2a3f5f\", \"gridcolor\": \"white\", \"linecolor\": \"white\", \"minorgridcolor\": \"white\", \"startlinecolor\": \"#2a3f5f\"}, \"baxis\": {\"endlinecolor\": \"#2a3f5f\", \"gridcolor\": \"white\", \"linecolor\": \"white\", \"minorgridcolor\": \"white\", \"startlinecolor\": \"#2a3f5f\"}, \"type\": \"carpet\"}], \"choropleth\": [{\"colorbar\": {\"outlinewidth\": 0, \"ticks\": \"\"}, \"type\": \"choropleth\"}], \"contour\": [{\"colorbar\": {\"outlinewidth\": 0, \"ticks\": \"\"}, \"colorscale\": [[0.0, \"#0d0887\"], [0.1111111111111111, \"#46039f\"], [0.2222222222222222, \"#7201a8\"], [0.3333333333333333, \"#9c179e\"], [0.4444444444444444, \"#bd3786\"], [0.5555555555555556, \"#d8576b\"], [0.6666666666666666, \"#ed7953\"], [0.7777777777777778, \"#fb9f3a\"], [0.8888888888888888, \"#fdca26\"], [1.0, \"#f0f921\"]], \"type\": \"contour\"}], \"contourcarpet\": [{\"colorbar\": {\"outlinewidth\": 0, \"ticks\": \"\"}, \"type\": \"contourcarpet\"}], \"heatmap\": [{\"colorbar\": {\"outlinewidth\": 0, \"ticks\": \"\"}, \"colorscale\": [[0.0, \"#0d0887\"], [0.1111111111111111, \"#46039f\"], [0.2222222222222222, \"#7201a8\"], [0.3333333333333333, \"#9c179e\"], [0.4444444444444444, \"#bd3786\"], [0.5555555555555556, \"#d8576b\"], [0.6666666666666666, \"#ed7953\"], [0.7777777777777778, \"#fb9f3a\"], [0.8888888888888888, \"#fdca26\"], [1.0, \"#f0f921\"]], \"type\": \"heatmap\"}], \"heatmapgl\": [{\"colorbar\": {\"outlinewidth\": 0, \"ticks\": \"\"}, \"colorscale\": [[0.0, \"#0d0887\"], [0.1111111111111111, \"#46039f\"], [0.2222222222222222, \"#7201a8\"], [0.3333333333333333, \"#9c179e\"], [0.4444444444444444, \"#bd3786\"], [0.5555555555555556, \"#d8576b\"], [0.6666666666666666, \"#ed7953\"], [0.7777777777777778, \"#fb9f3a\"], [0.8888888888888888, \"#fdca26\"], [1.0, \"#f0f921\"]], \"type\": \"heatmapgl\"}], \"histogram\": [{\"marker\": {\"colorbar\": {\"outlinewidth\": 0, \"ticks\": \"\"}}, \"type\": \"histogram\"}], \"histogram2d\": [{\"colorbar\": {\"outlinewidth\": 0, \"ticks\": \"\"}, \"colorscale\": [[0.0, \"#0d0887\"], [0.1111111111111111, \"#46039f\"], [0.2222222222222222, \"#7201a8\"], [0.3333333333333333, \"#9c179e\"], [0.4444444444444444, \"#bd3786\"], [0.5555555555555556, \"#d8576b\"], [0.6666666666666666, \"#ed7953\"], [0.7777777777777778, \"#fb9f3a\"], [0.8888888888888888, \"#fdca26\"], [1.0, \"#f0f921\"]], \"type\": \"histogram2d\"}], \"histogram2dcontour\": [{\"colorbar\": {\"outlinewidth\": 0, \"ticks\": \"\"}, \"colorscale\": [[0.0, \"#0d0887\"], [0.1111111111111111, \"#46039f\"], [0.2222222222222222, \"#7201a8\"], [0.3333333333333333, \"#9c179e\"], [0.4444444444444444, \"#bd3786\"], [0.5555555555555556, \"#d8576b\"], [0.6666666666666666, \"#ed7953\"], [0.7777777777777778, \"#fb9f3a\"], [0.8888888888888888, \"#fdca26\"], [1.0, \"#f0f921\"]], \"type\": \"histogram2dcontour\"}], \"mesh3d\": [{\"colorbar\": {\"outlinewidth\": 0, \"ticks\": \"\"}, \"type\": \"mesh3d\"}], \"parcoords\": [{\"line\": {\"colorbar\": {\"outlinewidth\": 0, \"ticks\": \"\"}}, \"type\": \"parcoords\"}], \"pie\": [{\"automargin\": true, \"type\": \"pie\"}], \"scatter\": [{\"marker\": {\"colorbar\": {\"outlinewidth\": 0, \"ticks\": \"\"}}, \"type\": \"scatter\"}], \"scatter3d\": [{\"line\": {\"colorbar\": {\"outlinewidth\": 0, \"ticks\": \"\"}}, \"marker\": {\"colorbar\": {\"outlinewidth\": 0, \"ticks\": \"\"}}, \"type\": \"scatter3d\"}], \"scattercarpet\": [{\"marker\": {\"colorbar\": {\"outlinewidth\": 0, \"ticks\": \"\"}}, \"type\": \"scattercarpet\"}], \"scattergeo\": [{\"marker\": {\"colorbar\": {\"outlinewidth\": 0, \"ticks\": \"\"}}, \"type\": \"scattergeo\"}], \"scattergl\": [{\"marker\": {\"colorbar\": {\"outlinewidth\": 0, \"ticks\": \"\"}}, \"type\": \"scattergl\"}], \"scattermapbox\": [{\"marker\": {\"colorbar\": {\"outlinewidth\": 0, \"ticks\": \"\"}}, \"type\": \"scattermapbox\"}], \"scatterpolar\": [{\"marker\": {\"colorbar\": {\"outlinewidth\": 0, \"ticks\": \"\"}}, \"type\": \"scatterpolar\"}], \"scatterpolargl\": [{\"marker\": {\"colorbar\": {\"outlinewidth\": 0, \"ticks\": \"\"}}, \"type\": \"scatterpolargl\"}], \"scatterternary\": [{\"marker\": {\"colorbar\": {\"outlinewidth\": 0, \"ticks\": \"\"}}, \"type\": \"scatterternary\"}], \"surface\": [{\"colorbar\": {\"outlinewidth\": 0, \"ticks\": \"\"}, \"colorscale\": [[0.0, \"#0d0887\"], [0.1111111111111111, \"#46039f\"], [0.2222222222222222, \"#7201a8\"], [0.3333333333333333, \"#9c179e\"], [0.4444444444444444, \"#bd3786\"], [0.5555555555555556, \"#d8576b\"], [0.6666666666666666, \"#ed7953\"], [0.7777777777777778, \"#fb9f3a\"], [0.8888888888888888, \"#fdca26\"], [1.0, \"#f0f921\"]], \"type\": \"surface\"}], \"table\": [{\"cells\": {\"fill\": {\"color\": \"#EBF0F8\"}, \"line\": {\"color\": \"white\"}}, \"header\": {\"fill\": {\"color\": \"#C8D4E3\"}, \"line\": {\"color\": \"white\"}}, \"type\": \"table\"}]}, \"layout\": {\"annotationdefaults\": {\"arrowcolor\": \"#2a3f5f\", \"arrowhead\": 0, \"arrowwidth\": 1}, \"autotypenumbers\": \"strict\", \"coloraxis\": {\"colorbar\": {\"outlinewidth\": 0, \"ticks\": \"\"}}, \"colorscale\": {\"diverging\": [[0, \"#8e0152\"], [0.1, \"#c51b7d\"], [0.2, \"#de77ae\"], [0.3, \"#f1b6da\"], [0.4, \"#fde0ef\"], [0.5, \"#f7f7f7\"], [0.6, \"#e6f5d0\"], [0.7, \"#b8e186\"], [0.8, \"#7fbc41\"], [0.9, \"#4d9221\"], [1, \"#276419\"]], \"sequential\": [[0.0, \"#0d0887\"], [0.1111111111111111, \"#46039f\"], [0.2222222222222222, \"#7201a8\"], [0.3333333333333333, \"#9c179e\"], [0.4444444444444444, \"#bd3786\"], [0.5555555555555556, \"#d8576b\"], [0.6666666666666666, \"#ed7953\"], [0.7777777777777778, \"#fb9f3a\"], [0.8888888888888888, \"#fdca26\"], [1.0, \"#f0f921\"]], \"sequentialminus\": [[0.0, \"#0d0887\"], [0.1111111111111111, \"#46039f\"], [0.2222222222222222, \"#7201a8\"], [0.3333333333333333, \"#9c179e\"], [0.4444444444444444, \"#bd3786\"], [0.5555555555555556, \"#d8576b\"], [0.6666666666666666, \"#ed7953\"], [0.7777777777777778, \"#fb9f3a\"], [0.8888888888888888, \"#fdca26\"], [1.0, \"#f0f921\"]]}, \"colorway\": [\"#636efa\", \"#EF553B\", \"#00cc96\", \"#ab63fa\", \"#FFA15A\", \"#19d3f3\", \"#FF6692\", \"#B6E880\", \"#FF97FF\", \"#FECB52\"], \"font\": {\"color\": \"#2a3f5f\"}, \"geo\": {\"bgcolor\": \"white\", \"lakecolor\": \"white\", \"landcolor\": \"#E5ECF6\", \"showlakes\": true, \"showland\": true, \"subunitcolor\": \"white\"}, \"hoverlabel\": {\"align\": \"left\"}, \"hovermode\": \"closest\", \"mapbox\": {\"style\": \"light\"}, \"paper_bgcolor\": \"white\", \"plot_bgcolor\": \"#E5ECF6\", \"polar\": {\"angularaxis\": {\"gridcolor\": \"white\", \"linecolor\": \"white\", \"ticks\": \"\"}, \"bgcolor\": \"#E5ECF6\", \"radialaxis\": {\"gridcolor\": \"white\", \"linecolor\": \"white\", \"ticks\": \"\"}}, \"scene\": {\"xaxis\": {\"backgroundcolor\": \"#E5ECF6\", \"gridcolor\": \"white\", \"gridwidth\": 2, \"linecolor\": \"white\", \"showbackground\": true, \"ticks\": \"\", \"zerolinecolor\": \"white\"}, \"yaxis\": {\"backgroundcolor\": \"#E5ECF6\", \"gridcolor\": \"white\", \"gridwidth\": 2, \"linecolor\": \"white\", \"showbackground\": true, \"ticks\": \"\", \"zerolinecolor\": \"white\"}, \"zaxis\": {\"backgroundcolor\": \"#E5ECF6\", \"gridcolor\": \"white\", \"gridwidth\": 2, \"linecolor\": \"white\", \"showbackground\": true, \"ticks\": \"\", \"zerolinecolor\": \"white\"}}, \"shapedefaults\": {\"line\": {\"color\": \"#2a3f5f\"}}, \"ternary\": {\"aaxis\": {\"gridcolor\": \"white\", \"linecolor\": \"white\", \"ticks\": \"\"}, \"baxis\": {\"gridcolor\": \"white\", \"linecolor\": \"white\", \"ticks\": \"\"}, \"bgcolor\": \"#E5ECF6\", \"caxis\": {\"gridcolor\": \"white\", \"linecolor\": \"white\", \"ticks\": \"\"}}, \"title\": {\"x\": 0.05}, \"xaxis\": {\"automargin\": true, \"gridcolor\": \"white\", \"linecolor\": \"white\", \"ticks\": \"\", \"title\": {\"standoff\": 15}, \"zerolinecolor\": \"white\", \"zerolinewidth\": 2}, \"yaxis\": {\"automargin\": true, \"gridcolor\": \"white\", \"linecolor\": \"white\", \"ticks\": \"\", \"title\": {\"standoff\": 15}, \"zerolinecolor\": \"white\", \"zerolinewidth\": 2}}}, \"title\": {\"text\": \"Fuel Efficiency Distribution w.r.t Continent :: [Violin Plot]\"}, \"xaxis\": {\"title\": {\"text\": \"Continent (USA / Europe  /Japan)\"}}, \"yaxis\": {\"title\": {\"text\": \"Fuel Efficiency (mile per gallon)\"}}},                        {\"responsive\": true}                    ).then(function(){\n",
       "                            \n",
       "var gd = document.getElementById('879e6b99-b760-4cb8-b9d9-1cc9492ee67a');\n",
       "var x = new MutationObserver(function (mutations, observer) {{\n",
       "        var display = window.getComputedStyle(gd).display;\n",
       "        if (!display || display === 'none') {{\n",
       "            console.log([gd, 'removed!']);\n",
       "            Plotly.purge(gd);\n",
       "            observer.disconnect();\n",
       "        }}\n",
       "}});\n",
       "\n",
       "// Listen for the removal of the full notebook cells\n",
       "var notebookContainer = gd.closest('#notebook-container');\n",
       "if (notebookContainer) {{\n",
       "    x.observe(notebookContainer, {childList: true});\n",
       "}}\n",
       "\n",
       "// Listen for the clearing of the current output cell\n",
       "var outputEl = gd.closest('.output');\n",
       "if (outputEl) {{\n",
       "    x.observe(outputEl, {childList: true});\n",
       "}}\n",
       "\n",
       "                        })                };                });            </script>        </div>"
      ]
     },
     "metadata": {},
     "output_type": "display_data"
    }
   ],
   "source": [
    "# 1 Boxplot \n",
    "\n",
    "usa = working_dataset[working_dataset[\"Continent\"]==\"USA\"]\n",
    "europe = working_dataset[working_dataset[\"Continent\"]==\"Europe\"]\n",
    "japan = working_dataset[working_dataset[\"Continent\"]==\"Japan\"]\n",
    "\n",
    "trace = go.Box(y = usa[\"mpg\"],fillcolor=\"aqua\", name= \"USA\" )\n",
    "trace1 = go.Box(y = europe[\"mpg\"], fillcolor=\"pink\", name= \"Europe\" )\n",
    "trace2 = go.Box(y = japan[\"mpg\"], fillcolor=\"teal\", name= \"Japan\" )\n",
    "\n",
    "layout = go.Layout(title=\"Fuel Efficiency Distribution w.r.t Continent :: [Box Plot]\", \n",
    "                   yaxis=dict(title=\"Fuel Efficiency (mile per gallon)\"), \n",
    "                   xaxis= dict(title=\"Continent (USA / Europe  /Japan)\"))\n",
    "\n",
    "data=[trace, trace1, trace2]\n",
    "fig = go.Figure(data = data, layout=layout)\n",
    "py.iplot(fig)\n",
    "\n",
    "# 2 Violin Plot \n",
    "trace1 = go.Violin( y = usa[\"mpg\"], fillcolor=\"aqua\", name=\"USA\")\n",
    "trace2 = go.Violin( y = europe[\"mpg\"],fillcolor=\"pink\", name=\"Europe\")\n",
    "trace3 = go.Violin( y = japan[\"mpg\"],fillcolor=\"teal\", name=\"Japan\")\n",
    "\n",
    "layout = go.Layout(title=\"Fuel Efficiency Distribution w.r.t Continent :: [Violin Plot]\", \n",
    "                   yaxis=dict(title=\"Fuel Efficiency (mile per gallon)\"), \n",
    "                   xaxis= dict(title=\"Continent (USA / Europe  /Japan)\"))\n",
    "\n",
    "data=[trace1, trace2, trace3]\n",
    "fig = go.Figure(data = data, layout=layout)\n",
    "py.iplot(fig)"
   ]
  },
  {
   "cell_type": "code",
   "execution_count": 42,
   "metadata": {
    "_uuid": "caa6e31d1ee1c45390947cf93ff17cea55b88408"
   },
   "outputs": [
    {
     "name": "stdout",
     "output_type": "stream",
     "text": [
      "322    46.6\n",
      "329    44.6\n",
      "325    44.3\n",
      "394    44.0\n",
      "326    43.4\n",
      "309    41.5\n",
      "330    40.9\n",
      "324    40.8\n",
      "247    39.4\n",
      "344    39.0\n",
      "310    38.1\n",
      "385    38.0\n",
      "383    38.0\n",
      "378    38.0\n",
      "387    38.0\n",
      "Name: mpg, dtype: float64\n"
     ]
    },
    {
     "data": {
      "application/vnd.plotly.v1+json": {
       "config": {
        "linkText": "Export to plot.ly",
        "plotlyServerURL": "https://plot.ly",
        "showLink": false
       },
       "data": [
        {
         "marker": {
          "color": [
           14,
           25,
           13,
           21,
           18,
           35,
           34.1,
           20,
           15,
           23.5,
           40.9,
           37.2,
           18,
           23,
           15.5,
           35.7,
           31,
           27,
           18,
           37.3,
           15.5,
           23,
           24,
           18,
           34.5,
           25.4,
           36.1,
           34,
           30,
           16,
           18.6,
           37,
           15,
           33.5,
           22.4,
           24,
           19,
           16.9,
           31.9,
           12,
           14,
           15,
           27.4,
           23.7,
           32,
           24,
           22.5,
           16.5,
           21,
           26,
           41.5,
           29,
           15,
           30,
           15,
           10,
           18,
           20.2,
           36,
           17,
           18,
           26.5,
           18,
           22,
           12,
           14,
           15,
           18,
           23,
           14,
           32.3,
           13,
           25,
           20,
           24,
           30.9,
           26,
           32,
           24.5,
           11,
           15,
           27,
           34.3,
           26,
           31.6,
           33.8,
           29,
           18.1,
           27.2,
           38,
           26,
           14,
           22,
           31,
           36.4,
           17.6,
           17.7,
           28,
           20.8,
           14,
           20.2,
           32.8,
           22.3,
           28,
           37,
           27,
           23.2,
           13,
           15,
           22,
           24,
           29,
           13,
           31.8,
           23,
           25.5,
           29.9,
           13,
           17.5,
           46.6,
           15.5,
           32.9,
           14,
           25,
           19.4,
           15,
           32.4,
           31.5,
           27,
           19.8,
           17,
           33.5,
           21,
           23,
           38.1,
           44,
           40.8,
           21,
           29,
           17.5,
           28,
           26,
           26,
           11,
           37.7,
           24.2,
           16,
           16,
           30,
           19,
           27,
           19,
           16,
           16,
           20.3,
           21,
           33.5,
           23,
           21.5,
           16,
           19,
           37,
           15,
           16,
           26,
           18,
           13,
           21,
           29,
           22,
           33,
           22,
           16,
           36,
           20,
           22,
           31.3,
           14.5,
           29.8,
           13,
           13,
           36,
           20.5,
           25,
           27,
           33,
           16.5,
           20.6,
           30,
           43.4,
           34.7,
           11,
           18,
           13,
           16,
           19,
           23,
           25.5,
           14,
           24.5,
           30,
           25.8,
           38,
           28.8,
           26.6,
           17,
           32,
           18.1,
           11,
           21,
           36,
           13,
           30,
           31,
           14,
           18,
           13,
           21.6,
           28,
           23.8,
           14,
           27,
           20.2,
           26,
           39.4,
           19.9,
           19,
           14,
           23.6,
           13,
           38,
           30.5,
           18.5,
           17,
           12,
           16,
           28,
           15.5,
           32,
           24,
           25.1,
           16,
           13,
           24,
           22,
           24,
           15,
           19,
           18,
           27.2,
           14,
           21,
           44.3,
           28,
           31.5,
           19.2,
           14,
           30.5,
           29.8,
           36.1,
           26.8,
           26,
           20.5,
           32.1,
           16,
           17,
           20,
           22,
           25,
           23.9,
           31,
           39,
           28,
           34.5,
           22,
           20.6,
           14,
           25.4,
           14,
           30,
           19,
           36,
           25,
           14,
           21.1,
           28,
           19,
           19.1,
           24.3,
           44.6,
           20,
           17,
           13,
           34.2,
           26,
           17.5,
           26,
           13,
           18,
           18.5,
           36,
           16,
           38,
           23,
           20.5,
           13,
           28,
           12,
           34.1,
           20,
           12,
           28.4,
           18,
           20,
           29.5,
           19,
           26,
           26
          ],
          "colorscale": [
           [
            0,
            "rgb(0,0,131)"
           ],
           [
            0.2,
            "rgb(0,60,170)"
           ],
           [
            0.4,
            "rgb(5,255,255)"
           ],
           [
            0.6,
            "rgb(255,255,0)"
           ],
           [
            0.8,
            "rgb(250,0,0)"
           ],
           [
            1,
            "rgb(128,0,0)"
           ]
          ],
          "showscale": true
         },
         "type": "bar",
         "x": [
          "mazda glc",
          "honda civic 1500 gl",
          "vw rabbit c (diesel)",
          "vw pickup",
          "vw dasher (diesel)",
          "vw rabbit",
          "renault lecar deluxe",
          "datsun 210",
          "datsun b210 gx",
          "plymouth champ",
          "toyota corolla tercel",
          "datsun 310 gx",
          "honda civic",
          "plymouth horizon miser",
          "oldsmobile cutlass ciera (diesel)"
         ],
         "y": [
          46.6,
          44.6,
          44.3,
          44,
          43.4,
          41.5,
          40.9,
          40.8,
          39.4,
          39,
          38.1,
          38,
          38,
          38,
          38
         ]
        }
       ],
       "layout": {
        "template": {
         "data": {
          "bar": [
           {
            "error_x": {
             "color": "#2a3f5f"
            },
            "error_y": {
             "color": "#2a3f5f"
            },
            "marker": {
             "line": {
              "color": "#E5ECF6",
              "width": 0.5
             }
            },
            "type": "bar"
           }
          ],
          "barpolar": [
           {
            "marker": {
             "line": {
              "color": "#E5ECF6",
              "width": 0.5
             }
            },
            "type": "barpolar"
           }
          ],
          "carpet": [
           {
            "aaxis": {
             "endlinecolor": "#2a3f5f",
             "gridcolor": "white",
             "linecolor": "white",
             "minorgridcolor": "white",
             "startlinecolor": "#2a3f5f"
            },
            "baxis": {
             "endlinecolor": "#2a3f5f",
             "gridcolor": "white",
             "linecolor": "white",
             "minorgridcolor": "white",
             "startlinecolor": "#2a3f5f"
            },
            "type": "carpet"
           }
          ],
          "choropleth": [
           {
            "colorbar": {
             "outlinewidth": 0,
             "ticks": ""
            },
            "type": "choropleth"
           }
          ],
          "contour": [
           {
            "colorbar": {
             "outlinewidth": 0,
             "ticks": ""
            },
            "colorscale": [
             [
              0,
              "#0d0887"
             ],
             [
              0.1111111111111111,
              "#46039f"
             ],
             [
              0.2222222222222222,
              "#7201a8"
             ],
             [
              0.3333333333333333,
              "#9c179e"
             ],
             [
              0.4444444444444444,
              "#bd3786"
             ],
             [
              0.5555555555555556,
              "#d8576b"
             ],
             [
              0.6666666666666666,
              "#ed7953"
             ],
             [
              0.7777777777777778,
              "#fb9f3a"
             ],
             [
              0.8888888888888888,
              "#fdca26"
             ],
             [
              1,
              "#f0f921"
             ]
            ],
            "type": "contour"
           }
          ],
          "contourcarpet": [
           {
            "colorbar": {
             "outlinewidth": 0,
             "ticks": ""
            },
            "type": "contourcarpet"
           }
          ],
          "heatmap": [
           {
            "colorbar": {
             "outlinewidth": 0,
             "ticks": ""
            },
            "colorscale": [
             [
              0,
              "#0d0887"
             ],
             [
              0.1111111111111111,
              "#46039f"
             ],
             [
              0.2222222222222222,
              "#7201a8"
             ],
             [
              0.3333333333333333,
              "#9c179e"
             ],
             [
              0.4444444444444444,
              "#bd3786"
             ],
             [
              0.5555555555555556,
              "#d8576b"
             ],
             [
              0.6666666666666666,
              "#ed7953"
             ],
             [
              0.7777777777777778,
              "#fb9f3a"
             ],
             [
              0.8888888888888888,
              "#fdca26"
             ],
             [
              1,
              "#f0f921"
             ]
            ],
            "type": "heatmap"
           }
          ],
          "heatmapgl": [
           {
            "colorbar": {
             "outlinewidth": 0,
             "ticks": ""
            },
            "colorscale": [
             [
              0,
              "#0d0887"
             ],
             [
              0.1111111111111111,
              "#46039f"
             ],
             [
              0.2222222222222222,
              "#7201a8"
             ],
             [
              0.3333333333333333,
              "#9c179e"
             ],
             [
              0.4444444444444444,
              "#bd3786"
             ],
             [
              0.5555555555555556,
              "#d8576b"
             ],
             [
              0.6666666666666666,
              "#ed7953"
             ],
             [
              0.7777777777777778,
              "#fb9f3a"
             ],
             [
              0.8888888888888888,
              "#fdca26"
             ],
             [
              1,
              "#f0f921"
             ]
            ],
            "type": "heatmapgl"
           }
          ],
          "histogram": [
           {
            "marker": {
             "colorbar": {
              "outlinewidth": 0,
              "ticks": ""
             }
            },
            "type": "histogram"
           }
          ],
          "histogram2d": [
           {
            "colorbar": {
             "outlinewidth": 0,
             "ticks": ""
            },
            "colorscale": [
             [
              0,
              "#0d0887"
             ],
             [
              0.1111111111111111,
              "#46039f"
             ],
             [
              0.2222222222222222,
              "#7201a8"
             ],
             [
              0.3333333333333333,
              "#9c179e"
             ],
             [
              0.4444444444444444,
              "#bd3786"
             ],
             [
              0.5555555555555556,
              "#d8576b"
             ],
             [
              0.6666666666666666,
              "#ed7953"
             ],
             [
              0.7777777777777778,
              "#fb9f3a"
             ],
             [
              0.8888888888888888,
              "#fdca26"
             ],
             [
              1,
              "#f0f921"
             ]
            ],
            "type": "histogram2d"
           }
          ],
          "histogram2dcontour": [
           {
            "colorbar": {
             "outlinewidth": 0,
             "ticks": ""
            },
            "colorscale": [
             [
              0,
              "#0d0887"
             ],
             [
              0.1111111111111111,
              "#46039f"
             ],
             [
              0.2222222222222222,
              "#7201a8"
             ],
             [
              0.3333333333333333,
              "#9c179e"
             ],
             [
              0.4444444444444444,
              "#bd3786"
             ],
             [
              0.5555555555555556,
              "#d8576b"
             ],
             [
              0.6666666666666666,
              "#ed7953"
             ],
             [
              0.7777777777777778,
              "#fb9f3a"
             ],
             [
              0.8888888888888888,
              "#fdca26"
             ],
             [
              1,
              "#f0f921"
             ]
            ],
            "type": "histogram2dcontour"
           }
          ],
          "mesh3d": [
           {
            "colorbar": {
             "outlinewidth": 0,
             "ticks": ""
            },
            "type": "mesh3d"
           }
          ],
          "parcoords": [
           {
            "line": {
             "colorbar": {
              "outlinewidth": 0,
              "ticks": ""
             }
            },
            "type": "parcoords"
           }
          ],
          "pie": [
           {
            "automargin": true,
            "type": "pie"
           }
          ],
          "scatter": [
           {
            "marker": {
             "colorbar": {
              "outlinewidth": 0,
              "ticks": ""
             }
            },
            "type": "scatter"
           }
          ],
          "scatter3d": [
           {
            "line": {
             "colorbar": {
              "outlinewidth": 0,
              "ticks": ""
             }
            },
            "marker": {
             "colorbar": {
              "outlinewidth": 0,
              "ticks": ""
             }
            },
            "type": "scatter3d"
           }
          ],
          "scattercarpet": [
           {
            "marker": {
             "colorbar": {
              "outlinewidth": 0,
              "ticks": ""
             }
            },
            "type": "scattercarpet"
           }
          ],
          "scattergeo": [
           {
            "marker": {
             "colorbar": {
              "outlinewidth": 0,
              "ticks": ""
             }
            },
            "type": "scattergeo"
           }
          ],
          "scattergl": [
           {
            "marker": {
             "colorbar": {
              "outlinewidth": 0,
              "ticks": ""
             }
            },
            "type": "scattergl"
           }
          ],
          "scattermapbox": [
           {
            "marker": {
             "colorbar": {
              "outlinewidth": 0,
              "ticks": ""
             }
            },
            "type": "scattermapbox"
           }
          ],
          "scatterpolar": [
           {
            "marker": {
             "colorbar": {
              "outlinewidth": 0,
              "ticks": ""
             }
            },
            "type": "scatterpolar"
           }
          ],
          "scatterpolargl": [
           {
            "marker": {
             "colorbar": {
              "outlinewidth": 0,
              "ticks": ""
             }
            },
            "type": "scatterpolargl"
           }
          ],
          "scatterternary": [
           {
            "marker": {
             "colorbar": {
              "outlinewidth": 0,
              "ticks": ""
             }
            },
            "type": "scatterternary"
           }
          ],
          "surface": [
           {
            "colorbar": {
             "outlinewidth": 0,
             "ticks": ""
            },
            "colorscale": [
             [
              0,
              "#0d0887"
             ],
             [
              0.1111111111111111,
              "#46039f"
             ],
             [
              0.2222222222222222,
              "#7201a8"
             ],
             [
              0.3333333333333333,
              "#9c179e"
             ],
             [
              0.4444444444444444,
              "#bd3786"
             ],
             [
              0.5555555555555556,
              "#d8576b"
             ],
             [
              0.6666666666666666,
              "#ed7953"
             ],
             [
              0.7777777777777778,
              "#fb9f3a"
             ],
             [
              0.8888888888888888,
              "#fdca26"
             ],
             [
              1,
              "#f0f921"
             ]
            ],
            "type": "surface"
           }
          ],
          "table": [
           {
            "cells": {
             "fill": {
              "color": "#EBF0F8"
             },
             "line": {
              "color": "white"
             }
            },
            "header": {
             "fill": {
              "color": "#C8D4E3"
             },
             "line": {
              "color": "white"
             }
            },
            "type": "table"
           }
          ]
         },
         "layout": {
          "annotationdefaults": {
           "arrowcolor": "#2a3f5f",
           "arrowhead": 0,
           "arrowwidth": 1
          },
          "autotypenumbers": "strict",
          "coloraxis": {
           "colorbar": {
            "outlinewidth": 0,
            "ticks": ""
           }
          },
          "colorscale": {
           "diverging": [
            [
             0,
             "#8e0152"
            ],
            [
             0.1,
             "#c51b7d"
            ],
            [
             0.2,
             "#de77ae"
            ],
            [
             0.3,
             "#f1b6da"
            ],
            [
             0.4,
             "#fde0ef"
            ],
            [
             0.5,
             "#f7f7f7"
            ],
            [
             0.6,
             "#e6f5d0"
            ],
            [
             0.7,
             "#b8e186"
            ],
            [
             0.8,
             "#7fbc41"
            ],
            [
             0.9,
             "#4d9221"
            ],
            [
             1,
             "#276419"
            ]
           ],
           "sequential": [
            [
             0,
             "#0d0887"
            ],
            [
             0.1111111111111111,
             "#46039f"
            ],
            [
             0.2222222222222222,
             "#7201a8"
            ],
            [
             0.3333333333333333,
             "#9c179e"
            ],
            [
             0.4444444444444444,
             "#bd3786"
            ],
            [
             0.5555555555555556,
             "#d8576b"
            ],
            [
             0.6666666666666666,
             "#ed7953"
            ],
            [
             0.7777777777777778,
             "#fb9f3a"
            ],
            [
             0.8888888888888888,
             "#fdca26"
            ],
            [
             1,
             "#f0f921"
            ]
           ],
           "sequentialminus": [
            [
             0,
             "#0d0887"
            ],
            [
             0.1111111111111111,
             "#46039f"
            ],
            [
             0.2222222222222222,
             "#7201a8"
            ],
            [
             0.3333333333333333,
             "#9c179e"
            ],
            [
             0.4444444444444444,
             "#bd3786"
            ],
            [
             0.5555555555555556,
             "#d8576b"
            ],
            [
             0.6666666666666666,
             "#ed7953"
            ],
            [
             0.7777777777777778,
             "#fb9f3a"
            ],
            [
             0.8888888888888888,
             "#fdca26"
            ],
            [
             1,
             "#f0f921"
            ]
           ]
          },
          "colorway": [
           "#636efa",
           "#EF553B",
           "#00cc96",
           "#ab63fa",
           "#FFA15A",
           "#19d3f3",
           "#FF6692",
           "#B6E880",
           "#FF97FF",
           "#FECB52"
          ],
          "font": {
           "color": "#2a3f5f"
          },
          "geo": {
           "bgcolor": "white",
           "lakecolor": "white",
           "landcolor": "#E5ECF6",
           "showlakes": true,
           "showland": true,
           "subunitcolor": "white"
          },
          "hoverlabel": {
           "align": "left"
          },
          "hovermode": "closest",
          "mapbox": {
           "style": "light"
          },
          "paper_bgcolor": "white",
          "plot_bgcolor": "#E5ECF6",
          "polar": {
           "angularaxis": {
            "gridcolor": "white",
            "linecolor": "white",
            "ticks": ""
           },
           "bgcolor": "#E5ECF6",
           "radialaxis": {
            "gridcolor": "white",
            "linecolor": "white",
            "ticks": ""
           }
          },
          "scene": {
           "xaxis": {
            "backgroundcolor": "#E5ECF6",
            "gridcolor": "white",
            "gridwidth": 2,
            "linecolor": "white",
            "showbackground": true,
            "ticks": "",
            "zerolinecolor": "white"
           },
           "yaxis": {
            "backgroundcolor": "#E5ECF6",
            "gridcolor": "white",
            "gridwidth": 2,
            "linecolor": "white",
            "showbackground": true,
            "ticks": "",
            "zerolinecolor": "white"
           },
           "zaxis": {
            "backgroundcolor": "#E5ECF6",
            "gridcolor": "white",
            "gridwidth": 2,
            "linecolor": "white",
            "showbackground": true,
            "ticks": "",
            "zerolinecolor": "white"
           }
          },
          "shapedefaults": {
           "line": {
            "color": "#2a3f5f"
           }
          },
          "ternary": {
           "aaxis": {
            "gridcolor": "white",
            "linecolor": "white",
            "ticks": ""
           },
           "baxis": {
            "gridcolor": "white",
            "linecolor": "white",
            "ticks": ""
           },
           "bgcolor": "#E5ECF6",
           "caxis": {
            "gridcolor": "white",
            "linecolor": "white",
            "ticks": ""
           }
          },
          "title": {
           "x": 0.05
          },
          "xaxis": {
           "automargin": true,
           "gridcolor": "white",
           "linecolor": "white",
           "ticks": "",
           "title": {
            "standoff": 15
           },
           "zerolinecolor": "white",
           "zerolinewidth": 2
          },
          "yaxis": {
           "automargin": true,
           "gridcolor": "white",
           "linecolor": "white",
           "ticks": "",
           "title": {
            "standoff": 15
           },
           "zerolinecolor": "white",
           "zerolinewidth": 2
          }
         }
        },
        "title": {
         "text": "Car Mileage Distribution :: Most Fuel Efficient Cars (Top 15)"
        },
        "yaxis": {
         "title": {
          "text": "Fuel Efficiency"
         }
        }
       }
      },
      "text/html": [
       "<div>                            <div id=\"3a0aa2d9-d3b7-4530-90b3-d92a34aa1b1c\" class=\"plotly-graph-div\" style=\"height:525px; width:100%;\"></div>            <script type=\"text/javascript\">                require([\"plotly\"], function(Plotly) {                    window.PLOTLYENV=window.PLOTLYENV || {};                                    if (document.getElementById(\"3a0aa2d9-d3b7-4530-90b3-d92a34aa1b1c\")) {                    Plotly.newPlot(                        \"3a0aa2d9-d3b7-4530-90b3-d92a34aa1b1c\",                        [{\"marker\": {\"color\": [14.0, 25.0, 13.0, 21.0, 18.0, 35.0, 34.1, 20.0, 15.0, 23.5, 40.9, 37.2, 18.0, 23.0, 15.5, 35.7, 31.0, 27.0, 18.0, 37.3, 15.5, 23.0, 24.0, 18.0, 34.5, 25.4, 36.1, 34.0, 30.0, 16.0, 18.6, 37.0, 15.0, 33.5, 22.4, 24.0, 19.0, 16.9, 31.9, 12.0, 14.0, 15.0, 27.4, 23.7, 32.0, 24.0, 22.5, 16.5, 21.0, 26.0, 41.5, 29.0, 15.0, 30.0, 15.0, 10.0, 18.0, 20.2, 36.0, 17.0, 18.0, 26.5, 18.0, 22.0, 12.0, 14.0, 15.0, 18.0, 23.0, 14.0, 32.3, 13.0, 25.0, 20.0, 24.0, 30.9, 26.0, 32.0, 24.5, 11.0, 15.0, 27.0, 34.3, 26.0, 31.6, 33.8, 29.0, 18.1, 27.2, 38.0, 26.0, 14.0, 22.0, 31.0, 36.4, 17.6, 17.7, 28.0, 20.8, 14.0, 20.2, 32.8, 22.3, 28.0, 37.0, 27.0, 23.2, 13.0, 15.0, 22.0, 24.0, 29.0, 13.0, 31.8, 23.0, 25.5, 29.9, 13.0, 17.5, 46.6, 15.5, 32.9, 14.0, 25.0, 19.4, 15.0, 32.4, 31.5, 27.0, 19.8, 17.0, 33.5, 21.0, 23.0, 38.1, 44.0, 40.8, 21.0, 29.0, 17.5, 28.0, 26.0, 26.0, 11.0, 37.7, 24.2, 16.0, 16.0, 30.0, 19.0, 27.0, 19.0, 16.0, 16.0, 20.3, 21.0, 33.5, 23.0, 21.5, 16.0, 19.0, 37.0, 15.0, 16.0, 26.0, 18.0, 13.0, 21.0, 29.0, 22.0, 33.0, 22.0, 16.0, 36.0, 20.0, 22.0, 31.3, 14.5, 29.8, 13.0, 13.0, 36.0, 20.5, 25.0, 27.0, 33.0, 16.5, 20.6, 30.0, 43.4, 34.7, 11.0, 18.0, 13.0, 16.0, 19.0, 23.0, 25.5, 14.0, 24.5, 30.0, 25.8, 38.0, 28.8, 26.6, 17.0, 32.0, 18.1, 11.0, 21.0, 36.0, 13.0, 30.0, 31.0, 14.0, 18.0, 13.0, 21.6, 28.0, 23.8, 14.0, 27.0, 20.2, 26.0, 39.4, 19.9, 19.0, 14.0, 23.6, 13.0, 38.0, 30.5, 18.5, 17.0, 12.0, 16.0, 28.0, 15.5, 32.0, 24.0, 25.1, 16.0, 13.0, 24.0, 22.0, 24.0, 15.0, 19.0, 18.0, 27.2, 14.0, 21.0, 44.3, 28.0, 31.5, 19.2, 14.0, 30.5, 29.8, 36.1, 26.8, 26.0, 20.5, 32.1, 16.0, 17.0, 20.0, 22.0, 25.0, 23.9, 31.0, 39.0, 28.0, 34.5, 22.0, 20.6, 14.0, 25.4, 14.0, 30.0, 19.0, 36.0, 25.0, 14.0, 21.1, 28.0, 19.0, 19.1, 24.3, 44.6, 20.0, 17.0, 13.0, 34.2, 26.0, 17.5, 26.0, 13.0, 18.0, 18.5, 36.0, 16.0, 38.0, 23.0, 20.5, 13.0, 28.0, 12.0, 34.1, 20.0, 12.0, 28.4, 18.0, 20.0, 29.5, 19.0, 26.0, 26.0], \"colorscale\": [[0.0, \"rgb(0,0,131)\"], [0.2, \"rgb(0,60,170)\"], [0.4, \"rgb(5,255,255)\"], [0.6, \"rgb(255,255,0)\"], [0.8, \"rgb(250,0,0)\"], [1.0, \"rgb(128,0,0)\"]], \"showscale\": true}, \"type\": \"bar\", \"x\": [\"mazda glc\", \"honda civic 1500 gl\", \"vw rabbit c (diesel)\", \"vw pickup\", \"vw dasher (diesel)\", \"vw rabbit\", \"renault lecar deluxe\", \"datsun 210\", \"datsun b210 gx\", \"plymouth champ\", \"toyota corolla tercel\", \"datsun 310 gx\", \"honda civic\", \"plymouth horizon miser\", \"oldsmobile cutlass ciera (diesel)\"], \"y\": [46.6, 44.6, 44.3, 44.0, 43.4, 41.5, 40.9, 40.8, 39.4, 39.0, 38.1, 38.0, 38.0, 38.0, 38.0]}],                        {\"template\": {\"data\": {\"bar\": [{\"error_x\": {\"color\": \"#2a3f5f\"}, \"error_y\": {\"color\": \"#2a3f5f\"}, \"marker\": {\"line\": {\"color\": \"#E5ECF6\", \"width\": 0.5}}, \"type\": \"bar\"}], \"barpolar\": [{\"marker\": {\"line\": {\"color\": \"#E5ECF6\", \"width\": 0.5}}, \"type\": \"barpolar\"}], \"carpet\": [{\"aaxis\": {\"endlinecolor\": \"#2a3f5f\", \"gridcolor\": \"white\", \"linecolor\": \"white\", \"minorgridcolor\": \"white\", \"startlinecolor\": \"#2a3f5f\"}, \"baxis\": {\"endlinecolor\": \"#2a3f5f\", \"gridcolor\": \"white\", \"linecolor\": \"white\", \"minorgridcolor\": \"white\", \"startlinecolor\": \"#2a3f5f\"}, \"type\": \"carpet\"}], \"choropleth\": [{\"colorbar\": {\"outlinewidth\": 0, \"ticks\": \"\"}, \"type\": \"choropleth\"}], \"contour\": [{\"colorbar\": {\"outlinewidth\": 0, \"ticks\": \"\"}, \"colorscale\": [[0.0, \"#0d0887\"], [0.1111111111111111, \"#46039f\"], [0.2222222222222222, \"#7201a8\"], [0.3333333333333333, \"#9c179e\"], [0.4444444444444444, \"#bd3786\"], [0.5555555555555556, \"#d8576b\"], [0.6666666666666666, \"#ed7953\"], [0.7777777777777778, \"#fb9f3a\"], [0.8888888888888888, \"#fdca26\"], [1.0, \"#f0f921\"]], \"type\": \"contour\"}], \"contourcarpet\": [{\"colorbar\": {\"outlinewidth\": 0, \"ticks\": \"\"}, \"type\": \"contourcarpet\"}], \"heatmap\": [{\"colorbar\": {\"outlinewidth\": 0, \"ticks\": \"\"}, \"colorscale\": [[0.0, \"#0d0887\"], [0.1111111111111111, \"#46039f\"], [0.2222222222222222, \"#7201a8\"], [0.3333333333333333, \"#9c179e\"], [0.4444444444444444, \"#bd3786\"], [0.5555555555555556, \"#d8576b\"], [0.6666666666666666, \"#ed7953\"], [0.7777777777777778, \"#fb9f3a\"], [0.8888888888888888, \"#fdca26\"], [1.0, \"#f0f921\"]], \"type\": \"heatmap\"}], \"heatmapgl\": [{\"colorbar\": {\"outlinewidth\": 0, \"ticks\": \"\"}, \"colorscale\": [[0.0, \"#0d0887\"], [0.1111111111111111, \"#46039f\"], [0.2222222222222222, \"#7201a8\"], [0.3333333333333333, \"#9c179e\"], [0.4444444444444444, \"#bd3786\"], [0.5555555555555556, \"#d8576b\"], [0.6666666666666666, \"#ed7953\"], [0.7777777777777778, \"#fb9f3a\"], [0.8888888888888888, \"#fdca26\"], [1.0, \"#f0f921\"]], \"type\": \"heatmapgl\"}], \"histogram\": [{\"marker\": {\"colorbar\": {\"outlinewidth\": 0, \"ticks\": \"\"}}, \"type\": \"histogram\"}], \"histogram2d\": [{\"colorbar\": {\"outlinewidth\": 0, \"ticks\": \"\"}, \"colorscale\": [[0.0, \"#0d0887\"], [0.1111111111111111, \"#46039f\"], [0.2222222222222222, \"#7201a8\"], [0.3333333333333333, \"#9c179e\"], [0.4444444444444444, \"#bd3786\"], [0.5555555555555556, \"#d8576b\"], [0.6666666666666666, \"#ed7953\"], [0.7777777777777778, \"#fb9f3a\"], [0.8888888888888888, \"#fdca26\"], [1.0, \"#f0f921\"]], \"type\": \"histogram2d\"}], \"histogram2dcontour\": [{\"colorbar\": {\"outlinewidth\": 0, \"ticks\": \"\"}, \"colorscale\": [[0.0, \"#0d0887\"], [0.1111111111111111, \"#46039f\"], [0.2222222222222222, \"#7201a8\"], [0.3333333333333333, \"#9c179e\"], [0.4444444444444444, \"#bd3786\"], [0.5555555555555556, \"#d8576b\"], [0.6666666666666666, \"#ed7953\"], [0.7777777777777778, \"#fb9f3a\"], [0.8888888888888888, \"#fdca26\"], [1.0, \"#f0f921\"]], \"type\": \"histogram2dcontour\"}], \"mesh3d\": [{\"colorbar\": {\"outlinewidth\": 0, \"ticks\": \"\"}, \"type\": \"mesh3d\"}], \"parcoords\": [{\"line\": {\"colorbar\": {\"outlinewidth\": 0, \"ticks\": \"\"}}, \"type\": \"parcoords\"}], \"pie\": [{\"automargin\": true, \"type\": \"pie\"}], \"scatter\": [{\"marker\": {\"colorbar\": {\"outlinewidth\": 0, \"ticks\": \"\"}}, \"type\": \"scatter\"}], \"scatter3d\": [{\"line\": {\"colorbar\": {\"outlinewidth\": 0, \"ticks\": \"\"}}, \"marker\": {\"colorbar\": {\"outlinewidth\": 0, \"ticks\": \"\"}}, \"type\": \"scatter3d\"}], \"scattercarpet\": [{\"marker\": {\"colorbar\": {\"outlinewidth\": 0, \"ticks\": \"\"}}, \"type\": \"scattercarpet\"}], \"scattergeo\": [{\"marker\": {\"colorbar\": {\"outlinewidth\": 0, \"ticks\": \"\"}}, \"type\": \"scattergeo\"}], \"scattergl\": [{\"marker\": {\"colorbar\": {\"outlinewidth\": 0, \"ticks\": \"\"}}, \"type\": \"scattergl\"}], \"scattermapbox\": [{\"marker\": {\"colorbar\": {\"outlinewidth\": 0, \"ticks\": \"\"}}, \"type\": \"scattermapbox\"}], \"scatterpolar\": [{\"marker\": {\"colorbar\": {\"outlinewidth\": 0, \"ticks\": \"\"}}, \"type\": \"scatterpolar\"}], \"scatterpolargl\": [{\"marker\": {\"colorbar\": {\"outlinewidth\": 0, \"ticks\": \"\"}}, \"type\": \"scatterpolargl\"}], \"scatterternary\": [{\"marker\": {\"colorbar\": {\"outlinewidth\": 0, \"ticks\": \"\"}}, \"type\": \"scatterternary\"}], \"surface\": [{\"colorbar\": {\"outlinewidth\": 0, \"ticks\": \"\"}, \"colorscale\": [[0.0, \"#0d0887\"], [0.1111111111111111, \"#46039f\"], [0.2222222222222222, \"#7201a8\"], [0.3333333333333333, \"#9c179e\"], [0.4444444444444444, \"#bd3786\"], [0.5555555555555556, \"#d8576b\"], [0.6666666666666666, \"#ed7953\"], [0.7777777777777778, \"#fb9f3a\"], [0.8888888888888888, \"#fdca26\"], [1.0, \"#f0f921\"]], \"type\": \"surface\"}], \"table\": [{\"cells\": {\"fill\": {\"color\": \"#EBF0F8\"}, \"line\": {\"color\": \"white\"}}, \"header\": {\"fill\": {\"color\": \"#C8D4E3\"}, \"line\": {\"color\": \"white\"}}, \"type\": \"table\"}]}, \"layout\": {\"annotationdefaults\": {\"arrowcolor\": \"#2a3f5f\", \"arrowhead\": 0, \"arrowwidth\": 1}, \"autotypenumbers\": \"strict\", \"coloraxis\": {\"colorbar\": {\"outlinewidth\": 0, \"ticks\": \"\"}}, \"colorscale\": {\"diverging\": [[0, \"#8e0152\"], [0.1, \"#c51b7d\"], [0.2, \"#de77ae\"], [0.3, \"#f1b6da\"], [0.4, \"#fde0ef\"], [0.5, \"#f7f7f7\"], [0.6, \"#e6f5d0\"], [0.7, \"#b8e186\"], [0.8, \"#7fbc41\"], [0.9, \"#4d9221\"], [1, \"#276419\"]], \"sequential\": [[0.0, \"#0d0887\"], [0.1111111111111111, \"#46039f\"], [0.2222222222222222, \"#7201a8\"], [0.3333333333333333, \"#9c179e\"], [0.4444444444444444, \"#bd3786\"], [0.5555555555555556, \"#d8576b\"], [0.6666666666666666, \"#ed7953\"], [0.7777777777777778, \"#fb9f3a\"], [0.8888888888888888, \"#fdca26\"], [1.0, \"#f0f921\"]], \"sequentialminus\": [[0.0, \"#0d0887\"], [0.1111111111111111, \"#46039f\"], [0.2222222222222222, \"#7201a8\"], [0.3333333333333333, \"#9c179e\"], [0.4444444444444444, \"#bd3786\"], [0.5555555555555556, \"#d8576b\"], [0.6666666666666666, \"#ed7953\"], [0.7777777777777778, \"#fb9f3a\"], [0.8888888888888888, \"#fdca26\"], [1.0, \"#f0f921\"]]}, \"colorway\": [\"#636efa\", \"#EF553B\", \"#00cc96\", \"#ab63fa\", \"#FFA15A\", \"#19d3f3\", \"#FF6692\", \"#B6E880\", \"#FF97FF\", \"#FECB52\"], \"font\": {\"color\": \"#2a3f5f\"}, \"geo\": {\"bgcolor\": \"white\", \"lakecolor\": \"white\", \"landcolor\": \"#E5ECF6\", \"showlakes\": true, \"showland\": true, \"subunitcolor\": \"white\"}, \"hoverlabel\": {\"align\": \"left\"}, \"hovermode\": \"closest\", \"mapbox\": {\"style\": \"light\"}, \"paper_bgcolor\": \"white\", \"plot_bgcolor\": \"#E5ECF6\", \"polar\": {\"angularaxis\": {\"gridcolor\": \"white\", \"linecolor\": \"white\", \"ticks\": \"\"}, \"bgcolor\": \"#E5ECF6\", \"radialaxis\": {\"gridcolor\": \"white\", \"linecolor\": \"white\", \"ticks\": \"\"}}, \"scene\": {\"xaxis\": {\"backgroundcolor\": \"#E5ECF6\", \"gridcolor\": \"white\", \"gridwidth\": 2, \"linecolor\": \"white\", \"showbackground\": true, \"ticks\": \"\", \"zerolinecolor\": \"white\"}, \"yaxis\": {\"backgroundcolor\": \"#E5ECF6\", \"gridcolor\": \"white\", \"gridwidth\": 2, \"linecolor\": \"white\", \"showbackground\": true, \"ticks\": \"\", \"zerolinecolor\": \"white\"}, \"zaxis\": {\"backgroundcolor\": \"#E5ECF6\", \"gridcolor\": \"white\", \"gridwidth\": 2, \"linecolor\": \"white\", \"showbackground\": true, \"ticks\": \"\", \"zerolinecolor\": \"white\"}}, \"shapedefaults\": {\"line\": {\"color\": \"#2a3f5f\"}}, \"ternary\": {\"aaxis\": {\"gridcolor\": \"white\", \"linecolor\": \"white\", \"ticks\": \"\"}, \"baxis\": {\"gridcolor\": \"white\", \"linecolor\": \"white\", \"ticks\": \"\"}, \"bgcolor\": \"#E5ECF6\", \"caxis\": {\"gridcolor\": \"white\", \"linecolor\": \"white\", \"ticks\": \"\"}}, \"title\": {\"x\": 0.05}, \"xaxis\": {\"automargin\": true, \"gridcolor\": \"white\", \"linecolor\": \"white\", \"ticks\": \"\", \"title\": {\"standoff\": 15}, \"zerolinecolor\": \"white\", \"zerolinewidth\": 2}, \"yaxis\": {\"automargin\": true, \"gridcolor\": \"white\", \"linecolor\": \"white\", \"ticks\": \"\", \"title\": {\"standoff\": 15}, \"zerolinecolor\": \"white\", \"zerolinewidth\": 2}}}, \"title\": {\"text\": \"Car Mileage Distribution :: Most Fuel Efficient Cars (Top 15)\"}, \"yaxis\": {\"title\": {\"text\": \"Fuel Efficiency\"}}},                        {\"responsive\": true}                    ).then(function(){\n",
       "                            \n",
       "var gd = document.getElementById('3a0aa2d9-d3b7-4530-90b3-d92a34aa1b1c');\n",
       "var x = new MutationObserver(function (mutations, observer) {{\n",
       "        var display = window.getComputedStyle(gd).display;\n",
       "        if (!display || display === 'none') {{\n",
       "            console.log([gd, 'removed!']);\n",
       "            Plotly.purge(gd);\n",
       "            observer.disconnect();\n",
       "        }}\n",
       "}});\n",
       "\n",
       "// Listen for the removal of the full notebook cells\n",
       "var notebookContainer = gd.closest('#notebook-container');\n",
       "if (notebookContainer) {{\n",
       "    x.observe(notebookContainer, {childList: true});\n",
       "}}\n",
       "\n",
       "// Listen for the clearing of the current output cell\n",
       "var outputEl = gd.closest('.output');\n",
       "if (outputEl) {{\n",
       "    x.observe(outputEl, {childList: true});\n",
       "}}\n",
       "\n",
       "                        })                };                });            </script>        </div>"
      ]
     },
     "metadata": {},
     "output_type": "display_data"
    }
   ],
   "source": [
    "# Car vs Mileage \n",
    "#age_count = df[\"Age\"].dropna().value_counts()\n",
    "top_fifteen_train_dataset = working_dataset.nlargest(15, 'mpg')\n",
    "train_car_names = top_fifteen_train_dataset[\"car name\"].dropna()\n",
    "train_car_mileage = top_fifteen_train_dataset[\"mpg\"].dropna()\n",
    "print(train_car_mileage)\n",
    "trace = go.Bar(x = train_car_names,\n",
    "              y = train_car_mileage, \n",
    "              marker = dict(color = train_dataset[\"mpg\"],\n",
    "                           colorscale = \"Jet\", \n",
    "                           showscale = True))\n",
    "layout = go.Layout(title = \"Car Mileage Distribution :: Most Fuel Efficient Cars (Top 15)\", \n",
    "                  yaxis = dict(title = \"Fuel Efficiency\"))\n",
    "data = [trace]\n",
    "fig = go.Figure(data = data, layout = layout)\n",
    "py.iplot(fig)"
   ]
  },
  {
   "cell_type": "code",
   "execution_count": 43,
   "metadata": {
    "_uuid": "6a88c1d597655c6985dc6488af3131f42105c05e"
   },
   "outputs": [
    {
     "data": {
      "application/vnd.plotly.v1+json": {
       "config": {
        "linkText": "Export to plot.ly",
        "plotlyServerURL": "https://plot.ly",
        "showLink": false
       },
       "data": [
        {
         "marker": {
          "color": [
           14,
           25,
           13,
           21,
           18,
           35,
           34.1,
           20,
           15,
           23.5,
           40.9,
           37.2,
           18,
           23,
           15.5,
           35.7,
           31,
           27,
           18,
           37.3,
           15.5,
           23,
           24,
           18,
           34.5,
           25.4,
           36.1,
           34,
           30,
           16,
           18.6,
           37,
           15,
           33.5,
           22.4,
           24,
           19,
           16.9,
           31.9,
           12,
           14,
           15,
           27.4,
           23.7,
           32,
           24,
           22.5,
           16.5,
           21,
           26,
           41.5,
           29,
           15,
           30,
           15,
           10,
           18,
           20.2,
           36,
           17,
           18,
           26.5,
           18,
           22,
           12,
           14,
           15,
           18,
           23,
           14,
           32.3,
           13,
           25,
           20,
           24,
           30.9,
           26,
           32,
           24.5,
           11,
           15,
           27,
           34.3,
           26,
           31.6,
           33.8,
           29,
           18.1,
           27.2,
           38,
           26,
           14,
           22,
           31,
           36.4,
           17.6,
           17.7,
           28,
           20.8,
           14,
           20.2,
           32.8,
           22.3,
           28,
           37,
           27,
           23.2,
           13,
           15,
           22,
           24,
           29,
           13,
           31.8,
           23,
           25.5,
           29.9,
           13,
           17.5,
           46.6,
           15.5,
           32.9,
           14,
           25,
           19.4,
           15,
           32.4,
           31.5,
           27,
           19.8,
           17,
           33.5,
           21,
           23,
           38.1,
           44,
           40.8,
           21,
           29,
           17.5,
           28,
           26,
           26,
           11,
           37.7,
           24.2,
           16,
           16,
           30,
           19,
           27,
           19,
           16,
           16,
           20.3,
           21,
           33.5,
           23,
           21.5,
           16,
           19,
           37,
           15,
           16,
           26,
           18,
           13,
           21,
           29,
           22,
           33,
           22,
           16,
           36,
           20,
           22,
           31.3,
           14.5,
           29.8,
           13,
           13,
           36,
           20.5,
           25,
           27,
           33,
           16.5,
           20.6,
           30,
           43.4,
           34.7,
           11,
           18,
           13,
           16,
           19,
           23,
           25.5,
           14,
           24.5,
           30,
           25.8,
           38,
           28.8,
           26.6,
           17,
           32,
           18.1,
           11,
           21,
           36,
           13,
           30,
           31,
           14,
           18,
           13,
           21.6,
           28,
           23.8,
           14,
           27,
           20.2,
           26,
           39.4,
           19.9,
           19,
           14,
           23.6,
           13,
           38,
           30.5,
           18.5,
           17,
           12,
           16,
           28,
           15.5,
           32,
           24,
           25.1,
           16,
           13,
           24,
           22,
           24,
           15,
           19,
           18,
           27.2,
           14,
           21,
           44.3,
           28,
           31.5,
           19.2,
           14,
           30.5,
           29.8,
           36.1,
           26.8,
           26,
           20.5,
           32.1,
           16,
           17,
           20,
           22,
           25,
           23.9,
           31,
           39,
           28,
           34.5,
           22,
           20.6,
           14,
           25.4,
           14,
           30,
           19,
           36,
           25,
           14,
           21.1,
           28,
           19,
           19.1,
           24.3,
           44.6,
           20,
           17,
           13,
           34.2,
           26,
           17.5,
           26,
           13,
           18,
           18.5,
           36,
           16,
           38,
           23,
           20.5,
           13,
           28,
           12,
           34.1,
           20,
           12,
           28.4,
           18,
           20,
           29.5,
           19,
           26,
           26
          ],
          "colorscale": [
           [
            0,
            "rgb(0,0,131)"
           ],
           [
            0.2,
            "rgb(0,60,170)"
           ],
           [
            0.4,
            "rgb(5,255,255)"
           ],
           [
            0.6,
            "rgb(255,255,0)"
           ],
           [
            0.8,
            "rgb(250,0,0)"
           ],
           [
            1,
            "rgb(128,0,0)"
           ]
          ],
          "showscale": true
         },
         "mode": "markers",
         "type": "scatter",
         "x": [
          198,
          91,
          89,
          122,
          200,
          231,
          250,
          400,
          302,
          98,
          305,
          350,
          156,
          232,
          225,
          231,
          200,
          350,
          350,
          97,
          90,
          107,
          120,
          98,
          140,
          304,
          225,
          163,
          351,
          250,
          144,
          350,
          90,
          232,
          351,
          140,
          455,
          302,
          105,
          85,
          200,
          429,
          400,
          89,
          86,
          340,
          258,
          302,
          304,
          98,
          88,
          70,
          200,
          78,
          360,
          151,
          100,
          151,
          119,
          307,
          151,
          156,
          107,
          85,
          108,
          97,
          400,
          225,
          258,
          350,
          258,
          120,
          250,
          105,
          86,
          455,
          97,
          85,
          318,
          101,
          200,
          305,
          70,
          91,
          85,
          302,
          400,
          130,
          72,
          232,
          119,
          98,
          250,
          318,
          98,
          85,
          85,
          198,
          108,
          140,
          231,
          454,
          97,
          85,
          97,
          302,
          350,
          98,
          231,
          90,
          122,
          151,
          156,
          250,
          97,
          120,
          97,
          113,
          304,
          91,
          350,
          351,
          250,
          131,
          350,
          250,
          98,
          232,
          400,
          151,
          225,
          134,
          79,
          151,
          400,
          307,
          200,
          121,
          307,
          89,
          91,
          318,
          225,
          199,
          140,
          97,
          79,
          151,
          105,
          146,
          232,
          140,
          318,
          318,
          350,
          121,
          110,
          181,
          156,
          91,
          173,
          232,
          98,
          98,
          121,
          119,
          107,
          135,
          79,
          97,
          116,
          91,
          260,
          231,
          97.5,
          225,
          440,
          111,
          97,
          140,
          173,
          318,
          250,
          318,
          318,
          97,
          121,
          400,
          122,
          400,
          200,
          76,
          400,
          97,
          121,
          121,
          116,
          232,
          97,
          140,
          120,
          455,
          86,
          141,
          302,
          250,
          105,
          79,
          116,
          225,
          302,
          198,
          135,
          225,
          351,
          429,
          112,
          89,
          108,
          97,
          91,
          91,
          121,
          318,
          140,
          97,
          91,
          318,
          302,
          250,
          400,
          98,
          250,
          350,
          225,
          122,
          140,
          258,
          183,
          121,
          429,
          304,
          83,
          96,
          151,
          350,
          90,
          168,
          98,
          119,
          350,
          318,
          350,
          250,
          260,
          383,
          134,
          140,
          89,
          250,
          156,
          140,
          351,
          199,
          120,
          98,
          232,
          91,
          105,
          105,
          151,
          140,
          231,
          98,
          119,
          135,
          250,
          122,
          351,
          86,
          231,
          120,
          97,
          98,
          135,
          260,
          231,
          225,
          140,
          134,
          98,
          140,
          155,
          112,
          318,
          120,
          97,
          151,
          225,
          304,
          318,
          262,
          350,
          97,
          146,
          104,
          351,
          140,
          97,
          91,
          302,
          146,
          122,
          121,
          173,
          318,
          70,
          440
         ],
         "y": [
          22,
          38,
          31.9,
          21,
          21,
          21.5,
          15,
          15.5,
          13,
          24.5,
          17.5,
          13,
          20,
          19,
          19,
          17.7,
          20.8,
          11,
          16.5,
          34.3,
          29,
          28,
          24,
          33.5,
          22.3,
          17,
          20.5,
          17,
          13,
          18.5,
          32,
          15,
          43.4,
          18,
          16.5,
          25,
          12,
          16,
          30.9,
          32,
          20.5,
          12,
          15,
          31.5,
          39,
          14,
          16,
          13,
          14,
          30,
          30,
          19,
          19.8,
          32.8,
          13,
          33.5,
          34.5,
          27,
          27.2,
          10,
          24.3,
          26,
          36,
          40.8,
          32.4,
          23,
          14,
          20,
          15,
          12,
          18,
          23,
          18,
          34.2,
          34.1,
          14,
          26,
          37,
          14,
          27,
          20.2,
          17.5,
          18,
          38,
          40.9,
          17.6,
          13,
          20,
          35,
          20,
          37,
          36,
          18,
          11,
          32.1,
          33.5,
          39.4,
          23,
          26,
          21,
          19.2,
          14,
          30,
          31.8,
          29,
          13,
          15,
          29.5,
          20.6,
          44.3,
          26,
          26.6,
          19,
          15,
          29,
          31.6,
          44,
          24,
          14,
          26,
          12,
          14,
          16,
          20.3,
          23,
          16,
          31.5,
          22,
          16,
          24.5,
          18,
          29.8,
          26,
          28.4,
          16,
          18,
          20.2,
          18,
          13,
          29.8,
          31,
          13,
          18,
          21,
          23.6,
          27,
          30,
          27,
          36,
          30,
          20.2,
          20,
          14,
          13,
          13,
          24,
          25,
          25,
          25.8,
          37.3,
          23.5,
          22.5,
          36.1,
          26,
          19,
          24,
          24,
          30,
          31,
          30.5,
          26,
          36.1,
          19.9,
          21,
          25,
          18.6,
          14,
          30,
          27,
          25.5,
          26.8,
          16,
          18,
          15,
          16,
          28,
          22,
          11,
          25.5,
          13,
          21,
          31,
          16,
          26,
          26,
          36.4,
          24,
          18,
          28,
          25.1,
          36,
          14,
          46.6,
          27.2,
          14,
          19,
          38,
          36,
          28,
          16,
          18.1,
          20,
          29,
          20.6,
          14,
          11,
          28,
          38.1,
          22,
          20,
          33,
          44.6,
          22,
          15,
          23,
          27,
          34.1,
          15.5,
          15,
          18,
          12,
          30.5,
          16,
          13,
          19,
          23,
          25,
          18.1,
          25.4,
          27.4,
          15,
          15.5,
          32,
          26,
          23,
          16.9,
          28,
          25.4,
          29.9,
          31,
          13,
          19.4,
          13,
          17.5,
          17,
          15,
          24,
          26.5,
          37.7,
          18.5,
          23.2,
          23,
          14.5,
          18,
          19,
          41.5,
          19,
          33,
          34.7,
          34.5,
          28,
          22,
          20.5,
          35.7,
          32.9,
          36,
          17,
          22,
          16,
          37.2,
          17,
          31.3,
          33.8,
          28,
          32,
          23.9,
          22.4,
          19.1,
          24,
          21.1,
          29,
          27,
          21,
          34,
          18,
          21,
          26,
          23.8,
          22,
          16,
          14,
          38,
          15.5,
          32.3,
          24.2,
          25,
          14,
          28,
          26,
          37,
          17,
          22,
          19,
          21.6,
          28.8,
          14,
          23.7,
          13
         ]
        }
       ],
       "layout": {
        "template": {
         "data": {
          "bar": [
           {
            "error_x": {
             "color": "#2a3f5f"
            },
            "error_y": {
             "color": "#2a3f5f"
            },
            "marker": {
             "line": {
              "color": "#E5ECF6",
              "width": 0.5
             }
            },
            "type": "bar"
           }
          ],
          "barpolar": [
           {
            "marker": {
             "line": {
              "color": "#E5ECF6",
              "width": 0.5
             }
            },
            "type": "barpolar"
           }
          ],
          "carpet": [
           {
            "aaxis": {
             "endlinecolor": "#2a3f5f",
             "gridcolor": "white",
             "linecolor": "white",
             "minorgridcolor": "white",
             "startlinecolor": "#2a3f5f"
            },
            "baxis": {
             "endlinecolor": "#2a3f5f",
             "gridcolor": "white",
             "linecolor": "white",
             "minorgridcolor": "white",
             "startlinecolor": "#2a3f5f"
            },
            "type": "carpet"
           }
          ],
          "choropleth": [
           {
            "colorbar": {
             "outlinewidth": 0,
             "ticks": ""
            },
            "type": "choropleth"
           }
          ],
          "contour": [
           {
            "colorbar": {
             "outlinewidth": 0,
             "ticks": ""
            },
            "colorscale": [
             [
              0,
              "#0d0887"
             ],
             [
              0.1111111111111111,
              "#46039f"
             ],
             [
              0.2222222222222222,
              "#7201a8"
             ],
             [
              0.3333333333333333,
              "#9c179e"
             ],
             [
              0.4444444444444444,
              "#bd3786"
             ],
             [
              0.5555555555555556,
              "#d8576b"
             ],
             [
              0.6666666666666666,
              "#ed7953"
             ],
             [
              0.7777777777777778,
              "#fb9f3a"
             ],
             [
              0.8888888888888888,
              "#fdca26"
             ],
             [
              1,
              "#f0f921"
             ]
            ],
            "type": "contour"
           }
          ],
          "contourcarpet": [
           {
            "colorbar": {
             "outlinewidth": 0,
             "ticks": ""
            },
            "type": "contourcarpet"
           }
          ],
          "heatmap": [
           {
            "colorbar": {
             "outlinewidth": 0,
             "ticks": ""
            },
            "colorscale": [
             [
              0,
              "#0d0887"
             ],
             [
              0.1111111111111111,
              "#46039f"
             ],
             [
              0.2222222222222222,
              "#7201a8"
             ],
             [
              0.3333333333333333,
              "#9c179e"
             ],
             [
              0.4444444444444444,
              "#bd3786"
             ],
             [
              0.5555555555555556,
              "#d8576b"
             ],
             [
              0.6666666666666666,
              "#ed7953"
             ],
             [
              0.7777777777777778,
              "#fb9f3a"
             ],
             [
              0.8888888888888888,
              "#fdca26"
             ],
             [
              1,
              "#f0f921"
             ]
            ],
            "type": "heatmap"
           }
          ],
          "heatmapgl": [
           {
            "colorbar": {
             "outlinewidth": 0,
             "ticks": ""
            },
            "colorscale": [
             [
              0,
              "#0d0887"
             ],
             [
              0.1111111111111111,
              "#46039f"
             ],
             [
              0.2222222222222222,
              "#7201a8"
             ],
             [
              0.3333333333333333,
              "#9c179e"
             ],
             [
              0.4444444444444444,
              "#bd3786"
             ],
             [
              0.5555555555555556,
              "#d8576b"
             ],
             [
              0.6666666666666666,
              "#ed7953"
             ],
             [
              0.7777777777777778,
              "#fb9f3a"
             ],
             [
              0.8888888888888888,
              "#fdca26"
             ],
             [
              1,
              "#f0f921"
             ]
            ],
            "type": "heatmapgl"
           }
          ],
          "histogram": [
           {
            "marker": {
             "colorbar": {
              "outlinewidth": 0,
              "ticks": ""
             }
            },
            "type": "histogram"
           }
          ],
          "histogram2d": [
           {
            "colorbar": {
             "outlinewidth": 0,
             "ticks": ""
            },
            "colorscale": [
             [
              0,
              "#0d0887"
             ],
             [
              0.1111111111111111,
              "#46039f"
             ],
             [
              0.2222222222222222,
              "#7201a8"
             ],
             [
              0.3333333333333333,
              "#9c179e"
             ],
             [
              0.4444444444444444,
              "#bd3786"
             ],
             [
              0.5555555555555556,
              "#d8576b"
             ],
             [
              0.6666666666666666,
              "#ed7953"
             ],
             [
              0.7777777777777778,
              "#fb9f3a"
             ],
             [
              0.8888888888888888,
              "#fdca26"
             ],
             [
              1,
              "#f0f921"
             ]
            ],
            "type": "histogram2d"
           }
          ],
          "histogram2dcontour": [
           {
            "colorbar": {
             "outlinewidth": 0,
             "ticks": ""
            },
            "colorscale": [
             [
              0,
              "#0d0887"
             ],
             [
              0.1111111111111111,
              "#46039f"
             ],
             [
              0.2222222222222222,
              "#7201a8"
             ],
             [
              0.3333333333333333,
              "#9c179e"
             ],
             [
              0.4444444444444444,
              "#bd3786"
             ],
             [
              0.5555555555555556,
              "#d8576b"
             ],
             [
              0.6666666666666666,
              "#ed7953"
             ],
             [
              0.7777777777777778,
              "#fb9f3a"
             ],
             [
              0.8888888888888888,
              "#fdca26"
             ],
             [
              1,
              "#f0f921"
             ]
            ],
            "type": "histogram2dcontour"
           }
          ],
          "mesh3d": [
           {
            "colorbar": {
             "outlinewidth": 0,
             "ticks": ""
            },
            "type": "mesh3d"
           }
          ],
          "parcoords": [
           {
            "line": {
             "colorbar": {
              "outlinewidth": 0,
              "ticks": ""
             }
            },
            "type": "parcoords"
           }
          ],
          "pie": [
           {
            "automargin": true,
            "type": "pie"
           }
          ],
          "scatter": [
           {
            "marker": {
             "colorbar": {
              "outlinewidth": 0,
              "ticks": ""
             }
            },
            "type": "scatter"
           }
          ],
          "scatter3d": [
           {
            "line": {
             "colorbar": {
              "outlinewidth": 0,
              "ticks": ""
             }
            },
            "marker": {
             "colorbar": {
              "outlinewidth": 0,
              "ticks": ""
             }
            },
            "type": "scatter3d"
           }
          ],
          "scattercarpet": [
           {
            "marker": {
             "colorbar": {
              "outlinewidth": 0,
              "ticks": ""
             }
            },
            "type": "scattercarpet"
           }
          ],
          "scattergeo": [
           {
            "marker": {
             "colorbar": {
              "outlinewidth": 0,
              "ticks": ""
             }
            },
            "type": "scattergeo"
           }
          ],
          "scattergl": [
           {
            "marker": {
             "colorbar": {
              "outlinewidth": 0,
              "ticks": ""
             }
            },
            "type": "scattergl"
           }
          ],
          "scattermapbox": [
           {
            "marker": {
             "colorbar": {
              "outlinewidth": 0,
              "ticks": ""
             }
            },
            "type": "scattermapbox"
           }
          ],
          "scatterpolar": [
           {
            "marker": {
             "colorbar": {
              "outlinewidth": 0,
              "ticks": ""
             }
            },
            "type": "scatterpolar"
           }
          ],
          "scatterpolargl": [
           {
            "marker": {
             "colorbar": {
              "outlinewidth": 0,
              "ticks": ""
             }
            },
            "type": "scatterpolargl"
           }
          ],
          "scatterternary": [
           {
            "marker": {
             "colorbar": {
              "outlinewidth": 0,
              "ticks": ""
             }
            },
            "type": "scatterternary"
           }
          ],
          "surface": [
           {
            "colorbar": {
             "outlinewidth": 0,
             "ticks": ""
            },
            "colorscale": [
             [
              0,
              "#0d0887"
             ],
             [
              0.1111111111111111,
              "#46039f"
             ],
             [
              0.2222222222222222,
              "#7201a8"
             ],
             [
              0.3333333333333333,
              "#9c179e"
             ],
             [
              0.4444444444444444,
              "#bd3786"
             ],
             [
              0.5555555555555556,
              "#d8576b"
             ],
             [
              0.6666666666666666,
              "#ed7953"
             ],
             [
              0.7777777777777778,
              "#fb9f3a"
             ],
             [
              0.8888888888888888,
              "#fdca26"
             ],
             [
              1,
              "#f0f921"
             ]
            ],
            "type": "surface"
           }
          ],
          "table": [
           {
            "cells": {
             "fill": {
              "color": "#EBF0F8"
             },
             "line": {
              "color": "white"
             }
            },
            "header": {
             "fill": {
              "color": "#C8D4E3"
             },
             "line": {
              "color": "white"
             }
            },
            "type": "table"
           }
          ]
         },
         "layout": {
          "annotationdefaults": {
           "arrowcolor": "#2a3f5f",
           "arrowhead": 0,
           "arrowwidth": 1
          },
          "autotypenumbers": "strict",
          "coloraxis": {
           "colorbar": {
            "outlinewidth": 0,
            "ticks": ""
           }
          },
          "colorscale": {
           "diverging": [
            [
             0,
             "#8e0152"
            ],
            [
             0.1,
             "#c51b7d"
            ],
            [
             0.2,
             "#de77ae"
            ],
            [
             0.3,
             "#f1b6da"
            ],
            [
             0.4,
             "#fde0ef"
            ],
            [
             0.5,
             "#f7f7f7"
            ],
            [
             0.6,
             "#e6f5d0"
            ],
            [
             0.7,
             "#b8e186"
            ],
            [
             0.8,
             "#7fbc41"
            ],
            [
             0.9,
             "#4d9221"
            ],
            [
             1,
             "#276419"
            ]
           ],
           "sequential": [
            [
             0,
             "#0d0887"
            ],
            [
             0.1111111111111111,
             "#46039f"
            ],
            [
             0.2222222222222222,
             "#7201a8"
            ],
            [
             0.3333333333333333,
             "#9c179e"
            ],
            [
             0.4444444444444444,
             "#bd3786"
            ],
            [
             0.5555555555555556,
             "#d8576b"
            ],
            [
             0.6666666666666666,
             "#ed7953"
            ],
            [
             0.7777777777777778,
             "#fb9f3a"
            ],
            [
             0.8888888888888888,
             "#fdca26"
            ],
            [
             1,
             "#f0f921"
            ]
           ],
           "sequentialminus": [
            [
             0,
             "#0d0887"
            ],
            [
             0.1111111111111111,
             "#46039f"
            ],
            [
             0.2222222222222222,
             "#7201a8"
            ],
            [
             0.3333333333333333,
             "#9c179e"
            ],
            [
             0.4444444444444444,
             "#bd3786"
            ],
            [
             0.5555555555555556,
             "#d8576b"
            ],
            [
             0.6666666666666666,
             "#ed7953"
            ],
            [
             0.7777777777777778,
             "#fb9f3a"
            ],
            [
             0.8888888888888888,
             "#fdca26"
            ],
            [
             1,
             "#f0f921"
            ]
           ]
          },
          "colorway": [
           "#636efa",
           "#EF553B",
           "#00cc96",
           "#ab63fa",
           "#FFA15A",
           "#19d3f3",
           "#FF6692",
           "#B6E880",
           "#FF97FF",
           "#FECB52"
          ],
          "font": {
           "color": "#2a3f5f"
          },
          "geo": {
           "bgcolor": "white",
           "lakecolor": "white",
           "landcolor": "#E5ECF6",
           "showlakes": true,
           "showland": true,
           "subunitcolor": "white"
          },
          "hoverlabel": {
           "align": "left"
          },
          "hovermode": "closest",
          "mapbox": {
           "style": "light"
          },
          "paper_bgcolor": "white",
          "plot_bgcolor": "#E5ECF6",
          "polar": {
           "angularaxis": {
            "gridcolor": "white",
            "linecolor": "white",
            "ticks": ""
           },
           "bgcolor": "#E5ECF6",
           "radialaxis": {
            "gridcolor": "white",
            "linecolor": "white",
            "ticks": ""
           }
          },
          "scene": {
           "xaxis": {
            "backgroundcolor": "#E5ECF6",
            "gridcolor": "white",
            "gridwidth": 2,
            "linecolor": "white",
            "showbackground": true,
            "ticks": "",
            "zerolinecolor": "white"
           },
           "yaxis": {
            "backgroundcolor": "#E5ECF6",
            "gridcolor": "white",
            "gridwidth": 2,
            "linecolor": "white",
            "showbackground": true,
            "ticks": "",
            "zerolinecolor": "white"
           },
           "zaxis": {
            "backgroundcolor": "#E5ECF6",
            "gridcolor": "white",
            "gridwidth": 2,
            "linecolor": "white",
            "showbackground": true,
            "ticks": "",
            "zerolinecolor": "white"
           }
          },
          "shapedefaults": {
           "line": {
            "color": "#2a3f5f"
           }
          },
          "ternary": {
           "aaxis": {
            "gridcolor": "white",
            "linecolor": "white",
            "ticks": ""
           },
           "baxis": {
            "gridcolor": "white",
            "linecolor": "white",
            "ticks": ""
           },
           "bgcolor": "#E5ECF6",
           "caxis": {
            "gridcolor": "white",
            "linecolor": "white",
            "ticks": ""
           }
          },
          "title": {
           "x": 0.05
          },
          "xaxis": {
           "automargin": true,
           "gridcolor": "white",
           "linecolor": "white",
           "ticks": "",
           "title": {
            "standoff": 15
           },
           "zerolinecolor": "white",
           "zerolinewidth": 2
          },
          "yaxis": {
           "automargin": true,
           "gridcolor": "white",
           "linecolor": "white",
           "ticks": "",
           "title": {
            "standoff": 15
           },
           "zerolinecolor": "white",
           "zerolinewidth": 2
          }
         }
        },
        "title": {
         "text": "Diasplacement vs Mileage Distribution :: [Scatter Plot]"
        },
        "xaxis": {
         "title": {
          "text": "Car Displacement"
         }
        },
        "yaxis": {
         "title": {
          "text": "Car Fuel Efficiency (mile per gallon)"
         }
        }
       }
      },
      "text/html": [
       "<div>                            <div id=\"71d7ba92-ed33-49f0-873a-06655c3ec2cb\" class=\"plotly-graph-div\" style=\"height:525px; width:100%;\"></div>            <script type=\"text/javascript\">                require([\"plotly\"], function(Plotly) {                    window.PLOTLYENV=window.PLOTLYENV || {};                                    if (document.getElementById(\"71d7ba92-ed33-49f0-873a-06655c3ec2cb\")) {                    Plotly.newPlot(                        \"71d7ba92-ed33-49f0-873a-06655c3ec2cb\",                        [{\"marker\": {\"color\": [14.0, 25.0, 13.0, 21.0, 18.0, 35.0, 34.1, 20.0, 15.0, 23.5, 40.9, 37.2, 18.0, 23.0, 15.5, 35.7, 31.0, 27.0, 18.0, 37.3, 15.5, 23.0, 24.0, 18.0, 34.5, 25.4, 36.1, 34.0, 30.0, 16.0, 18.6, 37.0, 15.0, 33.5, 22.4, 24.0, 19.0, 16.9, 31.9, 12.0, 14.0, 15.0, 27.4, 23.7, 32.0, 24.0, 22.5, 16.5, 21.0, 26.0, 41.5, 29.0, 15.0, 30.0, 15.0, 10.0, 18.0, 20.2, 36.0, 17.0, 18.0, 26.5, 18.0, 22.0, 12.0, 14.0, 15.0, 18.0, 23.0, 14.0, 32.3, 13.0, 25.0, 20.0, 24.0, 30.9, 26.0, 32.0, 24.5, 11.0, 15.0, 27.0, 34.3, 26.0, 31.6, 33.8, 29.0, 18.1, 27.2, 38.0, 26.0, 14.0, 22.0, 31.0, 36.4, 17.6, 17.7, 28.0, 20.8, 14.0, 20.2, 32.8, 22.3, 28.0, 37.0, 27.0, 23.2, 13.0, 15.0, 22.0, 24.0, 29.0, 13.0, 31.8, 23.0, 25.5, 29.9, 13.0, 17.5, 46.6, 15.5, 32.9, 14.0, 25.0, 19.4, 15.0, 32.4, 31.5, 27.0, 19.8, 17.0, 33.5, 21.0, 23.0, 38.1, 44.0, 40.8, 21.0, 29.0, 17.5, 28.0, 26.0, 26.0, 11.0, 37.7, 24.2, 16.0, 16.0, 30.0, 19.0, 27.0, 19.0, 16.0, 16.0, 20.3, 21.0, 33.5, 23.0, 21.5, 16.0, 19.0, 37.0, 15.0, 16.0, 26.0, 18.0, 13.0, 21.0, 29.0, 22.0, 33.0, 22.0, 16.0, 36.0, 20.0, 22.0, 31.3, 14.5, 29.8, 13.0, 13.0, 36.0, 20.5, 25.0, 27.0, 33.0, 16.5, 20.6, 30.0, 43.4, 34.7, 11.0, 18.0, 13.0, 16.0, 19.0, 23.0, 25.5, 14.0, 24.5, 30.0, 25.8, 38.0, 28.8, 26.6, 17.0, 32.0, 18.1, 11.0, 21.0, 36.0, 13.0, 30.0, 31.0, 14.0, 18.0, 13.0, 21.6, 28.0, 23.8, 14.0, 27.0, 20.2, 26.0, 39.4, 19.9, 19.0, 14.0, 23.6, 13.0, 38.0, 30.5, 18.5, 17.0, 12.0, 16.0, 28.0, 15.5, 32.0, 24.0, 25.1, 16.0, 13.0, 24.0, 22.0, 24.0, 15.0, 19.0, 18.0, 27.2, 14.0, 21.0, 44.3, 28.0, 31.5, 19.2, 14.0, 30.5, 29.8, 36.1, 26.8, 26.0, 20.5, 32.1, 16.0, 17.0, 20.0, 22.0, 25.0, 23.9, 31.0, 39.0, 28.0, 34.5, 22.0, 20.6, 14.0, 25.4, 14.0, 30.0, 19.0, 36.0, 25.0, 14.0, 21.1, 28.0, 19.0, 19.1, 24.3, 44.6, 20.0, 17.0, 13.0, 34.2, 26.0, 17.5, 26.0, 13.0, 18.0, 18.5, 36.0, 16.0, 38.0, 23.0, 20.5, 13.0, 28.0, 12.0, 34.1, 20.0, 12.0, 28.4, 18.0, 20.0, 29.5, 19.0, 26.0, 26.0], \"colorscale\": [[0.0, \"rgb(0,0,131)\"], [0.2, \"rgb(0,60,170)\"], [0.4, \"rgb(5,255,255)\"], [0.6, \"rgb(255,255,0)\"], [0.8, \"rgb(250,0,0)\"], [1.0, \"rgb(128,0,0)\"]], \"showscale\": true}, \"mode\": \"markers\", \"type\": \"scatter\", \"x\": [198.0, 91.0, 89.0, 122.0, 200.0, 231.0, 250.0, 400.0, 302.0, 98.0, 305.0, 350.0, 156.0, 232.0, 225.0, 231.0, 200.0, 350.0, 350.0, 97.0, 90.0, 107.0, 120.0, 98.0, 140.0, 304.0, 225.0, 163.0, 351.0, 250.0, 144.0, 350.0, 90.0, 232.0, 351.0, 140.0, 455.0, 302.0, 105.0, 85.0, 200.0, 429.0, 400.0, 89.0, 86.0, 340.0, 258.0, 302.0, 304.0, 98.0, 88.0, 70.0, 200.0, 78.0, 360.0, 151.0, 100.0, 151.0, 119.0, 307.0, 151.0, 156.0, 107.0, 85.0, 108.0, 97.0, 400.0, 225.0, 258.0, 350.0, 258.0, 120.0, 250.0, 105.0, 86.0, 455.0, 97.0, 85.0, 318.0, 101.0, 200.0, 305.0, 70.0, 91.0, 85.0, 302.0, 400.0, 130.0, 72.0, 232.0, 119.0, 98.0, 250.0, 318.0, 98.0, 85.0, 85.0, 198.0, 108.0, 140.0, 231.0, 454.0, 97.0, 85.0, 97.0, 302.0, 350.0, 98.0, 231.0, 90.0, 122.0, 151.0, 156.0, 250.0, 97.0, 120.0, 97.0, 113.0, 304.0, 91.0, 350.0, 351.0, 250.0, 131.0, 350.0, 250.0, 98.0, 232.0, 400.0, 151.0, 225.0, 134.0, 79.0, 151.0, 400.0, 307.0, 200.0, 121.0, 307.0, 89.0, 91.0, 318.0, 225.0, 199.0, 140.0, 97.0, 79.0, 151.0, 105.0, 146.0, 232.0, 140.0, 318.0, 318.0, 350.0, 121.0, 110.0, 181.0, 156.0, 91.0, 173.0, 232.0, 98.0, 98.0, 121.0, 119.0, 107.0, 135.0, 79.0, 97.0, 116.0, 91.0, 260.0, 231.0, 97.5, 225.0, 440.0, 111.0, 97.0, 140.0, 173.0, 318.0, 250.0, 318.0, 318.0, 97.0, 121.0, 400.0, 122.0, 400.0, 200.0, 76.0, 400.0, 97.0, 121.0, 121.0, 116.0, 232.0, 97.0, 140.0, 120.0, 455.0, 86.0, 141.0, 302.0, 250.0, 105.0, 79.0, 116.0, 225.0, 302.0, 198.0, 135.0, 225.0, 351.0, 429.0, 112.0, 89.0, 108.0, 97.0, 91.0, 91.0, 121.0, 318.0, 140.0, 97.0, 91.0, 318.0, 302.0, 250.0, 400.0, 98.0, 250.0, 350.0, 225.0, 122.0, 140.0, 258.0, 183.0, 121.0, 429.0, 304.0, 83.0, 96.0, 151.0, 350.0, 90.0, 168.0, 98.0, 119.0, 350.0, 318.0, 350.0, 250.0, 260.0, 383.0, 134.0, 140.0, 89.0, 250.0, 156.0, 140.0, 351.0, 199.0, 120.0, 98.0, 232.0, 91.0, 105.0, 105.0, 151.0, 140.0, 231.0, 98.0, 119.0, 135.0, 250.0, 122.0, 351.0, 86.0, 231.0, 120.0, 97.0, 98.0, 135.0, 260.0, 231.0, 225.0, 140.0, 134.0, 98.0, 140.0, 155.0, 112.0, 318.0, 120.0, 97.0, 151.0, 225.0, 304.0, 318.0, 262.0, 350.0, 97.0, 146.0, 104.0, 351.0, 140.0, 97.0, 91.0, 302.0, 146.0, 122.0, 121.0, 173.0, 318.0, 70.0, 440.0], \"y\": [22.0, 38.0, 31.9, 21.0, 21.0, 21.5, 15.0, 15.5, 13.0, 24.5, 17.5, 13.0, 20.0, 19.0, 19.0, 17.7, 20.8, 11.0, 16.5, 34.3, 29.0, 28.0, 24.0, 33.5, 22.3, 17.0, 20.5, 17.0, 13.0, 18.5, 32.0, 15.0, 43.4, 18.0, 16.5, 25.0, 12.0, 16.0, 30.9, 32.0, 20.5, 12.0, 15.0, 31.5, 39.0, 14.0, 16.0, 13.0, 14.0, 30.0, 30.0, 19.0, 19.8, 32.8, 13.0, 33.5, 34.5, 27.0, 27.2, 10.0, 24.3, 26.0, 36.0, 40.8, 32.4, 23.0, 14.0, 20.0, 15.0, 12.0, 18.0, 23.0, 18.0, 34.2, 34.1, 14.0, 26.0, 37.0, 14.0, 27.0, 20.2, 17.5, 18.0, 38.0, 40.9, 17.6, 13.0, 20.0, 35.0, 20.0, 37.0, 36.0, 18.0, 11.0, 32.1, 33.5, 39.4, 23.0, 26.0, 21.0, 19.2, 14.0, 30.0, 31.8, 29.0, 13.0, 15.0, 29.5, 20.6, 44.3, 26.0, 26.6, 19.0, 15.0, 29.0, 31.6, 44.0, 24.0, 14.0, 26.0, 12.0, 14.0, 16.0, 20.3, 23.0, 16.0, 31.5, 22.0, 16.0, 24.5, 18.0, 29.8, 26.0, 28.4, 16.0, 18.0, 20.2, 18.0, 13.0, 29.8, 31.0, 13.0, 18.0, 21.0, 23.6, 27.0, 30.0, 27.0, 36.0, 30.0, 20.2, 20.0, 14.0, 13.0, 13.0, 24.0, 25.0, 25.0, 25.8, 37.3, 23.5, 22.5, 36.1, 26.0, 19.0, 24.0, 24.0, 30.0, 31.0, 30.5, 26.0, 36.1, 19.9, 21.0, 25.0, 18.6, 14.0, 30.0, 27.0, 25.5, 26.8, 16.0, 18.0, 15.0, 16.0, 28.0, 22.0, 11.0, 25.5, 13.0, 21.0, 31.0, 16.0, 26.0, 26.0, 36.4, 24.0, 18.0, 28.0, 25.1, 36.0, 14.0, 46.6, 27.2, 14.0, 19.0, 38.0, 36.0, 28.0, 16.0, 18.1, 20.0, 29.0, 20.6, 14.0, 11.0, 28.0, 38.1, 22.0, 20.0, 33.0, 44.6, 22.0, 15.0, 23.0, 27.0, 34.1, 15.5, 15.0, 18.0, 12.0, 30.5, 16.0, 13.0, 19.0, 23.0, 25.0, 18.1, 25.4, 27.4, 15.0, 15.5, 32.0, 26.0, 23.0, 16.9, 28.0, 25.4, 29.9, 31.0, 13.0, 19.4, 13.0, 17.5, 17.0, 15.0, 24.0, 26.5, 37.7, 18.5, 23.2, 23.0, 14.5, 18.0, 19.0, 41.5, 19.0, 33.0, 34.7, 34.5, 28.0, 22.0, 20.5, 35.7, 32.9, 36.0, 17.0, 22.0, 16.0, 37.2, 17.0, 31.3, 33.8, 28.0, 32.0, 23.9, 22.4, 19.1, 24.0, 21.1, 29.0, 27.0, 21.0, 34.0, 18.0, 21.0, 26.0, 23.8, 22.0, 16.0, 14.0, 38.0, 15.5, 32.3, 24.2, 25.0, 14.0, 28.0, 26.0, 37.0, 17.0, 22.0, 19.0, 21.6, 28.8, 14.0, 23.7, 13.0]}],                        {\"template\": {\"data\": {\"bar\": [{\"error_x\": {\"color\": \"#2a3f5f\"}, \"error_y\": {\"color\": \"#2a3f5f\"}, \"marker\": {\"line\": {\"color\": \"#E5ECF6\", \"width\": 0.5}}, \"type\": \"bar\"}], \"barpolar\": [{\"marker\": {\"line\": {\"color\": \"#E5ECF6\", \"width\": 0.5}}, \"type\": \"barpolar\"}], \"carpet\": [{\"aaxis\": {\"endlinecolor\": \"#2a3f5f\", \"gridcolor\": \"white\", \"linecolor\": \"white\", \"minorgridcolor\": \"white\", \"startlinecolor\": \"#2a3f5f\"}, \"baxis\": {\"endlinecolor\": \"#2a3f5f\", \"gridcolor\": \"white\", \"linecolor\": \"white\", \"minorgridcolor\": \"white\", \"startlinecolor\": \"#2a3f5f\"}, \"type\": \"carpet\"}], \"choropleth\": [{\"colorbar\": {\"outlinewidth\": 0, \"ticks\": \"\"}, \"type\": \"choropleth\"}], \"contour\": [{\"colorbar\": {\"outlinewidth\": 0, \"ticks\": \"\"}, \"colorscale\": [[0.0, \"#0d0887\"], [0.1111111111111111, \"#46039f\"], [0.2222222222222222, \"#7201a8\"], [0.3333333333333333, \"#9c179e\"], [0.4444444444444444, \"#bd3786\"], [0.5555555555555556, \"#d8576b\"], [0.6666666666666666, \"#ed7953\"], [0.7777777777777778, \"#fb9f3a\"], [0.8888888888888888, \"#fdca26\"], [1.0, \"#f0f921\"]], \"type\": \"contour\"}], \"contourcarpet\": [{\"colorbar\": {\"outlinewidth\": 0, \"ticks\": \"\"}, \"type\": \"contourcarpet\"}], \"heatmap\": [{\"colorbar\": {\"outlinewidth\": 0, \"ticks\": \"\"}, \"colorscale\": [[0.0, \"#0d0887\"], [0.1111111111111111, \"#46039f\"], [0.2222222222222222, \"#7201a8\"], [0.3333333333333333, \"#9c179e\"], [0.4444444444444444, \"#bd3786\"], [0.5555555555555556, \"#d8576b\"], [0.6666666666666666, \"#ed7953\"], [0.7777777777777778, \"#fb9f3a\"], [0.8888888888888888, \"#fdca26\"], [1.0, \"#f0f921\"]], \"type\": \"heatmap\"}], \"heatmapgl\": [{\"colorbar\": {\"outlinewidth\": 0, \"ticks\": \"\"}, \"colorscale\": [[0.0, \"#0d0887\"], [0.1111111111111111, \"#46039f\"], [0.2222222222222222, \"#7201a8\"], [0.3333333333333333, \"#9c179e\"], [0.4444444444444444, \"#bd3786\"], [0.5555555555555556, \"#d8576b\"], [0.6666666666666666, \"#ed7953\"], [0.7777777777777778, \"#fb9f3a\"], [0.8888888888888888, \"#fdca26\"], [1.0, \"#f0f921\"]], \"type\": \"heatmapgl\"}], \"histogram\": [{\"marker\": {\"colorbar\": {\"outlinewidth\": 0, \"ticks\": \"\"}}, \"type\": \"histogram\"}], \"histogram2d\": [{\"colorbar\": {\"outlinewidth\": 0, \"ticks\": \"\"}, \"colorscale\": [[0.0, \"#0d0887\"], [0.1111111111111111, \"#46039f\"], [0.2222222222222222, \"#7201a8\"], [0.3333333333333333, \"#9c179e\"], [0.4444444444444444, \"#bd3786\"], [0.5555555555555556, \"#d8576b\"], [0.6666666666666666, \"#ed7953\"], [0.7777777777777778, \"#fb9f3a\"], [0.8888888888888888, \"#fdca26\"], [1.0, \"#f0f921\"]], \"type\": \"histogram2d\"}], \"histogram2dcontour\": [{\"colorbar\": {\"outlinewidth\": 0, \"ticks\": \"\"}, \"colorscale\": [[0.0, \"#0d0887\"], [0.1111111111111111, \"#46039f\"], [0.2222222222222222, \"#7201a8\"], [0.3333333333333333, \"#9c179e\"], [0.4444444444444444, \"#bd3786\"], [0.5555555555555556, \"#d8576b\"], [0.6666666666666666, \"#ed7953\"], [0.7777777777777778, \"#fb9f3a\"], [0.8888888888888888, \"#fdca26\"], [1.0, \"#f0f921\"]], \"type\": \"histogram2dcontour\"}], \"mesh3d\": [{\"colorbar\": {\"outlinewidth\": 0, \"ticks\": \"\"}, \"type\": \"mesh3d\"}], \"parcoords\": [{\"line\": {\"colorbar\": {\"outlinewidth\": 0, \"ticks\": \"\"}}, \"type\": \"parcoords\"}], \"pie\": [{\"automargin\": true, \"type\": \"pie\"}], \"scatter\": [{\"marker\": {\"colorbar\": {\"outlinewidth\": 0, \"ticks\": \"\"}}, \"type\": \"scatter\"}], \"scatter3d\": [{\"line\": {\"colorbar\": {\"outlinewidth\": 0, \"ticks\": \"\"}}, \"marker\": {\"colorbar\": {\"outlinewidth\": 0, \"ticks\": \"\"}}, \"type\": \"scatter3d\"}], \"scattercarpet\": [{\"marker\": {\"colorbar\": {\"outlinewidth\": 0, \"ticks\": \"\"}}, \"type\": \"scattercarpet\"}], \"scattergeo\": [{\"marker\": {\"colorbar\": {\"outlinewidth\": 0, \"ticks\": \"\"}}, \"type\": \"scattergeo\"}], \"scattergl\": [{\"marker\": {\"colorbar\": {\"outlinewidth\": 0, \"ticks\": \"\"}}, \"type\": \"scattergl\"}], \"scattermapbox\": [{\"marker\": {\"colorbar\": {\"outlinewidth\": 0, \"ticks\": \"\"}}, \"type\": \"scattermapbox\"}], \"scatterpolar\": [{\"marker\": {\"colorbar\": {\"outlinewidth\": 0, \"ticks\": \"\"}}, \"type\": \"scatterpolar\"}], \"scatterpolargl\": [{\"marker\": {\"colorbar\": {\"outlinewidth\": 0, \"ticks\": \"\"}}, \"type\": \"scatterpolargl\"}], \"scatterternary\": [{\"marker\": {\"colorbar\": {\"outlinewidth\": 0, \"ticks\": \"\"}}, \"type\": \"scatterternary\"}], \"surface\": [{\"colorbar\": {\"outlinewidth\": 0, \"ticks\": \"\"}, \"colorscale\": [[0.0, \"#0d0887\"], [0.1111111111111111, \"#46039f\"], [0.2222222222222222, \"#7201a8\"], [0.3333333333333333, \"#9c179e\"], [0.4444444444444444, \"#bd3786\"], [0.5555555555555556, \"#d8576b\"], [0.6666666666666666, \"#ed7953\"], [0.7777777777777778, \"#fb9f3a\"], [0.8888888888888888, \"#fdca26\"], [1.0, \"#f0f921\"]], \"type\": \"surface\"}], \"table\": [{\"cells\": {\"fill\": {\"color\": \"#EBF0F8\"}, \"line\": {\"color\": \"white\"}}, \"header\": {\"fill\": {\"color\": \"#C8D4E3\"}, \"line\": {\"color\": \"white\"}}, \"type\": \"table\"}]}, \"layout\": {\"annotationdefaults\": {\"arrowcolor\": \"#2a3f5f\", \"arrowhead\": 0, \"arrowwidth\": 1}, \"autotypenumbers\": \"strict\", \"coloraxis\": {\"colorbar\": {\"outlinewidth\": 0, \"ticks\": \"\"}}, \"colorscale\": {\"diverging\": [[0, \"#8e0152\"], [0.1, \"#c51b7d\"], [0.2, \"#de77ae\"], [0.3, \"#f1b6da\"], [0.4, \"#fde0ef\"], [0.5, \"#f7f7f7\"], [0.6, \"#e6f5d0\"], [0.7, \"#b8e186\"], [0.8, \"#7fbc41\"], [0.9, \"#4d9221\"], [1, \"#276419\"]], \"sequential\": [[0.0, \"#0d0887\"], [0.1111111111111111, \"#46039f\"], [0.2222222222222222, \"#7201a8\"], [0.3333333333333333, \"#9c179e\"], [0.4444444444444444, \"#bd3786\"], [0.5555555555555556, \"#d8576b\"], [0.6666666666666666, \"#ed7953\"], [0.7777777777777778, \"#fb9f3a\"], [0.8888888888888888, \"#fdca26\"], [1.0, \"#f0f921\"]], \"sequentialminus\": [[0.0, \"#0d0887\"], [0.1111111111111111, \"#46039f\"], [0.2222222222222222, \"#7201a8\"], [0.3333333333333333, \"#9c179e\"], [0.4444444444444444, \"#bd3786\"], [0.5555555555555556, \"#d8576b\"], [0.6666666666666666, \"#ed7953\"], [0.7777777777777778, \"#fb9f3a\"], [0.8888888888888888, \"#fdca26\"], [1.0, \"#f0f921\"]]}, \"colorway\": [\"#636efa\", \"#EF553B\", \"#00cc96\", \"#ab63fa\", \"#FFA15A\", \"#19d3f3\", \"#FF6692\", \"#B6E880\", \"#FF97FF\", \"#FECB52\"], \"font\": {\"color\": \"#2a3f5f\"}, \"geo\": {\"bgcolor\": \"white\", \"lakecolor\": \"white\", \"landcolor\": \"#E5ECF6\", \"showlakes\": true, \"showland\": true, \"subunitcolor\": \"white\"}, \"hoverlabel\": {\"align\": \"left\"}, \"hovermode\": \"closest\", \"mapbox\": {\"style\": \"light\"}, \"paper_bgcolor\": \"white\", \"plot_bgcolor\": \"#E5ECF6\", \"polar\": {\"angularaxis\": {\"gridcolor\": \"white\", \"linecolor\": \"white\", \"ticks\": \"\"}, \"bgcolor\": \"#E5ECF6\", \"radialaxis\": {\"gridcolor\": \"white\", \"linecolor\": \"white\", \"ticks\": \"\"}}, \"scene\": {\"xaxis\": {\"backgroundcolor\": \"#E5ECF6\", \"gridcolor\": \"white\", \"gridwidth\": 2, \"linecolor\": \"white\", \"showbackground\": true, \"ticks\": \"\", \"zerolinecolor\": \"white\"}, \"yaxis\": {\"backgroundcolor\": \"#E5ECF6\", \"gridcolor\": \"white\", \"gridwidth\": 2, \"linecolor\": \"white\", \"showbackground\": true, \"ticks\": \"\", \"zerolinecolor\": \"white\"}, \"zaxis\": {\"backgroundcolor\": \"#E5ECF6\", \"gridcolor\": \"white\", \"gridwidth\": 2, \"linecolor\": \"white\", \"showbackground\": true, \"ticks\": \"\", \"zerolinecolor\": \"white\"}}, \"shapedefaults\": {\"line\": {\"color\": \"#2a3f5f\"}}, \"ternary\": {\"aaxis\": {\"gridcolor\": \"white\", \"linecolor\": \"white\", \"ticks\": \"\"}, \"baxis\": {\"gridcolor\": \"white\", \"linecolor\": \"white\", \"ticks\": \"\"}, \"bgcolor\": \"#E5ECF6\", \"caxis\": {\"gridcolor\": \"white\", \"linecolor\": \"white\", \"ticks\": \"\"}}, \"title\": {\"x\": 0.05}, \"xaxis\": {\"automargin\": true, \"gridcolor\": \"white\", \"linecolor\": \"white\", \"ticks\": \"\", \"title\": {\"standoff\": 15}, \"zerolinecolor\": \"white\", \"zerolinewidth\": 2}, \"yaxis\": {\"automargin\": true, \"gridcolor\": \"white\", \"linecolor\": \"white\", \"ticks\": \"\", \"title\": {\"standoff\": 15}, \"zerolinecolor\": \"white\", \"zerolinewidth\": 2}}}, \"title\": {\"text\": \"Diasplacement vs Mileage Distribution :: [Scatter Plot]\"}, \"xaxis\": {\"title\": {\"text\": \"Car Displacement\"}}, \"yaxis\": {\"title\": {\"text\": \"Car Fuel Efficiency (mile per gallon)\"}}},                        {\"responsive\": true}                    ).then(function(){\n",
       "                            \n",
       "var gd = document.getElementById('71d7ba92-ed33-49f0-873a-06655c3ec2cb');\n",
       "var x = new MutationObserver(function (mutations, observer) {{\n",
       "        var display = window.getComputedStyle(gd).display;\n",
       "        if (!display || display === 'none') {{\n",
       "            console.log([gd, 'removed!']);\n",
       "            Plotly.purge(gd);\n",
       "            observer.disconnect();\n",
       "        }}\n",
       "}});\n",
       "\n",
       "// Listen for the removal of the full notebook cells\n",
       "var notebookContainer = gd.closest('#notebook-container');\n",
       "if (notebookContainer) {{\n",
       "    x.observe(notebookContainer, {childList: true});\n",
       "}}\n",
       "\n",
       "// Listen for the clearing of the current output cell\n",
       "var outputEl = gd.closest('.output');\n",
       "if (outputEl) {{\n",
       "    x.observe(outputEl, {childList: true});\n",
       "}}\n",
       "\n",
       "                        })                };                });            </script>        </div>"
      ]
     },
     "metadata": {},
     "output_type": "display_data"
    }
   ],
   "source": [
    "# Displacement vs Mileage [Scatter Plot]\n",
    "train_displacements = working_dataset[\"displacement\"].dropna()\n",
    "trace = go.Scatter(x = train_displacements, y = working_dataset[\"mpg\"].dropna(), \n",
    "              mode = 'markers',                 \n",
    "              marker = dict(color = train_dataset[\"mpg\"],\n",
    "                           colorscale = \"Jet\", \n",
    "                           showscale = True))\n",
    "layout = go.Layout(title = \"Diasplacement vs Mileage Distribution :: [Scatter Plot]\", \n",
    "                  xaxis = dict(title = 'Car Displacement'), \n",
    "                  yaxis = dict(title = 'Car Fuel Efficiency (mile per gallon)'))\n",
    "data = [trace]\n",
    "fig = go.Figure(data = data, layout = layout)\n",
    "py.iplot(fig)"
   ]
  },
  {
   "cell_type": "code",
   "execution_count": 44,
   "metadata": {
    "_uuid": "ea84d2171e06488731c801bb565cdf4a38e58d9a"
   },
   "outputs": [
    {
     "data": {
      "text/plain": [
       "<seaborn.axisgrid.PairGrid at 0x225cc3552c8>"
      ]
     },
     "execution_count": 44,
     "metadata": {},
     "output_type": "execute_result"
    },
    {
     "data": {
      "image/png": "[encoded data removed]",
      "text/plain": [
       "<Figure size 720x720 with 20 Axes>"
      ]
     },
     "metadata": {},
     "output_type": "display_data"
    }
   ],
   "source": [
    "# Inspect the data\n",
    "# ----------------\n",
    "\n",
    "# Have a quick look at the joint distribution of a few pairs of columns from the training set.\n",
    "\n",
    "sns.pairplot(working_dataset[[\"mpg\", \"cylinders\", \"displacement\", \"weight\"]], diag_kind=\"kde\")"
   ]
  },
  {
   "cell_type": "code",
   "execution_count": 45,
   "metadata": {
    "_uuid": "0c0398407e5eed6503f65e2e1dbc8eb111faaef5",
    "scrolled": true
   },
   "outputs": [
    {
     "data": {
      "text/html": [
       "<div>\n",
       "<style scoped>\n",
       "    .dataframe tbody tr th:only-of-type {\n",
       "        vertical-align: middle;\n",
       "    }\n",
       "\n",
       "    .dataframe tbody tr th {\n",
       "        vertical-align: top;\n",
       "    }\n",
       "\n",
       "    .dataframe thead th {\n",
       "        text-align: right;\n",
       "    }\n",
       "</style>\n",
       "<table border=\"1\" class=\"dataframe\">\n",
       "  <thead>\n",
       "    <tr style=\"text-align: right;\">\n",
       "      <th></th>\n",
       "      <th>count</th>\n",
       "      <th>mean</th>\n",
       "      <th>std</th>\n",
       "      <th>min</th>\n",
       "      <th>25%</th>\n",
       "      <th>50%</th>\n",
       "      <th>75%</th>\n",
       "      <th>max</th>\n",
       "    </tr>\n",
       "  </thead>\n",
       "  <tbody>\n",
       "    <tr>\n",
       "      <th>cylinders</th>\n",
       "      <td>318.0</td>\n",
       "      <td>5.427673</td>\n",
       "      <td>1.682941</td>\n",
       "      <td>3.0</td>\n",
       "      <td>4.00</td>\n",
       "      <td>4.0</td>\n",
       "      <td>6.00</td>\n",
       "      <td>8.0</td>\n",
       "    </tr>\n",
       "    <tr>\n",
       "      <th>displacement</th>\n",
       "      <td>318.0</td>\n",
       "      <td>193.061321</td>\n",
       "      <td>103.812742</td>\n",
       "      <td>70.0</td>\n",
       "      <td>100.25</td>\n",
       "      <td>151.0</td>\n",
       "      <td>259.50</td>\n",
       "      <td>455.0</td>\n",
       "    </tr>\n",
       "    <tr>\n",
       "      <th>weight</th>\n",
       "      <td>318.0</td>\n",
       "      <td>2963.823899</td>\n",
       "      <td>844.749805</td>\n",
       "      <td>1613.0</td>\n",
       "      <td>2219.25</td>\n",
       "      <td>2792.5</td>\n",
       "      <td>3571.25</td>\n",
       "      <td>5140.0</td>\n",
       "    </tr>\n",
       "    <tr>\n",
       "      <th>acceleration</th>\n",
       "      <td>318.0</td>\n",
       "      <td>15.595912</td>\n",
       "      <td>2.796282</td>\n",
       "      <td>8.0</td>\n",
       "      <td>13.90</td>\n",
       "      <td>15.5</td>\n",
       "      <td>17.30</td>\n",
       "      <td>24.8</td>\n",
       "    </tr>\n",
       "    <tr>\n",
       "      <th>model year</th>\n",
       "      <td>318.0</td>\n",
       "      <td>75.946541</td>\n",
       "      <td>3.705266</td>\n",
       "      <td>70.0</td>\n",
       "      <td>73.00</td>\n",
       "      <td>76.0</td>\n",
       "      <td>79.00</td>\n",
       "      <td>82.0</td>\n",
       "    </tr>\n",
       "    <tr>\n",
       "      <th>USA</th>\n",
       "      <td>318.0</td>\n",
       "      <td>0.641509</td>\n",
       "      <td>0.480313</td>\n",
       "      <td>0.0</td>\n",
       "      <td>0.00</td>\n",
       "      <td>1.0</td>\n",
       "      <td>1.00</td>\n",
       "      <td>1.0</td>\n",
       "    </tr>\n",
       "    <tr>\n",
       "      <th>Europe</th>\n",
       "      <td>318.0</td>\n",
       "      <td>0.163522</td>\n",
       "      <td>0.370424</td>\n",
       "      <td>0.0</td>\n",
       "      <td>0.00</td>\n",
       "      <td>0.0</td>\n",
       "      <td>0.00</td>\n",
       "      <td>1.0</td>\n",
       "    </tr>\n",
       "    <tr>\n",
       "      <th>Japan</th>\n",
       "      <td>318.0</td>\n",
       "      <td>0.194969</td>\n",
       "      <td>0.396801</td>\n",
       "      <td>0.0</td>\n",
       "      <td>0.00</td>\n",
       "      <td>0.0</td>\n",
       "      <td>0.00</td>\n",
       "      <td>1.0</td>\n",
       "    </tr>\n",
       "  </tbody>\n",
       "</table>\n",
       "</div>"
      ],
      "text/plain": [
       "              count         mean         std     min      25%     50%  \\\n",
       "cylinders     318.0     5.427673    1.682941     3.0     4.00     4.0   \n",
       "displacement  318.0   193.061321  103.812742    70.0   100.25   151.0   \n",
       "weight        318.0  2963.823899  844.749805  1613.0  2219.25  2792.5   \n",
       "acceleration  318.0    15.595912    2.796282     8.0    13.90    15.5   \n",
       "model year    318.0    75.946541    3.705266    70.0    73.00    76.0   \n",
       "USA           318.0     0.641509    0.480313     0.0     0.00     1.0   \n",
       "Europe        318.0     0.163522    0.370424     0.0     0.00     0.0   \n",
       "Japan         318.0     0.194969    0.396801     0.0     0.00     0.0   \n",
       "\n",
       "                  75%     max  \n",
       "cylinders        6.00     8.0  \n",
       "displacement   259.50   455.0  \n",
       "weight        3571.25  5140.0  \n",
       "acceleration    17.30    24.8  \n",
       "model year      79.00    82.0  \n",
       "USA              1.00     1.0  \n",
       "Europe           0.00     1.0  \n",
       "Japan            0.00     1.0  "
      ]
     },
     "execution_count": 45,
     "metadata": {},
     "output_type": "execute_result"
    }
   ],
   "source": [
    "# Also look at the overall statistics:\n",
    "\n",
    "train_stats = train_dataset.describe()\n",
    "train_stats.pop(\"mpg\")\n",
    "train_stats = train_stats.transpose()\n",
    "train_stats"
   ]
  },
  {
   "cell_type": "code",
   "execution_count": 46,
   "metadata": {
    "_uuid": "8a498d202c4642974534b36b9f07d402013b29dc"
   },
   "outputs": [
    {
     "data": {
      "application/vnd.plotly.v1+json": {
       "config": {
        "linkText": "Export to plot.ly",
        "plotlyServerURL": "https://plot.ly",
        "showLink": false
       },
       "data": [
        {
         "marker": {
          "color": [
           111,
           10,
           225,
           175
          ],
          "colorscale": [
           [
            0,
            "#440154"
           ],
           [
            0.1111111111111111,
            "#482878"
           ],
           [
            0.2222222222222222,
            "#3e4989"
           ],
           [
            0.3333333333333333,
            "#31688e"
           ],
           [
            0.4444444444444444,
            "#26828e"
           ],
           [
            0.5555555555555556,
            "#1f9e89"
           ],
           [
            0.6666666666666666,
            "#35b779"
           ],
           [
            0.7777777777777778,
            "#6ece58"
           ],
           [
            0.8888888888888888,
            "#b5de2b"
           ],
           [
            1,
            "#fde725"
           ]
          ],
          "showscale": true
         },
         "type": "bar",
         "x": [
          "USA",
          "Europe",
          "Japan"
         ],
         "y": [
          204,
          52,
          62
         ]
        }
       ],
       "layout": {
        "template": {
         "data": {
          "bar": [
           {
            "error_x": {
             "color": "#2a3f5f"
            },
            "error_y": {
             "color": "#2a3f5f"
            },
            "marker": {
             "line": {
              "color": "#E5ECF6",
              "width": 0.5
             }
            },
            "type": "bar"
           }
          ],
          "barpolar": [
           {
            "marker": {
             "line": {
              "color": "#E5ECF6",
              "width": 0.5
             }
            },
            "type": "barpolar"
           }
          ],
          "carpet": [
           {
            "aaxis": {
             "endlinecolor": "#2a3f5f",
             "gridcolor": "white",
             "linecolor": "white",
             "minorgridcolor": "white",
             "startlinecolor": "#2a3f5f"
            },
            "baxis": {
             "endlinecolor": "#2a3f5f",
             "gridcolor": "white",
             "linecolor": "white",
             "minorgridcolor": "white",
             "startlinecolor": "#2a3f5f"
            },
            "type": "carpet"
           }
          ],
          "choropleth": [
           {
            "colorbar": {
             "outlinewidth": 0,
             "ticks": ""
            },
            "type": "choropleth"
           }
          ],
          "contour": [
           {
            "colorbar": {
             "outlinewidth": 0,
             "ticks": ""
            },
            "colorscale": [
             [
              0,
              "#0d0887"
             ],
             [
              0.1111111111111111,
              "#46039f"
             ],
             [
              0.2222222222222222,
              "#7201a8"
             ],
             [
              0.3333333333333333,
              "#9c179e"
             ],
             [
              0.4444444444444444,
              "#bd3786"
             ],
             [
              0.5555555555555556,
              "#d8576b"
             ],
             [
              0.6666666666666666,
              "#ed7953"
             ],
             [
              0.7777777777777778,
              "#fb9f3a"
             ],
             [
              0.8888888888888888,
              "#fdca26"
             ],
             [
              1,
              "#f0f921"
             ]
            ],
            "type": "contour"
           }
          ],
          "contourcarpet": [
           {
            "colorbar": {
             "outlinewidth": 0,
             "ticks": ""
            },
            "type": "contourcarpet"
           }
          ],
          "heatmap": [
           {
            "colorbar": {
             "outlinewidth": 0,
             "ticks": ""
            },
            "colorscale": [
             [
              0,
              "#0d0887"
             ],
             [
              0.1111111111111111,
              "#46039f"
             ],
             [
              0.2222222222222222,
              "#7201a8"
             ],
             [
              0.3333333333333333,
              "#9c179e"
             ],
             [
              0.4444444444444444,
              "#bd3786"
             ],
             [
              0.5555555555555556,
              "#d8576b"
             ],
             [
              0.6666666666666666,
              "#ed7953"
             ],
             [
              0.7777777777777778,
              "#fb9f3a"
             ],
             [
              0.8888888888888888,
              "#fdca26"
             ],
             [
              1,
              "#f0f921"
             ]
            ],
            "type": "heatmap"
           }
          ],
          "heatmapgl": [
           {
            "colorbar": {
             "outlinewidth": 0,
             "ticks": ""
            },
            "colorscale": [
             [
              0,
              "#0d0887"
             ],
             [
              0.1111111111111111,
              "#46039f"
             ],
             [
              0.2222222222222222,
              "#7201a8"
             ],
             [
              0.3333333333333333,
              "#9c179e"
             ],
             [
              0.4444444444444444,
              "#bd3786"
             ],
             [
              0.5555555555555556,
              "#d8576b"
             ],
             [
              0.6666666666666666,
              "#ed7953"
             ],
             [
              0.7777777777777778,
              "#fb9f3a"
             ],
             [
              0.8888888888888888,
              "#fdca26"
             ],
             [
              1,
              "#f0f921"
             ]
            ],
            "type": "heatmapgl"
           }
          ],
          "histogram": [
           {
            "marker": {
             "colorbar": {
              "outlinewidth": 0,
              "ticks": ""
             }
            },
            "type": "histogram"
           }
          ],
          "histogram2d": [
           {
            "colorbar": {
             "outlinewidth": 0,
             "ticks": ""
            },
            "colorscale": [
             [
              0,
              "#0d0887"
             ],
             [
              0.1111111111111111,
              "#46039f"
             ],
             [
              0.2222222222222222,
              "#7201a8"
             ],
             [
              0.3333333333333333,
              "#9c179e"
             ],
             [
              0.4444444444444444,
              "#bd3786"
             ],
             [
              0.5555555555555556,
              "#d8576b"
             ],
             [
              0.6666666666666666,
              "#ed7953"
             ],
             [
              0.7777777777777778,
              "#fb9f3a"
             ],
             [
              0.8888888888888888,
              "#fdca26"
             ],
             [
              1,
              "#f0f921"
             ]
            ],
            "type": "histogram2d"
           }
          ],
          "histogram2dcontour": [
           {
            "colorbar": {
             "outlinewidth": 0,
             "ticks": ""
            },
            "colorscale": [
             [
              0,
              "#0d0887"
             ],
             [
              0.1111111111111111,
              "#46039f"
             ],
             [
              0.2222222222222222,
              "#7201a8"
             ],
             [
              0.3333333333333333,
              "#9c179e"
             ],
             [
              0.4444444444444444,
              "#bd3786"
             ],
             [
              0.5555555555555556,
              "#d8576b"
             ],
             [
              0.6666666666666666,
              "#ed7953"
             ],
             [
              0.7777777777777778,
              "#fb9f3a"
             ],
             [
              0.8888888888888888,
              "#fdca26"
             ],
             [
              1,
              "#f0f921"
             ]
            ],
            "type": "histogram2dcontour"
           }
          ],
          "mesh3d": [
           {
            "colorbar": {
             "outlinewidth": 0,
             "ticks": ""
            },
            "type": "mesh3d"
           }
          ],
          "parcoords": [
           {
            "line": {
             "colorbar": {
              "outlinewidth": 0,
              "ticks": ""
             }
            },
            "type": "parcoords"
           }
          ],
          "pie": [
           {
            "automargin": true,
            "type": "pie"
           }
          ],
          "scatter": [
           {
            "marker": {
             "colorbar": {
              "outlinewidth": 0,
              "ticks": ""
             }
            },
            "type": "scatter"
           }
          ],
          "scatter3d": [
           {
            "line": {
             "colorbar": {
              "outlinewidth": 0,
              "ticks": ""
             }
            },
            "marker": {
             "colorbar": {
              "outlinewidth": 0,
              "ticks": ""
             }
            },
            "type": "scatter3d"
           }
          ],
          "scattercarpet": [
           {
            "marker": {
             "colorbar": {
              "outlinewidth": 0,
              "ticks": ""
             }
            },
            "type": "scattercarpet"
           }
          ],
          "scattergeo": [
           {
            "marker": {
             "colorbar": {
              "outlinewidth": 0,
              "ticks": ""
             }
            },
            "type": "scattergeo"
           }
          ],
          "scattergl": [
           {
            "marker": {
             "colorbar": {
              "outlinewidth": 0,
              "ticks": ""
             }
            },
            "type": "scattergl"
           }
          ],
          "scattermapbox": [
           {
            "marker": {
             "colorbar": {
              "outlinewidth": 0,
              "ticks": ""
             }
            },
            "type": "scattermapbox"
           }
          ],
          "scatterpolar": [
           {
            "marker": {
             "colorbar": {
              "outlinewidth": 0,
              "ticks": ""
             }
            },
            "type": "scatterpolar"
           }
          ],
          "scatterpolargl": [
           {
            "marker": {
             "colorbar": {
              "outlinewidth": 0,
              "ticks": ""
             }
            },
            "type": "scatterpolargl"
           }
          ],
          "scatterternary": [
           {
            "marker": {
             "colorbar": {
              "outlinewidth": 0,
              "ticks": ""
             }
            },
            "type": "scatterternary"
           }
          ],
          "surface": [
           {
            "colorbar": {
             "outlinewidth": 0,
             "ticks": ""
            },
            "colorscale": [
             [
              0,
              "#0d0887"
             ],
             [
              0.1111111111111111,
              "#46039f"
             ],
             [
              0.2222222222222222,
              "#7201a8"
             ],
             [
              0.3333333333333333,
              "#9c179e"
             ],
             [
              0.4444444444444444,
              "#bd3786"
             ],
             [
              0.5555555555555556,
              "#d8576b"
             ],
             [
              0.6666666666666666,
              "#ed7953"
             ],
             [
              0.7777777777777778,
              "#fb9f3a"
             ],
             [
              0.8888888888888888,
              "#fdca26"
             ],
             [
              1,
              "#f0f921"
             ]
            ],
            "type": "surface"
           }
          ],
          "table": [
           {
            "cells": {
             "fill": {
              "color": "#EBF0F8"
             },
             "line": {
              "color": "white"
             }
            },
            "header": {
             "fill": {
              "color": "#C8D4E3"
             },
             "line": {
              "color": "white"
             }
            },
            "type": "table"
           }
          ]
         },
         "layout": {
          "annotationdefaults": {
           "arrowcolor": "#2a3f5f",
           "arrowhead": 0,
           "arrowwidth": 1
          },
          "autotypenumbers": "strict",
          "coloraxis": {
           "colorbar": {
            "outlinewidth": 0,
            "ticks": ""
           }
          },
          "colorscale": {
           "diverging": [
            [
             0,
             "#8e0152"
            ],
            [
             0.1,
             "#c51b7d"
            ],
            [
             0.2,
             "#de77ae"
            ],
            [
             0.3,
             "#f1b6da"
            ],
            [
             0.4,
             "#fde0ef"
            ],
            [
             0.5,
             "#f7f7f7"
            ],
            [
             0.6,
             "#e6f5d0"
            ],
            [
             0.7,
             "#b8e186"
            ],
            [
             0.8,
             "#7fbc41"
            ],
            [
             0.9,
             "#4d9221"
            ],
            [
             1,
             "#276419"
            ]
           ],
           "sequential": [
            [
             0,
             "#0d0887"
            ],
            [
             0.1111111111111111,
             "#46039f"
            ],
            [
             0.2222222222222222,
             "#7201a8"
            ],
            [
             0.3333333333333333,
             "#9c179e"
            ],
            [
             0.4444444444444444,
             "#bd3786"
            ],
            [
             0.5555555555555556,
             "#d8576b"
            ],
            [
             0.6666666666666666,
             "#ed7953"
            ],
            [
             0.7777777777777778,
             "#fb9f3a"
            ],
            [
             0.8888888888888888,
             "#fdca26"
            ],
            [
             1,
             "#f0f921"
            ]
           ],
           "sequentialminus": [
            [
             0,
             "#0d0887"
            ],
            [
             0.1111111111111111,
             "#46039f"
            ],
            [
             0.2222222222222222,
             "#7201a8"
            ],
            [
             0.3333333333333333,
             "#9c179e"
            ],
            [
             0.4444444444444444,
             "#bd3786"
            ],
            [
             0.5555555555555556,
             "#d8576b"
            ],
            [
             0.6666666666666666,
             "#ed7953"
            ],
            [
             0.7777777777777778,
             "#fb9f3a"
            ],
            [
             0.8888888888888888,
             "#fdca26"
            ],
            [
             1,
             "#f0f921"
            ]
           ]
          },
          "colorway": [
           "#636efa",
           "#EF553B",
           "#00cc96",
           "#ab63fa",
           "#FFA15A",
           "#19d3f3",
           "#FF6692",
           "#B6E880",
           "#FF97FF",
           "#FECB52"
          ],
          "font": {
           "color": "#2a3f5f"
          },
          "geo": {
           "bgcolor": "white",
           "lakecolor": "white",
           "landcolor": "#E5ECF6",
           "showlakes": true,
           "showland": true,
           "subunitcolor": "white"
          },
          "hoverlabel": {
           "align": "left"
          },
          "hovermode": "closest",
          "mapbox": {
           "style": "light"
          },
          "paper_bgcolor": "white",
          "plot_bgcolor": "#E5ECF6",
          "polar": {
           "angularaxis": {
            "gridcolor": "white",
            "linecolor": "white",
            "ticks": ""
           },
           "bgcolor": "#E5ECF6",
           "radialaxis": {
            "gridcolor": "white",
            "linecolor": "white",
            "ticks": ""
           }
          },
          "scene": {
           "xaxis": {
            "backgroundcolor": "#E5ECF6",
            "gridcolor": "white",
            "gridwidth": 2,
            "linecolor": "white",
            "showbackground": true,
            "ticks": "",
            "zerolinecolor": "white"
           },
           "yaxis": {
            "backgroundcolor": "#E5ECF6",
            "gridcolor": "white",
            "gridwidth": 2,
            "linecolor": "white",
            "showbackground": true,
            "ticks": "",
            "zerolinecolor": "white"
           },
           "zaxis": {
            "backgroundcolor": "#E5ECF6",
            "gridcolor": "white",
            "gridwidth": 2,
            "linecolor": "white",
            "showbackground": true,
            "ticks": "",
            "zerolinecolor": "white"
           }
          },
          "shapedefaults": {
           "line": {
            "color": "#2a3f5f"
           }
          },
          "ternary": {
           "aaxis": {
            "gridcolor": "white",
            "linecolor": "white",
            "ticks": ""
           },
           "baxis": {
            "gridcolor": "white",
            "linecolor": "white",
            "ticks": ""
           },
           "bgcolor": "#E5ECF6",
           "caxis": {
            "gridcolor": "white",
            "linecolor": "white",
            "ticks": ""
           }
          },
          "title": {
           "x": 0.05
          },
          "xaxis": {
           "automargin": true,
           "gridcolor": "white",
           "linecolor": "white",
           "ticks": "",
           "title": {
            "standoff": 15
           },
           "zerolinecolor": "white",
           "zerolinewidth": 2
          },
          "yaxis": {
           "automargin": true,
           "gridcolor": "white",
           "linecolor": "white",
           "ticks": "",
           "title": {
            "standoff": 15
           },
           "zerolinecolor": "white",
           "zerolinewidth": 2
          }
         }
        },
        "title": {
         "text": "Training Set Car Count "
        },
        "yaxis": {
         "title": {
          "text": "Car Count"
         }
        }
       }
      },
      "text/html": [
       "<div>                            <div id=\"f2080995-a916-472c-b16f-388a7cd2d0d4\" class=\"plotly-graph-div\" style=\"height:525px; width:100%;\"></div>            <script type=\"text/javascript\">                require([\"plotly\"], function(Plotly) {                    window.PLOTLYENV=window.PLOTLYENV || {};                                    if (document.getElementById(\"f2080995-a916-472c-b16f-388a7cd2d0d4\")) {                    Plotly.newPlot(                        \"f2080995-a916-472c-b16f-388a7cd2d0d4\",                        [{\"marker\": {\"color\": [111, 10, 225, 175], \"colorscale\": [[0.0, \"#440154\"], [0.1111111111111111, \"#482878\"], [0.2222222222222222, \"#3e4989\"], [0.3333333333333333, \"#31688e\"], [0.4444444444444444, \"#26828e\"], [0.5555555555555556, \"#1f9e89\"], [0.6666666666666666, \"#35b779\"], [0.7777777777777778, \"#6ece58\"], [0.8888888888888888, \"#b5de2b\"], [1.0, \"#fde725\"]], \"showscale\": true}, \"type\": \"bar\", \"x\": [\"USA\", \"Europe\", \"Japan\"], \"y\": [204, 52, 62]}],                        {\"template\": {\"data\": {\"bar\": [{\"error_x\": {\"color\": \"#2a3f5f\"}, \"error_y\": {\"color\": \"#2a3f5f\"}, \"marker\": {\"line\": {\"color\": \"#E5ECF6\", \"width\": 0.5}}, \"type\": \"bar\"}], \"barpolar\": [{\"marker\": {\"line\": {\"color\": \"#E5ECF6\", \"width\": 0.5}}, \"type\": \"barpolar\"}], \"carpet\": [{\"aaxis\": {\"endlinecolor\": \"#2a3f5f\", \"gridcolor\": \"white\", \"linecolor\": \"white\", \"minorgridcolor\": \"white\", \"startlinecolor\": \"#2a3f5f\"}, \"baxis\": {\"endlinecolor\": \"#2a3f5f\", \"gridcolor\": \"white\", \"linecolor\": \"white\", \"minorgridcolor\": \"white\", \"startlinecolor\": \"#2a3f5f\"}, \"type\": \"carpet\"}], \"choropleth\": [{\"colorbar\": {\"outlinewidth\": 0, \"ticks\": \"\"}, \"type\": \"choropleth\"}], \"contour\": [{\"colorbar\": {\"outlinewidth\": 0, \"ticks\": \"\"}, \"colorscale\": [[0.0, \"#0d0887\"], [0.1111111111111111, \"#46039f\"], [0.2222222222222222, \"#7201a8\"], [0.3333333333333333, \"#9c179e\"], [0.4444444444444444, \"#bd3786\"], [0.5555555555555556, \"#d8576b\"], [0.6666666666666666, \"#ed7953\"], [0.7777777777777778, \"#fb9f3a\"], [0.8888888888888888, \"#fdca26\"], [1.0, \"#f0f921\"]], \"type\": \"contour\"}], \"contourcarpet\": [{\"colorbar\": {\"outlinewidth\": 0, \"ticks\": \"\"}, \"type\": \"contourcarpet\"}], \"heatmap\": [{\"colorbar\": {\"outlinewidth\": 0, \"ticks\": \"\"}, \"colorscale\": [[0.0, \"#0d0887\"], [0.1111111111111111, \"#46039f\"], [0.2222222222222222, \"#7201a8\"], [0.3333333333333333, \"#9c179e\"], [0.4444444444444444, \"#bd3786\"], [0.5555555555555556, \"#d8576b\"], [0.6666666666666666, \"#ed7953\"], [0.7777777777777778, \"#fb9f3a\"], [0.8888888888888888, \"#fdca26\"], [1.0, \"#f0f921\"]], \"type\": \"heatmap\"}], \"heatmapgl\": [{\"colorbar\": {\"outlinewidth\": 0, \"ticks\": \"\"}, \"colorscale\": [[0.0, \"#0d0887\"], [0.1111111111111111, \"#46039f\"], [0.2222222222222222, \"#7201a8\"], [0.3333333333333333, \"#9c179e\"], [0.4444444444444444, \"#bd3786\"], [0.5555555555555556, \"#d8576b\"], [0.6666666666666666, \"#ed7953\"], [0.7777777777777778, \"#fb9f3a\"], [0.8888888888888888, \"#fdca26\"], [1.0, \"#f0f921\"]], \"type\": \"heatmapgl\"}], \"histogram\": [{\"marker\": {\"colorbar\": {\"outlinewidth\": 0, \"ticks\": \"\"}}, \"type\": \"histogram\"}], \"histogram2d\": [{\"colorbar\": {\"outlinewidth\": 0, \"ticks\": \"\"}, \"colorscale\": [[0.0, \"#0d0887\"], [0.1111111111111111, \"#46039f\"], [0.2222222222222222, \"#7201a8\"], [0.3333333333333333, \"#9c179e\"], [0.4444444444444444, \"#bd3786\"], [0.5555555555555556, \"#d8576b\"], [0.6666666666666666, \"#ed7953\"], [0.7777777777777778, \"#fb9f3a\"], [0.8888888888888888, \"#fdca26\"], [1.0, \"#f0f921\"]], \"type\": \"histogram2d\"}], \"histogram2dcontour\": [{\"colorbar\": {\"outlinewidth\": 0, \"ticks\": \"\"}, \"colorscale\": [[0.0, \"#0d0887\"], [0.1111111111111111, \"#46039f\"], [0.2222222222222222, \"#7201a8\"], [0.3333333333333333, \"#9c179e\"], [0.4444444444444444, \"#bd3786\"], [0.5555555555555556, \"#d8576b\"], [0.6666666666666666, \"#ed7953\"], [0.7777777777777778, \"#fb9f3a\"], [0.8888888888888888, \"#fdca26\"], [1.0, \"#f0f921\"]], \"type\": \"histogram2dcontour\"}], \"mesh3d\": [{\"colorbar\": {\"outlinewidth\": 0, \"ticks\": \"\"}, \"type\": \"mesh3d\"}], \"parcoords\": [{\"line\": {\"colorbar\": {\"outlinewidth\": 0, \"ticks\": \"\"}}, \"type\": \"parcoords\"}], \"pie\": [{\"automargin\": true, \"type\": \"pie\"}], \"scatter\": [{\"marker\": {\"colorbar\": {\"outlinewidth\": 0, \"ticks\": \"\"}}, \"type\": \"scatter\"}], \"scatter3d\": [{\"line\": {\"colorbar\": {\"outlinewidth\": 0, \"ticks\": \"\"}}, \"marker\": {\"colorbar\": {\"outlinewidth\": 0, \"ticks\": \"\"}}, \"type\": \"scatter3d\"}], \"scattercarpet\": [{\"marker\": {\"colorbar\": {\"outlinewidth\": 0, \"ticks\": \"\"}}, \"type\": \"scattercarpet\"}], \"scattergeo\": [{\"marker\": {\"colorbar\": {\"outlinewidth\": 0, \"ticks\": \"\"}}, \"type\": \"scattergeo\"}], \"scattergl\": [{\"marker\": {\"colorbar\": {\"outlinewidth\": 0, \"ticks\": \"\"}}, \"type\": \"scattergl\"}], \"scattermapbox\": [{\"marker\": {\"colorbar\": {\"outlinewidth\": 0, \"ticks\": \"\"}}, \"type\": \"scattermapbox\"}], \"scatterpolar\": [{\"marker\": {\"colorbar\": {\"outlinewidth\": 0, \"ticks\": \"\"}}, \"type\": \"scatterpolar\"}], \"scatterpolargl\": [{\"marker\": {\"colorbar\": {\"outlinewidth\": 0, \"ticks\": \"\"}}, \"type\": \"scatterpolargl\"}], \"scatterternary\": [{\"marker\": {\"colorbar\": {\"outlinewidth\": 0, \"ticks\": \"\"}}, \"type\": \"scatterternary\"}], \"surface\": [{\"colorbar\": {\"outlinewidth\": 0, \"ticks\": \"\"}, \"colorscale\": [[0.0, \"#0d0887\"], [0.1111111111111111, \"#46039f\"], [0.2222222222222222, \"#7201a8\"], [0.3333333333333333, \"#9c179e\"], [0.4444444444444444, \"#bd3786\"], [0.5555555555555556, \"#d8576b\"], [0.6666666666666666, \"#ed7953\"], [0.7777777777777778, \"#fb9f3a\"], [0.8888888888888888, \"#fdca26\"], [1.0, \"#f0f921\"]], \"type\": \"surface\"}], \"table\": [{\"cells\": {\"fill\": {\"color\": \"#EBF0F8\"}, \"line\": {\"color\": \"white\"}}, \"header\": {\"fill\": {\"color\": \"#C8D4E3\"}, \"line\": {\"color\": \"white\"}}, \"type\": \"table\"}]}, \"layout\": {\"annotationdefaults\": {\"arrowcolor\": \"#2a3f5f\", \"arrowhead\": 0, \"arrowwidth\": 1}, \"autotypenumbers\": \"strict\", \"coloraxis\": {\"colorbar\": {\"outlinewidth\": 0, \"ticks\": \"\"}}, \"colorscale\": {\"diverging\": [[0, \"#8e0152\"], [0.1, \"#c51b7d\"], [0.2, \"#de77ae\"], [0.3, \"#f1b6da\"], [0.4, \"#fde0ef\"], [0.5, \"#f7f7f7\"], [0.6, \"#e6f5d0\"], [0.7, \"#b8e186\"], [0.8, \"#7fbc41\"], [0.9, \"#4d9221\"], [1, \"#276419\"]], \"sequential\": [[0.0, \"#0d0887\"], [0.1111111111111111, \"#46039f\"], [0.2222222222222222, \"#7201a8\"], [0.3333333333333333, \"#9c179e\"], [0.4444444444444444, \"#bd3786\"], [0.5555555555555556, \"#d8576b\"], [0.6666666666666666, \"#ed7953\"], [0.7777777777777778, \"#fb9f3a\"], [0.8888888888888888, \"#fdca26\"], [1.0, \"#f0f921\"]], \"sequentialminus\": [[0.0, \"#0d0887\"], [0.1111111111111111, \"#46039f\"], [0.2222222222222222, \"#7201a8\"], [0.3333333333333333, \"#9c179e\"], [0.4444444444444444, \"#bd3786\"], [0.5555555555555556, \"#d8576b\"], [0.6666666666666666, \"#ed7953\"], [0.7777777777777778, \"#fb9f3a\"], [0.8888888888888888, \"#fdca26\"], [1.0, \"#f0f921\"]]}, \"colorway\": [\"#636efa\", \"#EF553B\", \"#00cc96\", \"#ab63fa\", \"#FFA15A\", \"#19d3f3\", \"#FF6692\", \"#B6E880\", \"#FF97FF\", \"#FECB52\"], \"font\": {\"color\": \"#2a3f5f\"}, \"geo\": {\"bgcolor\": \"white\", \"lakecolor\": \"white\", \"landcolor\": \"#E5ECF6\", \"showlakes\": true, \"showland\": true, \"subunitcolor\": \"white\"}, \"hoverlabel\": {\"align\": \"left\"}, \"hovermode\": \"closest\", \"mapbox\": {\"style\": \"light\"}, \"paper_bgcolor\": \"white\", \"plot_bgcolor\": \"#E5ECF6\", \"polar\": {\"angularaxis\": {\"gridcolor\": \"white\", \"linecolor\": \"white\", \"ticks\": \"\"}, \"bgcolor\": \"#E5ECF6\", \"radialaxis\": {\"gridcolor\": \"white\", \"linecolor\": \"white\", \"ticks\": \"\"}}, \"scene\": {\"xaxis\": {\"backgroundcolor\": \"#E5ECF6\", \"gridcolor\": \"white\", \"gridwidth\": 2, \"linecolor\": \"white\", \"showbackground\": true, \"ticks\": \"\", \"zerolinecolor\": \"white\"}, \"yaxis\": {\"backgroundcolor\": \"#E5ECF6\", \"gridcolor\": \"white\", \"gridwidth\": 2, \"linecolor\": \"white\", \"showbackground\": true, \"ticks\": \"\", \"zerolinecolor\": \"white\"}, \"zaxis\": {\"backgroundcolor\": \"#E5ECF6\", \"gridcolor\": \"white\", \"gridwidth\": 2, \"linecolor\": \"white\", \"showbackground\": true, \"ticks\": \"\", \"zerolinecolor\": \"white\"}}, \"shapedefaults\": {\"line\": {\"color\": \"#2a3f5f\"}}, \"ternary\": {\"aaxis\": {\"gridcolor\": \"white\", \"linecolor\": \"white\", \"ticks\": \"\"}, \"baxis\": {\"gridcolor\": \"white\", \"linecolor\": \"white\", \"ticks\": \"\"}, \"bgcolor\": \"#E5ECF6\", \"caxis\": {\"gridcolor\": \"white\", \"linecolor\": \"white\", \"ticks\": \"\"}}, \"title\": {\"x\": 0.05}, \"xaxis\": {\"automargin\": true, \"gridcolor\": \"white\", \"linecolor\": \"white\", \"ticks\": \"\", \"title\": {\"standoff\": 15}, \"zerolinecolor\": \"white\", \"zerolinewidth\": 2}, \"yaxis\": {\"automargin\": true, \"gridcolor\": \"white\", \"linecolor\": \"white\", \"ticks\": \"\", \"title\": {\"standoff\": 15}, \"zerolinecolor\": \"white\", \"zerolinewidth\": 2}}}, \"title\": {\"text\": \"Training Set Car Count \"}, \"yaxis\": {\"title\": {\"text\": \"Car Count\"}}},                        {\"responsive\": true}                    ).then(function(){\n",
       "                            \n",
       "var gd = document.getElementById('f2080995-a916-472c-b16f-388a7cd2d0d4');\n",
       "var x = new MutationObserver(function (mutations, observer) {{\n",
       "        var display = window.getComputedStyle(gd).display;\n",
       "        if (!display || display === 'none') {{\n",
       "            console.log([gd, 'removed!']);\n",
       "            Plotly.purge(gd);\n",
       "            observer.disconnect();\n",
       "        }}\n",
       "}});\n",
       "\n",
       "// Listen for the removal of the full notebook cells\n",
       "var notebookContainer = gd.closest('#notebook-container');\n",
       "if (notebookContainer) {{\n",
       "    x.observe(notebookContainer, {childList: true});\n",
       "}}\n",
       "\n",
       "// Listen for the clearing of the current output cell\n",
       "var outputEl = gd.closest('.output');\n",
       "if (outputEl) {{\n",
       "    x.observe(outputEl, {childList: true});\n",
       "}}\n",
       "\n",
       "                        })                };                });            </script>        </div>"
      ]
     },
     "metadata": {},
     "output_type": "display_data"
    }
   ],
   "source": [
    "# Training Set Car Count\n",
    "trace = go.Bar(x = ['USA', 'Europe', 'Japan'],\n",
    "              y = [usa['mpg'].count(),europe['mpg'].count(), japan['mpg'].count()], \n",
    "              marker = dict(color = [111, 10, 225, 175],\n",
    "                           colorscale = \"Viridis\", \n",
    "                           showscale = True))\n",
    "layout = go.Layout(title = \"Training Set Car Count \", \n",
    "                  yaxis = dict(title = \"Car Count\"))\n",
    "data = [trace]\n",
    "fig = go.Figure(data = data, layout = layout)\n",
    "py.iplot(fig)"
   ]
  },
  {
   "cell_type": "code",
   "execution_count": 47,
   "metadata": {
    "_uuid": "924d48024c463b793936f687cc30adc16243b8ec"
   },
   "outputs": [
    {
     "data": {
      "application/vnd.plotly.v1+json": {
       "config": {
        "linkText": "Export to plot.ly",
        "plotlyServerURL": "https://plot.ly",
        "showLink": false
       },
       "data": [
        {
         "colorscale": [
          [
           0,
           "#440154"
          ],
          [
           0.1111111111111111,
           "#482878"
          ],
          [
           0.2222222222222222,
           "#3e4989"
          ],
          [
           0.3333333333333333,
           "#31688e"
          ],
          [
           0.4444444444444444,
           "#26828e"
          ],
          [
           0.5555555555555556,
           "#1f9e89"
          ],
          [
           0.6666666666666666,
           "#35b779"
          ],
          [
           0.7777777777777778,
           "#6ece58"
          ],
          [
           0.8888888888888888,
           "#b5de2b"
          ],
          [
           1,
           "#fde725"
          ]
         ],
         "type": "heatmap",
         "x": [
          "Displacement",
          "MPG",
          "Cylinders",
          "Horsepower",
          "Model Year"
         ],
         "z": [
          [
           198,
           22,
           6,
           "95",
           70
          ],
          [
           91,
           38,
           4,
           "67",
           82
          ],
          [
           89,
           31.9,
           4,
           "71",
           79
          ],
          [
           122,
           21,
           4,
           "86",
           72
          ],
          [
           200,
           21,
           6,
           "85",
           70
          ],
          [
           231,
           21.5,
           6,
           "115",
           79
          ],
          [
           250,
           15,
           6,
           "72",
           75
          ],
          [
           400,
           15.5,
           8,
           "190",
           77
          ],
          [
           302,
           13,
           8,
           "140",
           72
          ],
          [
           98,
           24.5,
           4,
           "60",
           76
          ],
          [
           305,
           17.5,
           8,
           "140",
           76
          ],
          [
           350,
           13,
           8,
           "165",
           72
          ],
          [
           156,
           20,
           6,
           "122",
           73
          ],
          [
           232,
           19,
           6,
           "90",
           75
          ],
          [
           225,
           19,
           6,
           "100",
           77
          ],
          [
           231,
           17.7,
           6,
           "165",
           78
          ],
          [
           200,
           20.8,
           6,
           "85",
           78
          ],
          [
           350,
           11,
           8,
           "180",
           73
          ],
          [
           350,
           16.5,
           8,
           "180",
           76
          ],
          [
           97,
           34.3,
           4,
           "78",
           80
          ],
          [
           90,
           29,
           4,
           "70",
           75
          ],
          [
           107,
           28,
           4,
           "86",
           76
          ],
          [
           120,
           24,
           4,
           "97",
           74
          ],
          [
           98,
           33.5,
           4,
           "83",
           77
          ],
          [
           140,
           22.3,
           4,
           "88",
           79
          ],
          [
           304,
           17,
           8,
           "150",
           72
          ],
          [
           225,
           20.5,
           6,
           "100",
           78
          ],
          [
           163,
           17,
           6,
           "125",
           78
          ],
          [
           351,
           13,
           8,
           "158",
           73
          ],
          [
           250,
           18.5,
           6,
           "98",
           77
          ],
          [
           144,
           32,
           4,
           "96",
           82
          ],
          [
           350,
           15,
           8,
           "165",
           70
          ],
          [
           90,
           43.4,
           4,
           "48",
           80
          ],
          [
           232,
           18,
           6,
           "100",
           71
          ],
          [
           351,
           16.5,
           8,
           "138",
           79
          ],
          [
           140,
           25,
           4,
           "75",
           74
          ],
          [
           455,
           12,
           8,
           "225",
           73
          ],
          [
           302,
           16,
           8,
           "140",
           74
          ],
          [
           105,
           30.9,
           4,
           "75",
           78
          ],
          [
           85,
           32,
           4,
           "70",
           76
          ],
          [
           200,
           20.5,
           6,
           "95",
           78
          ],
          [
           429,
           12,
           8,
           "198",
           73
          ],
          [
           400,
           15,
           8,
           "150",
           70
          ],
          [
           89,
           31.5,
           4,
           "71",
           78
          ],
          [
           86,
           39,
           4,
           "64",
           81
          ],
          [
           340,
           14,
           8,
           "160",
           70
          ],
          [
           258,
           16,
           6,
           "110",
           74
          ],
          [
           302,
           13,
           8,
           "130",
           76
          ],
          [
           304,
           14,
           8,
           "150",
           74
          ],
          [
           98,
           30,
           4,
           "68",
           78
          ],
          [
           88,
           30,
           4,
           "76",
           71
          ],
          [
           70,
           19,
           3,
           "97",
           72
          ],
          [
           200,
           19.8,
           6,
           "85",
           79
          ],
          [
           78,
           32.8,
           4,
           "52",
           78
          ],
          [
           360,
           13,
           8,
           "175",
           73
          ],
          [
           151,
           33.5,
           4,
           "90",
           79
          ],
          [
           100,
           34.5,
           4,
           "?",
           81
          ],
          [
           151,
           27,
           4,
           "90",
           82
          ],
          [
           119,
           27.2,
           4,
           "97",
           78
          ],
          [
           307,
           10,
           8,
           "200",
           70
          ],
          [
           151,
           24.3,
           4,
           "90",
           80
          ],
          [
           156,
           26,
           4,
           "92",
           82
          ],
          [
           107,
           36,
           4,
           "75",
           82
          ],
          [
           85,
           40.8,
           4,
           "65",
           80
          ],
          [
           108,
           32.4,
           4,
           "75",
           81
          ],
          [
           97,
           23,
           4,
           "54",
           72
          ],
          [
           400,
           14,
           8,
           "175",
           72
          ],
          [
           225,
           20,
           6,
           "100",
           76
          ],
          [
           258,
           15,
           6,
           "110",
           75
          ],
          [
           350,
           12,
           8,
           "160",
           72
          ],
          [
           258,
           18,
           6,
           "110",
           71
          ],
          [
           120,
           23,
           4,
           "88",
           75
          ],
          [
           250,
           18,
           6,
           "105",
           75
          ],
          [
           105,
           34.2,
           4,
           "70",
           79
          ],
          [
           86,
           34.1,
           4,
           "65",
           79
          ],
          [
           455,
           14,
           8,
           "225",
           70
          ],
          [
           97,
           26,
           4,
           "46",
           73
          ],
          [
           85,
           37,
           4,
           "65",
           81
          ],
          [
           318,
           14,
           8,
           "150",
           71
          ],
          [
           101,
           27,
           4,
           "83",
           76
          ],
          [
           200,
           20.2,
           6,
           "88",
           81
          ],
          [
           305,
           17.5,
           8,
           "145",
           77
          ],
          [
           70,
           18,
           3,
           "90",
           73
          ],
          [
           91,
           38,
           4,
           "67",
           82
          ],
          [
           85,
           40.9,
           4,
           "?",
           80
          ],
          [
           302,
           17.6,
           8,
           "129",
           79
          ],
          [
           400,
           13,
           8,
           "170",
           71
          ],
          [
           130,
           20,
           4,
           "102",
           76
          ],
          [
           72,
           35,
           4,
           "69",
           71
          ],
          [
           232,
           20,
           6,
           "100",
           75
          ],
          [
           119,
           37,
           4,
           "92",
           80
          ],
          [
           98,
           36,
           4,
           "70",
           82
          ],
          [
           250,
           18,
           6,
           "78",
           76
          ],
          [
           318,
           11,
           8,
           "210",
           70
          ],
          [
           98,
           32.1,
           4,
           "70",
           80
          ],
          [
           85,
           33.5,
           4,
           "70",
           77
          ],
          [
           85,
           39.4,
           4,
           "70",
           78
          ],
          [
           198,
           23,
           6,
           "95",
           73
          ],
          [
           108,
           26,
           4,
           "93",
           74
          ],
          [
           140,
           21,
           4,
           "72",
           73
          ],
          [
           231,
           19.2,
           6,
           "105",
           78
          ],
          [
           454,
           14,
           8,
           "220",
           70
          ],
          [
           97,
           30,
           4,
           "67",
           77
          ],
          [
           85,
           31.8,
           4,
           "65",
           79
          ],
          [
           97,
           29,
           4,
           "75",
           75
          ],
          [
           302,
           13,
           8,
           "129",
           75
          ],
          [
           350,
           15,
           8,
           "145",
           75
          ],
          [
           98,
           29.5,
           4,
           "68",
           78
          ],
          [
           231,
           20.6,
           6,
           "105",
           78
          ],
          [
           90,
           44.3,
           4,
           "48",
           80
          ],
          [
           122,
           26,
           4,
           "80",
           74
          ],
          [
           151,
           26.6,
           4,
           "84",
           81
          ],
          [
           156,
           19,
           6,
           "108",
           76
          ],
          [
           250,
           15,
           6,
           "72",
           75
          ],
          [
           97,
           29,
           4,
           "78",
           77
          ],
          [
           120,
           31.6,
           4,
           "74",
           81
          ],
          [
           97,
           44,
           4,
           "52",
           82
          ],
          [
           113,
           24,
           4,
           "95",
           70
          ],
          [
           304,
           14,
           8,
           "150",
           73
          ],
          [
           91,
           26,
           4,
           "70",
           71
          ],
          [
           350,
           12,
           8,
           "180",
           73
          ],
          [
           351,
           14,
           8,
           "153",
           72
          ],
          [
           250,
           16,
           6,
           "100",
           74
          ],
          [
           131,
           20.3,
           5,
           "103",
           78
          ],
          [
           350,
           23,
           8,
           "125",
           79
          ],
          [
           250,
           16,
           6,
           "100",
           73
          ],
          [
           98,
           31.5,
           4,
           "68",
           77
          ],
          [
           232,
           22,
           6,
           "112",
           82
          ],
          [
           400,
           16,
           8,
           "180",
           77
          ],
          [
           151,
           24.5,
           4,
           "88",
           77
          ],
          [
           225,
           18,
           6,
           "105",
           73
          ],
          [
           134,
           29.8,
           4,
           "90",
           80
          ],
          [
           79,
           26,
           4,
           "67",
           74
          ],
          [
           151,
           28.4,
           4,
           "90",
           79
          ],
          [
           400,
           16,
           8,
           "230",
           73
          ],
          [
           307,
           18,
           8,
           "130",
           70
          ],
          [
           200,
           20.2,
           6,
           "85",
           78
          ],
          [
           121,
           18,
           4,
           "112",
           72
          ],
          [
           307,
           13,
           8,
           "130",
           72
          ],
          [
           89,
           29.8,
           4,
           "62",
           80
          ],
          [
           91,
           31,
           4,
           "68",
           82
          ],
          [
           318,
           13,
           8,
           "150",
           76
          ],
          [
           225,
           18,
           6,
           "105",
           74
          ],
          [
           199,
           21,
           6,
           "90",
           70
          ],
          [
           140,
           23.6,
           4,
           "?",
           80
          ],
          [
           97,
           27,
           4,
           "88",
           70
          ],
          [
           79,
           30,
           4,
           "70",
           71
          ],
          [
           151,
           27,
           4,
           "90",
           82
          ],
          [
           105,
           36,
           4,
           "74",
           82
          ],
          [
           146,
           30,
           4,
           "67",
           80
          ],
          [
           232,
           20.2,
           6,
           "90",
           79
          ],
          [
           140,
           20,
           4,
           "90",
           72
          ],
          [
           318,
           14,
           8,
           "150",
           74
          ],
          [
           318,
           13,
           8,
           "150",
           76
          ],
          [
           350,
           13,
           8,
           "155",
           72
          ],
          [
           121,
           24,
           4,
           "110",
           73
          ],
          [
           110,
           25,
           4,
           "87",
           70
          ],
          [
           181,
           25,
           6,
           "110",
           82
          ],
          [
           156,
           25.8,
           4,
           "92",
           81
          ],
          [
           91,
           37.3,
           4,
           "69",
           79
          ],
          [
           173,
           23.5,
           6,
           "110",
           81
          ],
          [
           232,
           22.5,
           6,
           "90",
           76
          ],
          [
           98,
           36.1,
           4,
           "66",
           78
          ],
          [
           98,
           26,
           4,
           "90",
           73
          ],
          [
           121,
           19,
           4,
           "112",
           73
          ],
          [
           119,
           24,
           4,
           "97",
           75
          ],
          [
           107,
           24,
           4,
           "90",
           70
          ],
          [
           135,
           30,
           4,
           "84",
           81
          ],
          [
           79,
           31,
           4,
           "67",
           74
          ],
          [
           97,
           30.5,
           4,
           "78",
           77
          ],
          [
           116,
           26,
           4,
           "75",
           74
          ],
          [
           91,
           36.1,
           4,
           "60",
           78
          ],
          [
           260,
           19.9,
           8,
           "110",
           78
          ],
          [
           231,
           21,
           6,
           "110",
           75
          ],
          [
           97.5,
           25,
           4,
           "80",
           72
          ],
          [
           225,
           18.6,
           6,
           "110",
           78
          ],
          [
           440,
           14,
           8,
           "215",
           70
          ],
          [
           111,
           30,
           4,
           "80",
           77
          ],
          [
           97,
           27,
           4,
           "60",
           71
          ],
          [
           140,
           25.5,
           4,
           "89",
           77
          ],
          [
           173,
           26.8,
           6,
           "115",
           79
          ],
          [
           318,
           16,
           8,
           "150",
           76
          ],
          [
           250,
           18,
           6,
           "88",
           71
          ],
          [
           318,
           15,
           8,
           "150",
           73
          ],
          [
           318,
           16,
           8,
           "150",
           75
          ],
          [
           97,
           28,
           4,
           "92",
           72
          ],
          [
           121,
           22,
           4,
           "76",
           72
          ],
          [
           400,
           11,
           8,
           "150",
           73
          ],
          [
           122,
           25.5,
           4,
           "96",
           77
          ],
          [
           400,
           13,
           8,
           "175",
           71
          ],
          [
           200,
           21,
           6,
           "?",
           74
          ],
          [
           76,
           31,
           4,
           "52",
           74
          ],
          [
           400,
           16,
           8,
           "170",
           75
          ],
          [
           97,
           26,
           4,
           "46",
           70
          ],
          [
           121,
           26,
           4,
           "113",
           70
          ],
          [
           121,
           36.4,
           5,
           "67",
           80
          ],
          [
           116,
           24,
           4,
           "75",
           73
          ],
          [
           232,
           18,
           6,
           "100",
           73
          ],
          [
           97,
           28,
           4,
           "75",
           76
          ],
          [
           140,
           25.1,
           4,
           "88",
           78
          ],
          [
           120,
           36,
           4,
           "88",
           82
          ],
          [
           455,
           14,
           8,
           "225",
           70
          ],
          [
           86,
           46.6,
           4,
           "65",
           80
          ],
          [
           141,
           27.2,
           4,
           "71",
           79
          ],
          [
           302,
           14,
           8,
           "140",
           74
          ],
          [
           250,
           19,
           6,
           "88",
           71
          ],
          [
           105,
           38,
           4,
           "63",
           82
          ],
          [
           79,
           36,
           4,
           "58",
           77
          ],
          [
           116,
           28,
           4,
           "90",
           71
          ],
          [
           225,
           16,
           6,
           "105",
           71
          ],
          [
           302,
           18.1,
           8,
           "139",
           78
          ],
          [
           198,
           20,
           6,
           "95",
           74
          ],
          [
           135,
           29,
           4,
           "84",
           82
          ],
          [
           225,
           20.6,
           6,
           "110",
           79
          ],
          [
           351,
           14,
           8,
           "153",
           71
          ],
          [
           429,
           11,
           8,
           "208",
           72
          ],
          [
           112,
           28,
           4,
           "88",
           82
          ],
          [
           89,
           38.1,
           4,
           "60",
           80
          ],
          [
           108,
           22,
           4,
           "94",
           73
          ],
          [
           97,
           20,
           4,
           "88",
           73
          ],
          [
           91,
           33,
           4,
           "53",
           76
          ],
          [
           91,
           44.6,
           4,
           "67",
           80
          ],
          [
           121,
           22,
           4,
           "98",
           75
          ],
          [
           318,
           15,
           8,
           "150",
           72
          ],
          [
           140,
           23,
           4,
           "83",
           75
          ],
          [
           97,
           27,
           4,
           "88",
           71
          ],
          [
           91,
           34.1,
           4,
           "68",
           81
          ],
          [
           318,
           15.5,
           8,
           "145",
           77
          ],
          [
           302,
           15,
           8,
           "130",
           77
          ],
          [
           250,
           18,
           6,
           "88",
           73
          ],
          [
           400,
           12,
           8,
           "167",
           73
          ],
          [
           98,
           30.5,
           4,
           "63",
           77
          ],
          [
           250,
           16,
           6,
           "105",
           75
          ],
          [
           350,
           13,
           8,
           "145",
           76
          ],
          [
           225,
           19,
           6,
           "95",
           75
          ],
          [
           122,
           23,
           4,
           "86",
           71
          ],
          [
           140,
           25,
           4,
           "92",
           76
          ],
          [
           258,
           18.1,
           6,
           "120",
           78
          ],
          [
           183,
           25.4,
           5,
           "77",
           79
          ],
          [
           121,
           27.4,
           4,
           "80",
           79
          ],
          [
           429,
           15,
           8,
           "198",
           70
          ],
          [
           304,
           15.5,
           8,
           "120",
           76
          ],
          [
           83,
           32,
           4,
           "61",
           74
          ],
          [
           96,
           26,
           4,
           "69",
           72
          ],
          [
           151,
           23,
           4,
           "?",
           82
          ],
          [
           350,
           16.9,
           8,
           "155",
           79
          ],
          [
           90,
           28,
           4,
           "75",
           74
          ],
          [
           168,
           25.4,
           6,
           "116",
           81
          ],
          [
           98,
           29.9,
           4,
           "65",
           81
          ],
          [
           119,
           31,
           4,
           "82",
           82
          ],
          [
           350,
           13,
           8,
           "150",
           74
          ],
          [
           318,
           19.4,
           8,
           "140",
           78
          ],
          [
           350,
           13,
           8,
           "175",
           73
          ],
          [
           250,
           17.5,
           6,
           "110",
           77
          ],
          [
           260,
           17,
           8,
           "110",
           77
          ],
          [
           383,
           15,
           8,
           "170",
           70
          ],
          [
           134,
           24,
           4,
           "96",
           75
          ],
          [
           140,
           26.5,
           4,
           "72",
           76
          ],
          [
           89,
           37.7,
           4,
           "62",
           81
          ],
          [
           250,
           18.5,
           6,
           "110",
           76
          ],
          [
           156,
           23.2,
           4,
           "105",
           78
          ],
          [
           140,
           23,
           4,
           "78",
           75
          ],
          [
           351,
           14.5,
           8,
           "152",
           76
          ],
          [
           199,
           18,
           6,
           "97",
           70
          ],
          [
           120,
           19,
           4,
           "88",
           76
          ],
          [
           98,
           41.5,
           4,
           "76",
           80
          ],
          [
           232,
           19,
           6,
           "100",
           71
          ],
          [
           91,
           33,
           4,
           "53",
           75
          ],
          [
           105,
           34.7,
           4,
           "63",
           81
          ],
          [
           105,
           34.5,
           4,
           "70",
           79
          ],
          [
           151,
           28,
           4,
           "90",
           80
          ],
          [
           140,
           22,
           4,
           "72",
           71
          ],
          [
           231,
           20.5,
           6,
           "105",
           77
          ],
          [
           98,
           35.7,
           4,
           "80",
           79
          ],
          [
           119,
           32.9,
           4,
           "100",
           81
          ],
          [
           135,
           36,
           4,
           "84",
           82
          ],
          [
           250,
           17,
           6,
           "100",
           71
          ],
          [
           122,
           22,
           4,
           "86",
           72
          ],
          [
           351,
           16,
           8,
           "149",
           77
          ],
          [
           86,
           37.2,
           4,
           "65",
           80
          ],
          [
           231,
           17,
           6,
           "110",
           75
          ],
          [
           120,
           31.3,
           4,
           "75",
           80
          ],
          [
           97,
           33.8,
           4,
           "67",
           80
          ],
          [
           98,
           28,
           4,
           "80",
           72
          ],
          [
           135,
           32,
           4,
           "84",
           82
          ],
          [
           260,
           23.9,
           8,
           "90",
           79
          ],
          [
           231,
           22.4,
           6,
           "110",
           81
          ],
          [
           225,
           19.1,
           6,
           "90",
           80
          ],
          [
           140,
           24,
           4,
           "92",
           82
          ],
          [
           134,
           21.1,
           4,
           "95",
           78
          ],
          [
           98,
           29,
           4,
           "83",
           74
          ],
          [
           140,
           27,
           4,
           "86",
           82
          ],
          [
           155,
           21,
           6,
           "107",
           73
          ],
          [
           112,
           34,
           4,
           "88",
           82
          ],
          [
           318,
           18,
           8,
           "150",
           70
          ],
          [
           120,
           21,
           4,
           "87",
           72
          ],
          [
           97,
           26,
           4,
           "78",
           74
          ],
          [
           151,
           23.8,
           4,
           "85",
           78
          ],
          [
           225,
           22,
           6,
           "100",
           76
          ],
          [
           304,
           16,
           8,
           "150",
           70
          ],
          [
           318,
           14,
           8,
           "150",
           73
          ],
          [
           262,
           38,
           6,
           "85",
           82
          ],
          [
           350,
           15.5,
           8,
           "170",
           77
          ],
          [
           97,
           32.3,
           4,
           "67",
           81
          ],
          [
           146,
           24.2,
           6,
           "120",
           81
          ],
          [
           104,
           25,
           4,
           "95",
           70
          ],
          [
           351,
           14,
           8,
           "148",
           75
          ],
          [
           140,
           28,
           4,
           "90",
           71
          ],
          [
           97,
           26,
           4,
           "75",
           77
          ],
          [
           91,
           37,
           4,
           "68",
           82
          ],
          [
           302,
           17,
           8,
           "140",
           70
          ],
          [
           146,
           22,
           6,
           "97",
           77
          ],
          [
           122,
           19,
           4,
           "85",
           73
          ],
          [
           121,
           21.6,
           4,
           "115",
           78
          ],
          [
           173,
           28.8,
           6,
           "115",
           79
          ],
          [
           318,
           14,
           8,
           "150",
           72
          ],
          [
           70,
           23.7,
           3,
           "100",
           80
          ],
          [
           440,
           13,
           8,
           "215",
           73
          ]
         ]
        }
       ],
       "layout": {
        "template": {
         "data": {
          "bar": [
           {
            "error_x": {
             "color": "#2a3f5f"
            },
            "error_y": {
             "color": "#2a3f5f"
            },
            "marker": {
             "line": {
              "color": "#E5ECF6",
              "width": 0.5
             }
            },
            "type": "bar"
           }
          ],
          "barpolar": [
           {
            "marker": {
             "line": {
              "color": "#E5ECF6",
              "width": 0.5
             }
            },
            "type": "barpolar"
           }
          ],
          "carpet": [
           {
            "aaxis": {
             "endlinecolor": "#2a3f5f",
             "gridcolor": "white",
             "linecolor": "white",
             "minorgridcolor": "white",
             "startlinecolor": "#2a3f5f"
            },
            "baxis": {
             "endlinecolor": "#2a3f5f",
             "gridcolor": "white",
             "linecolor": "white",
             "minorgridcolor": "white",
             "startlinecolor": "#2a3f5f"
            },
            "type": "carpet"
           }
          ],
          "choropleth": [
           {
            "colorbar": {
             "outlinewidth": 0,
             "ticks": ""
            },
            "type": "choropleth"
           }
          ],
          "contour": [
           {
            "colorbar": {
             "outlinewidth": 0,
             "ticks": ""
            },
            "colorscale": [
             [
              0,
              "#0d0887"
             ],
             [
              0.1111111111111111,
              "#46039f"
             ],
             [
              0.2222222222222222,
              "#7201a8"
             ],
             [
              0.3333333333333333,
              "#9c179e"
             ],
             [
              0.4444444444444444,
              "#bd3786"
             ],
             [
              0.5555555555555556,
              "#d8576b"
             ],
             [
              0.6666666666666666,
              "#ed7953"
             ],
             [
              0.7777777777777778,
              "#fb9f3a"
             ],
             [
              0.8888888888888888,
              "#fdca26"
             ],
             [
              1,
              "#f0f921"
             ]
            ],
            "type": "contour"
           }
          ],
          "contourcarpet": [
           {
            "colorbar": {
             "outlinewidth": 0,
             "ticks": ""
            },
            "type": "contourcarpet"
           }
          ],
          "heatmap": [
           {
            "colorbar": {
             "outlinewidth": 0,
             "ticks": ""
            },
            "colorscale": [
             [
              0,
              "#0d0887"
             ],
             [
              0.1111111111111111,
              "#46039f"
             ],
             [
              0.2222222222222222,
              "#7201a8"
             ],
             [
              0.3333333333333333,
              "#9c179e"
             ],
             [
              0.4444444444444444,
              "#bd3786"
             ],
             [
              0.5555555555555556,
              "#d8576b"
             ],
             [
              0.6666666666666666,
              "#ed7953"
             ],
             [
              0.7777777777777778,
              "#fb9f3a"
             ],
             [
              0.8888888888888888,
              "#fdca26"
             ],
             [
              1,
              "#f0f921"
             ]
            ],
            "type": "heatmap"
           }
          ],
          "heatmapgl": [
           {
            "colorbar": {
             "outlinewidth": 0,
             "ticks": ""
            },
            "colorscale": [
             [
              0,
              "#0d0887"
             ],
             [
              0.1111111111111111,
              "#46039f"
             ],
             [
              0.2222222222222222,
              "#7201a8"
             ],
             [
              0.3333333333333333,
              "#9c179e"
             ],
             [
              0.4444444444444444,
              "#bd3786"
             ],
             [
              0.5555555555555556,
              "#d8576b"
             ],
             [
              0.6666666666666666,
              "#ed7953"
             ],
             [
              0.7777777777777778,
              "#fb9f3a"
             ],
             [
              0.8888888888888888,
              "#fdca26"
             ],
             [
              1,
              "#f0f921"
             ]
            ],
            "type": "heatmapgl"
           }
          ],
          "histogram": [
           {
            "marker": {
             "colorbar": {
              "outlinewidth": 0,
              "ticks": ""
             }
            },
            "type": "histogram"
           }
          ],
          "histogram2d": [
           {
            "colorbar": {
             "outlinewidth": 0,
             "ticks": ""
            },
            "colorscale": [
             [
              0,
              "#0d0887"
             ],
             [
              0.1111111111111111,
              "#46039f"
             ],
             [
              0.2222222222222222,
              "#7201a8"
             ],
             [
              0.3333333333333333,
              "#9c179e"
             ],
             [
              0.4444444444444444,
              "#bd3786"
             ],
             [
              0.5555555555555556,
              "#d8576b"
             ],
             [
              0.6666666666666666,
              "#ed7953"
             ],
             [
              0.7777777777777778,
              "#fb9f3a"
             ],
             [
              0.8888888888888888,
              "#fdca26"
             ],
             [
              1,
              "#f0f921"
             ]
            ],
            "type": "histogram2d"
           }
          ],
          "histogram2dcontour": [
           {
            "colorbar": {
             "outlinewidth": 0,
             "ticks": ""
            },
            "colorscale": [
             [
              0,
              "#0d0887"
             ],
             [
              0.1111111111111111,
              "#46039f"
             ],
             [
              0.2222222222222222,
              "#7201a8"
             ],
             [
              0.3333333333333333,
              "#9c179e"
             ],
             [
              0.4444444444444444,
              "#bd3786"
             ],
             [
              0.5555555555555556,
              "#d8576b"
             ],
             [
              0.6666666666666666,
              "#ed7953"
             ],
             [
              0.7777777777777778,
              "#fb9f3a"
             ],
             [
              0.8888888888888888,
              "#fdca26"
             ],
             [
              1,
              "#f0f921"
             ]
            ],
            "type": "histogram2dcontour"
           }
          ],
          "mesh3d": [
           {
            "colorbar": {
             "outlinewidth": 0,
             "ticks": ""
            },
            "type": "mesh3d"
           }
          ],
          "parcoords": [
           {
            "line": {
             "colorbar": {
              "outlinewidth": 0,
              "ticks": ""
             }
            },
            "type": "parcoords"
           }
          ],
          "pie": [
           {
            "automargin": true,
            "type": "pie"
           }
          ],
          "scatter": [
           {
            "marker": {
             "colorbar": {
              "outlinewidth": 0,
              "ticks": ""
             }
            },
            "type": "scatter"
           }
          ],
          "scatter3d": [
           {
            "line": {
             "colorbar": {
              "outlinewidth": 0,
              "ticks": ""
             }
            },
            "marker": {
             "colorbar": {
              "outlinewidth": 0,
              "ticks": ""
             }
            },
            "type": "scatter3d"
           }
          ],
          "scattercarpet": [
           {
            "marker": {
             "colorbar": {
              "outlinewidth": 0,
              "ticks": ""
             }
            },
            "type": "scattercarpet"
           }
          ],
          "scattergeo": [
           {
            "marker": {
             "colorbar": {
              "outlinewidth": 0,
              "ticks": ""
             }
            },
            "type": "scattergeo"
           }
          ],
          "scattergl": [
           {
            "marker": {
             "colorbar": {
              "outlinewidth": 0,
              "ticks": ""
             }
            },
            "type": "scattergl"
           }
          ],
          "scattermapbox": [
           {
            "marker": {
             "colorbar": {
              "outlinewidth": 0,
              "ticks": ""
             }
            },
            "type": "scattermapbox"
           }
          ],
          "scatterpolar": [
           {
            "marker": {
             "colorbar": {
              "outlinewidth": 0,
              "ticks": ""
             }
            },
            "type": "scatterpolar"
           }
          ],
          "scatterpolargl": [
           {
            "marker": {
             "colorbar": {
              "outlinewidth": 0,
              "ticks": ""
             }
            },
            "type": "scatterpolargl"
           }
          ],
          "scatterternary": [
           {
            "marker": {
             "colorbar": {
              "outlinewidth": 0,
              "ticks": ""
             }
            },
            "type": "scatterternary"
           }
          ],
          "surface": [
           {
            "colorbar": {
             "outlinewidth": 0,
             "ticks": ""
            },
            "colorscale": [
             [
              0,
              "#0d0887"
             ],
             [
              0.1111111111111111,
              "#46039f"
             ],
             [
              0.2222222222222222,
              "#7201a8"
             ],
             [
              0.3333333333333333,
              "#9c179e"
             ],
             [
              0.4444444444444444,
              "#bd3786"
             ],
             [
              0.5555555555555556,
              "#d8576b"
             ],
             [
              0.6666666666666666,
              "#ed7953"
             ],
             [
              0.7777777777777778,
              "#fb9f3a"
             ],
             [
              0.8888888888888888,
              "#fdca26"
             ],
             [
              1,
              "#f0f921"
             ]
            ],
            "type": "surface"
           }
          ],
          "table": [
           {
            "cells": {
             "fill": {
              "color": "#EBF0F8"
             },
             "line": {
              "color": "white"
             }
            },
            "header": {
             "fill": {
              "color": "#C8D4E3"
             },
             "line": {
              "color": "white"
             }
            },
            "type": "table"
           }
          ]
         },
         "layout": {
          "annotationdefaults": {
           "arrowcolor": "#2a3f5f",
           "arrowhead": 0,
           "arrowwidth": 1
          },
          "autotypenumbers": "strict",
          "coloraxis": {
           "colorbar": {
            "outlinewidth": 0,
            "ticks": ""
           }
          },
          "colorscale": {
           "diverging": [
            [
             0,
             "#8e0152"
            ],
            [
             0.1,
             "#c51b7d"
            ],
            [
             0.2,
             "#de77ae"
            ],
            [
             0.3,
             "#f1b6da"
            ],
            [
             0.4,
             "#fde0ef"
            ],
            [
             0.5,
             "#f7f7f7"
            ],
            [
             0.6,
             "#e6f5d0"
            ],
            [
             0.7,
             "#b8e186"
            ],
            [
             0.8,
             "#7fbc41"
            ],
            [
             0.9,
             "#4d9221"
            ],
            [
             1,
             "#276419"
            ]
           ],
           "sequential": [
            [
             0,
             "#0d0887"
            ],
            [
             0.1111111111111111,
             "#46039f"
            ],
            [
             0.2222222222222222,
             "#7201a8"
            ],
            [
             0.3333333333333333,
             "#9c179e"
            ],
            [
             0.4444444444444444,
             "#bd3786"
            ],
            [
             0.5555555555555556,
             "#d8576b"
            ],
            [
             0.6666666666666666,
             "#ed7953"
            ],
            [
             0.7777777777777778,
             "#fb9f3a"
            ],
            [
             0.8888888888888888,
             "#fdca26"
            ],
            [
             1,
             "#f0f921"
            ]
           ],
           "sequentialminus": [
            [
             0,
             "#0d0887"
            ],
            [
             0.1111111111111111,
             "#46039f"
            ],
            [
             0.2222222222222222,
             "#7201a8"
            ],
            [
             0.3333333333333333,
             "#9c179e"
            ],
            [
             0.4444444444444444,
             "#bd3786"
            ],
            [
             0.5555555555555556,
             "#d8576b"
            ],
            [
             0.6666666666666666,
             "#ed7953"
            ],
            [
             0.7777777777777778,
             "#fb9f3a"
            ],
            [
             0.8888888888888888,
             "#fdca26"
            ],
            [
             1,
             "#f0f921"
            ]
           ]
          },
          "colorway": [
           "#636efa",
           "#EF553B",
           "#00cc96",
           "#ab63fa",
           "#FFA15A",
           "#19d3f3",
           "#FF6692",
           "#B6E880",
           "#FF97FF",
           "#FECB52"
          ],
          "font": {
           "color": "#2a3f5f"
          },
          "geo": {
           "bgcolor": "white",
           "lakecolor": "white",
           "landcolor": "#E5ECF6",
           "showlakes": true,
           "showland": true,
           "subunitcolor": "white"
          },
          "hoverlabel": {
           "align": "left"
          },
          "hovermode": "closest",
          "mapbox": {
           "style": "light"
          },
          "paper_bgcolor": "white",
          "plot_bgcolor": "#E5ECF6",
          "polar": {
           "angularaxis": {
            "gridcolor": "white",
            "linecolor": "white",
            "ticks": ""
           },
           "bgcolor": "#E5ECF6",
           "radialaxis": {
            "gridcolor": "white",
            "linecolor": "white",
            "ticks": ""
           }
          },
          "scene": {
           "xaxis": {
            "backgroundcolor": "#E5ECF6",
            "gridcolor": "white",
            "gridwidth": 2,
            "linecolor": "white",
            "showbackground": true,
            "ticks": "",
            "zerolinecolor": "white"
           },
           "yaxis": {
            "backgroundcolor": "#E5ECF6",
            "gridcolor": "white",
            "gridwidth": 2,
            "linecolor": "white",
            "showbackground": true,
            "ticks": "",
            "zerolinecolor": "white"
           },
           "zaxis": {
            "backgroundcolor": "#E5ECF6",
            "gridcolor": "white",
            "gridwidth": 2,
            "linecolor": "white",
            "showbackground": true,
            "ticks": "",
            "zerolinecolor": "white"
           }
          },
          "shapedefaults": {
           "line": {
            "color": "#2a3f5f"
           }
          },
          "ternary": {
           "aaxis": {
            "gridcolor": "white",
            "linecolor": "white",
            "ticks": ""
           },
           "baxis": {
            "gridcolor": "white",
            "linecolor": "white",
            "ticks": ""
           },
           "bgcolor": "#E5ECF6",
           "caxis": {
            "gridcolor": "white",
            "linecolor": "white",
            "ticks": ""
           }
          },
          "title": {
           "x": 0.05
          },
          "xaxis": {
           "automargin": true,
           "gridcolor": "white",
           "linecolor": "white",
           "ticks": "",
           "title": {
            "standoff": 15
           },
           "zerolinecolor": "white",
           "zerolinewidth": 2
          },
          "yaxis": {
           "automargin": true,
           "gridcolor": "white",
           "linecolor": "white",
           "ticks": "",
           "title": {
            "standoff": 15
           },
           "zerolinecolor": "white",
           "zerolinewidth": 2
          }
         }
        },
        "title": {
         "text": "Displacement, MPG, Cylinders, Horsepower, Model Year Distribution"
        },
        "yaxis": {
         "title": {
          "text": "Car Record Count"
         }
        }
       }
      },
      "text/html": [
       "<div>                            <div id=\"a0a89737-8d47-46d4-93db-021c0dc5d756\" class=\"plotly-graph-div\" style=\"height:525px; width:100%;\"></div>            <script type=\"text/javascript\">                require([\"plotly\"], function(Plotly) {                    window.PLOTLYENV=window.PLOTLYENV || {};                                    if (document.getElementById(\"a0a89737-8d47-46d4-93db-021c0dc5d756\")) {                    Plotly.newPlot(                        \"a0a89737-8d47-46d4-93db-021c0dc5d756\",                        [{\"colorscale\": [[0.0, \"#440154\"], [0.1111111111111111, \"#482878\"], [0.2222222222222222, \"#3e4989\"], [0.3333333333333333, \"#31688e\"], [0.4444444444444444, \"#26828e\"], [0.5555555555555556, \"#1f9e89\"], [0.6666666666666666, \"#35b779\"], [0.7777777777777778, \"#6ece58\"], [0.8888888888888888, \"#b5de2b\"], [1.0, \"#fde725\"]], \"type\": \"heatmap\", \"x\": [\"Displacement\", \"MPG\", \"Cylinders\", \"Horsepower\", \"Model Year\"], \"z\": [[198.0, 22.0, 6, \"95\", 70], [91.0, 38.0, 4, \"67\", 82], [89.0, 31.9, 4, \"71\", 79], [122.0, 21.0, 4, \"86\", 72], [200.0, 21.0, 6, \"85\", 70], [231.0, 21.5, 6, \"115\", 79], [250.0, 15.0, 6, \"72\", 75], [400.0, 15.5, 8, \"190\", 77], [302.0, 13.0, 8, \"140\", 72], [98.0, 24.5, 4, \"60\", 76], [305.0, 17.5, 8, \"140\", 76], [350.0, 13.0, 8, \"165\", 72], [156.0, 20.0, 6, \"122\", 73], [232.0, 19.0, 6, \"90\", 75], [225.0, 19.0, 6, \"100\", 77], [231.0, 17.7, 6, \"165\", 78], [200.0, 20.8, 6, \"85\", 78], [350.0, 11.0, 8, \"180\", 73], [350.0, 16.5, 8, \"180\", 76], [97.0, 34.3, 4, \"78\", 80], [90.0, 29.0, 4, \"70\", 75], [107.0, 28.0, 4, \"86\", 76], [120.0, 24.0, 4, \"97\", 74], [98.0, 33.5, 4, \"83\", 77], [140.0, 22.3, 4, \"88\", 79], [304.0, 17.0, 8, \"150\", 72], [225.0, 20.5, 6, \"100\", 78], [163.0, 17.0, 6, \"125\", 78], [351.0, 13.0, 8, \"158\", 73], [250.0, 18.5, 6, \"98\", 77], [144.0, 32.0, 4, \"96\", 82], [350.0, 15.0, 8, \"165\", 70], [90.0, 43.4, 4, \"48\", 80], [232.0, 18.0, 6, \"100\", 71], [351.0, 16.5, 8, \"138\", 79], [140.0, 25.0, 4, \"75\", 74], [455.0, 12.0, 8, \"225\", 73], [302.0, 16.0, 8, \"140\", 74], [105.0, 30.9, 4, \"75\", 78], [85.0, 32.0, 4, \"70\", 76], [200.0, 20.5, 6, \"95\", 78], [429.0, 12.0, 8, \"198\", 73], [400.0, 15.0, 8, \"150\", 70], [89.0, 31.5, 4, \"71\", 78], [86.0, 39.0, 4, \"64\", 81], [340.0, 14.0, 8, \"160\", 70], [258.0, 16.0, 6, \"110\", 74], [302.0, 13.0, 8, \"130\", 76], [304.0, 14.0, 8, \"150\", 74], [98.0, 30.0, 4, \"68\", 78], [88.0, 30.0, 4, \"76\", 71], [70.0, 19.0, 3, \"97\", 72], [200.0, 19.8, 6, \"85\", 79], [78.0, 32.8, 4, \"52\", 78], [360.0, 13.0, 8, \"175\", 73], [151.0, 33.5, 4, \"90\", 79], [100.0, 34.5, 4, \"?\", 81], [151.0, 27.0, 4, \"90\", 82], [119.0, 27.2, 4, \"97\", 78], [307.0, 10.0, 8, \"200\", 70], [151.0, 24.3, 4, \"90\", 80], [156.0, 26.0, 4, \"92\", 82], [107.0, 36.0, 4, \"75\", 82], [85.0, 40.8, 4, \"65\", 80], [108.0, 32.4, 4, \"75\", 81], [97.0, 23.0, 4, \"54\", 72], [400.0, 14.0, 8, \"175\", 72], [225.0, 20.0, 6, \"100\", 76], [258.0, 15.0, 6, \"110\", 75], [350.0, 12.0, 8, \"160\", 72], [258.0, 18.0, 6, \"110\", 71], [120.0, 23.0, 4, \"88\", 75], [250.0, 18.0, 6, \"105\", 75], [105.0, 34.2, 4, \"70\", 79], [86.0, 34.1, 4, \"65\", 79], [455.0, 14.0, 8, \"225\", 70], [97.0, 26.0, 4, \"46\", 73], [85.0, 37.0, 4, \"65\", 81], [318.0, 14.0, 8, \"150\", 71], [101.0, 27.0, 4, \"83\", 76], [200.0, 20.2, 6, \"88\", 81], [305.0, 17.5, 8, \"145\", 77], [70.0, 18.0, 3, \"90\", 73], [91.0, 38.0, 4, \"67\", 82], [85.0, 40.9, 4, \"?\", 80], [302.0, 17.6, 8, \"129\", 79], [400.0, 13.0, 8, \"170\", 71], [130.0, 20.0, 4, \"102\", 76], [72.0, 35.0, 4, \"69\", 71], [232.0, 20.0, 6, \"100\", 75], [119.0, 37.0, 4, \"92\", 80], [98.0, 36.0, 4, \"70\", 82], [250.0, 18.0, 6, \"78\", 76], [318.0, 11.0, 8, \"210\", 70], [98.0, 32.1, 4, \"70\", 80], [85.0, 33.5, 4, \"70\", 77], [85.0, 39.4, 4, \"70\", 78], [198.0, 23.0, 6, \"95\", 73], [108.0, 26.0, 4, \"93\", 74], [140.0, 21.0, 4, \"72\", 73], [231.0, 19.2, 6, \"105\", 78], [454.0, 14.0, 8, \"220\", 70], [97.0, 30.0, 4, \"67\", 77], [85.0, 31.8, 4, \"65\", 79], [97.0, 29.0, 4, \"75\", 75], [302.0, 13.0, 8, \"129\", 75], [350.0, 15.0, 8, \"145\", 75], [98.0, 29.5, 4, \"68\", 78], [231.0, 20.6, 6, \"105\", 78], [90.0, 44.3, 4, \"48\", 80], [122.0, 26.0, 4, \"80\", 74], [151.0, 26.6, 4, \"84\", 81], [156.0, 19.0, 6, \"108\", 76], [250.0, 15.0, 6, \"72\", 75], [97.0, 29.0, 4, \"78\", 77], [120.0, 31.6, 4, \"74\", 81], [97.0, 44.0, 4, \"52\", 82], [113.0, 24.0, 4, \"95\", 70], [304.0, 14.0, 8, \"150\", 73], [91.0, 26.0, 4, \"70\", 71], [350.0, 12.0, 8, \"180\", 73], [351.0, 14.0, 8, \"153\", 72], [250.0, 16.0, 6, \"100\", 74], [131.0, 20.3, 5, \"103\", 78], [350.0, 23.0, 8, \"125\", 79], [250.0, 16.0, 6, \"100\", 73], [98.0, 31.5, 4, \"68\", 77], [232.0, 22.0, 6, \"112\", 82], [400.0, 16.0, 8, \"180\", 77], [151.0, 24.5, 4, \"88\", 77], [225.0, 18.0, 6, \"105\", 73], [134.0, 29.8, 4, \"90\", 80], [79.0, 26.0, 4, \"67\", 74], [151.0, 28.4, 4, \"90\", 79], [400.0, 16.0, 8, \"230\", 73], [307.0, 18.0, 8, \"130\", 70], [200.0, 20.2, 6, \"85\", 78], [121.0, 18.0, 4, \"112\", 72], [307.0, 13.0, 8, \"130\", 72], [89.0, 29.8, 4, \"62\", 80], [91.0, 31.0, 4, \"68\", 82], [318.0, 13.0, 8, \"150\", 76], [225.0, 18.0, 6, \"105\", 74], [199.0, 21.0, 6, \"90\", 70], [140.0, 23.6, 4, \"?\", 80], [97.0, 27.0, 4, \"88\", 70], [79.0, 30.0, 4, \"70\", 71], [151.0, 27.0, 4, \"90\", 82], [105.0, 36.0, 4, \"74\", 82], [146.0, 30.0, 4, \"67\", 80], [232.0, 20.2, 6, \"90\", 79], [140.0, 20.0, 4, \"90\", 72], [318.0, 14.0, 8, \"150\", 74], [318.0, 13.0, 8, \"150\", 76], [350.0, 13.0, 8, \"155\", 72], [121.0, 24.0, 4, \"110\", 73], [110.0, 25.0, 4, \"87\", 70], [181.0, 25.0, 6, \"110\", 82], [156.0, 25.8, 4, \"92\", 81], [91.0, 37.3, 4, \"69\", 79], [173.0, 23.5, 6, \"110\", 81], [232.0, 22.5, 6, \"90\", 76], [98.0, 36.1, 4, \"66\", 78], [98.0, 26.0, 4, \"90\", 73], [121.0, 19.0, 4, \"112\", 73], [119.0, 24.0, 4, \"97\", 75], [107.0, 24.0, 4, \"90\", 70], [135.0, 30.0, 4, \"84\", 81], [79.0, 31.0, 4, \"67\", 74], [97.0, 30.5, 4, \"78\", 77], [116.0, 26.0, 4, \"75\", 74], [91.0, 36.1, 4, \"60\", 78], [260.0, 19.9, 8, \"110\", 78], [231.0, 21.0, 6, \"110\", 75], [97.5, 25.0, 4, \"80\", 72], [225.0, 18.6, 6, \"110\", 78], [440.0, 14.0, 8, \"215\", 70], [111.0, 30.0, 4, \"80\", 77], [97.0, 27.0, 4, \"60\", 71], [140.0, 25.5, 4, \"89\", 77], [173.0, 26.8, 6, \"115\", 79], [318.0, 16.0, 8, \"150\", 76], [250.0, 18.0, 6, \"88\", 71], [318.0, 15.0, 8, \"150\", 73], [318.0, 16.0, 8, \"150\", 75], [97.0, 28.0, 4, \"92\", 72], [121.0, 22.0, 4, \"76\", 72], [400.0, 11.0, 8, \"150\", 73], [122.0, 25.5, 4, \"96\", 77], [400.0, 13.0, 8, \"175\", 71], [200.0, 21.0, 6, \"?\", 74], [76.0, 31.0, 4, \"52\", 74], [400.0, 16.0, 8, \"170\", 75], [97.0, 26.0, 4, \"46\", 70], [121.0, 26.0, 4, \"113\", 70], [121.0, 36.4, 5, \"67\", 80], [116.0, 24.0, 4, \"75\", 73], [232.0, 18.0, 6, \"100\", 73], [97.0, 28.0, 4, \"75\", 76], [140.0, 25.1, 4, \"88\", 78], [120.0, 36.0, 4, \"88\", 82], [455.0, 14.0, 8, \"225\", 70], [86.0, 46.6, 4, \"65\", 80], [141.0, 27.2, 4, \"71\", 79], [302.0, 14.0, 8, \"140\", 74], [250.0, 19.0, 6, \"88\", 71], [105.0, 38.0, 4, \"63\", 82], [79.0, 36.0, 4, \"58\", 77], [116.0, 28.0, 4, \"90\", 71], [225.0, 16.0, 6, \"105\", 71], [302.0, 18.1, 8, \"139\", 78], [198.0, 20.0, 6, \"95\", 74], [135.0, 29.0, 4, \"84\", 82], [225.0, 20.6, 6, \"110\", 79], [351.0, 14.0, 8, \"153\", 71], [429.0, 11.0, 8, \"208\", 72], [112.0, 28.0, 4, \"88\", 82], [89.0, 38.1, 4, \"60\", 80], [108.0, 22.0, 4, \"94\", 73], [97.0, 20.0, 4, \"88\", 73], [91.0, 33.0, 4, \"53\", 76], [91.0, 44.6, 4, \"67\", 80], [121.0, 22.0, 4, \"98\", 75], [318.0, 15.0, 8, \"150\", 72], [140.0, 23.0, 4, \"83\", 75], [97.0, 27.0, 4, \"88\", 71], [91.0, 34.1, 4, \"68\", 81], [318.0, 15.5, 8, \"145\", 77], [302.0, 15.0, 8, \"130\", 77], [250.0, 18.0, 6, \"88\", 73], [400.0, 12.0, 8, \"167\", 73], [98.0, 30.5, 4, \"63\", 77], [250.0, 16.0, 6, \"105\", 75], [350.0, 13.0, 8, \"145\", 76], [225.0, 19.0, 6, \"95\", 75], [122.0, 23.0, 4, \"86\", 71], [140.0, 25.0, 4, \"92\", 76], [258.0, 18.1, 6, \"120\", 78], [183.0, 25.4, 5, \"77\", 79], [121.0, 27.4, 4, \"80\", 79], [429.0, 15.0, 8, \"198\", 70], [304.0, 15.5, 8, \"120\", 76], [83.0, 32.0, 4, \"61\", 74], [96.0, 26.0, 4, \"69\", 72], [151.0, 23.0, 4, \"?\", 82], [350.0, 16.9, 8, \"155\", 79], [90.0, 28.0, 4, \"75\", 74], [168.0, 25.4, 6, \"116\", 81], [98.0, 29.9, 4, \"65\", 81], [119.0, 31.0, 4, \"82\", 82], [350.0, 13.0, 8, \"150\", 74], [318.0, 19.4, 8, \"140\", 78], [350.0, 13.0, 8, \"175\", 73], [250.0, 17.5, 6, \"110\", 77], [260.0, 17.0, 8, \"110\", 77], [383.0, 15.0, 8, \"170\", 70], [134.0, 24.0, 4, \"96\", 75], [140.0, 26.5, 4, \"72\", 76], [89.0, 37.7, 4, \"62\", 81], [250.0, 18.5, 6, \"110\", 76], [156.0, 23.2, 4, \"105\", 78], [140.0, 23.0, 4, \"78\", 75], [351.0, 14.5, 8, \"152\", 76], [199.0, 18.0, 6, \"97\", 70], [120.0, 19.0, 4, \"88\", 76], [98.0, 41.5, 4, \"76\", 80], [232.0, 19.0, 6, \"100\", 71], [91.0, 33.0, 4, \"53\", 75], [105.0, 34.7, 4, \"63\", 81], [105.0, 34.5, 4, \"70\", 79], [151.0, 28.0, 4, \"90\", 80], [140.0, 22.0, 4, \"72\", 71], [231.0, 20.5, 6, \"105\", 77], [98.0, 35.7, 4, \"80\", 79], [119.0, 32.9, 4, \"100\", 81], [135.0, 36.0, 4, \"84\", 82], [250.0, 17.0, 6, \"100\", 71], [122.0, 22.0, 4, \"86\", 72], [351.0, 16.0, 8, \"149\", 77], [86.0, 37.2, 4, \"65\", 80], [231.0, 17.0, 6, \"110\", 75], [120.0, 31.3, 4, \"75\", 80], [97.0, 33.8, 4, \"67\", 80], [98.0, 28.0, 4, \"80\", 72], [135.0, 32.0, 4, \"84\", 82], [260.0, 23.9, 8, \"90\", 79], [231.0, 22.4, 6, \"110\", 81], [225.0, 19.1, 6, \"90\", 80], [140.0, 24.0, 4, \"92\", 82], [134.0, 21.1, 4, \"95\", 78], [98.0, 29.0, 4, \"83\", 74], [140.0, 27.0, 4, \"86\", 82], [155.0, 21.0, 6, \"107\", 73], [112.0, 34.0, 4, \"88\", 82], [318.0, 18.0, 8, \"150\", 70], [120.0, 21.0, 4, \"87\", 72], [97.0, 26.0, 4, \"78\", 74], [151.0, 23.8, 4, \"85\", 78], [225.0, 22.0, 6, \"100\", 76], [304.0, 16.0, 8, \"150\", 70], [318.0, 14.0, 8, \"150\", 73], [262.0, 38.0, 6, \"85\", 82], [350.0, 15.5, 8, \"170\", 77], [97.0, 32.3, 4, \"67\", 81], [146.0, 24.2, 6, \"120\", 81], [104.0, 25.0, 4, \"95\", 70], [351.0, 14.0, 8, \"148\", 75], [140.0, 28.0, 4, \"90\", 71], [97.0, 26.0, 4, \"75\", 77], [91.0, 37.0, 4, \"68\", 82], [302.0, 17.0, 8, \"140\", 70], [146.0, 22.0, 6, \"97\", 77], [122.0, 19.0, 4, \"85\", 73], [121.0, 21.6, 4, \"115\", 78], [173.0, 28.8, 6, \"115\", 79], [318.0, 14.0, 8, \"150\", 72], [70.0, 23.7, 3, \"100\", 80], [440.0, 13.0, 8, \"215\", 73]]}],                        {\"template\": {\"data\": {\"bar\": [{\"error_x\": {\"color\": \"#2a3f5f\"}, \"error_y\": {\"color\": \"#2a3f5f\"}, \"marker\": {\"line\": {\"color\": \"#E5ECF6\", \"width\": 0.5}}, \"type\": \"bar\"}], \"barpolar\": [{\"marker\": {\"line\": {\"color\": \"#E5ECF6\", \"width\": 0.5}}, \"type\": \"barpolar\"}], \"carpet\": [{\"aaxis\": {\"endlinecolor\": \"#2a3f5f\", \"gridcolor\": \"white\", \"linecolor\": \"white\", \"minorgridcolor\": \"white\", \"startlinecolor\": \"#2a3f5f\"}, \"baxis\": {\"endlinecolor\": \"#2a3f5f\", \"gridcolor\": \"white\", \"linecolor\": \"white\", \"minorgridcolor\": \"white\", \"startlinecolor\": \"#2a3f5f\"}, \"type\": \"carpet\"}], \"choropleth\": [{\"colorbar\": {\"outlinewidth\": 0, \"ticks\": \"\"}, \"type\": \"choropleth\"}], \"contour\": [{\"colorbar\": {\"outlinewidth\": 0, \"ticks\": \"\"}, \"colorscale\": [[0.0, \"#0d0887\"], [0.1111111111111111, \"#46039f\"], [0.2222222222222222, \"#7201a8\"], [0.3333333333333333, \"#9c179e\"], [0.4444444444444444, \"#bd3786\"], [0.5555555555555556, \"#d8576b\"], [0.6666666666666666, \"#ed7953\"], [0.7777777777777778, \"#fb9f3a\"], [0.8888888888888888, \"#fdca26\"], [1.0, \"#f0f921\"]], \"type\": \"contour\"}], \"contourcarpet\": [{\"colorbar\": {\"outlinewidth\": 0, \"ticks\": \"\"}, \"type\": \"contourcarpet\"}], \"heatmap\": [{\"colorbar\": {\"outlinewidth\": 0, \"ticks\": \"\"}, \"colorscale\": [[0.0, \"#0d0887\"], [0.1111111111111111, \"#46039f\"], [0.2222222222222222, \"#7201a8\"], [0.3333333333333333, \"#9c179e\"], [0.4444444444444444, \"#bd3786\"], [0.5555555555555556, \"#d8576b\"], [0.6666666666666666, \"#ed7953\"], [0.7777777777777778, \"#fb9f3a\"], [0.8888888888888888, \"#fdca26\"], [1.0, \"#f0f921\"]], \"type\": \"heatmap\"}], \"heatmapgl\": [{\"colorbar\": {\"outlinewidth\": 0, \"ticks\": \"\"}, \"colorscale\": [[0.0, \"#0d0887\"], [0.1111111111111111, \"#46039f\"], [0.2222222222222222, \"#7201a8\"], [0.3333333333333333, \"#9c179e\"], [0.4444444444444444, \"#bd3786\"], [0.5555555555555556, \"#d8576b\"], [0.6666666666666666, \"#ed7953\"], [0.7777777777777778, \"#fb9f3a\"], [0.8888888888888888, \"#fdca26\"], [1.0, \"#f0f921\"]], \"type\": \"heatmapgl\"}], \"histogram\": [{\"marker\": {\"colorbar\": {\"outlinewidth\": 0, \"ticks\": \"\"}}, \"type\": \"histogram\"}], \"histogram2d\": [{\"colorbar\": {\"outlinewidth\": 0, \"ticks\": \"\"}, \"colorscale\": [[0.0, \"#0d0887\"], [0.1111111111111111, \"#46039f\"], [0.2222222222222222, \"#7201a8\"], [0.3333333333333333, \"#9c179e\"], [0.4444444444444444, \"#bd3786\"], [0.5555555555555556, \"#d8576b\"], [0.6666666666666666, \"#ed7953\"], [0.7777777777777778, \"#fb9f3a\"], [0.8888888888888888, \"#fdca26\"], [1.0, \"#f0f921\"]], \"type\": \"histogram2d\"}], \"histogram2dcontour\": [{\"colorbar\": {\"outlinewidth\": 0, \"ticks\": \"\"}, \"colorscale\": [[0.0, \"#0d0887\"], [0.1111111111111111, \"#46039f\"], [0.2222222222222222, \"#7201a8\"], [0.3333333333333333, \"#9c179e\"], [0.4444444444444444, \"#bd3786\"], [0.5555555555555556, \"#d8576b\"], [0.6666666666666666, \"#ed7953\"], [0.7777777777777778, \"#fb9f3a\"], [0.8888888888888888, \"#fdca26\"], [1.0, \"#f0f921\"]], \"type\": \"histogram2dcontour\"}], \"mesh3d\": [{\"colorbar\": {\"outlinewidth\": 0, \"ticks\": \"\"}, \"type\": \"mesh3d\"}], \"parcoords\": [{\"line\": {\"colorbar\": {\"outlinewidth\": 0, \"ticks\": \"\"}}, \"type\": \"parcoords\"}], \"pie\": [{\"automargin\": true, \"type\": \"pie\"}], \"scatter\": [{\"marker\": {\"colorbar\": {\"outlinewidth\": 0, \"ticks\": \"\"}}, \"type\": \"scatter\"}], \"scatter3d\": [{\"line\": {\"colorbar\": {\"outlinewidth\": 0, \"ticks\": \"\"}}, \"marker\": {\"colorbar\": {\"outlinewidth\": 0, \"ticks\": \"\"}}, \"type\": \"scatter3d\"}], \"scattercarpet\": [{\"marker\": {\"colorbar\": {\"outlinewidth\": 0, \"ticks\": \"\"}}, \"type\": \"scattercarpet\"}], \"scattergeo\": [{\"marker\": {\"colorbar\": {\"outlinewidth\": 0, \"ticks\": \"\"}}, \"type\": \"scattergeo\"}], \"scattergl\": [{\"marker\": {\"colorbar\": {\"outlinewidth\": 0, \"ticks\": \"\"}}, \"type\": \"scattergl\"}], \"scattermapbox\": [{\"marker\": {\"colorbar\": {\"outlinewidth\": 0, \"ticks\": \"\"}}, \"type\": \"scattermapbox\"}], \"scatterpolar\": [{\"marker\": {\"colorbar\": {\"outlinewidth\": 0, \"ticks\": \"\"}}, \"type\": \"scatterpolar\"}], \"scatterpolargl\": [{\"marker\": {\"colorbar\": {\"outlinewidth\": 0, \"ticks\": \"\"}}, \"type\": \"scatterpolargl\"}], \"scatterternary\": [{\"marker\": {\"colorbar\": {\"outlinewidth\": 0, \"ticks\": \"\"}}, \"type\": \"scatterternary\"}], \"surface\": [{\"colorbar\": {\"outlinewidth\": 0, \"ticks\": \"\"}, \"colorscale\": [[0.0, \"#0d0887\"], [0.1111111111111111, \"#46039f\"], [0.2222222222222222, \"#7201a8\"], [0.3333333333333333, \"#9c179e\"], [0.4444444444444444, \"#bd3786\"], [0.5555555555555556, \"#d8576b\"], [0.6666666666666666, \"#ed7953\"], [0.7777777777777778, \"#fb9f3a\"], [0.8888888888888888, \"#fdca26\"], [1.0, \"#f0f921\"]], \"type\": \"surface\"}], \"table\": [{\"cells\": {\"fill\": {\"color\": \"#EBF0F8\"}, \"line\": {\"color\": \"white\"}}, \"header\": {\"fill\": {\"color\": \"#C8D4E3\"}, \"line\": {\"color\": \"white\"}}, \"type\": \"table\"}]}, \"layout\": {\"annotationdefaults\": {\"arrowcolor\": \"#2a3f5f\", \"arrowhead\": 0, \"arrowwidth\": 1}, \"autotypenumbers\": \"strict\", \"coloraxis\": {\"colorbar\": {\"outlinewidth\": 0, \"ticks\": \"\"}}, \"colorscale\": {\"diverging\": [[0, \"#8e0152\"], [0.1, \"#c51b7d\"], [0.2, \"#de77ae\"], [0.3, \"#f1b6da\"], [0.4, \"#fde0ef\"], [0.5, \"#f7f7f7\"], [0.6, \"#e6f5d0\"], [0.7, \"#b8e186\"], [0.8, \"#7fbc41\"], [0.9, \"#4d9221\"], [1, \"#276419\"]], \"sequential\": [[0.0, \"#0d0887\"], [0.1111111111111111, \"#46039f\"], [0.2222222222222222, \"#7201a8\"], [0.3333333333333333, \"#9c179e\"], [0.4444444444444444, \"#bd3786\"], [0.5555555555555556, \"#d8576b\"], [0.6666666666666666, \"#ed7953\"], [0.7777777777777778, \"#fb9f3a\"], [0.8888888888888888, \"#fdca26\"], [1.0, \"#f0f921\"]], \"sequentialminus\": [[0.0, \"#0d0887\"], [0.1111111111111111, \"#46039f\"], [0.2222222222222222, \"#7201a8\"], [0.3333333333333333, \"#9c179e\"], [0.4444444444444444, \"#bd3786\"], [0.5555555555555556, \"#d8576b\"], [0.6666666666666666, \"#ed7953\"], [0.7777777777777778, \"#fb9f3a\"], [0.8888888888888888, \"#fdca26\"], [1.0, \"#f0f921\"]]}, \"colorway\": [\"#636efa\", \"#EF553B\", \"#00cc96\", \"#ab63fa\", \"#FFA15A\", \"#19d3f3\", \"#FF6692\", \"#B6E880\", \"#FF97FF\", \"#FECB52\"], \"font\": {\"color\": \"#2a3f5f\"}, \"geo\": {\"bgcolor\": \"white\", \"lakecolor\": \"white\", \"landcolor\": \"#E5ECF6\", \"showlakes\": true, \"showland\": true, \"subunitcolor\": \"white\"}, \"hoverlabel\": {\"align\": \"left\"}, \"hovermode\": \"closest\", \"mapbox\": {\"style\": \"light\"}, \"paper_bgcolor\": \"white\", \"plot_bgcolor\": \"#E5ECF6\", \"polar\": {\"angularaxis\": {\"gridcolor\": \"white\", \"linecolor\": \"white\", \"ticks\": \"\"}, \"bgcolor\": \"#E5ECF6\", \"radialaxis\": {\"gridcolor\": \"white\", \"linecolor\": \"white\", \"ticks\": \"\"}}, \"scene\": {\"xaxis\": {\"backgroundcolor\": \"#E5ECF6\", \"gridcolor\": \"white\", \"gridwidth\": 2, \"linecolor\": \"white\", \"showbackground\": true, \"ticks\": \"\", \"zerolinecolor\": \"white\"}, \"yaxis\": {\"backgroundcolor\": \"#E5ECF6\", \"gridcolor\": \"white\", \"gridwidth\": 2, \"linecolor\": \"white\", \"showbackground\": true, \"ticks\": \"\", \"zerolinecolor\": \"white\"}, \"zaxis\": {\"backgroundcolor\": \"#E5ECF6\", \"gridcolor\": \"white\", \"gridwidth\": 2, \"linecolor\": \"white\", \"showbackground\": true, \"ticks\": \"\", \"zerolinecolor\": \"white\"}}, \"shapedefaults\": {\"line\": {\"color\": \"#2a3f5f\"}}, \"ternary\": {\"aaxis\": {\"gridcolor\": \"white\", \"linecolor\": \"white\", \"ticks\": \"\"}, \"baxis\": {\"gridcolor\": \"white\", \"linecolor\": \"white\", \"ticks\": \"\"}, \"bgcolor\": \"#E5ECF6\", \"caxis\": {\"gridcolor\": \"white\", \"linecolor\": \"white\", \"ticks\": \"\"}}, \"title\": {\"x\": 0.05}, \"xaxis\": {\"automargin\": true, \"gridcolor\": \"white\", \"linecolor\": \"white\", \"ticks\": \"\", \"title\": {\"standoff\": 15}, \"zerolinecolor\": \"white\", \"zerolinewidth\": 2}, \"yaxis\": {\"automargin\": true, \"gridcolor\": \"white\", \"linecolor\": \"white\", \"ticks\": \"\", \"title\": {\"standoff\": 15}, \"zerolinecolor\": \"white\", \"zerolinewidth\": 2}}}, \"title\": {\"text\": \"Displacement, MPG, Cylinders, Horsepower, Model Year Distribution\"}, \"yaxis\": {\"title\": {\"text\": \"Car Record Count\"}}},                        {\"responsive\": true}                    ).then(function(){\n",
       "                            \n",
       "var gd = document.getElementById('a0a89737-8d47-46d4-93db-021c0dc5d756');\n",
       "var x = new MutationObserver(function (mutations, observer) {{\n",
       "        var display = window.getComputedStyle(gd).display;\n",
       "        if (!display || display === 'none') {{\n",
       "            console.log([gd, 'removed!']);\n",
       "            Plotly.purge(gd);\n",
       "            observer.disconnect();\n",
       "        }}\n",
       "}});\n",
       "\n",
       "// Listen for the removal of the full notebook cells\n",
       "var notebookContainer = gd.closest('#notebook-container');\n",
       "if (notebookContainer) {{\n",
       "    x.observe(notebookContainer, {childList: true});\n",
       "}}\n",
       "\n",
       "// Listen for the clearing of the current output cell\n",
       "var outputEl = gd.closest('.output');\n",
       "if (outputEl) {{\n",
       "    x.observe(outputEl, {childList: true});\n",
       "}}\n",
       "\n",
       "                        })                };                });            </script>        </div>"
      ]
     },
     "metadata": {},
     "output_type": "display_data"
    }
   ],
   "source": [
    "# Plotting HeatMap\n",
    "# print(working_dataset[\"Continent\"].unique())\n",
    "trace = go.Heatmap(z=working_dataset[[\"displacement\", \"mpg\", \"cylinders\", \"horsepower\", \"model year\"]].dropna().values,\n",
    "                   x=['Displacement', 'MPG', 'Cylinders', 'Horsepower', 'Model Year'],\n",
    "#                    y=['USA', 'Europe', 'Japan'],\n",
    "                   colorscale = 'Viridis')\n",
    "#                    y=[\"USA\", \"Europe\", \"Japan\"])\n",
    "layout = go.Layout(title = \"Displacement, MPG, Cylinders, Horsepower, Model Year Distribution\",\n",
    "                  yaxis = dict(title = \"Car Record Count\"))\n",
    "data = [trace]\n",
    "fig = go.Figure(data = data, layout = layout)\n",
    "py.iplot(fig)"
   ]
  },
  {
   "cell_type": "code",
   "execution_count": 48,
   "metadata": {
    "_uuid": "809b429457eafdc8b271a054340e27219d3d7e18"
   },
   "outputs": [
    {
     "data": {
      "text/html": [
       "<div>\n",
       "<style scoped>\n",
       "    .dataframe tbody tr th:only-of-type {\n",
       "        vertical-align: middle;\n",
       "    }\n",
       "\n",
       "    .dataframe tbody tr th {\n",
       "        vertical-align: top;\n",
       "    }\n",
       "\n",
       "    .dataframe thead th {\n",
       "        text-align: right;\n",
       "    }\n",
       "</style>\n",
       "<table border=\"1\" class=\"dataframe\">\n",
       "  <thead>\n",
       "    <tr style=\"text-align: right;\">\n",
       "      <th></th>\n",
       "      <th>mpg</th>\n",
       "      <th>cylinders</th>\n",
       "      <th>displacement</th>\n",
       "      <th>horsepower</th>\n",
       "      <th>weight</th>\n",
       "      <th>acceleration</th>\n",
       "      <th>model year</th>\n",
       "      <th>car name</th>\n",
       "      <th>USA</th>\n",
       "      <th>Europe</th>\n",
       "      <th>Japan</th>\n",
       "      <th>Continent</th>\n",
       "      <th>Origin</th>\n",
       "    </tr>\n",
       "  </thead>\n",
       "  <tbody>\n",
       "    <tr>\n",
       "      <th>276</th>\n",
       "      <td>21.6</td>\n",
       "      <td>4</td>\n",
       "      <td>121.0</td>\n",
       "      <td>115</td>\n",
       "      <td>2795</td>\n",
       "      <td>15.7</td>\n",
       "      <td>78</td>\n",
       "      <td>saab 99gle</td>\n",
       "      <td>0.0</td>\n",
       "      <td>1.0</td>\n",
       "      <td>0.0</td>\n",
       "      <td>Europe</td>\n",
       "      <td>2</td>\n",
       "    </tr>\n",
       "    <tr>\n",
       "      <th>306</th>\n",
       "      <td>28.8</td>\n",
       "      <td>6</td>\n",
       "      <td>173.0</td>\n",
       "      <td>115</td>\n",
       "      <td>2595</td>\n",
       "      <td>11.3</td>\n",
       "      <td>79</td>\n",
       "      <td>chevrolet citation</td>\n",
       "      <td>1.0</td>\n",
       "      <td>0.0</td>\n",
       "      <td>0.0</td>\n",
       "      <td>USA</td>\n",
       "      <td>1</td>\n",
       "    </tr>\n",
       "    <tr>\n",
       "      <th>75</th>\n",
       "      <td>14.0</td>\n",
       "      <td>8</td>\n",
       "      <td>318.0</td>\n",
       "      <td>150</td>\n",
       "      <td>4077</td>\n",
       "      <td>14.0</td>\n",
       "      <td>72</td>\n",
       "      <td>plymouth satellite custom (sw)</td>\n",
       "      <td>1.0</td>\n",
       "      <td>0.0</td>\n",
       "      <td>0.0</td>\n",
       "      <td>USA</td>\n",
       "      <td>1</td>\n",
       "    </tr>\n",
       "    <tr>\n",
       "      <th>334</th>\n",
       "      <td>23.7</td>\n",
       "      <td>3</td>\n",
       "      <td>70.0</td>\n",
       "      <td>100</td>\n",
       "      <td>2420</td>\n",
       "      <td>12.5</td>\n",
       "      <td>80</td>\n",
       "      <td>mazda rx-7 gs</td>\n",
       "      <td>0.0</td>\n",
       "      <td>0.0</td>\n",
       "      <td>1.0</td>\n",
       "      <td>Japan</td>\n",
       "      <td>3</td>\n",
       "    </tr>\n",
       "    <tr>\n",
       "      <th>94</th>\n",
       "      <td>13.0</td>\n",
       "      <td>8</td>\n",
       "      <td>440.0</td>\n",
       "      <td>215</td>\n",
       "      <td>4735</td>\n",
       "      <td>11.0</td>\n",
       "      <td>73</td>\n",
       "      <td>chrysler new yorker brougham</td>\n",
       "      <td>1.0</td>\n",
       "      <td>0.0</td>\n",
       "      <td>0.0</td>\n",
       "      <td>USA</td>\n",
       "      <td>1</td>\n",
       "    </tr>\n",
       "  </tbody>\n",
       "</table>\n",
       "</div>"
      ],
      "text/plain": [
       "      mpg  cylinders  displacement horsepower  weight  acceleration  \\\n",
       "276  21.6          4         121.0        115    2795          15.7   \n",
       "306  28.8          6         173.0        115    2595          11.3   \n",
       "75   14.0          8         318.0        150    4077          14.0   \n",
       "334  23.7          3          70.0        100    2420          12.5   \n",
       "94   13.0          8         440.0        215    4735          11.0   \n",
       "\n",
       "     model year                        car name  USA  Europe  Japan Continent  \\\n",
       "276          78                      saab 99gle  0.0     1.0    0.0    Europe   \n",
       "306          79              chevrolet citation  1.0     0.0    0.0       USA   \n",
       "75           72  plymouth satellite custom (sw)  1.0     0.0    0.0       USA   \n",
       "334          80                   mazda rx-7 gs  0.0     0.0    1.0     Japan   \n",
       "94           73    chrysler new yorker brougham  1.0     0.0    0.0       USA   \n",
       "\n",
       "     Origin  \n",
       "276       2  \n",
       "306       1  \n",
       "75        1  \n",
       "334       3  \n",
       "94        1  "
      ]
     },
     "execution_count": 48,
     "metadata": {},
     "output_type": "execute_result"
    }
   ],
   "source": [
    "#Data preparation for plotting various charts\n",
    "df = working_dataset.copy()\n",
    "df['Origin'] = np.where(df['Continent'] == 'USA', 1,\n",
    "                                np.where(df['Continent'] == 'Europe', 2, 3))\n",
    "df.tail()    "
   ]
  },
  {
   "cell_type": "code",
   "execution_count": 49,
   "metadata": {
    "_uuid": "d7fab91b33debf95cbbae760e1355087e9194258"
   },
   "outputs": [
    {
     "data": {
      "application/vnd.plotly.v1+json": {
       "config": {
        "linkText": "Export to plot.ly",
        "plotlyServerURL": "https://plot.ly",
        "showLink": true
       },
       "data": [
        {
         "marker": {
          "color": "rgba(255, 153, 51, 0.6)",
          "line": {
           "color": "rgba(255, 153, 51, 1.0)",
           "width": 1
          }
         },
         "name": "mpg",
         "orientation": "v",
         "text": "",
         "type": "bar",
         "x": [
          15,
          385,
          293,
          61,
          17,
          280,
          155,
          231,
          74,
          196,
          187,
          62,
          123,
          176,
          227,
          263,
          259,
          124,
          212,
          317,
          175,
          182,
          149,
          238,
          282,
          66,
          256,
          275,
          92,
          228,
          390,
          1,
          326,
          37,
          287,
          132,
          95,
          136,
          269,
          204,
          253,
          90,
          12,
          278,
          344,
          11,
          134,
          214,
          140,
          266,
          52,
          71,
          281,
          246,
          96,
          308,
          354,
          372,
          268,
          26,
          315,
          388,
          381,
          324,
          356,
          59,
          63,
          199,
          162,
          69,
          45,
          178,
          153,
          301,
          294,
          13,
          102,
          347,
          41,
          186,
          365,
          221,
          111,
          383,
          330,
          286,
          43,
          207,
          54,
          169,
          320,
          379,
          200,
          27,
          311,
          220,
          247,
          101,
          150,
          109,
          252,
          6,
          239,
          303,
          167,
          166,
          157,
          279,
          258,
          325,
          130,
          339,
          210,
          154,
          233,
          358,
          394,
          14,
          86,
          56,
          106,
          65,
          133,
          274,
          298,
          98,
          216,
          389,
          229,
          234,
          97,
          318,
          142,
          305,
          116,
          0,
          254,
          76,
          73,
          332,
          377,
          215,
          135,
          24,
          336,
          18,
          51,
          392,
          375,
          328,
          283,
          60,
          138,
          208,
          68,
          122,
          20,
          386,
          340,
          304,
          341,
          194,
          245,
          114,
          120,
          173,
          21,
          342,
          129,
          240,
          148,
          248,
          249,
          164,
          58,
          260,
          7,
          217,
          55,
          236,
          307,
          188,
          48,
          89,
          158,
          81,
          77,
          103,
          219,
          44,
          126,
          144,
          156,
          19,
          23,
          327,
          118,
          107,
          205,
          255,
          380,
          8,
          322,
          299,
          139,
          36,
          378,
          218,
          50,
          34,
          264,
          125,
          371,
          284,
          40,
          67,
          367,
          310,
          110,
          108,
          198,
          329,
          179,
          64,
          168,
          29,
          349,
          223,
          224,
          100,
          104,
          237,
          161,
          213,
          152,
          49,
          184,
          261,
          297,
          296,
          5,
          189,
          145,
          79,
          374,
          289,
          146,
          361,
          352,
          397,
          137,
          250,
          85,
          225,
          222,
          10,
          171,
          206,
          348,
          201,
          271,
          170,
          190,
          16,
          209,
          309,
          33,
          181,
          350,
          302,
          313,
          46,
          226,
          295,
          357,
          391,
          35,
          80,
          232,
          312,
          160,
          319,
          331,
          83,
          395,
          300,
          363,
          316,
          373,
          270,
          141,
          393,
          113,
          369,
          2,
          78,
          143,
          272,
          191,
          3,
          93,
          387,
          230,
          346,
          362,
          22,
          159,
          30,
          235,
          376,
          4,
          241,
          112,
          276,
          306,
          75,
          334,
          94
         ],
         "y": [
          22,
          38,
          31.9,
          21,
          21,
          21.5,
          15,
          15.5,
          13,
          24.5,
          17.5,
          13,
          20,
          19,
          19,
          17.7,
          20.8,
          11,
          16.5,
          34.3,
          29,
          28,
          24,
          33.5,
          22.3,
          17,
          20.5,
          17,
          13,
          18.5,
          32,
          15,
          43.4,
          18,
          16.5,
          25,
          12,
          16,
          30.9,
          32,
          20.5,
          12,
          15,
          31.5,
          39,
          14,
          16,
          13,
          14,
          30,
          30,
          19,
          19.8,
          32.8,
          13,
          33.5,
          34.5,
          27,
          27.2,
          10,
          24.3,
          26,
          36,
          40.8,
          32.4,
          23,
          14,
          20,
          15,
          12,
          18,
          23,
          18,
          34.2,
          34.1,
          14,
          26,
          37,
          14,
          27,
          20.2,
          17.5,
          18,
          38,
          40.9,
          17.6,
          13,
          20,
          35,
          20,
          37,
          36,
          18,
          11,
          32.1,
          33.5,
          39.4,
          23,
          26,
          21,
          19.2,
          14,
          30,
          31.8,
          29,
          13,
          15,
          29.5,
          20.6,
          44.3,
          26,
          26.6,
          19,
          15,
          29,
          31.6,
          44,
          24,
          14,
          26,
          12,
          14,
          16,
          20.3,
          23,
          16,
          31.5,
          22,
          16,
          24.5,
          18,
          29.8,
          26,
          28.4,
          16,
          18,
          20.2,
          18,
          13,
          29.8,
          31,
          13,
          18,
          21,
          23.6,
          27,
          30,
          27,
          36,
          30,
          20.2,
          20,
          14,
          13,
          13,
          24,
          25,
          25,
          25.8,
          37.3,
          23.5,
          22.5,
          36.1,
          26,
          19,
          24,
          24,
          30,
          31,
          30.5,
          26,
          36.1,
          19.9,
          21,
          25,
          18.6,
          14,
          30,
          27,
          25.5,
          26.8,
          16,
          18,
          15,
          16,
          28,
          22,
          11,
          25.5,
          13,
          21,
          31,
          16,
          26,
          26,
          36.4,
          24,
          18,
          28,
          25.1,
          36,
          14,
          46.6,
          27.2,
          14,
          19,
          38,
          36,
          28,
          16,
          18.1,
          20,
          29,
          20.6,
          14,
          11,
          28,
          38.1,
          22,
          20,
          33,
          44.6,
          22,
          15,
          23,
          27,
          34.1,
          15.5,
          15,
          18,
          12,
          30.5,
          16,
          13,
          19,
          23,
          25,
          18.1,
          25.4,
          27.4,
          15,
          15.5,
          32,
          26,
          23,
          16.9,
          28,
          25.4,
          29.9,
          31,
          13,
          19.4,
          13,
          17.5,
          17,
          15,
          24,
          26.5,
          37.7,
          18.5,
          23.2,
          23,
          14.5,
          18,
          19,
          41.5,
          19,
          33,
          34.7,
          34.5,
          28,
          22,
          20.5,
          35.7,
          32.9,
          36,
          17,
          22,
          16,
          37.2,
          17,
          31.3,
          33.8,
          28,
          32,
          23.9,
          22.4,
          19.1,
          24,
          21.1,
          29,
          27,
          21,
          34,
          18,
          21,
          26,
          23.8,
          22,
          16,
          14,
          38,
          15.5,
          32.3,
          24.2,
          25,
          14,
          28,
          26,
          37,
          17,
          22,
          19,
          21.6,
          28.8,
          14,
          23.7,
          13
         ]
        },
        {
         "marker": {
          "color": "rgba(55, 128, 191, 0.6)",
          "line": {
           "color": "rgba(55, 128, 191, 1.0)",
           "width": 1
          }
         },
         "name": "cylinders",
         "orientation": "v",
         "text": "",
         "type": "bar",
         "x": [
          15,
          385,
          293,
          61,
          17,
          280,
          155,
          231,
          74,
          196,
          187,
          62,
          123,
          176,
          227,
          263,
          259,
          124,
          212,
          317,
          175,
          182,
          149,
          238,
          282,
          66,
          256,
          275,
          92,
          228,
          390,
          1,
          326,
          37,
          287,
          132,
          95,
          136,
          269,
          204,
          253,
          90,
          12,
          278,
          344,
          11,
          134,
          214,
          140,
          266,
          52,
          71,
          281,
          246,
          96,
          308,
          354,
          372,
          268,
          26,
          315,
          388,
          381,
          324,
          356,
          59,
          63,
          199,
          162,
          69,
          45,
          178,
          153,
          301,
          294,
          13,
          102,
          347,
          41,
          186,
          365,
          221,
          111,
          383,
          330,
          286,
          43,
          207,
          54,
          169,
          320,
          379,
          200,
          27,
          311,
          220,
          247,
          101,
          150,
          109,
          252,
          6,
          239,
          303,
          167,
          166,
          157,
          279,
          258,
          325,
          130,
          339,
          210,
          154,
          233,
          358,
          394,
          14,
          86,
          56,
          106,
          65,
          133,
          274,
          298,
          98,
          216,
          389,
          229,
          234,
          97,
          318,
          142,
          305,
          116,
          0,
          254,
          76,
          73,
          332,
          377,
          215,
          135,
          24,
          336,
          18,
          51,
          392,
          375,
          328,
          283,
          60,
          138,
          208,
          68,
          122,
          20,
          386,
          340,
          304,
          341,
          194,
          245,
          114,
          120,
          173,
          21,
          342,
          129,
          240,
          148,
          248,
          249,
          164,
          58,
          260,
          7,
          217,
          55,
          236,
          307,
          188,
          48,
          89,
          158,
          81,
          77,
          103,
          219,
          44,
          126,
          144,
          156,
          19,
          23,
          327,
          118,
          107,
          205,
          255,
          380,
          8,
          322,
          299,
          139,
          36,
          378,
          218,
          50,
          34,
          264,
          125,
          371,
          284,
          40,
          67,
          367,
          310,
          110,
          108,
          198,
          329,
          179,
          64,
          168,
          29,
          349,
          223,
          224,
          100,
          104,
          237,
          161,
          213,
          152,
          49,
          184,
          261,
          297,
          296,
          5,
          189,
          145,
          79,
          374,
          289,
          146,
          361,
          352,
          397,
          137,
          250,
          85,
          225,
          222,
          10,
          171,
          206,
          348,
          201,
          271,
          170,
          190,
          16,
          209,
          309,
          33,
          181,
          350,
          302,
          313,
          46,
          226,
          295,
          357,
          391,
          35,
          80,
          232,
          312,
          160,
          319,
          331,
          83,
          395,
          300,
          363,
          316,
          373,
          270,
          141,
          393,
          113,
          369,
          2,
          78,
          143,
          272,
          191,
          3,
          93,
          387,
          230,
          346,
          362,
          22,
          159,
          30,
          235,
          376,
          4,
          241,
          112,
          276,
          306,
          75,
          334,
          94
         ],
         "y": [
          6,
          4,
          4,
          4,
          6,
          6,
          6,
          8,
          8,
          4,
          8,
          8,
          6,
          6,
          6,
          6,
          6,
          8,
          8,
          4,
          4,
          4,
          4,
          4,
          4,
          8,
          6,
          6,
          8,
          6,
          4,
          8,
          4,
          6,
          8,
          4,
          8,
          8,
          4,
          4,
          6,
          8,
          8,
          4,
          4,
          8,
          6,
          8,
          8,
          4,
          4,
          3,
          6,
          4,
          8,
          4,
          4,
          4,
          4,
          8,
          4,
          4,
          4,
          4,
          4,
          4,
          8,
          6,
          6,
          8,
          6,
          4,
          6,
          4,
          4,
          8,
          4,
          4,
          8,
          4,
          6,
          8,
          3,
          4,
          4,
          8,
          8,
          4,
          4,
          6,
          4,
          4,
          6,
          8,
          4,
          4,
          4,
          6,
          4,
          4,
          6,
          8,
          4,
          4,
          4,
          8,
          8,
          4,
          6,
          4,
          4,
          4,
          6,
          6,
          4,
          4,
          4,
          4,
          8,
          4,
          8,
          8,
          6,
          5,
          8,
          6,
          4,
          6,
          8,
          4,
          6,
          4,
          4,
          4,
          8,
          8,
          6,
          4,
          8,
          4,
          4,
          8,
          6,
          6,
          4,
          4,
          4,
          4,
          4,
          4,
          6,
          4,
          8,
          8,
          8,
          4,
          4,
          6,
          4,
          4,
          6,
          6,
          4,
          4,
          4,
          4,
          4,
          4,
          4,
          4,
          4,
          4,
          8,
          6,
          4,
          6,
          8,
          4,
          4,
          4,
          6,
          8,
          6,
          8,
          8,
          4,
          4,
          8,
          4,
          8,
          6,
          4,
          8,
          4,
          4,
          5,
          4,
          6,
          4,
          4,
          4,
          8,
          4,
          4,
          8,
          6,
          4,
          4,
          4,
          6,
          8,
          6,
          4,
          6,
          8,
          8,
          4,
          4,
          4,
          4,
          4,
          4,
          4,
          8,
          4,
          4,
          4,
          8,
          8,
          6,
          8,
          4,
          6,
          8,
          6,
          4,
          4,
          6,
          5,
          4,
          8,
          8,
          4,
          4,
          4,
          8,
          4,
          6,
          4,
          4,
          8,
          8,
          8,
          6,
          8,
          8,
          4,
          4,
          4,
          6,
          4,
          4,
          8,
          6,
          4,
          4,
          6,
          4,
          4,
          4,
          4,
          4,
          6,
          4,
          4,
          4,
          6,
          4,
          8,
          4,
          6,
          4,
          4,
          4,
          4,
          8,
          6,
          6,
          4,
          4,
          4,
          4,
          6,
          4,
          8,
          4,
          4,
          4,
          6,
          8,
          8,
          6,
          8,
          4,
          6,
          4,
          8,
          4,
          4,
          4,
          8,
          6,
          4,
          4,
          6,
          8,
          3,
          8
         ]
        },
        {
         "marker": {
          "color": "rgba(50, 171, 96, 0.6)",
          "line": {
           "color": "rgba(50, 171, 96, 1.0)",
           "width": 1
          }
         },
         "name": "displacement",
         "orientation": "v",
         "text": "",
         "type": "bar",
         "x": [
          15,
          385,
          293,
          61,
          17,
          280,
          155,
          231,
          74,
          196,
          187,
          62,
          123,
          176,
          227,
          263,
          259,
          124,
          212,
          317,
          175,
          182,
          149,
          238,
          282,
          66,
          256,
          275,
          92,
          228,
          390,
          1,
          326,
          37,
          287,
          132,
          95,
          136,
          269,
          204,
          253,
          90,
          12,
          278,
          344,
          11,
          134,
          214,
          140,
          266,
          52,
          71,
          281,
          246,
          96,
          308,
          354,
          372,
          268,
          26,
          315,
          388,
          381,
          324,
          356,
          59,
          63,
          199,
          162,
          69,
          45,
          178,
          153,
          301,
          294,
          13,
          102,
          347,
          41,
          186,
          365,
          221,
          111,
          383,
          330,
          286,
          43,
          207,
          54,
          169,
          320,
          379,
          200,
          27,
          311,
          220,
          247,
          101,
          150,
          109,
          252,
          6,
          239,
          303,
          167,
          166,
          157,
          279,
          258,
          325,
          130,
          339,
          210,
          154,
          233,
          358,
          394,
          14,
          86,
          56,
          106,
          65,
          133,
          274,
          298,
          98,
          216,
          389,
          229,
          234,
          97,
          318,
          142,
          305,
          116,
          0,
          254,
          76,
          73,
          332,
          377,
          215,
          135,
          24,
          336,
          18,
          51,
          392,
          375,
          328,
          283,
          60,
          138,
          208,
          68,
          122,
          20,
          386,
          340,
          304,
          341,
          194,
          245,
          114,
          120,
          173,
          21,
          342,
          129,
          240,
          148,
          248,
          249,
          164,
          58,
          260,
          7,
          217,
          55,
          236,
          307,
          188,
          48,
          89,
          158,
          81,
          77,
          103,
          219,
          44,
          126,
          144,
          156,
          19,
          23,
          327,
          118,
          107,
          205,
          255,
          380,
          8,
          322,
          299,
          139,
          36,
          378,
          218,
          50,
          34,
          264,
          125,
          371,
          284,
          40,
          67,
          367,
          310,
          110,
          108,
          198,
          329,
          179,
          64,
          168,
          29,
          349,
          223,
          224,
          100,
          104,
          237,
          161,
          213,
          152,
          49,
          184,
          261,
          297,
          296,
          5,
          189,
          145,
          79,
          374,
          289,
          146,
          361,
          352,
          397,
          137,
          250,
          85,
          225,
          222,
          10,
          171,
          206,
          348,
          201,
          271,
          170,
          190,
          16,
          209,
          309,
          33,
          181,
          350,
          302,
          313,
          46,
          226,
          295,
          357,
          391,
          35,
          80,
          232,
          312,
          160,
          319,
          331,
          83,
          395,
          300,
          363,
          316,
          373,
          270,
          141,
          393,
          113,
          369,
          2,
          78,
          143,
          272,
          191,
          3,
          93,
          387,
          230,
          346,
          362,
          22,
          159,
          30,
          235,
          376,
          4,
          241,
          112,
          276,
          306,
          75,
          334,
          94
         ],
         "y": [
          198,
          91,
          89,
          122,
          200,
          231,
          250,
          400,
          302,
          98,
          305,
          350,
          156,
          232,
          225,
          231,
          200,
          350,
          350,
          97,
          90,
          107,
          120,
          98,
          140,
          304,
          225,
          163,
          351,
          250,
          144,
          350,
          90,
          232,
          351,
          140,
          455,
          302,
          105,
          85,
          200,
          429,
          400,
          89,
          86,
          340,
          258,
          302,
          304,
          98,
          88,
          70,
          200,
          78,
          360,
          151,
          100,
          151,
          119,
          307,
          151,
          156,
          107,
          85,
          108,
          97,
          400,
          225,
          258,
          350,
          258,
          120,
          250,
          105,
          86,
          455,
          97,
          85,
          318,
          101,
          200,
          305,
          70,
          91,
          85,
          302,
          400,
          130,
          72,
          232,
          119,
          98,
          250,
          318,
          98,
          85,
          85,
          198,
          108,
          140,
          231,
          454,
          97,
          85,
          97,
          302,
          350,
          98,
          231,
          90,
          122,
          151,
          156,
          250,
          97,
          120,
          97,
          113,
          304,
          91,
          350,
          351,
          250,
          131,
          350,
          250,
          98,
          232,
          400,
          151,
          225,
          134,
          79,
          151,
          400,
          307,
          200,
          121,
          307,
          89,
          91,
          318,
          225,
          199,
          140,
          97,
          79,
          151,
          105,
          146,
          232,
          140,
          318,
          318,
          350,
          121,
          110,
          181,
          156,
          91,
          173,
          232,
          98,
          98,
          121,
          119,
          107,
          135,
          79,
          97,
          116,
          91,
          260,
          231,
          97.5,
          225,
          440,
          111,
          97,
          140,
          173,
          318,
          250,
          318,
          318,
          97,
          121,
          400,
          122,
          400,
          200,
          76,
          400,
          97,
          121,
          121,
          116,
          232,
          97,
          140,
          120,
          455,
          86,
          141,
          302,
          250,
          105,
          79,
          116,
          225,
          302,
          198,
          135,
          225,
          351,
          429,
          112,
          89,
          108,
          97,
          91,
          91,
          121,
          318,
          140,
          97,
          91,
          318,
          302,
          250,
          400,
          98,
          250,
          350,
          225,
          122,
          140,
          258,
          183,
          121,
          429,
          304,
          83,
          96,
          151,
          350,
          90,
          168,
          98,
          119,
          350,
          318,
          350,
          250,
          260,
          383,
          134,
          140,
          89,
          250,
          156,
          140,
          351,
          199,
          120,
          98,
          232,
          91,
          105,
          105,
          151,
          140,
          231,
          98,
          119,
          135,
          250,
          122,
          351,
          86,
          231,
          120,
          97,
          98,
          135,
          260,
          231,
          225,
          140,
          134,
          98,
          140,
          155,
          112,
          318,
          120,
          97,
          151,
          225,
          304,
          318,
          262,
          350,
          97,
          146,
          104,
          351,
          140,
          97,
          91,
          302,
          146,
          122,
          121,
          173,
          318,
          70,
          440
         ]
        },
        {
         "marker": {
          "color": "rgba(128, 0, 128, 0.6)",
          "line": {
           "color": "rgba(128, 0, 128, 1.0)",
           "width": 1
          }
         },
         "name": "horsepower",
         "orientation": "v",
         "text": "",
         "type": "bar",
         "x": [
          15,
          385,
          293,
          61,
          17,
          280,
          155,
          231,
          74,
          196,
          187,
          62,
          123,
          176,
          227,
          263,
          259,
          124,
          212,
          317,
          175,
          182,
          149,
          238,
          282,
          66,
          256,
          275,
          92,
          228,
          390,
          1,
          326,
          37,
          287,
          132,
          95,
          136,
          269,
          204,
          253,
          90,
          12,
          278,
          344,
          11,
          134,
          214,
          140,
          266,
          52,
          71,
          281,
          246,
          96,
          308,
          354,
          372,
          268,
          26,
          315,
          388,
          381,
          324,
          356,
          59,
          63,
          199,
          162,
          69,
          45,
          178,
          153,
          301,
          294,
          13,
          102,
          347,
          41,
          186,
          365,
          221,
          111,
          383,
          330,
          286,
          43,
          207,
          54,
          169,
          320,
          379,
          200,
          27,
          311,
          220,
          247,
          101,
          150,
          109,
          252,
          6,
          239,
          303,
          167,
          166,
          157,
          279,
          258,
          325,
          130,
          339,
          210,
          154,
          233,
          358,
          394,
          14,
          86,
          56,
          106,
          65,
          133,
          274,
          298,
          98,
          216,
          389,
          229,
          234,
          97,
          318,
          142,
          305,
          116,
          0,
          254,
          76,
          73,
          332,
          377,
          215,
          135,
          24,
          336,
          18,
          51,
          392,
          375,
          328,
          283,
          60,
          138,
          208,
          68,
          122,
          20,
          386,
          340,
          304,
          341,
          194,
          245,
          114,
          120,
          173,
          21,
          342,
          129,
          240,
          148,
          248,
          249,
          164,
          58,
          260,
          7,
          217,
          55,
          236,
          307,
          188,
          48,
          89,
          158,
          81,
          77,
          103,
          219,
          44,
          126,
          144,
          156,
          19,
          23,
          327,
          118,
          107,
          205,
          255,
          380,
          8,
          322,
          299,
          139,
          36,
          378,
          218,
          50,
          34,
          264,
          125,
          371,
          284,
          40,
          67,
          367,
          310,
          110,
          108,
          198,
          329,
          179,
          64,
          168,
          29,
          349,
          223,
          224,
          100,
          104,
          237,
          161,
          213,
          152,
          49,
          184,
          261,
          297,
          296,
          5,
          189,
          145,
          79,
          374,
          289,
          146,
          361,
          352,
          397,
          137,
          250,
          85,
          225,
          222,
          10,
          171,
          206,
          348,
          201,
          271,
          170,
          190,
          16,
          209,
          309,
          33,
          181,
          350,
          302,
          313,
          46,
          226,
          295,
          357,
          391,
          35,
          80,
          232,
          312,
          160,
          319,
          331,
          83,
          395,
          300,
          363,
          316,
          373,
          270,
          141,
          393,
          113,
          369,
          2,
          78,
          143,
          272,
          191,
          3,
          93,
          387,
          230,
          346,
          362,
          22,
          159,
          30,
          235,
          376,
          4,
          241,
          112,
          276,
          306,
          75,
          334,
          94
         ],
         "y": [
          "95",
          "67",
          "71",
          "86",
          "85",
          "115",
          "72",
          "190",
          "140",
          "60",
          "140",
          "165",
          "122",
          "90",
          "100",
          "165",
          "85",
          "180",
          "180",
          "78",
          "70",
          "86",
          "97",
          "83",
          "88",
          "150",
          "100",
          "125",
          "158",
          "98",
          "96",
          "165",
          "48",
          "100",
          "138",
          "75",
          "225",
          "140",
          "75",
          "70",
          "95",
          "198",
          "150",
          "71",
          "64",
          "160",
          "110",
          "130",
          "150",
          "68",
          "76",
          "97",
          "85",
          "52",
          "175",
          "90",
          "?",
          "90",
          "97",
          "200",
          "90",
          "92",
          "75",
          "65",
          "75",
          "54",
          "175",
          "100",
          "110",
          "160",
          "110",
          "88",
          "105",
          "70",
          "65",
          "225",
          "46",
          "65",
          "150",
          "83",
          "88",
          "145",
          "90",
          "67",
          "?",
          "129",
          "170",
          "102",
          "69",
          "100",
          "92",
          "70",
          "78",
          "210",
          "70",
          "70",
          "70",
          "95",
          "93",
          "72",
          "105",
          "220",
          "67",
          "65",
          "75",
          "129",
          "145",
          "68",
          "105",
          "48",
          "80",
          "84",
          "108",
          "72",
          "78",
          "74",
          "52",
          "95",
          "150",
          "70",
          "180",
          "153",
          "100",
          "103",
          "125",
          "100",
          "68",
          "112",
          "180",
          "88",
          "105",
          "90",
          "67",
          "90",
          "230",
          "130",
          "85",
          "112",
          "130",
          "62",
          "68",
          "150",
          "105",
          "90",
          "?",
          "88",
          "70",
          "90",
          "74",
          "67",
          "90",
          "90",
          "150",
          "150",
          "155",
          "110",
          "87",
          "110",
          "92",
          "69",
          "110",
          "90",
          "66",
          "90",
          "112",
          "97",
          "90",
          "84",
          "67",
          "78",
          "75",
          "60",
          "110",
          "110",
          "80",
          "110",
          "215",
          "80",
          "60",
          "89",
          "115",
          "150",
          "88",
          "150",
          "150",
          "92",
          "76",
          "150",
          "96",
          "175",
          "?",
          "52",
          "170",
          "46",
          "113",
          "67",
          "75",
          "100",
          "75",
          "88",
          "88",
          "225",
          "65",
          "71",
          "140",
          "88",
          "63",
          "58",
          "90",
          "105",
          "139",
          "95",
          "84",
          "110",
          "153",
          "208",
          "88",
          "60",
          "94",
          "88",
          "53",
          "67",
          "98",
          "150",
          "83",
          "88",
          "68",
          "145",
          "130",
          "88",
          "167",
          "63",
          "105",
          "145",
          "95",
          "86",
          "92",
          "120",
          "77",
          "80",
          "198",
          "120",
          "61",
          "69",
          "?",
          "155",
          "75",
          "116",
          "65",
          "82",
          "150",
          "140",
          "175",
          "110",
          "110",
          "170",
          "96",
          "72",
          "62",
          "110",
          "105",
          "78",
          "152",
          "97",
          "88",
          "76",
          "100",
          "53",
          "63",
          "70",
          "90",
          "72",
          "105",
          "80",
          "100",
          "84",
          "100",
          "86",
          "149",
          "65",
          "110",
          "75",
          "67",
          "80",
          "84",
          "90",
          "110",
          "90",
          "92",
          "95",
          "83",
          "86",
          "107",
          "88",
          "150",
          "87",
          "78",
          "85",
          "100",
          "150",
          "150",
          "85",
          "170",
          "67",
          "120",
          "95",
          "148",
          "90",
          "75",
          "68",
          "140",
          "97",
          "85",
          "115",
          "115",
          "150",
          "100",
          "215"
         ]
        },
        {
         "marker": {
          "color": "rgba(219, 64, 82, 0.6)",
          "line": {
           "color": "rgba(219, 64, 82, 1.0)",
           "width": 1
          }
         },
         "name": "weight",
         "orientation": "v",
         "text": "",
         "type": "bar",
         "x": [
          15,
          385,
          293,
          61,
          17,
          280,
          155,
          231,
          74,
          196,
          187,
          62,
          123,
          176,
          227,
          263,
          259,
          124,
          212,
          317,
          175,
          182,
          149,
          238,
          282,
          66,
          256,
          275,
          92,
          228,
          390,
          1,
          326,
          37,
          287,
          132,
          95,
          136,
          269,
          204,
          253,
          90,
          12,
          278,
          344,
          11,
          134,
          214,
          140,
          266,
          52,
          71,
          281,
          246,
          96,
          308,
          354,
          372,
          268,
          26,
          315,
          388,
          381,
          324,
          356,
          59,
          63,
          199,
          162,
          69,
          45,
          178,
          153,
          301,
          294,
          13,
          102,
          347,
          41,
          186,
          365,
          221,
          111,
          383,
          330,
          286,
          43,
          207,
          54,
          169,
          320,
          379,
          200,
          27,
          311,
          220,
          247,
          101,
          150,
          109,
          252,
          6,
          239,
          303,
          167,
          166,
          157,
          279,
          258,
          325,
          130,
          339,
          210,
          154,
          233,
          358,
          394,
          14,
          86,
          56,
          106,
          65,
          133,
          274,
          298,
          98,
          216,
          389,
          229,
          234,
          97,
          318,
          142,
          305,
          116,
          0,
          254,
          76,
          73,
          332,
          377,
          215,
          135,
          24,
          336,
          18,
          51,
          392,
          375,
          328,
          283,
          60,
          138,
          208,
          68,
          122,
          20,
          386,
          340,
          304,
          341,
          194,
          245,
          114,
          120,
          173,
          21,
          342,
          129,
          240,
          148,
          248,
          249,
          164,
          58,
          260,
          7,
          217,
          55,
          236,
          307,
          188,
          48,
          89,
          158,
          81,
          77,
          103,
          219,
          44,
          126,
          144,
          156,
          19,
          23,
          327,
          118,
          107,
          205,
          255,
          380,
          8,
          322,
          299,
          139,
          36,
          378,
          218,
          50,
          34,
          264,
          125,
          371,
          284,
          40,
          67,
          367,
          310,
          110,
          108,
          198,
          329,
          179,
          64,
          168,
          29,
          349,
          223,
          224,
          100,
          104,
          237,
          161,
          213,
          152,
          49,
          184,
          261,
          297,
          296,
          5,
          189,
          145,
          79,
          374,
          289,
          146,
          361,
          352,
          397,
          137,
          250,
          85,
          225,
          222,
          10,
          171,
          206,
          348,
          201,
          271,
          170,
          190,
          16,
          209,
          309,
          33,
          181,
          350,
          302,
          313,
          46,
          226,
          295,
          357,
          391,
          35,
          80,
          232,
          312,
          160,
          319,
          331,
          83,
          395,
          300,
          363,
          316,
          373,
          270,
          141,
          393,
          113,
          369,
          2,
          78,
          143,
          272,
          191,
          3,
          93,
          387,
          230,
          346,
          362,
          22,
          159,
          30,
          235,
          376,
          4,
          241,
          112,
          276,
          306,
          75,
          334,
          94
         ],
         "y": [
          2833,
          1995,
          1925,
          2226,
          2587,
          3245,
          3158,
          4325,
          4294,
          2164,
          4215,
          4274,
          2807,
          3211,
          3630,
          3445,
          3070,
          3664,
          4380,
          2188,
          1937,
          2464,
          2489,
          2075,
          2890,
          3672,
          3430,
          3140,
          4363,
          3525,
          2665,
          3693,
          2335,
          3288,
          3955,
          2542,
          4951,
          4141,
          2230,
          1990,
          3155,
          4952,
          3761,
          1990,
          1875,
          3609,
          3632,
          3870,
          4257,
          2155,
          2065,
          2330,
          2990,
          1985,
          3821,
          2556,
          2320,
          2735,
          2300,
          4376,
          3003,
          2585,
          2205,
          2110,
          2350,
          2254,
          4385,
          3651,
          3730,
          4456,
          2962,
          2957,
          3459,
          2200,
          1975,
          3086,
          1950,
          1975,
          4096,
          2202,
          3060,
          3880,
          2124,
          1965,
          1835,
          3725,
          4746,
          3150,
          1613,
          2914,
          2434,
          2125,
          3574,
          4382,
          2120,
          1945,
          2070,
          2904,
          2391,
          2401,
          3535,
          4354,
          1985,
          2020,
          2171,
          3169,
          4440,
          2135,
          3380,
          2085,
          2451,
          2635,
          2930,
          3432,
          1940,
          2635,
          2130,
          2372,
          3672,
          1955,
          4499,
          4129,
          3781,
          2830,
          3900,
          3278,
          2045,
          2835,
          4220,
          2740,
          3121,
          2711,
          1963,
          2670,
          4278,
          3504,
          2965,
          2933,
          4098,
          1845,
          1970,
          3755,
          3613,
          2648,
          2905,
          2130,
          2074,
          2950,
          1980,
          3250,
          3265,
          2408,
          4457,
          3940,
          4502,
          2660,
          2672,
          2945,
          2620,
          2130,
          2725,
          3085,
          1800,
          2265,
          2868,
          2545,
          2430,
          2385,
          1950,
          2190,
          2246,
          1800,
          3365,
          3039,
          2126,
          3620,
          4312,
          2155,
          1834,
          2755,
          2700,
          4190,
          3139,
          3777,
          4498,
          2288,
          2511,
          4997,
          2300,
          5140,
          2875,
          1649,
          4668,
          1835,
          2234,
          2950,
          2158,
          2789,
          2155,
          2720,
          2160,
          4425,
          2110,
          3190,
          4638,
          3302,
          2125,
          1825,
          2123,
          3439,
          3205,
          3102,
          2525,
          3360,
          4154,
          4633,
          2605,
          1968,
          2379,
          2279,
          1795,
          1850,
          2945,
          4135,
          2639,
          2130,
          1985,
          4140,
          4295,
          3021,
          4906,
          2051,
          3897,
          4055,
          3264,
          2220,
          2572,
          3410,
          3530,
          2670,
          4341,
          3962,
          2003,
          2189,
          3035,
          4360,
          2125,
          2900,
          2380,
          2720,
          4699,
          3735,
          4100,
          3520,
          4060,
          3563,
          2702,
          2565,
          2050,
          3645,
          2745,
          2592,
          4215,
          2774,
          3270,
          2144,
          2634,
          1795,
          2215,
          2150,
          2678,
          2408,
          3425,
          1915,
          2615,
          2370,
          3329,
          2395,
          4335,
          2019,
          3907,
          2542,
          2145,
          2164,
          2295,
          3420,
          3415,
          3381,
          2865,
          2515,
          2219,
          2790,
          2472,
          2395,
          3436,
          2979,
          2300,
          2855,
          3233,
          3433,
          4237,
          3015,
          4165,
          2065,
          2930,
          2375,
          4657,
          2264,
          2265,
          2025,
          3449,
          2815,
          2310,
          2795,
          2595,
          4077,
          2420,
          4735
         ]
        },
        {
         "marker": {
          "color": "rgba(0, 128, 128, 0.6)",
          "line": {
           "color": "rgba(0, 128, 128, 1.0)",
           "width": 1
          }
         },
         "name": "acceleration",
         "orientation": "v",
         "text": "",
         "type": "bar",
         "x": [
          15,
          385,
          293,
          61,
          17,
          280,
          155,
          231,
          74,
          196,
          187,
          62,
          123,
          176,
          227,
          263,
          259,
          124,
          212,
          317,
          175,
          182,
          149,
          238,
          282,
          66,
          256,
          275,
          92,
          228,
          390,
          1,
          326,
          37,
          287,
          132,
          95,
          136,
          269,
          204,
          253,
          90,
          12,
          278,
          344,
          11,
          134,
          214,
          140,
          266,
          52,
          71,
          281,
          246,
          96,
          308,
          354,
          372,
          268,
          26,
          315,
          388,
          381,
          324,
          356,
          59,
          63,
          199,
          162,
          69,
          45,
          178,
          153,
          301,
          294,
          13,
          102,
          347,
          41,
          186,
          365,
          221,
          111,
          383,
          330,
          286,
          43,
          207,
          54,
          169,
          320,
          379,
          200,
          27,
          311,
          220,
          247,
          101,
          150,
          109,
          252,
          6,
          239,
          303,
          167,
          166,
          157,
          279,
          258,
          325,
          130,
          339,
          210,
          154,
          233,
          358,
          394,
          14,
          86,
          56,
          106,
          65,
          133,
          274,
          298,
          98,
          216,
          389,
          229,
          234,
          97,
          318,
          142,
          305,
          116,
          0,
          254,
          76,
          73,
          332,
          377,
          215,
          135,
          24,
          336,
          18,
          51,
          392,
          375,
          328,
          283,
          60,
          138,
          208,
          68,
          122,
          20,
          386,
          340,
          304,
          341,
          194,
          245,
          114,
          120,
          173,
          21,
          342,
          129,
          240,
          148,
          248,
          249,
          164,
          58,
          260,
          7,
          217,
          55,
          236,
          307,
          188,
          48,
          89,
          158,
          81,
          77,
          103,
          219,
          44,
          126,
          144,
          156,
          19,
          23,
          327,
          118,
          107,
          205,
          255,
          380,
          8,
          322,
          299,
          139,
          36,
          378,
          218,
          50,
          34,
          264,
          125,
          371,
          284,
          40,
          67,
          367,
          310,
          110,
          108,
          198,
          329,
          179,
          64,
          168,
          29,
          349,
          223,
          224,
          100,
          104,
          237,
          161,
          213,
          152,
          49,
          184,
          261,
          297,
          296,
          5,
          189,
          145,
          79,
          374,
          289,
          146,
          361,
          352,
          397,
          137,
          250,
          85,
          225,
          222,
          10,
          171,
          206,
          348,
          201,
          271,
          170,
          190,
          16,
          209,
          309,
          33,
          181,
          350,
          302,
          313,
          46,
          226,
          295,
          357,
          391,
          35,
          80,
          232,
          312,
          160,
          319,
          331,
          83,
          395,
          300,
          363,
          316,
          373,
          270,
          141,
          393,
          113,
          369,
          2,
          78,
          143,
          272,
          191,
          3,
          93,
          387,
          230,
          346,
          362,
          22,
          159,
          30,
          235,
          376,
          4,
          241,
          112,
          276,
          306,
          75,
          334,
          94
         ],
         "y": [
          15.5,
          16.2,
          14,
          16.5,
          16,
          15.4,
          19.5,
          12.2,
          16,
          22.1,
          13,
          12,
          13.5,
          17,
          17.7,
          13.4,
          16.7,
          11,
          12.1,
          15.8,
          14,
          15.5,
          15,
          15.9,
          17.3,
          11.5,
          17.2,
          13.6,
          13,
          19,
          13.9,
          11.5,
          23.7,
          15.5,
          13.2,
          17,
          11,
          14,
          14.5,
          17,
          18.2,
          11.5,
          9.5,
          14.9,
          16.4,
          8,
          18,
          15,
          15.5,
          16.5,
          14.5,
          13.5,
          18.2,
          19.4,
          11,
          13.2,
          15.8,
          18,
          14.7,
          15,
          20.1,
          14.5,
          14.5,
          19.2,
          16.8,
          23.5,
          12,
          17.7,
          19,
          13.5,
          13.5,
          17,
          16,
          13.2,
          15.2,
          10,
          21,
          19.4,
          13,
          15.3,
          17.1,
          12.5,
          13.5,
          15,
          17.3,
          13.4,
          12,
          15.7,
          18,
          16,
          15,
          17.3,
          21,
          13.5,
          15.5,
          16.8,
          18.6,
          16,
          15.5,
          19.5,
          19.2,
          9,
          16.4,
          19.2,
          16,
          12,
          14,
          16.6,
          15.8,
          21.7,
          16.5,
          16.4,
          15.5,
          21,
          14.5,
          18.3,
          24.6,
          15,
          11.5,
          20.5,
          12.5,
          13,
          17,
          15.9,
          17.4,
          18,
          18.5,
          14.7,
          11.1,
          16,
          16.5,
          15.5,
          15.5,
          16,
          9.5,
          12,
          15.8,
          14.5,
          14,
          15.3,
          17.6,
          14,
          16.5,
          15,
          14.3,
          14.5,
          19.5,
          17.3,
          15.3,
          21.8,
          18.2,
          19.5,
          13.5,
          13.2,
          13.5,
          14,
          17.5,
          16.4,
          14.4,
          14.7,
          12.6,
          17.6,
          14.4,
          15.5,
          15.5,
          17,
          14.5,
          12.9,
          19,
          14.1,
          14,
          16.4,
          15.5,
          15,
          17,
          18.7,
          8.5,
          14.8,
          19,
          15.8,
          12.9,
          13,
          14.5,
          12.5,
          14.5,
          17,
          18,
          14,
          15.5,
          12,
          17,
          16.5,
          11.5,
          20.5,
          12.5,
          19.9,
          15.5,
          15,
          16.4,
          15.4,
          14.5,
          10,
          17.9,
          24.8,
          16,
          15.5,
          14.7,
          18.6,
          14,
          15.5,
          11.2,
          16.5,
          16,
          16.6,
          13.5,
          11,
          19.6,
          18.8,
          16.5,
          19,
          17.4,
          13.8,
          14.5,
          13.5,
          17,
          14.5,
          16,
          13.7,
          14.9,
          16.5,
          12.5,
          17,
          18.5,
          12,
          16,
          14,
          14.9,
          15.1,
          20.1,
          15,
          10,
          13.9,
          19,
          18,
          20.5,
          14.9,
          14.5,
          12.6,
          20.7,
          19.4,
          14.5,
          13.2,
          13,
          16.4,
          19,
          10,
          13.5,
          13.6,
          17.3,
          16.2,
          16.7,
          18.5,
          12.8,
          15.5,
          21.9,
          14.7,
          13,
          17.5,
          14.9,
          14.9,
          16.5,
          19,
          16.9,
          14.4,
          14.8,
          13,
          15.5,
          16,
          14.5,
          16.4,
          21,
          17.5,
          18,
          15,
          11.6,
          22.2,
          15.8,
          18.7,
          16.4,
          14.8,
          16.5,
          15.6,
          14,
          18,
          11,
          19.5,
          14.5,
          17.6,
          15.4,
          12,
          14.5,
          17,
          11.4,
          17.8,
          13.8,
          17.5,
          13.5,
          15.5,
          18.2,
          18.2,
          10.5,
          14.5,
          18.5,
          15.7,
          11.3,
          14,
          12.5,
          11
         ]
        },
        {
         "marker": {
          "color": "rgba(255, 255, 51, 0.6)",
          "line": {
           "color": "rgba(255, 255, 51, 1.0)",
           "width": 1
          }
         },
         "name": "model year",
         "orientation": "v",
         "text": "",
         "type": "bar",
         "x": [
          15,
          385,
          293,
          61,
          17,
          280,
          155,
          231,
          74,
          196,
          187,
          62,
          123,
          176,
          227,
          263,
          259,
          124,
          212,
          317,
          175,
          182,
          149,
          238,
          282,
          66,
          256,
          275,
          92,
          228,
          390,
          1,
          326,
          37,
          287,
          132,
          95,
          136,
          269,
          204,
          253,
          90,
          12,
          278,
          344,
          11,
          134,
          214,
          140,
          266,
          52,
          71,
          281,
          246,
          96,
          308,
          354,
          372,
          268,
          26,
          315,
          388,
          381,
          324,
          356,
          59,
          63,
          199,
          162,
          69,
          45,
          178,
          153,
          301,
          294,
          13,
          102,
          347,
          41,
          186,
          365,
          221,
          111,
          383,
          330,
          286,
          43,
          207,
          54,
          169,
          320,
          379,
          200,
          27,
          311,
          220,
          247,
          101,
          150,
          109,
          252,
          6,
          239,
          303,
          167,
          166,
          157,
          279,
          258,
          325,
          130,
          339,
          210,
          154,
          233,
          358,
          394,
          14,
          86,
          56,
          106,
          65,
          133,
          274,
          298,
          98,
          216,
          389,
          229,
          234,
          97,
          318,
          142,
          305,
          116,
          0,
          254,
          76,
          73,
          332,
          377,
          215,
          135,
          24,
          336,
          18,
          51,
          392,
          375,
          328,
          283,
          60,
          138,
          208,
          68,
          122,
          20,
          386,
          340,
          304,
          341,
          194,
          245,
          114,
          120,
          173,
          21,
          342,
          129,
          240,
          148,
          248,
          249,
          164,
          58,
          260,
          7,
          217,
          55,
          236,
          307,
          188,
          48,
          89,
          158,
          81,
          77,
          103,
          219,
          44,
          126,
          144,
          156,
          19,
          23,
          327,
          118,
          107,
          205,
          255,
          380,
          8,
          322,
          299,
          139,
          36,
          378,
          218,
          50,
          34,
          264,
          125,
          371,
          284,
          40,
          67,
          367,
          310,
          110,
          108,
          198,
          329,
          179,
          64,
          168,
          29,
          349,
          223,
          224,
          100,
          104,
          237,
          161,
          213,
          152,
          49,
          184,
          261,
          297,
          296,
          5,
          189,
          145,
          79,
          374,
          289,
          146,
          361,
          352,
          397,
          137,
          250,
          85,
          225,
          222,
          10,
          171,
          206,
          348,
          201,
          271,
          170,
          190,
          16,
          209,
          309,
          33,
          181,
          350,
          302,
          313,
          46,
          226,
          295,
          357,
          391,
          35,
          80,
          232,
          312,
          160,
          319,
          331,
          83,
          395,
          300,
          363,
          316,
          373,
          270,
          141,
          393,
          113,
          369,
          2,
          78,
          143,
          272,
          191,
          3,
          93,
          387,
          230,
          346,
          362,
          22,
          159,
          30,
          235,
          376,
          4,
          241,
          112,
          276,
          306,
          75,
          334,
          94
         ],
         "y": [
          70,
          82,
          79,
          72,
          70,
          79,
          75,
          77,
          72,
          76,
          76,
          72,
          73,
          75,
          77,
          78,
          78,
          73,
          76,
          80,
          75,
          76,
          74,
          77,
          79,
          72,
          78,
          78,
          73,
          77,
          82,
          70,
          80,
          71,
          79,
          74,
          73,
          74,
          78,
          76,
          78,
          73,
          70,
          78,
          81,
          70,
          74,
          76,
          74,
          78,
          71,
          72,
          79,
          78,
          73,
          79,
          81,
          82,
          78,
          70,
          80,
          82,
          82,
          80,
          81,
          72,
          72,
          76,
          75,
          72,
          71,
          75,
          75,
          79,
          79,
          70,
          73,
          81,
          71,
          76,
          81,
          77,
          73,
          82,
          80,
          79,
          71,
          76,
          71,
          75,
          80,
          82,
          76,
          70,
          80,
          77,
          78,
          73,
          74,
          73,
          78,
          70,
          77,
          79,
          75,
          75,
          75,
          78,
          78,
          80,
          74,
          81,
          76,
          75,
          77,
          81,
          82,
          70,
          73,
          71,
          73,
          72,
          74,
          78,
          79,
          73,
          77,
          82,
          77,
          77,
          73,
          80,
          74,
          79,
          73,
          70,
          78,
          72,
          72,
          80,
          82,
          76,
          74,
          70,
          80,
          70,
          71,
          82,
          82,
          80,
          79,
          72,
          74,
          76,
          72,
          73,
          70,
          82,
          81,
          79,
          81,
          76,
          78,
          73,
          73,
          75,
          70,
          81,
          74,
          77,
          74,
          78,
          78,
          75,
          72,
          78,
          70,
          77,
          71,
          77,
          79,
          76,
          71,
          73,
          75,
          72,
          72,
          73,
          77,
          71,
          74,
          74,
          75,
          70,
          70,
          80,
          73,
          73,
          76,
          78,
          82,
          70,
          80,
          79,
          74,
          71,
          82,
          77,
          71,
          71,
          78,
          74,
          82,
          79,
          71,
          72,
          82,
          80,
          73,
          73,
          76,
          80,
          75,
          72,
          75,
          71,
          81,
          77,
          77,
          73,
          73,
          77,
          75,
          76,
          75,
          71,
          76,
          78,
          79,
          79,
          70,
          76,
          74,
          72,
          82,
          79,
          74,
          81,
          81,
          82,
          74,
          78,
          73,
          77,
          77,
          70,
          75,
          76,
          81,
          76,
          78,
          75,
          76,
          70,
          76,
          80,
          71,
          75,
          81,
          79,
          80,
          71,
          77,
          79,
          81,
          82,
          71,
          72,
          77,
          80,
          75,
          80,
          80,
          72,
          82,
          79,
          81,
          80,
          82,
          78,
          74,
          82,
          73,
          82,
          70,
          72,
          74,
          78,
          76,
          70,
          73,
          82,
          77,
          81,
          81,
          70,
          75,
          71,
          77,
          82,
          70,
          77,
          73,
          78,
          79,
          72,
          80,
          73
         ]
        },
        {
         "marker": {
          "color": "rgba(128, 128, 0, 0.6)",
          "line": {
           "color": "rgba(128, 128, 0, 1.0)",
           "width": 1
          }
         },
         "name": "car name",
         "orientation": "v",
         "text": "",
         "type": "bar",
         "x": [
          15,
          385,
          293,
          61,
          17,
          280,
          155,
          231,
          74,
          196,
          187,
          62,
          123,
          176,
          227,
          263,
          259,
          124,
          212,
          317,
          175,
          182,
          149,
          238,
          282,
          66,
          256,
          275,
          92,
          228,
          390,
          1,
          326,
          37,
          287,
          132,
          95,
          136,
          269,
          204,
          253,
          90,
          12,
          278,
          344,
          11,
          134,
          214,
          140,
          266,
          52,
          71,
          281,
          246,
          96,
          308,
          354,
          372,
          268,
          26,
          315,
          388,
          381,
          324,
          356,
          59,
          63,
          199,
          162,
          69,
          45,
          178,
          153,
          301,
          294,
          13,
          102,
          347,
          41,
          186,
          365,
          221,
          111,
          383,
          330,
          286,
          43,
          207,
          54,
          169,
          320,
          379,
          200,
          27,
          311,
          220,
          247,
          101,
          150,
          109,
          252,
          6,
          239,
          303,
          167,
          166,
          157,
          279,
          258,
          325,
          130,
          339,
          210,
          154,
          233,
          358,
          394,
          14,
          86,
          56,
          106,
          65,
          133,
          274,
          298,
          98,
          216,
          389,
          229,
          234,
          97,
          318,
          142,
          305,
          116,
          0,
          254,
          76,
          73,
          332,
          377,
          215,
          135,
          24,
          336,
          18,
          51,
          392,
          375,
          328,
          283,
          60,
          138,
          208,
          68,
          122,
          20,
          386,
          340,
          304,
          341,
          194,
          245,
          114,
          120,
          173,
          21,
          342,
          129,
          240,
          148,
          248,
          249,
          164,
          58,
          260,
          7,
          217,
          55,
          236,
          307,
          188,
          48,
          89,
          158,
          81,
          77,
          103,
          219,
          44,
          126,
          144,
          156,
          19,
          23,
          327,
          118,
          107,
          205,
          255,
          380,
          8,
          322,
          299,
          139,
          36,
          378,
          218,
          50,
          34,
          264,
          125,
          371,
          284,
          40,
          67,
          367,
          310,
          110,
          108,
          198,
          329,
          179,
          64,
          168,
          29,
          349,
          223,
          224,
          100,
          104,
          237,
          161,
          213,
          152,
          49,
          184,
          261,
          297,
          296,
          5,
          189,
          145,
          79,
          374,
          289,
          146,
          361,
          352,
          397,
          137,
          250,
          85,
          225,
          222,
          10,
          171,
          206,
          348,
          201,
          271,
          170,
          190,
          16,
          209,
          309,
          33,
          181,
          350,
          302,
          313,
          46,
          226,
          295,
          357,
          391,
          35,
          80,
          232,
          312,
          160,
          319,
          331,
          83,
          395,
          300,
          363,
          316,
          373,
          270,
          141,
          393,
          113,
          369,
          2,
          78,
          143,
          272,
          191,
          3,
          93,
          387,
          230,
          346,
          362,
          22,
          159,
          30,
          235,
          376,
          4,
          241,
          112,
          276,
          306,
          75,
          334,
          94
         ],
         "y": [
          "plymouth duster",
          "datsun 310 gx",
          "vw rabbit custom",
          "ford pinto runabout",
          "ford maverick",
          "pontiac lemans v6",
          "ford maverick",
          "chrysler cordoba",
          "ford gran torino (sw)",
          "chevrolet woody",
          "chevrolet chevelle malibu classic",
          "chevrolet impala",
          "toyota mark ii",
          "amc pacer",
          "plymouth volare custom",
          "buick regal sport coupe (turbo)",
          "mercury zephyr",
          "oldsmobile omega",
          "cadillac seville",
          "audi 4000",
          "volkswagen rabbit",
          "fiat 131",
          "honda civic",
          "dodge colt m/m",
          "ford fairmont 4",
          "amc ambassador sst",
          "plymouth volare",
          "volvo 264gl",
          "ford ltd",
          "ford granada",
          "toyota celica gt",
          "buick skylark 320",
          "vw dasher (diesel)",
          "amc matador",
          "mercury grand marquis",
          "chevrolet vega",
          "buick electra 225 custom",
          "ford gran torino",
          "dodge omni",
          "datsun b-210",
          "chevrolet malibu",
          "mercury marquis brougham",
          "chevrolet monte carlo",
          "volkswagen scirocco",
          "plymouth champ",
          "plymouth 'cuda 340",
          "amc matador",
          "ford f108",
          "amc matador (sw)",
          "chevrolet chevette",
          "fiat 124b",
          "mazda rx2 coupe",
          "mercury zephyr 6",
          "mazda glc deluxe",
          "amc ambassador brougham",
          "pontiac phoenix",
          "renault 18i",
          "pontiac phoenix",
          "datsun 510",
          "chevy c20",
          "amc concord",
          "chrysler lebaron medallion",
          "honda accord",
          "datsun 210",
          "toyota corolla",
          "volkswagen type 3",
          "pontiac catalina",
          "dodge aspen se",
          "amc matador",
          "oldsmobile delta 88 royale",
          "amc hornet sportabout (sw)",
          "peugeot 504",
          "chevrolet nova",
          "plymouth horizon",
          "maxda glc deluxe",
          "buick estate wagon (sw)",
          "volkswagen super beetle",
          "datsun 210 mpg",
          "plymouth fury iii",
          "renault 12tl",
          "ford granada gl",
          "chevrolet caprice classic",
          "maxda rx3",
          "honda civic",
          "renault lecar deluxe",
          "ford ltd landau",
          "ford country squire (sw)",
          "volvo 245",
          "datsun 1200",
          "amc gremlin",
          "datsun 510 hatchback",
          "mercury lynx l",
          "ford granada ghia",
          "dodge d200",
          "chevrolet chevette",
          "datsun f-10 hatchback",
          "datsun b210 gx",
          "plymouth duster",
          "subaru",
          "chevrolet vega",
          "pontiac phoenix lj",
          "chevrolet impala",
          "subaru dl",
          "datsun 210",
          "toyota corolla",
          "ford mustang ii",
          "chevrolet bel air",
          "honda accord lx",
          "buick century special",
          "vw rabbit c (diesel)",
          "ford pinto",
          "buick skylark",
          "toyota mark ii",
          "mercury monarch",
          "volkswagen rabbit custom",
          "mazda 626",
          "vw pickup",
          "toyota corona mark ii",
          "amc matador",
          "plymouth cricket",
          "oldsmobile vista cruiser",
          "ford galaxie 500",
          "chevrolet chevelle malibu classic",
          "audi 5000",
          "cadillac eldorado",
          "chevrolet nova custom",
          "honda accord cvcc",
          "ford granada l",
          "pontiac grand prix lj",
          "pontiac sunbird coupe",
          "plymouth valiant",
          "toyota corona liftback",
          "volkswagen dasher",
          "buick skylark limited",
          "pontiac grand prix",
          "chevrolet chevelle malibu",
          "ford fairmont (auto)",
          "volvo 145e (sw)",
          "chevrolet chevelle concours (sw)",
          "vokswagen rabbit",
          "mazda glc custom",
          "dodge d100",
          "plymouth satellite sebring",
          "amc gremlin",
          "ford mustang cobra",
          "datsun pl510",
          "peugeot 304",
          "chevrolet camaro",
          "volkswagen rabbit l",
          "mercedes-benz 240d",
          "amc concord dl 6",
          "chevrolet vega",
          "dodge coronet custom (sw)",
          "plymouth volare premier v8",
          "buick lesabre custom",
          "saab 99le",
          "peugeot 504",
          "buick century limited",
          "dodge aries wagon (sw)",
          "fiat strada custom",
          "chevrolet citation",
          "amc hornet",
          "ford fiesta",
          "fiat 124 sport coupe",
          "volvo 144ea",
          "datsun 710",
          "audi 100 ls",
          "plymouth reliant",
          "datsun b210",
          "volkswagen dasher",
          "fiat 124 tc",
          "honda civic cvcc",
          "oldsmobile cutlass salon brougham",
          "buick skyhawk",
          "dodge colt hardtop",
          "dodge aspen",
          "plymouth fury iii",
          "buick opel isuzu deluxe",
          "volkswagen model 111",
          "ford mustang ii 2+2",
          "oldsmobile omega brougham",
          "dodge coronet brougham",
          "ford mustang",
          "dodge coronet custom",
          "plymouth grand fury",
          "datsun 510 (sw)",
          "volkswagen 411 (sw)",
          "chevrolet impala",
          "plymouth arrow gs",
          "pontiac safari (sw)",
          "ford maverick",
          "toyota corona",
          "pontiac catalina",
          "volkswagen 1131 deluxe sedan",
          "bmw 2002",
          "audi 5000s (diesel)",
          "opel manta",
          "amc gremlin",
          "toyota corolla",
          "ford fairmont (man)",
          "nissan stanza xe",
          "pontiac catalina",
          "mazda glc",
          "peugeot 504",
          "ford gran torino (sw)",
          "ford torino 500",
          "plymouth horizon miser",
          "renault 5 gtl",
          "opel 1900",
          "plymouth satellite custom",
          "ford futura",
          "plymouth duster",
          "dodge aries se",
          "dodge aspen 6",
          "ford galaxie 500",
          "mercury marquis",
          "chevrolet cavalier",
          "toyota corolla tercel",
          "datsun 610",
          "toyota carina",
          "honda civic",
          "honda civic 1500 gl",
          "volvo 244dl",
          "plymouth fury iii",
          "ford pinto",
          "datsun pl510",
          "mazda glc 4",
          "dodge monaco brougham",
          "mercury cougar brougham",
          "ford maverick",
          "ford country",
          "chevrolet chevette",
          "chevroelt chevelle malibu",
          "chevy c10",
          "plymouth valiant custom",
          "mercury capri 2000",
          "capri ii",
          "amc concord d/l",
          "mercedes benz 300d",
          "amc spirit dl",
          "ford galaxie 500",
          "amc matador",
          "datsun 710",
          "renault 12 (sw)",
          "amc concord dl",
          "buick estate wagon (sw)",
          "dodge colt",
          "toyota cressida",
          "ford escort 2h",
          "chevy s-10",
          "buick century luxus (sw)",
          "dodge diplomat",
          "buick century 350",
          "chevrolet concours",
          "oldsmobile cutlass supreme",
          "dodge challenger se",
          "toyota corona",
          "ford pinto",
          "toyota tercel",
          "pontiac ventura sj",
          "plymouth sapporo",
          "pontiac astro",
          "ford gran torino",
          "amc hornet",
          "peugeot 504",
          "vw rabbit",
          "amc gremlin",
          "honda civic cvcc",
          "plymouth horizon 4",
          "plymouth horizon tc3",
          "chevrolet citation",
          "chevrolet vega (sw)",
          "buick skylark",
          "dodge colt hatchback custom",
          "datsun 200sx",
          "dodge charger 2.2",
          "chevrolet chevelle malibu",
          "ford pinto (sw)",
          "ford thunderbird",
          "datsun 310",
          "buick century",
          "mazda 626",
          "subaru dl",
          "dodge colt (sw)",
          "dodge rampage",
          "oldsmobile cutlass salon brougham",
          "buick century",
          "dodge aspen",
          "ford fairmont futura",
          "toyota celica gt liftback",
          "audi fox",
          "ford mustang gl",
          "mercury capri v6",
          "chevrolet cavalier 2-door",
          "plymouth satellite",
          "peugeot 504 (sw)",
          "opel manta",
          "oldsmobile starfire sx",
          "plymouth valiant",
          "amc rebel sst",
          "plymouth fury gran sedan",
          "oldsmobile cutlass ciera (diesel)",
          "chevrolet monte carlo landau",
          "subaru",
          "datsun 810 maxima",
          "saab 99e",
          "ford ltd",
          "chevrolet vega 2300",
          "toyota corolla liftback",
          "mazda glc custom l",
          "ford torino",
          "datsun 810",
          "ford pinto",
          "saab 99gle",
          "chevrolet citation",
          "plymouth satellite custom (sw)",
          "mazda rx-7 gs",
          "chrysler new yorker brougham"
         ]
        },
        {
         "marker": {
          "color": "rgba(251, 128, 114, 0.6)",
          "line": {
           "color": "rgba(251, 128, 114, 1.0)",
           "width": 1
          }
         },
         "name": "USA",
         "orientation": "v",
         "text": "",
         "type": "bar",
         "x": [
          15,
          385,
          293,
          61,
          17,
          280,
          155,
          231,
          74,
          196,
          187,
          62,
          123,
          176,
          227,
          263,
          259,
          124,
          212,
          317,
          175,
          182,
          149,
          238,
          282,
          66,
          256,
          275,
          92,
          228,
          390,
          1,
          326,
          37,
          287,
          132,
          95,
          136,
          269,
          204,
          253,
          90,
          12,
          278,
          344,
          11,
          134,
          214,
          140,
          266,
          52,
          71,
          281,
          246,
          96,
          308,
          354,
          372,
          268,
          26,
          315,
          388,
          381,
          324,
          356,
          59,
          63,
          199,
          162,
          69,
          45,
          178,
          153,
          301,
          294,
          13,
          102,
          347,
          41,
          186,
          365,
          221,
          111,
          383,
          330,
          286,
          43,
          207,
          54,
          169,
          320,
          379,
          200,
          27,
          311,
          220,
          247,
          101,
          150,
          109,
          252,
          6,
          239,
          303,
          167,
          166,
          157,
          279,
          258,
          325,
          130,
          339,
          210,
          154,
          233,
          358,
          394,
          14,
          86,
          56,
          106,
          65,
          133,
          274,
          298,
          98,
          216,
          389,
          229,
          234,
          97,
          318,
          142,
          305,
          116,
          0,
          254,
          76,
          73,
          332,
          377,
          215,
          135,
          24,
          336,
          18,
          51,
          392,
          375,
          328,
          283,
          60,
          138,
          208,
          68,
          122,
          20,
          386,
          340,
          304,
          341,
          194,
          245,
          114,
          120,
          173,
          21,
          342,
          129,
          240,
          148,
          248,
          249,
          164,
          58,
          260,
          7,
          217,
          55,
          236,
          307,
          188,
          48,
          89,
          158,
          81,
          77,
          103,
          219,
          44,
          126,
          144,
          156,
          19,
          23,
          327,
          118,
          107,
          205,
          255,
          380,
          8,
          322,
          299,
          139,
          36,
          378,
          218,
          50,
          34,
          264,
          125,
          371,
          284,
          40,
          67,
          367,
          310,
          110,
          108,
          198,
          329,
          179,
          64,
          168,
          29,
          349,
          223,
          224,
          100,
          104,
          237,
          161,
          213,
          152,
          49,
          184,
          261,
          297,
          296,
          5,
          189,
          145,
          79,
          374,
          289,
          146,
          361,
          352,
          397,
          137,
          250,
          85,
          225,
          222,
          10,
          171,
          206,
          348,
          201,
          271,
          170,
          190,
          16,
          209,
          309,
          33,
          181,
          350,
          302,
          313,
          46,
          226,
          295,
          357,
          391,
          35,
          80,
          232,
          312,
          160,
          319,
          331,
          83,
          395,
          300,
          363,
          316,
          373,
          270,
          141,
          393,
          113,
          369,
          2,
          78,
          143,
          272,
          191,
          3,
          93,
          387,
          230,
          346,
          362,
          22,
          159,
          30,
          235,
          376,
          4,
          241,
          112,
          276,
          306,
          75,
          334,
          94
         ],
         "y": [
          1,
          0,
          0,
          1,
          1,
          1,
          1,
          1,
          1,
          1,
          1,
          1,
          0,
          1,
          1,
          1,
          1,
          1,
          1,
          0,
          0,
          0,
          0,
          1,
          1,
          1,
          1,
          0,
          1,
          1,
          0,
          1,
          0,
          1,
          1,
          1,
          1,
          1,
          1,
          0,
          1,
          1,
          1,
          0,
          1,
          1,
          1,
          1,
          1,
          1,
          0,
          0,
          1,
          0,
          1,
          1,
          0,
          1,
          0,
          1,
          1,
          1,
          0,
          0,
          0,
          0,
          1,
          1,
          1,
          1,
          1,
          0,
          1,
          1,
          0,
          1,
          0,
          0,
          1,
          0,
          1,
          1,
          0,
          0,
          0,
          1,
          1,
          0,
          0,
          1,
          0,
          1,
          1,
          1,
          1,
          0,
          0,
          1,
          0,
          1,
          1,
          1,
          0,
          0,
          0,
          1,
          1,
          0,
          1,
          0,
          1,
          1,
          0,
          1,
          0,
          0,
          0,
          0,
          1,
          1,
          1,
          1,
          1,
          0,
          1,
          1,
          0,
          1,
          1,
          1,
          1,
          0,
          0,
          1,
          1,
          1,
          1,
          0,
          1,
          0,
          0,
          1,
          1,
          1,
          1,
          0,
          0,
          1,
          0,
          0,
          1,
          1,
          1,
          1,
          1,
          0,
          0,
          1,
          1,
          0,
          1,
          1,
          1,
          0,
          0,
          0,
          0,
          1,
          0,
          0,
          0,
          0,
          1,
          1,
          1,
          1,
          1,
          1,
          0,
          1,
          1,
          1,
          1,
          1,
          1,
          0,
          0,
          1,
          1,
          1,
          1,
          0,
          1,
          0,
          0,
          0,
          0,
          1,
          0,
          1,
          0,
          1,
          0,
          0,
          1,
          1,
          1,
          0,
          0,
          1,
          1,
          1,
          1,
          1,
          1,
          1,
          1,
          0,
          0,
          0,
          0,
          0,
          0,
          1,
          1,
          0,
          0,
          1,
          1,
          1,
          1,
          1,
          1,
          1,
          1,
          1,
          1,
          1,
          0,
          1,
          1,
          1,
          0,
          0,
          1,
          1,
          1,
          0,
          1,
          1,
          1,
          1,
          1,
          1,
          1,
          1,
          0,
          1,
          0,
          1,
          1,
          1,
          1,
          1,
          0,
          0,
          1,
          0,
          1,
          1,
          1,
          1,
          1,
          1,
          0,
          1,
          1,
          1,
          1,
          0,
          1,
          0,
          0,
          1,
          1,
          1,
          1,
          1,
          1,
          0,
          0,
          1,
          1,
          1,
          1,
          0,
          0,
          1,
          1,
          1,
          1,
          1,
          1,
          0,
          0,
          0,
          1,
          1,
          0,
          0,
          1,
          0,
          1,
          0,
          1,
          1,
          0,
          1
         ]
        },
        {
         "marker": {
          "color": "rgba(128, 177, 211, 0.6)",
          "line": {
           "color": "rgba(128, 177, 211, 1.0)",
           "width": 1
          }
         },
         "name": "Europe",
         "orientation": "v",
         "text": "",
         "type": "bar",
         "x": [
          15,
          385,
          293,
          61,
          17,
          280,
          155,
          231,
          74,
          196,
          187,
          62,
          123,
          176,
          227,
          263,
          259,
          124,
          212,
          317,
          175,
          182,
          149,
          238,
          282,
          66,
          256,
          275,
          92,
          228,
          390,
          1,
          326,
          37,
          287,
          132,
          95,
          136,
          269,
          204,
          253,
          90,
          12,
          278,
          344,
          11,
          134,
          214,
          140,
          266,
          52,
          71,
          281,
          246,
          96,
          308,
          354,
          372,
          268,
          26,
          315,
          388,
          381,
          324,
          356,
          59,
          63,
          199,
          162,
          69,
          45,
          178,
          153,
          301,
          294,
          13,
          102,
          347,
          41,
          186,
          365,
          221,
          111,
          383,
          330,
          286,
          43,
          207,
          54,
          169,
          320,
          379,
          200,
          27,
          311,
          220,
          247,
          101,
          150,
          109,
          252,
          6,
          239,
          303,
          167,
          166,
          157,
          279,
          258,
          325,
          130,
          339,
          210,
          154,
          233,
          358,
          394,
          14,
          86,
          56,
          106,
          65,
          133,
          274,
          298,
          98,
          216,
          389,
          229,
          234,
          97,
          318,
          142,
          305,
          116,
          0,
          254,
          76,
          73,
          332,
          377,
          215,
          135,
          24,
          336,
          18,
          51,
          392,
          375,
          328,
          283,
          60,
          138,
          208,
          68,
          122,
          20,
          386,
          340,
          304,
          341,
          194,
          245,
          114,
          120,
          173,
          21,
          342,
          129,
          240,
          148,
          248,
          249,
          164,
          58,
          260,
          7,
          217,
          55,
          236,
          307,
          188,
          48,
          89,
          158,
          81,
          77,
          103,
          219,
          44,
          126,
          144,
          156,
          19,
          23,
          327,
          118,
          107,
          205,
          255,
          380,
          8,
          322,
          299,
          139,
          36,
          378,
          218,
          50,
          34,
          264,
          125,
          371,
          284,
          40,
          67,
          367,
          310,
          110,
          108,
          198,
          329,
          179,
          64,
          168,
          29,
          349,
          223,
          224,
          100,
          104,
          237,
          161,
          213,
          152,
          49,
          184,
          261,
          297,
          296,
          5,
          189,
          145,
          79,
          374,
          289,
          146,
          361,
          352,
          397,
          137,
          250,
          85,
          225,
          222,
          10,
          171,
          206,
          348,
          201,
          271,
          170,
          190,
          16,
          209,
          309,
          33,
          181,
          350,
          302,
          313,
          46,
          226,
          295,
          357,
          391,
          35,
          80,
          232,
          312,
          160,
          319,
          331,
          83,
          395,
          300,
          363,
          316,
          373,
          270,
          141,
          393,
          113,
          369,
          2,
          78,
          143,
          272,
          191,
          3,
          93,
          387,
          230,
          346,
          362,
          22,
          159,
          30,
          235,
          376,
          4,
          241,
          112,
          276,
          306,
          75,
          334,
          94
         ],
         "y": [
          0,
          0,
          1,
          0,
          0,
          0,
          0,
          0,
          0,
          0,
          0,
          0,
          0,
          0,
          0,
          0,
          0,
          0,
          0,
          1,
          1,
          1,
          0,
          0,
          0,
          0,
          0,
          1,
          0,
          0,
          0,
          0,
          1,
          0,
          0,
          0,
          0,
          0,
          0,
          0,
          0,
          0,
          0,
          1,
          0,
          0,
          0,
          0,
          0,
          0,
          1,
          0,
          0,
          0,
          0,
          0,
          1,
          0,
          0,
          0,
          0,
          0,
          0,
          0,
          0,
          1,
          0,
          0,
          0,
          0,
          0,
          1,
          0,
          0,
          0,
          0,
          1,
          0,
          0,
          1,
          0,
          0,
          0,
          0,
          1,
          0,
          0,
          1,
          0,
          0,
          0,
          0,
          0,
          0,
          0,
          0,
          0,
          0,
          0,
          0,
          0,
          0,
          0,
          0,
          0,
          0,
          0,
          0,
          0,
          1,
          0,
          0,
          0,
          0,
          1,
          0,
          1,
          0,
          0,
          0,
          0,
          0,
          0,
          1,
          0,
          0,
          0,
          0,
          0,
          0,
          0,
          0,
          1,
          0,
          0,
          0,
          0,
          1,
          0,
          1,
          0,
          0,
          0,
          0,
          0,
          0,
          1,
          0,
          1,
          1,
          0,
          0,
          0,
          0,
          0,
          1,
          1,
          0,
          0,
          1,
          0,
          0,
          0,
          1,
          1,
          0,
          1,
          0,
          0,
          1,
          1,
          0,
          0,
          0,
          0,
          0,
          0,
          0,
          1,
          0,
          0,
          0,
          0,
          0,
          0,
          0,
          1,
          0,
          0,
          0,
          0,
          0,
          0,
          1,
          1,
          1,
          1,
          0,
          0,
          0,
          0,
          0,
          0,
          1,
          0,
          0,
          0,
          1,
          1,
          0,
          0,
          0,
          0,
          0,
          0,
          0,
          0,
          0,
          0,
          0,
          0,
          0,
          1,
          0,
          0,
          0,
          0,
          0,
          0,
          0,
          0,
          0,
          0,
          0,
          0,
          0,
          0,
          0,
          1,
          0,
          0,
          0,
          0,
          1,
          0,
          0,
          0,
          0,
          0,
          0,
          0,
          0,
          0,
          0,
          0,
          0,
          0,
          0,
          0,
          0,
          0,
          0,
          0,
          0,
          1,
          1,
          0,
          0,
          0,
          0,
          0,
          0,
          0,
          0,
          0,
          0,
          0,
          0,
          0,
          0,
          0,
          0,
          0,
          0,
          0,
          0,
          0,
          0,
          0,
          0,
          1,
          0,
          0,
          0,
          0,
          1,
          1,
          0,
          0,
          0,
          0,
          0,
          0,
          0,
          0,
          1,
          0,
          0,
          0,
          0,
          0,
          0,
          0,
          1,
          0,
          0,
          0,
          0
         ]
        },
        {
         "marker": {
          "color": "rgba(128, 177, 211, 0.6)",
          "line": {
           "color": "rgba(128, 177, 211, 0.8999999999999999)",
           "width": 1
          }
         },
         "name": "Japan",
         "orientation": "v",
         "text": "",
         "type": "bar",
         "x": [
          15,
          385,
          293,
          61,
          17,
          280,
          155,
          231,
          74,
          196,
          187,
          62,
          123,
          176,
          227,
          263,
          259,
          124,
          212,
          317,
          175,
          182,
          149,
          238,
          282,
          66,
          256,
          275,
          92,
          228,
          390,
          1,
          326,
          37,
          287,
          132,
          95,
          136,
          269,
          204,
          253,
          90,
          12,
          278,
          344,
          11,
          134,
          214,
          140,
          266,
          52,
          71,
          281,
          246,
          96,
          308,
          354,
          372,
          268,
          26,
          315,
          388,
          381,
          324,
          356,
          59,
          63,
          199,
          162,
          69,
          45,
          178,
          153,
          301,
          294,
          13,
          102,
          347,
          41,
          186,
          365,
          221,
          111,
          383,
          330,
          286,
          43,
          207,
          54,
          169,
          320,
          379,
          200,
          27,
          311,
          220,
          247,
          101,
          150,
          109,
          252,
          6,
          239,
          303,
          167,
          166,
          157,
          279,
          258,
          325,
          130,
          339,
          210,
          154,
          233,
          358,
          394,
          14,
          86,
          56,
          106,
          65,
          133,
          274,
          298,
          98,
          216,
          389,
          229,
          234,
          97,
          318,
          142,
          305,
          116,
          0,
          254,
          76,
          73,
          332,
          377,
          215,
          135,
          24,
          336,
          18,
          51,
          392,
          375,
          328,
          283,
          60,
          138,
          208,
          68,
          122,
          20,
          386,
          340,
          304,
          341,
          194,
          245,
          114,
          120,
          173,
          21,
          342,
          129,
          240,
          148,
          248,
          249,
          164,
          58,
          260,
          7,
          217,
          55,
          236,
          307,
          188,
          48,
          89,
          158,
          81,
          77,
          103,
          219,
          44,
          126,
          144,
          156,
          19,
          23,
          327,
          118,
          107,
          205,
          255,
          380,
          8,
          322,
          299,
          139,
          36,
          378,
          218,
          50,
          34,
          264,
          125,
          371,
          284,
          40,
          67,
          367,
          310,
          110,
          108,
          198,
          329,
          179,
          64,
          168,
          29,
          349,
          223,
          224,
          100,
          104,
          237,
          161,
          213,
          152,
          49,
          184,
          261,
          297,
          296,
          5,
          189,
          145,
          79,
          374,
          289,
          146,
          361,
          352,
          397,
          137,
          250,
          85,
          225,
          222,
          10,
          171,
          206,
          348,
          201,
          271,
          170,
          190,
          16,
          209,
          309,
          33,
          181,
          350,
          302,
          313,
          46,
          226,
          295,
          357,
          391,
          35,
          80,
          232,
          312,
          160,
          319,
          331,
          83,
          395,
          300,
          363,
          316,
          373,
          270,
          141,
          393,
          113,
          369,
          2,
          78,
          143,
          272,
          191,
          3,
          93,
          387,
          230,
          346,
          362,
          22,
          159,
          30,
          235,
          376,
          4,
          241,
          112,
          276,
          306,
          75,
          334,
          94
         ],
         "y": [
          0,
          1,
          0,
          0,
          0,
          0,
          0,
          0,
          0,
          0,
          0,
          0,
          1,
          0,
          0,
          0,
          0,
          0,
          0,
          0,
          0,
          0,
          1,
          0,
          0,
          0,
          0,
          0,
          0,
          0,
          1,
          0,
          0,
          0,
          0,
          0,
          0,
          0,
          0,
          1,
          0,
          0,
          0,
          0,
          0,
          0,
          0,
          0,
          0,
          0,
          0,
          1,
          0,
          1,
          0,
          0,
          0,
          0,
          1,
          0,
          0,
          0,
          1,
          1,
          1,
          0,
          0,
          0,
          0,
          0,
          0,
          0,
          0,
          0,
          1,
          0,
          0,
          1,
          0,
          0,
          0,
          0,
          1,
          1,
          0,
          0,
          0,
          0,
          1,
          0,
          1,
          0,
          0,
          0,
          0,
          1,
          1,
          0,
          1,
          0,
          0,
          0,
          1,
          1,
          1,
          0,
          0,
          1,
          0,
          0,
          0,
          0,
          1,
          0,
          0,
          1,
          0,
          1,
          0,
          0,
          0,
          0,
          0,
          0,
          0,
          0,
          1,
          0,
          0,
          0,
          0,
          1,
          0,
          0,
          0,
          0,
          0,
          0,
          0,
          0,
          1,
          0,
          0,
          0,
          0,
          1,
          0,
          0,
          0,
          0,
          0,
          0,
          0,
          0,
          0,
          0,
          0,
          0,
          0,
          0,
          0,
          0,
          0,
          0,
          0,
          1,
          0,
          0,
          1,
          0,
          0,
          1,
          0,
          0,
          0,
          0,
          0,
          0,
          0,
          0,
          0,
          0,
          0,
          0,
          0,
          1,
          0,
          0,
          0,
          0,
          0,
          1,
          0,
          0,
          0,
          0,
          0,
          0,
          1,
          0,
          1,
          0,
          1,
          0,
          0,
          0,
          0,
          0,
          0,
          0,
          0,
          0,
          0,
          0,
          0,
          0,
          0,
          1,
          1,
          1,
          1,
          1,
          0,
          0,
          0,
          1,
          1,
          0,
          0,
          0,
          0,
          0,
          0,
          0,
          0,
          0,
          0,
          0,
          0,
          0,
          0,
          0,
          1,
          0,
          0,
          0,
          0,
          1,
          0,
          0,
          0,
          0,
          0,
          0,
          0,
          0,
          1,
          0,
          1,
          0,
          0,
          0,
          0,
          0,
          0,
          0,
          0,
          1,
          0,
          0,
          0,
          0,
          0,
          0,
          1,
          0,
          0,
          0,
          0,
          1,
          0,
          1,
          1,
          0,
          0,
          0,
          0,
          0,
          0,
          1,
          0,
          0,
          0,
          0,
          0,
          0,
          0,
          0,
          0,
          0,
          0,
          0,
          0,
          1,
          1,
          0,
          0,
          0,
          1,
          1,
          0,
          1,
          0,
          0,
          0,
          0,
          1,
          0
         ]
        },
        {
         "marker": {
          "color": "rgba(255, 153, 51, 0.6)",
          "line": {
           "color": "rgba(255, 153, 51, 0.8999999999999999)",
           "width": 1
          }
         },
         "name": "Continent",
         "orientation": "v",
         "text": "",
         "type": "bar",
         "x": [
          15,
          385,
          293,
          61,
          17,
          280,
          155,
          231,
          74,
          196,
          187,
          62,
          123,
          176,
          227,
          263,
          259,
          124,
          212,
          317,
          175,
          182,
          149,
          238,
          282,
          66,
          256,
          275,
          92,
          228,
          390,
          1,
          326,
          37,
          287,
          132,
          95,
          136,
          269,
          204,
          253,
          90,
          12,
          278,
          344,
          11,
          134,
          214,
          140,
          266,
          52,
          71,
          281,
          246,
          96,
          308,
          354,
          372,
          268,
          26,
          315,
          388,
          381,
          324,
          356,
          59,
          63,
          199,
          162,
          69,
          45,
          178,
          153,
          301,
          294,
          13,
          102,
          347,
          41,
          186,
          365,
          221,
          111,
          383,
          330,
          286,
          43,
          207,
          54,
          169,
          320,
          379,
          200,
          27,
          311,
          220,
          247,
          101,
          150,
          109,
          252,
          6,
          239,
          303,
          167,
          166,
          157,
          279,
          258,
          325,
          130,
          339,
          210,
          154,
          233,
          358,
          394,
          14,
          86,
          56,
          106,
          65,
          133,
          274,
          298,
          98,
          216,
          389,
          229,
          234,
          97,
          318,
          142,
          305,
          116,
          0,
          254,
          76,
          73,
          332,
          377,
          215,
          135,
          24,
          336,
          18,
          51,
          392,
          375,
          328,
          283,
          60,
          138,
          208,
          68,
          122,
          20,
          386,
          340,
          304,
          341,
          194,
          245,
          114,
          120,
          173,
          21,
          342,
          129,
          240,
          148,
          248,
          249,
          164,
          58,
          260,
          7,
          217,
          55,
          236,
          307,
          188,
          48,
          89,
          158,
          81,
          77,
          103,
          219,
          44,
          126,
          144,
          156,
          19,
          23,
          327,
          118,
          107,
          205,
          255,
          380,
          8,
          322,
          299,
          139,
          36,
          378,
          218,
          50,
          34,
          264,
          125,
          371,
          284,
          40,
          67,
          367,
          310,
          110,
          108,
          198,
          329,
          179,
          64,
          168,
          29,
          349,
          223,
          224,
          100,
          104,
          237,
          161,
          213,
          152,
          49,
          184,
          261,
          297,
          296,
          5,
          189,
          145,
          79,
          374,
          289,
          146,
          361,
          352,
          397,
          137,
          250,
          85,
          225,
          222,
          10,
          171,
          206,
          348,
          201,
          271,
          170,
          190,
          16,
          209,
          309,
          33,
          181,
          350,
          302,
          313,
          46,
          226,
          295,
          357,
          391,
          35,
          80,
          232,
          312,
          160,
          319,
          331,
          83,
          395,
          300,
          363,
          316,
          373,
          270,
          141,
          393,
          113,
          369,
          2,
          78,
          143,
          272,
          191,
          3,
          93,
          387,
          230,
          346,
          362,
          22,
          159,
          30,
          235,
          376,
          4,
          241,
          112,
          276,
          306,
          75,
          334,
          94
         ],
         "y": [
          "USA",
          "Japan",
          "Europe",
          "USA",
          "USA",
          "USA",
          "USA",
          "USA",
          "USA",
          "USA",
          "USA",
          "USA",
          "Japan",
          "USA",
          "USA",
          "USA",
          "USA",
          "USA",
          "USA",
          "Europe",
          "Europe",
          "Europe",
          "Japan",
          "USA",
          "USA",
          "USA",
          "USA",
          "Europe",
          "USA",
          "USA",
          "Japan",
          "USA",
          "Europe",
          "USA",
          "USA",
          "USA",
          "USA",
          "USA",
          "USA",
          "Japan",
          "USA",
          "USA",
          "USA",
          "Europe",
          "USA",
          "USA",
          "USA",
          "USA",
          "USA",
          "USA",
          "Europe",
          "Japan",
          "USA",
          "Japan",
          "USA",
          "USA",
          "Europe",
          "USA",
          "Japan",
          "USA",
          "USA",
          "USA",
          "Japan",
          "Japan",
          "Japan",
          "Europe",
          "USA",
          "USA",
          "USA",
          "USA",
          "USA",
          "Europe",
          "USA",
          "USA",
          "Japan",
          "USA",
          "Europe",
          "Japan",
          "USA",
          "Europe",
          "USA",
          "USA",
          "Japan",
          "Japan",
          "Europe",
          "USA",
          "USA",
          "Europe",
          "Japan",
          "USA",
          "Japan",
          "USA",
          "USA",
          "USA",
          "USA",
          "Japan",
          "Japan",
          "USA",
          "Japan",
          "USA",
          "USA",
          "USA",
          "Japan",
          "Japan",
          "Japan",
          "USA",
          "USA",
          "Japan",
          "USA",
          "Europe",
          "USA",
          "USA",
          "Japan",
          "USA",
          "Europe",
          "Japan",
          "Europe",
          "Japan",
          "USA",
          "USA",
          "USA",
          "USA",
          "USA",
          "Europe",
          "USA",
          "USA",
          "Japan",
          "USA",
          "USA",
          "USA",
          "USA",
          "Japan",
          "Europe",
          "USA",
          "USA",
          "USA",
          "USA",
          "Europe",
          "USA",
          "Europe",
          "Japan",
          "USA",
          "USA",
          "USA",
          "USA",
          "Japan",
          "Europe",
          "USA",
          "Europe",
          "Europe",
          "USA",
          "USA",
          "USA",
          "USA",
          "USA",
          "Europe",
          "Europe",
          "USA",
          "USA",
          "Europe",
          "USA",
          "USA",
          "USA",
          "Europe",
          "Europe",
          "Japan",
          "Europe",
          "USA",
          "Japan",
          "Europe",
          "Europe",
          "Japan",
          "USA",
          "USA",
          "USA",
          "USA",
          "USA",
          "USA",
          "Europe",
          "USA",
          "USA",
          "USA",
          "USA",
          "USA",
          "USA",
          "Japan",
          "Europe",
          "USA",
          "USA",
          "USA",
          "USA",
          "Japan",
          "USA",
          "Europe",
          "Europe",
          "Europe",
          "Europe",
          "USA",
          "Japan",
          "USA",
          "Japan",
          "USA",
          "Japan",
          "Europe",
          "USA",
          "USA",
          "USA",
          "Europe",
          "Europe",
          "USA",
          "USA",
          "USA",
          "USA",
          "USA",
          "USA",
          "USA",
          "USA",
          "Japan",
          "Japan",
          "Japan",
          "Japan",
          "Japan",
          "Europe",
          "USA",
          "USA",
          "Japan",
          "Japan",
          "USA",
          "USA",
          "USA",
          "USA",
          "USA",
          "USA",
          "USA",
          "USA",
          "USA",
          "USA",
          "USA",
          "Europe",
          "USA",
          "USA",
          "USA",
          "Japan",
          "Europe",
          "USA",
          "USA",
          "USA",
          "Japan",
          "USA",
          "USA",
          "USA",
          "USA",
          "USA",
          "USA",
          "USA",
          "USA",
          "Japan",
          "USA",
          "Japan",
          "USA",
          "USA",
          "USA",
          "USA",
          "USA",
          "Europe",
          "Europe",
          "USA",
          "Japan",
          "USA",
          "USA",
          "USA",
          "USA",
          "USA",
          "USA",
          "Japan",
          "USA",
          "USA",
          "USA",
          "USA",
          "Japan",
          "USA",
          "Japan",
          "Japan",
          "USA",
          "USA",
          "USA",
          "USA",
          "USA",
          "USA",
          "Japan",
          "Europe",
          "USA",
          "USA",
          "USA",
          "USA",
          "Europe",
          "Europe",
          "USA",
          "USA",
          "USA",
          "USA",
          "USA",
          "USA",
          "Japan",
          "Japan",
          "Europe",
          "USA",
          "USA",
          "Japan",
          "Japan",
          "USA",
          "Japan",
          "USA",
          "Europe",
          "USA",
          "USA",
          "Japan",
          "USA"
         ]
        },
        {
         "marker": {
          "color": "rgba(55, 128, 191, 0.6)",
          "line": {
           "color": "rgba(55, 128, 191, 0.8999999999999999)",
           "width": 1
          }
         },
         "name": "Origin",
         "orientation": "v",
         "text": "",
         "type": "bar",
         "x": [
          15,
          385,
          293,
          61,
          17,
          280,
          155,
          231,
          74,
          196,
          187,
          62,
          123,
          176,
          227,
          263,
          259,
          124,
          212,
          317,
          175,
          182,
          149,
          238,
          282,
          66,
          256,
          275,
          92,
          228,
          390,
          1,
          326,
          37,
          287,
          132,
          95,
          136,
          269,
          204,
          253,
          90,
          12,
          278,
          344,
          11,
          134,
          214,
          140,
          266,
          52,
          71,
          281,
          246,
          96,
          308,
          354,
          372,
          268,
          26,
          315,
          388,
          381,
          324,
          356,
          59,
          63,
          199,
          162,
          69,
          45,
          178,
          153,
          301,
          294,
          13,
          102,
          347,
          41,
          186,
          365,
          221,
          111,
          383,
          330,
          286,
          43,
          207,
          54,
          169,
          320,
          379,
          200,
          27,
          311,
          220,
          247,
          101,
          150,
          109,
          252,
          6,
          239,
          303,
          167,
          166,
          157,
          279,
          258,
          325,
          130,
          339,
          210,
          154,
          233,
          358,
          394,
          14,
          86,
          56,
          106,
          65,
          133,
          274,
          298,
          98,
          216,
          389,
          229,
          234,
          97,
          318,
          142,
          305,
          116,
          0,
          254,
          76,
          73,
          332,
          377,
          215,
          135,
          24,
          336,
          18,
          51,
          392,
          375,
          328,
          283,
          60,
          138,
          208,
          68,
          122,
          20,
          386,
          340,
          304,
          341,
          194,
          245,
          114,
          120,
          173,
          21,
          342,
          129,
          240,
          148,
          248,
          249,
          164,
          58,
          260,
          7,
          217,
          55,
          236,
          307,
          188,
          48,
          89,
          158,
          81,
          77,
          103,
          219,
          44,
          126,
          144,
          156,
          19,
          23,
          327,
          118,
          107,
          205,
          255,
          380,
          8,
          322,
          299,
          139,
          36,
          378,
          218,
          50,
          34,
          264,
          125,
          371,
          284,
          40,
          67,
          367,
          310,
          110,
          108,
          198,
          329,
          179,
          64,
          168,
          29,
          349,
          223,
          224,
          100,
          104,
          237,
          161,
          213,
          152,
          49,
          184,
          261,
          297,
          296,
          5,
          189,
          145,
          79,
          374,
          289,
          146,
          361,
          352,
          397,
          137,
          250,
          85,
          225,
          222,
          10,
          171,
          206,
          348,
          201,
          271,
          170,
          190,
          16,
          209,
          309,
          33,
          181,
          350,
          302,
          313,
          46,
          226,
          295,
          357,
          391,
          35,
          80,
          232,
          312,
          160,
          319,
          331,
          83,
          395,
          300,
          363,
          316,
          373,
          270,
          141,
          393,
          113,
          369,
          2,
          78,
          143,
          272,
          191,
          3,
          93,
          387,
          230,
          346,
          362,
          22,
          159,
          30,
          235,
          376,
          4,
          241,
          112,
          276,
          306,
          75,
          334,
          94
         ],
         "y": [
          1,
          3,
          2,
          1,
          1,
          1,
          1,
          1,
          1,
          1,
          1,
          1,
          3,
          1,
          1,
          1,
          1,
          1,
          1,
          2,
          2,
          2,
          3,
          1,
          1,
          1,
          1,
          2,
          1,
          1,
          3,
          1,
          2,
          1,
          1,
          1,
          1,
          1,
          1,
          3,
          1,
          1,
          1,
          2,
          1,
          1,
          1,
          1,
          1,
          1,
          2,
          3,
          1,
          3,
          1,
          1,
          2,
          1,
          3,
          1,
          1,
          1,
          3,
          3,
          3,
          2,
          1,
          1,
          1,
          1,
          1,
          2,
          1,
          1,
          3,
          1,
          2,
          3,
          1,
          2,
          1,
          1,
          3,
          3,
          2,
          1,
          1,
          2,
          3,
          1,
          3,
          1,
          1,
          1,
          1,
          3,
          3,
          1,
          3,
          1,
          1,
          1,
          3,
          3,
          3,
          1,
          1,
          3,
          1,
          2,
          1,
          1,
          3,
          1,
          2,
          3,
          2,
          3,
          1,
          1,
          1,
          1,
          1,
          2,
          1,
          1,
          3,
          1,
          1,
          1,
          1,
          3,
          2,
          1,
          1,
          1,
          1,
          2,
          1,
          2,
          3,
          1,
          1,
          1,
          1,
          3,
          2,
          1,
          2,
          2,
          1,
          1,
          1,
          1,
          1,
          2,
          2,
          1,
          1,
          2,
          1,
          1,
          1,
          2,
          2,
          3,
          2,
          1,
          3,
          2,
          2,
          3,
          1,
          1,
          1,
          1,
          1,
          1,
          2,
          1,
          1,
          1,
          1,
          1,
          1,
          3,
          2,
          1,
          1,
          1,
          1,
          3,
          1,
          2,
          2,
          2,
          2,
          1,
          3,
          1,
          3,
          1,
          3,
          2,
          1,
          1,
          1,
          2,
          2,
          1,
          1,
          1,
          1,
          1,
          1,
          1,
          1,
          3,
          3,
          3,
          3,
          3,
          2,
          1,
          1,
          3,
          3,
          1,
          1,
          1,
          1,
          1,
          1,
          1,
          1,
          1,
          1,
          1,
          2,
          1,
          1,
          1,
          3,
          2,
          1,
          1,
          1,
          3,
          1,
          1,
          1,
          1,
          1,
          1,
          1,
          1,
          3,
          1,
          3,
          1,
          1,
          1,
          1,
          1,
          2,
          2,
          1,
          3,
          1,
          1,
          1,
          1,
          1,
          1,
          3,
          1,
          1,
          1,
          1,
          3,
          1,
          3,
          3,
          1,
          1,
          1,
          1,
          1,
          1,
          3,
          2,
          1,
          1,
          1,
          1,
          2,
          2,
          1,
          1,
          1,
          1,
          1,
          1,
          3,
          3,
          2,
          1,
          1,
          3,
          3,
          1,
          3,
          1,
          2,
          1,
          1,
          3,
          1
         ]
        }
       ],
       "layout": {
        "barmode": "stack",
        "legend": {
         "bgcolor": "#F5F6F9",
         "font": {
          "color": "#4D5663"
         },
         "traceorder": "normal"
        },
        "paper_bgcolor": "#F5F6F9",
        "plot_bgcolor": "#F5F6F9",
        "template": {
         "data": {
          "bar": [
           {
            "error_x": {
             "color": "#2a3f5f"
            },
            "error_y": {
             "color": "#2a3f5f"
            },
            "marker": {
             "line": {
              "color": "#E5ECF6",
              "width": 0.5
             }
            },
            "type": "bar"
           }
          ],
          "barpolar": [
           {
            "marker": {
             "line": {
              "color": "#E5ECF6",
              "width": 0.5
             }
            },
            "type": "barpolar"
           }
          ],
          "carpet": [
           {
            "aaxis": {
             "endlinecolor": "#2a3f5f",
             "gridcolor": "white",
             "linecolor": "white",
             "minorgridcolor": "white",
             "startlinecolor": "#2a3f5f"
            },
            "baxis": {
             "endlinecolor": "#2a3f5f",
             "gridcolor": "white",
             "linecolor": "white",
             "minorgridcolor": "white",
             "startlinecolor": "#2a3f5f"
            },
            "type": "carpet"
           }
          ],
          "choropleth": [
           {
            "colorbar": {
             "outlinewidth": 0,
             "ticks": ""
            },
            "type": "choropleth"
           }
          ],
          "contour": [
           {
            "colorbar": {
             "outlinewidth": 0,
             "ticks": ""
            },
            "colorscale": [
             [
              0,
              "#0d0887"
             ],
             [
              0.1111111111111111,
              "#46039f"
             ],
             [
              0.2222222222222222,
              "#7201a8"
             ],
             [
              0.3333333333333333,
              "#9c179e"
             ],
             [
              0.4444444444444444,
              "#bd3786"
             ],
             [
              0.5555555555555556,
              "#d8576b"
             ],
             [
              0.6666666666666666,
              "#ed7953"
             ],
             [
              0.7777777777777778,
              "#fb9f3a"
             ],
             [
              0.8888888888888888,
              "#fdca26"
             ],
             [
              1,
              "#f0f921"
             ]
            ],
            "type": "contour"
           }
          ],
          "contourcarpet": [
           {
            "colorbar": {
             "outlinewidth": 0,
             "ticks": ""
            },
            "type": "contourcarpet"
           }
          ],
          "heatmap": [
           {
            "colorbar": {
             "outlinewidth": 0,
             "ticks": ""
            },
            "colorscale": [
             [
              0,
              "#0d0887"
             ],
             [
              0.1111111111111111,
              "#46039f"
             ],
             [
              0.2222222222222222,
              "#7201a8"
             ],
             [
              0.3333333333333333,
              "#9c179e"
             ],
             [
              0.4444444444444444,
              "#bd3786"
             ],
             [
              0.5555555555555556,
              "#d8576b"
             ],
             [
              0.6666666666666666,
              "#ed7953"
             ],
             [
              0.7777777777777778,
              "#fb9f3a"
             ],
             [
              0.8888888888888888,
              "#fdca26"
             ],
             [
              1,
              "#f0f921"
             ]
            ],
            "type": "heatmap"
           }
          ],
          "heatmapgl": [
           {
            "colorbar": {
             "outlinewidth": 0,
             "ticks": ""
            },
            "colorscale": [
             [
              0,
              "#0d0887"
             ],
             [
              0.1111111111111111,
              "#46039f"
             ],
             [
              0.2222222222222222,
              "#7201a8"
             ],
             [
              0.3333333333333333,
              "#9c179e"
             ],
             [
              0.4444444444444444,
              "#bd3786"
             ],
             [
              0.5555555555555556,
              "#d8576b"
             ],
             [
              0.6666666666666666,
              "#ed7953"
             ],
             [
              0.7777777777777778,
              "#fb9f3a"
             ],
             [
              0.8888888888888888,
              "#fdca26"
             ],
             [
              1,
              "#f0f921"
             ]
            ],
            "type": "heatmapgl"
           }
          ],
          "histogram": [
           {
            "marker": {
             "colorbar": {
              "outlinewidth": 0,
              "ticks": ""
             }
            },
            "type": "histogram"
           }
          ],
          "histogram2d": [
           {
            "colorbar": {
             "outlinewidth": 0,
             "ticks": ""
            },
            "colorscale": [
             [
              0,
              "#0d0887"
             ],
             [
              0.1111111111111111,
              "#46039f"
             ],
             [
              0.2222222222222222,
              "#7201a8"
             ],
             [
              0.3333333333333333,
              "#9c179e"
             ],
             [
              0.4444444444444444,
              "#bd3786"
             ],
             [
              0.5555555555555556,
              "#d8576b"
             ],
             [
              0.6666666666666666,
              "#ed7953"
             ],
             [
              0.7777777777777778,
              "#fb9f3a"
             ],
             [
              0.8888888888888888,
              "#fdca26"
             ],
             [
              1,
              "#f0f921"
             ]
            ],
            "type": "histogram2d"
           }
          ],
          "histogram2dcontour": [
           {
            "colorbar": {
             "outlinewidth": 0,
             "ticks": ""
            },
            "colorscale": [
             [
              0,
              "#0d0887"
             ],
             [
              0.1111111111111111,
              "#46039f"
             ],
             [
              0.2222222222222222,
              "#7201a8"
             ],
             [
              0.3333333333333333,
              "#9c179e"
             ],
             [
              0.4444444444444444,
              "#bd3786"
             ],
             [
              0.5555555555555556,
              "#d8576b"
             ],
             [
              0.6666666666666666,
              "#ed7953"
             ],
             [
              0.7777777777777778,
              "#fb9f3a"
             ],
             [
              0.8888888888888888,
              "#fdca26"
             ],
             [
              1,
              "#f0f921"
             ]
            ],
            "type": "histogram2dcontour"
           }
          ],
          "mesh3d": [
           {
            "colorbar": {
             "outlinewidth": 0,
             "ticks": ""
            },
            "type": "mesh3d"
           }
          ],
          "parcoords": [
           {
            "line": {
             "colorbar": {
              "outlinewidth": 0,
              "ticks": ""
             }
            },
            "type": "parcoords"
           }
          ],
          "pie": [
           {
            "automargin": true,
            "type": "pie"
           }
          ],
          "scatter": [
           {
            "marker": {
             "colorbar": {
              "outlinewidth": 0,
              "ticks": ""
             }
            },
            "type": "scatter"
           }
          ],
          "scatter3d": [
           {
            "line": {
             "colorbar": {
              "outlinewidth": 0,
              "ticks": ""
             }
            },
            "marker": {
             "colorbar": {
              "outlinewidth": 0,
              "ticks": ""
             }
            },
            "type": "scatter3d"
           }
          ],
          "scattercarpet": [
           {
            "marker": {
             "colorbar": {
              "outlinewidth": 0,
              "ticks": ""
             }
            },
            "type": "scattercarpet"
           }
          ],
          "scattergeo": [
           {
            "marker": {
             "colorbar": {
              "outlinewidth": 0,
              "ticks": ""
             }
            },
            "type": "scattergeo"
           }
          ],
          "scattergl": [
           {
            "marker": {
             "colorbar": {
              "outlinewidth": 0,
              "ticks": ""
             }
            },
            "type": "scattergl"
           }
          ],
          "scattermapbox": [
           {
            "marker": {
             "colorbar": {
              "outlinewidth": 0,
              "ticks": ""
             }
            },
            "type": "scattermapbox"
           }
          ],
          "scatterpolar": [
           {
            "marker": {
             "colorbar": {
              "outlinewidth": 0,
              "ticks": ""
             }
            },
            "type": "scatterpolar"
           }
          ],
          "scatterpolargl": [
           {
            "marker": {
             "colorbar": {
              "outlinewidth": 0,
              "ticks": ""
             }
            },
            "type": "scatterpolargl"
           }
          ],
          "scatterternary": [
           {
            "marker": {
             "colorbar": {
              "outlinewidth": 0,
              "ticks": ""
             }
            },
            "type": "scatterternary"
           }
          ],
          "surface": [
           {
            "colorbar": {
             "outlinewidth": 0,
             "ticks": ""
            },
            "colorscale": [
             [
              0,
              "#0d0887"
             ],
             [
              0.1111111111111111,
              "#46039f"
             ],
             [
              0.2222222222222222,
              "#7201a8"
             ],
             [
              0.3333333333333333,
              "#9c179e"
             ],
             [
              0.4444444444444444,
              "#bd3786"
             ],
             [
              0.5555555555555556,
              "#d8576b"
             ],
             [
              0.6666666666666666,
              "#ed7953"
             ],
             [
              0.7777777777777778,
              "#fb9f3a"
             ],
             [
              0.8888888888888888,
              "#fdca26"
             ],
             [
              1,
              "#f0f921"
             ]
            ],
            "type": "surface"
           }
          ],
          "table": [
           {
            "cells": {
             "fill": {
              "color": "#EBF0F8"
             },
             "line": {
              "color": "white"
             }
            },
            "header": {
             "fill": {
              "color": "#C8D4E3"
             },
             "line": {
              "color": "white"
             }
            },
            "type": "table"
           }
          ]
         },
         "layout": {
          "annotationdefaults": {
           "arrowcolor": "#2a3f5f",
           "arrowhead": 0,
           "arrowwidth": 1
          },
          "autotypenumbers": "strict",
          "coloraxis": {
           "colorbar": {
            "outlinewidth": 0,
            "ticks": ""
           }
          },
          "colorscale": {
           "diverging": [
            [
             0,
             "#8e0152"
            ],
            [
             0.1,
             "#c51b7d"
            ],
            [
             0.2,
             "#de77ae"
            ],
            [
             0.3,
             "#f1b6da"
            ],
            [
             0.4,
             "#fde0ef"
            ],
            [
             0.5,
             "#f7f7f7"
            ],
            [
             0.6,
             "#e6f5d0"
            ],
            [
             0.7,
             "#b8e186"
            ],
            [
             0.8,
             "#7fbc41"
            ],
            [
             0.9,
             "#4d9221"
            ],
            [
             1,
             "#276419"
            ]
           ],
           "sequential": [
            [
             0,
             "#0d0887"
            ],
            [
             0.1111111111111111,
             "#46039f"
            ],
            [
             0.2222222222222222,
             "#7201a8"
            ],
            [
             0.3333333333333333,
             "#9c179e"
            ],
            [
             0.4444444444444444,
             "#bd3786"
            ],
            [
             0.5555555555555556,
             "#d8576b"
            ],
            [
             0.6666666666666666,
             "#ed7953"
            ],
            [
             0.7777777777777778,
             "#fb9f3a"
            ],
            [
             0.8888888888888888,
             "#fdca26"
            ],
            [
             1,
             "#f0f921"
            ]
           ],
           "sequentialminus": [
            [
             0,
             "#0d0887"
            ],
            [
             0.1111111111111111,
             "#46039f"
            ],
            [
             0.2222222222222222,
             "#7201a8"
            ],
            [
             0.3333333333333333,
             "#9c179e"
            ],
            [
             0.4444444444444444,
             "#bd3786"
            ],
            [
             0.5555555555555556,
             "#d8576b"
            ],
            [
             0.6666666666666666,
             "#ed7953"
            ],
            [
             0.7777777777777778,
             "#fb9f3a"
            ],
            [
             0.8888888888888888,
             "#fdca26"
            ],
            [
             1,
             "#f0f921"
            ]
           ]
          },
          "colorway": [
           "#636efa",
           "#EF553B",
           "#00cc96",
           "#ab63fa",
           "#FFA15A",
           "#19d3f3",
           "#FF6692",
           "#B6E880",
           "#FF97FF",
           "#FECB52"
          ],
          "font": {
           "color": "#2a3f5f"
          },
          "geo": {
           "bgcolor": "white",
           "lakecolor": "white",
           "landcolor": "#E5ECF6",
           "showlakes": true,
           "showland": true,
           "subunitcolor": "white"
          },
          "hoverlabel": {
           "align": "left"
          },
          "hovermode": "closest",
          "mapbox": {
           "style": "light"
          },
          "paper_bgcolor": "white",
          "plot_bgcolor": "#E5ECF6",
          "polar": {
           "angularaxis": {
            "gridcolor": "white",
            "linecolor": "white",
            "ticks": ""
           },
           "bgcolor": "#E5ECF6",
           "radialaxis": {
            "gridcolor": "white",
            "linecolor": "white",
            "ticks": ""
           }
          },
          "scene": {
           "xaxis": {
            "backgroundcolor": "#E5ECF6",
            "gridcolor": "white",
            "gridwidth": 2,
            "linecolor": "white",
            "showbackground": true,
            "ticks": "",
            "zerolinecolor": "white"
           },
           "yaxis": {
            "backgroundcolor": "#E5ECF6",
            "gridcolor": "white",
            "gridwidth": 2,
            "linecolor": "white",
            "showbackground": true,
            "ticks": "",
            "zerolinecolor": "white"
           },
           "zaxis": {
            "backgroundcolor": "#E5ECF6",
            "gridcolor": "white",
            "gridwidth": 2,
            "linecolor": "white",
            "showbackground": true,
            "ticks": "",
            "zerolinecolor": "white"
           }
          },
          "shapedefaults": {
           "line": {
            "color": "#2a3f5f"
           }
          },
          "ternary": {
           "aaxis": {
            "gridcolor": "white",
            "linecolor": "white",
            "ticks": ""
           },
           "baxis": {
            "gridcolor": "white",
            "linecolor": "white",
            "ticks": ""
           },
           "bgcolor": "#E5ECF6",
           "caxis": {
            "gridcolor": "white",
            "linecolor": "white",
            "ticks": ""
           }
          },
          "title": {
           "x": 0.05
          },
          "xaxis": {
           "automargin": true,
           "gridcolor": "white",
           "linecolor": "white",
           "ticks": "",
           "title": {
            "standoff": 15
           },
           "zerolinecolor": "white",
           "zerolinewidth": 2
          },
          "yaxis": {
           "automargin": true,
           "gridcolor": "white",
           "linecolor": "white",
           "ticks": "",
           "title": {
            "standoff": 15
           },
           "zerolinecolor": "white",
           "zerolinewidth": 2
          }
         }
        },
        "title": {
         "font": {
          "color": "#4D5663"
         }
        },
        "xaxis": {
         "gridcolor": "#E1E5ED",
         "showgrid": true,
         "tickfont": {
          "color": "#4D5663"
         },
         "title": {
          "font": {
           "color": "#4D5663"
          },
          "text": ""
         },
         "zerolinecolor": "#E1E5ED"
        },
        "yaxis": {
         "gridcolor": "#E1E5ED",
         "showgrid": true,
         "tickfont": {
          "color": "#4D5663"
         },
         "title": {
          "font": {
           "color": "#4D5663"
          },
          "text": ""
         },
         "zerolinecolor": "#E1E5ED"
        }
       }
      },
      "text/html": [
       "<div>                            <div id=\"2883a150-34d4-4af7-9d5d-aac1fc305d28\" class=\"plotly-graph-div\" style=\"height:525px; width:100%;\"></div>            <script type=\"text/javascript\">                require([\"plotly\"], function(Plotly) {                    window.PLOTLYENV=window.PLOTLYENV || {};\n",
       "                    window.PLOTLYENV.BASE_URL='https://plot.ly';                                    if (document.getElementById(\"2883a150-34d4-4af7-9d5d-aac1fc305d28\")) {                    Plotly.newPlot(                        \"2883a150-34d4-4af7-9d5d-aac1fc305d28\",                        [{\"marker\": {\"color\": \"rgba(255, 153, 51, 0.6)\", \"line\": {\"color\": \"rgba(255, 153, 51, 1.0)\", \"width\": 1}}, \"name\": \"mpg\", \"orientation\": \"v\", \"text\": \"\", \"type\": \"bar\", \"x\": [15, 385, 293, 61, 17, 280, 155, 231, 74, 196, 187, 62, 123, 176, 227, 263, 259, 124, 212, 317, 175, 182, 149, 238, 282, 66, 256, 275, 92, 228, 390, 1, 326, 37, 287, 132, 95, 136, 269, 204, 253, 90, 12, 278, 344, 11, 134, 214, 140, 266, 52, 71, 281, 246, 96, 308, 354, 372, 268, 26, 315, 388, 381, 324, 356, 59, 63, 199, 162, 69, 45, 178, 153, 301, 294, 13, 102, 347, 41, 186, 365, 221, 111, 383, 330, 286, 43, 207, 54, 169, 320, 379, 200, 27, 311, 220, 247, 101, 150, 109, 252, 6, 239, 303, 167, 166, 157, 279, 258, 325, 130, 339, 210, 154, 233, 358, 394, 14, 86, 56, 106, 65, 133, 274, 298, 98, 216, 389, 229, 234, 97, 318, 142, 305, 116, 0, 254, 76, 73, 332, 377, 215, 135, 24, 336, 18, 51, 392, 375, 328, 283, 60, 138, 208, 68, 122, 20, 386, 340, 304, 341, 194, 245, 114, 120, 173, 21, 342, 129, 240, 148, 248, 249, 164, 58, 260, 7, 217, 55, 236, 307, 188, 48, 89, 158, 81, 77, 103, 219, 44, 126, 144, 156, 19, 23, 327, 118, 107, 205, 255, 380, 8, 322, 299, 139, 36, 378, 218, 50, 34, 264, 125, 371, 284, 40, 67, 367, 310, 110, 108, 198, 329, 179, 64, 168, 29, 349, 223, 224, 100, 104, 237, 161, 213, 152, 49, 184, 261, 297, 296, 5, 189, 145, 79, 374, 289, 146, 361, 352, 397, 137, 250, 85, 225, 222, 10, 171, 206, 348, 201, 271, 170, 190, 16, 209, 309, 33, 181, 350, 302, 313, 46, 226, 295, 357, 391, 35, 80, 232, 312, 160, 319, 331, 83, 395, 300, 363, 316, 373, 270, 141, 393, 113, 369, 2, 78, 143, 272, 191, 3, 93, 387, 230, 346, 362, 22, 159, 30, 235, 376, 4, 241, 112, 276, 306, 75, 334, 94], \"y\": [22.0, 38.0, 31.9, 21.0, 21.0, 21.5, 15.0, 15.5, 13.0, 24.5, 17.5, 13.0, 20.0, 19.0, 19.0, 17.7, 20.8, 11.0, 16.5, 34.3, 29.0, 28.0, 24.0, 33.5, 22.3, 17.0, 20.5, 17.0, 13.0, 18.5, 32.0, 15.0, 43.4, 18.0, 16.5, 25.0, 12.0, 16.0, 30.9, 32.0, 20.5, 12.0, 15.0, 31.5, 39.0, 14.0, 16.0, 13.0, 14.0, 30.0, 30.0, 19.0, 19.8, 32.8, 13.0, 33.5, 34.5, 27.0, 27.2, 10.0, 24.3, 26.0, 36.0, 40.8, 32.4, 23.0, 14.0, 20.0, 15.0, 12.0, 18.0, 23.0, 18.0, 34.2, 34.1, 14.0, 26.0, 37.0, 14.0, 27.0, 20.2, 17.5, 18.0, 38.0, 40.9, 17.6, 13.0, 20.0, 35.0, 20.0, 37.0, 36.0, 18.0, 11.0, 32.1, 33.5, 39.4, 23.0, 26.0, 21.0, 19.2, 14.0, 30.0, 31.8, 29.0, 13.0, 15.0, 29.5, 20.6, 44.3, 26.0, 26.6, 19.0, 15.0, 29.0, 31.6, 44.0, 24.0, 14.0, 26.0, 12.0, 14.0, 16.0, 20.3, 23.0, 16.0, 31.5, 22.0, 16.0, 24.5, 18.0, 29.8, 26.0, 28.4, 16.0, 18.0, 20.2, 18.0, 13.0, 29.8, 31.0, 13.0, 18.0, 21.0, 23.6, 27.0, 30.0, 27.0, 36.0, 30.0, 20.2, 20.0, 14.0, 13.0, 13.0, 24.0, 25.0, 25.0, 25.8, 37.3, 23.5, 22.5, 36.1, 26.0, 19.0, 24.0, 24.0, 30.0, 31.0, 30.5, 26.0, 36.1, 19.9, 21.0, 25.0, 18.6, 14.0, 30.0, 27.0, 25.5, 26.8, 16.0, 18.0, 15.0, 16.0, 28.0, 22.0, 11.0, 25.5, 13.0, 21.0, 31.0, 16.0, 26.0, 26.0, 36.4, 24.0, 18.0, 28.0, 25.1, 36.0, 14.0, 46.6, 27.2, 14.0, 19.0, 38.0, 36.0, 28.0, 16.0, 18.1, 20.0, 29.0, 20.6, 14.0, 11.0, 28.0, 38.1, 22.0, 20.0, 33.0, 44.6, 22.0, 15.0, 23.0, 27.0, 34.1, 15.5, 15.0, 18.0, 12.0, 30.5, 16.0, 13.0, 19.0, 23.0, 25.0, 18.1, 25.4, 27.4, 15.0, 15.5, 32.0, 26.0, 23.0, 16.9, 28.0, 25.4, 29.9, 31.0, 13.0, 19.4, 13.0, 17.5, 17.0, 15.0, 24.0, 26.5, 37.7, 18.5, 23.2, 23.0, 14.5, 18.0, 19.0, 41.5, 19.0, 33.0, 34.7, 34.5, 28.0, 22.0, 20.5, 35.7, 32.9, 36.0, 17.0, 22.0, 16.0, 37.2, 17.0, 31.3, 33.8, 28.0, 32.0, 23.9, 22.4, 19.1, 24.0, 21.1, 29.0, 27.0, 21.0, 34.0, 18.0, 21.0, 26.0, 23.8, 22.0, 16.0, 14.0, 38.0, 15.5, 32.3, 24.2, 25.0, 14.0, 28.0, 26.0, 37.0, 17.0, 22.0, 19.0, 21.6, 28.8, 14.0, 23.7, 13.0]}, {\"marker\": {\"color\": \"rgba(55, 128, 191, 0.6)\", \"line\": {\"color\": \"rgba(55, 128, 191, 1.0)\", \"width\": 1}}, \"name\": \"cylinders\", \"orientation\": \"v\", \"text\": \"\", \"type\": \"bar\", \"x\": [15, 385, 293, 61, 17, 280, 155, 231, 74, 196, 187, 62, 123, 176, 227, 263, 259, 124, 212, 317, 175, 182, 149, 238, 282, 66, 256, 275, 92, 228, 390, 1, 326, 37, 287, 132, 95, 136, 269, 204, 253, 90, 12, 278, 344, 11, 134, 214, 140, 266, 52, 71, 281, 246, 96, 308, 354, 372, 268, 26, 315, 388, 381, 324, 356, 59, 63, 199, 162, 69, 45, 178, 153, 301, 294, 13, 102, 347, 41, 186, 365, 221, 111, 383, 330, 286, 43, 207, 54, 169, 320, 379, 200, 27, 311, 220, 247, 101, 150, 109, 252, 6, 239, 303, 167, 166, 157, 279, 258, 325, 130, 339, 210, 154, 233, 358, 394, 14, 86, 56, 106, 65, 133, 274, 298, 98, 216, 389, 229, 234, 97, 318, 142, 305, 116, 0, 254, 76, 73, 332, 377, 215, 135, 24, 336, 18, 51, 392, 375, 328, 283, 60, 138, 208, 68, 122, 20, 386, 340, 304, 341, 194, 245, 114, 120, 173, 21, 342, 129, 240, 148, 248, 249, 164, 58, 260, 7, 217, 55, 236, 307, 188, 48, 89, 158, 81, 77, 103, 219, 44, 126, 144, 156, 19, 23, 327, 118, 107, 205, 255, 380, 8, 322, 299, 139, 36, 378, 218, 50, 34, 264, 125, 371, 284, 40, 67, 367, 310, 110, 108, 198, 329, 179, 64, 168, 29, 349, 223, 224, 100, 104, 237, 161, 213, 152, 49, 184, 261, 297, 296, 5, 189, 145, 79, 374, 289, 146, 361, 352, 397, 137, 250, 85, 225, 222, 10, 171, 206, 348, 201, 271, 170, 190, 16, 209, 309, 33, 181, 350, 302, 313, 46, 226, 295, 357, 391, 35, 80, 232, 312, 160, 319, 331, 83, 395, 300, 363, 316, 373, 270, 141, 393, 113, 369, 2, 78, 143, 272, 191, 3, 93, 387, 230, 346, 362, 22, 159, 30, 235, 376, 4, 241, 112, 276, 306, 75, 334, 94], \"y\": [6, 4, 4, 4, 6, 6, 6, 8, 8, 4, 8, 8, 6, 6, 6, 6, 6, 8, 8, 4, 4, 4, 4, 4, 4, 8, 6, 6, 8, 6, 4, 8, 4, 6, 8, 4, 8, 8, 4, 4, 6, 8, 8, 4, 4, 8, 6, 8, 8, 4, 4, 3, 6, 4, 8, 4, 4, 4, 4, 8, 4, 4, 4, 4, 4, 4, 8, 6, 6, 8, 6, 4, 6, 4, 4, 8, 4, 4, 8, 4, 6, 8, 3, 4, 4, 8, 8, 4, 4, 6, 4, 4, 6, 8, 4, 4, 4, 6, 4, 4, 6, 8, 4, 4, 4, 8, 8, 4, 6, 4, 4, 4, 6, 6, 4, 4, 4, 4, 8, 4, 8, 8, 6, 5, 8, 6, 4, 6, 8, 4, 6, 4, 4, 4, 8, 8, 6, 4, 8, 4, 4, 8, 6, 6, 4, 4, 4, 4, 4, 4, 6, 4, 8, 8, 8, 4, 4, 6, 4, 4, 6, 6, 4, 4, 4, 4, 4, 4, 4, 4, 4, 4, 8, 6, 4, 6, 8, 4, 4, 4, 6, 8, 6, 8, 8, 4, 4, 8, 4, 8, 6, 4, 8, 4, 4, 5, 4, 6, 4, 4, 4, 8, 4, 4, 8, 6, 4, 4, 4, 6, 8, 6, 4, 6, 8, 8, 4, 4, 4, 4, 4, 4, 4, 8, 4, 4, 4, 8, 8, 6, 8, 4, 6, 8, 6, 4, 4, 6, 5, 4, 8, 8, 4, 4, 4, 8, 4, 6, 4, 4, 8, 8, 8, 6, 8, 8, 4, 4, 4, 6, 4, 4, 8, 6, 4, 4, 6, 4, 4, 4, 4, 4, 6, 4, 4, 4, 6, 4, 8, 4, 6, 4, 4, 4, 4, 8, 6, 6, 4, 4, 4, 4, 6, 4, 8, 4, 4, 4, 6, 8, 8, 6, 8, 4, 6, 4, 8, 4, 4, 4, 8, 6, 4, 4, 6, 8, 3, 8]}, {\"marker\": {\"color\": \"rgba(50, 171, 96, 0.6)\", \"line\": {\"color\": \"rgba(50, 171, 96, 1.0)\", \"width\": 1}}, \"name\": \"displacement\", \"orientation\": \"v\", \"text\": \"\", \"type\": \"bar\", \"x\": [15, 385, 293, 61, 17, 280, 155, 231, 74, 196, 187, 62, 123, 176, 227, 263, 259, 124, 212, 317, 175, 182, 149, 238, 282, 66, 256, 275, 92, 228, 390, 1, 326, 37, 287, 132, 95, 136, 269, 204, 253, 90, 12, 278, 344, 11, 134, 214, 140, 266, 52, 71, 281, 246, 96, 308, 354, 372, 268, 26, 315, 388, 381, 324, 356, 59, 63, 199, 162, 69, 45, 178, 153, 301, 294, 13, 102, 347, 41, 186, 365, 221, 111, 383, 330, 286, 43, 207, 54, 169, 320, 379, 200, 27, 311, 220, 247, 101, 150, 109, 252, 6, 239, 303, 167, 166, 157, 279, 258, 325, 130, 339, 210, 154, 233, 358, 394, 14, 86, 56, 106, 65, 133, 274, 298, 98, 216, 389, 229, 234, 97, 318, 142, 305, 116, 0, 254, 76, 73, 332, 377, 215, 135, 24, 336, 18, 51, 392, 375, 328, 283, 60, 138, 208, 68, 122, 20, 386, 340, 304, 341, 194, 245, 114, 120, 173, 21, 342, 129, 240, 148, 248, 249, 164, 58, 260, 7, 217, 55, 236, 307, 188, 48, 89, 158, 81, 77, 103, 219, 44, 126, 144, 156, 19, 23, 327, 118, 107, 205, 255, 380, 8, 322, 299, 139, 36, 378, 218, 50, 34, 264, 125, 371, 284, 40, 67, 367, 310, 110, 108, 198, 329, 179, 64, 168, 29, 349, 223, 224, 100, 104, 237, 161, 213, 152, 49, 184, 261, 297, 296, 5, 189, 145, 79, 374, 289, 146, 361, 352, 397, 137, 250, 85, 225, 222, 10, 171, 206, 348, 201, 271, 170, 190, 16, 209, 309, 33, 181, 350, 302, 313, 46, 226, 295, 357, 391, 35, 80, 232, 312, 160, 319, 331, 83, 395, 300, 363, 316, 373, 270, 141, 393, 113, 369, 2, 78, 143, 272, 191, 3, 93, 387, 230, 346, 362, 22, 159, 30, 235, 376, 4, 241, 112, 276, 306, 75, 334, 94], \"y\": [198.0, 91.0, 89.0, 122.0, 200.0, 231.0, 250.0, 400.0, 302.0, 98.0, 305.0, 350.0, 156.0, 232.0, 225.0, 231.0, 200.0, 350.0, 350.0, 97.0, 90.0, 107.0, 120.0, 98.0, 140.0, 304.0, 225.0, 163.0, 351.0, 250.0, 144.0, 350.0, 90.0, 232.0, 351.0, 140.0, 455.0, 302.0, 105.0, 85.0, 200.0, 429.0, 400.0, 89.0, 86.0, 340.0, 258.0, 302.0, 304.0, 98.0, 88.0, 70.0, 200.0, 78.0, 360.0, 151.0, 100.0, 151.0, 119.0, 307.0, 151.0, 156.0, 107.0, 85.0, 108.0, 97.0, 400.0, 225.0, 258.0, 350.0, 258.0, 120.0, 250.0, 105.0, 86.0, 455.0, 97.0, 85.0, 318.0, 101.0, 200.0, 305.0, 70.0, 91.0, 85.0, 302.0, 400.0, 130.0, 72.0, 232.0, 119.0, 98.0, 250.0, 318.0, 98.0, 85.0, 85.0, 198.0, 108.0, 140.0, 231.0, 454.0, 97.0, 85.0, 97.0, 302.0, 350.0, 98.0, 231.0, 90.0, 122.0, 151.0, 156.0, 250.0, 97.0, 120.0, 97.0, 113.0, 304.0, 91.0, 350.0, 351.0, 250.0, 131.0, 350.0, 250.0, 98.0, 232.0, 400.0, 151.0, 225.0, 134.0, 79.0, 151.0, 400.0, 307.0, 200.0, 121.0, 307.0, 89.0, 91.0, 318.0, 225.0, 199.0, 140.0, 97.0, 79.0, 151.0, 105.0, 146.0, 232.0, 140.0, 318.0, 318.0, 350.0, 121.0, 110.0, 181.0, 156.0, 91.0, 173.0, 232.0, 98.0, 98.0, 121.0, 119.0, 107.0, 135.0, 79.0, 97.0, 116.0, 91.0, 260.0, 231.0, 97.5, 225.0, 440.0, 111.0, 97.0, 140.0, 173.0, 318.0, 250.0, 318.0, 318.0, 97.0, 121.0, 400.0, 122.0, 400.0, 200.0, 76.0, 400.0, 97.0, 121.0, 121.0, 116.0, 232.0, 97.0, 140.0, 120.0, 455.0, 86.0, 141.0, 302.0, 250.0, 105.0, 79.0, 116.0, 225.0, 302.0, 198.0, 135.0, 225.0, 351.0, 429.0, 112.0, 89.0, 108.0, 97.0, 91.0, 91.0, 121.0, 318.0, 140.0, 97.0, 91.0, 318.0, 302.0, 250.0, 400.0, 98.0, 250.0, 350.0, 225.0, 122.0, 140.0, 258.0, 183.0, 121.0, 429.0, 304.0, 83.0, 96.0, 151.0, 350.0, 90.0, 168.0, 98.0, 119.0, 350.0, 318.0, 350.0, 250.0, 260.0, 383.0, 134.0, 140.0, 89.0, 250.0, 156.0, 140.0, 351.0, 199.0, 120.0, 98.0, 232.0, 91.0, 105.0, 105.0, 151.0, 140.0, 231.0, 98.0, 119.0, 135.0, 250.0, 122.0, 351.0, 86.0, 231.0, 120.0, 97.0, 98.0, 135.0, 260.0, 231.0, 225.0, 140.0, 134.0, 98.0, 140.0, 155.0, 112.0, 318.0, 120.0, 97.0, 151.0, 225.0, 304.0, 318.0, 262.0, 350.0, 97.0, 146.0, 104.0, 351.0, 140.0, 97.0, 91.0, 302.0, 146.0, 122.0, 121.0, 173.0, 318.0, 70.0, 440.0]}, {\"marker\": {\"color\": \"rgba(128, 0, 128, 0.6)\", \"line\": {\"color\": \"rgba(128, 0, 128, 1.0)\", \"width\": 1}}, \"name\": \"horsepower\", \"orientation\": \"v\", \"text\": \"\", \"type\": \"bar\", \"x\": [15, 385, 293, 61, 17, 280, 155, 231, 74, 196, 187, 62, 123, 176, 227, 263, 259, 124, 212, 317, 175, 182, 149, 238, 282, 66, 256, 275, 92, 228, 390, 1, 326, 37, 287, 132, 95, 136, 269, 204, 253, 90, 12, 278, 344, 11, 134, 214, 140, 266, 52, 71, 281, 246, 96, 308, 354, 372, 268, 26, 315, 388, 381, 324, 356, 59, 63, 199, 162, 69, 45, 178, 153, 301, 294, 13, 102, 347, 41, 186, 365, 221, 111, 383, 330, 286, 43, 207, 54, 169, 320, 379, 200, 27, 311, 220, 247, 101, 150, 109, 252, 6, 239, 303, 167, 166, 157, 279, 258, 325, 130, 339, 210, 154, 233, 358, 394, 14, 86, 56, 106, 65, 133, 274, 298, 98, 216, 389, 229, 234, 97, 318, 142, 305, 116, 0, 254, 76, 73, 332, 377, 215, 135, 24, 336, 18, 51, 392, 375, 328, 283, 60, 138, 208, 68, 122, 20, 386, 340, 304, 341, 194, 245, 114, 120, 173, 21, 342, 129, 240, 148, 248, 249, 164, 58, 260, 7, 217, 55, 236, 307, 188, 48, 89, 158, 81, 77, 103, 219, 44, 126, 144, 156, 19, 23, 327, 118, 107, 205, 255, 380, 8, 322, 299, 139, 36, 378, 218, 50, 34, 264, 125, 371, 284, 40, 67, 367, 310, 110, 108, 198, 329, 179, 64, 168, 29, 349, 223, 224, 100, 104, 237, 161, 213, 152, 49, 184, 261, 297, 296, 5, 189, 145, 79, 374, 289, 146, 361, 352, 397, 137, 250, 85, 225, 222, 10, 171, 206, 348, 201, 271, 170, 190, 16, 209, 309, 33, 181, 350, 302, 313, 46, 226, 295, 357, 391, 35, 80, 232, 312, 160, 319, 331, 83, 395, 300, 363, 316, 373, 270, 141, 393, 113, 369, 2, 78, 143, 272, 191, 3, 93, 387, 230, 346, 362, 22, 159, 30, 235, 376, 4, 241, 112, 276, 306, 75, 334, 94], \"y\": [\"95\", \"67\", \"71\", \"86\", \"85\", \"115\", \"72\", \"190\", \"140\", \"60\", \"140\", \"165\", \"122\", \"90\", \"100\", \"165\", \"85\", \"180\", \"180\", \"78\", \"70\", \"86\", \"97\", \"83\", \"88\", \"150\", \"100\", \"125\", \"158\", \"98\", \"96\", \"165\", \"48\", \"100\", \"138\", \"75\", \"225\", \"140\", \"75\", \"70\", \"95\", \"198\", \"150\", \"71\", \"64\", \"160\", \"110\", \"130\", \"150\", \"68\", \"76\", \"97\", \"85\", \"52\", \"175\", \"90\", \"?\", \"90\", \"97\", \"200\", \"90\", \"92\", \"75\", \"65\", \"75\", \"54\", \"175\", \"100\", \"110\", \"160\", \"110\", \"88\", \"105\", \"70\", \"65\", \"225\", \"46\", \"65\", \"150\", \"83\", \"88\", \"145\", \"90\", \"67\", \"?\", \"129\", \"170\", \"102\", \"69\", \"100\", \"92\", \"70\", \"78\", \"210\", \"70\", \"70\", \"70\", \"95\", \"93\", \"72\", \"105\", \"220\", \"67\", \"65\", \"75\", \"129\", \"145\", \"68\", \"105\", \"48\", \"80\", \"84\", \"108\", \"72\", \"78\", \"74\", \"52\", \"95\", \"150\", \"70\", \"180\", \"153\", \"100\", \"103\", \"125\", \"100\", \"68\", \"112\", \"180\", \"88\", \"105\", \"90\", \"67\", \"90\", \"230\", \"130\", \"85\", \"112\", \"130\", \"62\", \"68\", \"150\", \"105\", \"90\", \"?\", \"88\", \"70\", \"90\", \"74\", \"67\", \"90\", \"90\", \"150\", \"150\", \"155\", \"110\", \"87\", \"110\", \"92\", \"69\", \"110\", \"90\", \"66\", \"90\", \"112\", \"97\", \"90\", \"84\", \"67\", \"78\", \"75\", \"60\", \"110\", \"110\", \"80\", \"110\", \"215\", \"80\", \"60\", \"89\", \"115\", \"150\", \"88\", \"150\", \"150\", \"92\", \"76\", \"150\", \"96\", \"175\", \"?\", \"52\", \"170\", \"46\", \"113\", \"67\", \"75\", \"100\", \"75\", \"88\", \"88\", \"225\", \"65\", \"71\", \"140\", \"88\", \"63\", \"58\", \"90\", \"105\", \"139\", \"95\", \"84\", \"110\", \"153\", \"208\", \"88\", \"60\", \"94\", \"88\", \"53\", \"67\", \"98\", \"150\", \"83\", \"88\", \"68\", \"145\", \"130\", \"88\", \"167\", \"63\", \"105\", \"145\", \"95\", \"86\", \"92\", \"120\", \"77\", \"80\", \"198\", \"120\", \"61\", \"69\", \"?\", \"155\", \"75\", \"116\", \"65\", \"82\", \"150\", \"140\", \"175\", \"110\", \"110\", \"170\", \"96\", \"72\", \"62\", \"110\", \"105\", \"78\", \"152\", \"97\", \"88\", \"76\", \"100\", \"53\", \"63\", \"70\", \"90\", \"72\", \"105\", \"80\", \"100\", \"84\", \"100\", \"86\", \"149\", \"65\", \"110\", \"75\", \"67\", \"80\", \"84\", \"90\", \"110\", \"90\", \"92\", \"95\", \"83\", \"86\", \"107\", \"88\", \"150\", \"87\", \"78\", \"85\", \"100\", \"150\", \"150\", \"85\", \"170\", \"67\", \"120\", \"95\", \"148\", \"90\", \"75\", \"68\", \"140\", \"97\", \"85\", \"115\", \"115\", \"150\", \"100\", \"215\"]}, {\"marker\": {\"color\": \"rgba(219, 64, 82, 0.6)\", \"line\": {\"color\": \"rgba(219, 64, 82, 1.0)\", \"width\": 1}}, \"name\": \"weight\", \"orientation\": \"v\", \"text\": \"\", \"type\": \"bar\", \"x\": [15, 385, 293, 61, 17, 280, 155, 231, 74, 196, 187, 62, 123, 176, 227, 263, 259, 124, 212, 317, 175, 182, 149, 238, 282, 66, 256, 275, 92, 228, 390, 1, 326, 37, 287, 132, 95, 136, 269, 204, 253, 90, 12, 278, 344, 11, 134, 214, 140, 266, 52, 71, 281, 246, 96, 308, 354, 372, 268, 26, 315, 388, 381, 324, 356, 59, 63, 199, 162, 69, 45, 178, 153, 301, 294, 13, 102, 347, 41, 186, 365, 221, 111, 383, 330, 286, 43, 207, 54, 169, 320, 379, 200, 27, 311, 220, 247, 101, 150, 109, 252, 6, 239, 303, 167, 166, 157, 279, 258, 325, 130, 339, 210, 154, 233, 358, 394, 14, 86, 56, 106, 65, 133, 274, 298, 98, 216, 389, 229, 234, 97, 318, 142, 305, 116, 0, 254, 76, 73, 332, 377, 215, 135, 24, 336, 18, 51, 392, 375, 328, 283, 60, 138, 208, 68, 122, 20, 386, 340, 304, 341, 194, 245, 114, 120, 173, 21, 342, 129, 240, 148, 248, 249, 164, 58, 260, 7, 217, 55, 236, 307, 188, 48, 89, 158, 81, 77, 103, 219, 44, 126, 144, 156, 19, 23, 327, 118, 107, 205, 255, 380, 8, 322, 299, 139, 36, 378, 218, 50, 34, 264, 125, 371, 284, 40, 67, 367, 310, 110, 108, 198, 329, 179, 64, 168, 29, 349, 223, 224, 100, 104, 237, 161, 213, 152, 49, 184, 261, 297, 296, 5, 189, 145, 79, 374, 289, 146, 361, 352, 397, 137, 250, 85, 225, 222, 10, 171, 206, 348, 201, 271, 170, 190, 16, 209, 309, 33, 181, 350, 302, 313, 46, 226, 295, 357, 391, 35, 80, 232, 312, 160, 319, 331, 83, 395, 300, 363, 316, 373, 270, 141, 393, 113, 369, 2, 78, 143, 272, 191, 3, 93, 387, 230, 346, 362, 22, 159, 30, 235, 376, 4, 241, 112, 276, 306, 75, 334, 94], \"y\": [2833, 1995, 1925, 2226, 2587, 3245, 3158, 4325, 4294, 2164, 4215, 4274, 2807, 3211, 3630, 3445, 3070, 3664, 4380, 2188, 1937, 2464, 2489, 2075, 2890, 3672, 3430, 3140, 4363, 3525, 2665, 3693, 2335, 3288, 3955, 2542, 4951, 4141, 2230, 1990, 3155, 4952, 3761, 1990, 1875, 3609, 3632, 3870, 4257, 2155, 2065, 2330, 2990, 1985, 3821, 2556, 2320, 2735, 2300, 4376, 3003, 2585, 2205, 2110, 2350, 2254, 4385, 3651, 3730, 4456, 2962, 2957, 3459, 2200, 1975, 3086, 1950, 1975, 4096, 2202, 3060, 3880, 2124, 1965, 1835, 3725, 4746, 3150, 1613, 2914, 2434, 2125, 3574, 4382, 2120, 1945, 2070, 2904, 2391, 2401, 3535, 4354, 1985, 2020, 2171, 3169, 4440, 2135, 3380, 2085, 2451, 2635, 2930, 3432, 1940, 2635, 2130, 2372, 3672, 1955, 4499, 4129, 3781, 2830, 3900, 3278, 2045, 2835, 4220, 2740, 3121, 2711, 1963, 2670, 4278, 3504, 2965, 2933, 4098, 1845, 1970, 3755, 3613, 2648, 2905, 2130, 2074, 2950, 1980, 3250, 3265, 2408, 4457, 3940, 4502, 2660, 2672, 2945, 2620, 2130, 2725, 3085, 1800, 2265, 2868, 2545, 2430, 2385, 1950, 2190, 2246, 1800, 3365, 3039, 2126, 3620, 4312, 2155, 1834, 2755, 2700, 4190, 3139, 3777, 4498, 2288, 2511, 4997, 2300, 5140, 2875, 1649, 4668, 1835, 2234, 2950, 2158, 2789, 2155, 2720, 2160, 4425, 2110, 3190, 4638, 3302, 2125, 1825, 2123, 3439, 3205, 3102, 2525, 3360, 4154, 4633, 2605, 1968, 2379, 2279, 1795, 1850, 2945, 4135, 2639, 2130, 1985, 4140, 4295, 3021, 4906, 2051, 3897, 4055, 3264, 2220, 2572, 3410, 3530, 2670, 4341, 3962, 2003, 2189, 3035, 4360, 2125, 2900, 2380, 2720, 4699, 3735, 4100, 3520, 4060, 3563, 2702, 2565, 2050, 3645, 2745, 2592, 4215, 2774, 3270, 2144, 2634, 1795, 2215, 2150, 2678, 2408, 3425, 1915, 2615, 2370, 3329, 2395, 4335, 2019, 3907, 2542, 2145, 2164, 2295, 3420, 3415, 3381, 2865, 2515, 2219, 2790, 2472, 2395, 3436, 2979, 2300, 2855, 3233, 3433, 4237, 3015, 4165, 2065, 2930, 2375, 4657, 2264, 2265, 2025, 3449, 2815, 2310, 2795, 2595, 4077, 2420, 4735]}, {\"marker\": {\"color\": \"rgba(0, 128, 128, 0.6)\", \"line\": {\"color\": \"rgba(0, 128, 128, 1.0)\", \"width\": 1}}, \"name\": \"acceleration\", \"orientation\": \"v\", \"text\": \"\", \"type\": \"bar\", \"x\": [15, 385, 293, 61, 17, 280, 155, 231, 74, 196, 187, 62, 123, 176, 227, 263, 259, 124, 212, 317, 175, 182, 149, 238, 282, 66, 256, 275, 92, 228, 390, 1, 326, 37, 287, 132, 95, 136, 269, 204, 253, 90, 12, 278, 344, 11, 134, 214, 140, 266, 52, 71, 281, 246, 96, 308, 354, 372, 268, 26, 315, 388, 381, 324, 356, 59, 63, 199, 162, 69, 45, 178, 153, 301, 294, 13, 102, 347, 41, 186, 365, 221, 111, 383, 330, 286, 43, 207, 54, 169, 320, 379, 200, 27, 311, 220, 247, 101, 150, 109, 252, 6, 239, 303, 167, 166, 157, 279, 258, 325, 130, 339, 210, 154, 233, 358, 394, 14, 86, 56, 106, 65, 133, 274, 298, 98, 216, 389, 229, 234, 97, 318, 142, 305, 116, 0, 254, 76, 73, 332, 377, 215, 135, 24, 336, 18, 51, 392, 375, 328, 283, 60, 138, 208, 68, 122, 20, 386, 340, 304, 341, 194, 245, 114, 120, 173, 21, 342, 129, 240, 148, 248, 249, 164, 58, 260, 7, 217, 55, 236, 307, 188, 48, 89, 158, 81, 77, 103, 219, 44, 126, 144, 156, 19, 23, 327, 118, 107, 205, 255, 380, 8, 322, 299, 139, 36, 378, 218, 50, 34, 264, 125, 371, 284, 40, 67, 367, 310, 110, 108, 198, 329, 179, 64, 168, 29, 349, 223, 224, 100, 104, 237, 161, 213, 152, 49, 184, 261, 297, 296, 5, 189, 145, 79, 374, 289, 146, 361, 352, 397, 137, 250, 85, 225, 222, 10, 171, 206, 348, 201, 271, 170, 190, 16, 209, 309, 33, 181, 350, 302, 313, 46, 226, 295, 357, 391, 35, 80, 232, 312, 160, 319, 331, 83, 395, 300, 363, 316, 373, 270, 141, 393, 113, 369, 2, 78, 143, 272, 191, 3, 93, 387, 230, 346, 362, 22, 159, 30, 235, 376, 4, 241, 112, 276, 306, 75, 334, 94], \"y\": [15.5, 16.2, 14.0, 16.5, 16.0, 15.4, 19.5, 12.2, 16.0, 22.1, 13.0, 12.0, 13.5, 17.0, 17.7, 13.4, 16.7, 11.0, 12.1, 15.8, 14.0, 15.5, 15.0, 15.9, 17.3, 11.5, 17.2, 13.6, 13.0, 19.0, 13.9, 11.5, 23.7, 15.5, 13.2, 17.0, 11.0, 14.0, 14.5, 17.0, 18.2, 11.5, 9.5, 14.9, 16.4, 8.0, 18.0, 15.0, 15.5, 16.5, 14.5, 13.5, 18.2, 19.4, 11.0, 13.2, 15.8, 18.0, 14.7, 15.0, 20.1, 14.5, 14.5, 19.2, 16.8, 23.5, 12.0, 17.7, 19.0, 13.5, 13.5, 17.0, 16.0, 13.2, 15.2, 10.0, 21.0, 19.4, 13.0, 15.3, 17.1, 12.5, 13.5, 15.0, 17.3, 13.4, 12.0, 15.7, 18.0, 16.0, 15.0, 17.3, 21.0, 13.5, 15.5, 16.8, 18.6, 16.0, 15.5, 19.5, 19.2, 9.0, 16.4, 19.2, 16.0, 12.0, 14.0, 16.6, 15.8, 21.7, 16.5, 16.4, 15.5, 21.0, 14.5, 18.3, 24.6, 15.0, 11.5, 20.5, 12.5, 13.0, 17.0, 15.9, 17.4, 18.0, 18.5, 14.7, 11.1, 16.0, 16.5, 15.5, 15.5, 16.0, 9.5, 12.0, 15.8, 14.5, 14.0, 15.3, 17.6, 14.0, 16.5, 15.0, 14.3, 14.5, 19.5, 17.3, 15.3, 21.8, 18.2, 19.5, 13.5, 13.2, 13.5, 14.0, 17.5, 16.4, 14.4, 14.7, 12.6, 17.6, 14.4, 15.5, 15.5, 17.0, 14.5, 12.9, 19.0, 14.1, 14.0, 16.4, 15.5, 15.0, 17.0, 18.7, 8.5, 14.8, 19.0, 15.8, 12.9, 13.0, 14.5, 12.5, 14.5, 17.0, 18.0, 14.0, 15.5, 12.0, 17.0, 16.5, 11.5, 20.5, 12.5, 19.9, 15.5, 15.0, 16.4, 15.4, 14.5, 10.0, 17.9, 24.8, 16.0, 15.5, 14.7, 18.6, 14.0, 15.5, 11.2, 16.5, 16.0, 16.6, 13.5, 11.0, 19.6, 18.8, 16.5, 19.0, 17.4, 13.8, 14.5, 13.5, 17.0, 14.5, 16.0, 13.7, 14.9, 16.5, 12.5, 17.0, 18.5, 12.0, 16.0, 14.0, 14.9, 15.1, 20.1, 15.0, 10.0, 13.9, 19.0, 18.0, 20.5, 14.9, 14.5, 12.6, 20.7, 19.4, 14.5, 13.2, 13.0, 16.4, 19.0, 10.0, 13.5, 13.6, 17.3, 16.2, 16.7, 18.5, 12.8, 15.5, 21.9, 14.7, 13.0, 17.5, 14.9, 14.9, 16.5, 19.0, 16.9, 14.4, 14.8, 13.0, 15.5, 16.0, 14.5, 16.4, 21.0, 17.5, 18.0, 15.0, 11.6, 22.2, 15.8, 18.7, 16.4, 14.8, 16.5, 15.6, 14.0, 18.0, 11.0, 19.5, 14.5, 17.6, 15.4, 12.0, 14.5, 17.0, 11.4, 17.8, 13.8, 17.5, 13.5, 15.5, 18.2, 18.2, 10.5, 14.5, 18.5, 15.7, 11.3, 14.0, 12.5, 11.0]}, {\"marker\": {\"color\": \"rgba(255, 255, 51, 0.6)\", \"line\": {\"color\": \"rgba(255, 255, 51, 1.0)\", \"width\": 1}}, \"name\": \"model year\", \"orientation\": \"v\", \"text\": \"\", \"type\": \"bar\", \"x\": [15, 385, 293, 61, 17, 280, 155, 231, 74, 196, 187, 62, 123, 176, 227, 263, 259, 124, 212, 317, 175, 182, 149, 238, 282, 66, 256, 275, 92, 228, 390, 1, 326, 37, 287, 132, 95, 136, 269, 204, 253, 90, 12, 278, 344, 11, 134, 214, 140, 266, 52, 71, 281, 246, 96, 308, 354, 372, 268, 26, 315, 388, 381, 324, 356, 59, 63, 199, 162, 69, 45, 178, 153, 301, 294, 13, 102, 347, 41, 186, 365, 221, 111, 383, 330, 286, 43, 207, 54, 169, 320, 379, 200, 27, 311, 220, 247, 101, 150, 109, 252, 6, 239, 303, 167, 166, 157, 279, 258, 325, 130, 339, 210, 154, 233, 358, 394, 14, 86, 56, 106, 65, 133, 274, 298, 98, 216, 389, 229, 234, 97, 318, 142, 305, 116, 0, 254, 76, 73, 332, 377, 215, 135, 24, 336, 18, 51, 392, 375, 328, 283, 60, 138, 208, 68, 122, 20, 386, 340, 304, 341, 194, 245, 114, 120, 173, 21, 342, 129, 240, 148, 248, 249, 164, 58, 260, 7, 217, 55, 236, 307, 188, 48, 89, 158, 81, 77, 103, 219, 44, 126, 144, 156, 19, 23, 327, 118, 107, 205, 255, 380, 8, 322, 299, 139, 36, 378, 218, 50, 34, 264, 125, 371, 284, 40, 67, 367, 310, 110, 108, 198, 329, 179, 64, 168, 29, 349, 223, 224, 100, 104, 237, 161, 213, 152, 49, 184, 261, 297, 296, 5, 189, 145, 79, 374, 289, 146, 361, 352, 397, 137, 250, 85, 225, 222, 10, 171, 206, 348, 201, 271, 170, 190, 16, 209, 309, 33, 181, 350, 302, 313, 46, 226, 295, 357, 391, 35, 80, 232, 312, 160, 319, 331, 83, 395, 300, 363, 316, 373, 270, 141, 393, 113, 369, 2, 78, 143, 272, 191, 3, 93, 387, 230, 346, 362, 22, 159, 30, 235, 376, 4, 241, 112, 276, 306, 75, 334, 94], \"y\": [70, 82, 79, 72, 70, 79, 75, 77, 72, 76, 76, 72, 73, 75, 77, 78, 78, 73, 76, 80, 75, 76, 74, 77, 79, 72, 78, 78, 73, 77, 82, 70, 80, 71, 79, 74, 73, 74, 78, 76, 78, 73, 70, 78, 81, 70, 74, 76, 74, 78, 71, 72, 79, 78, 73, 79, 81, 82, 78, 70, 80, 82, 82, 80, 81, 72, 72, 76, 75, 72, 71, 75, 75, 79, 79, 70, 73, 81, 71, 76, 81, 77, 73, 82, 80, 79, 71, 76, 71, 75, 80, 82, 76, 70, 80, 77, 78, 73, 74, 73, 78, 70, 77, 79, 75, 75, 75, 78, 78, 80, 74, 81, 76, 75, 77, 81, 82, 70, 73, 71, 73, 72, 74, 78, 79, 73, 77, 82, 77, 77, 73, 80, 74, 79, 73, 70, 78, 72, 72, 80, 82, 76, 74, 70, 80, 70, 71, 82, 82, 80, 79, 72, 74, 76, 72, 73, 70, 82, 81, 79, 81, 76, 78, 73, 73, 75, 70, 81, 74, 77, 74, 78, 78, 75, 72, 78, 70, 77, 71, 77, 79, 76, 71, 73, 75, 72, 72, 73, 77, 71, 74, 74, 75, 70, 70, 80, 73, 73, 76, 78, 82, 70, 80, 79, 74, 71, 82, 77, 71, 71, 78, 74, 82, 79, 71, 72, 82, 80, 73, 73, 76, 80, 75, 72, 75, 71, 81, 77, 77, 73, 73, 77, 75, 76, 75, 71, 76, 78, 79, 79, 70, 76, 74, 72, 82, 79, 74, 81, 81, 82, 74, 78, 73, 77, 77, 70, 75, 76, 81, 76, 78, 75, 76, 70, 76, 80, 71, 75, 81, 79, 80, 71, 77, 79, 81, 82, 71, 72, 77, 80, 75, 80, 80, 72, 82, 79, 81, 80, 82, 78, 74, 82, 73, 82, 70, 72, 74, 78, 76, 70, 73, 82, 77, 81, 81, 70, 75, 71, 77, 82, 70, 77, 73, 78, 79, 72, 80, 73]}, {\"marker\": {\"color\": \"rgba(128, 128, 0, 0.6)\", \"line\": {\"color\": \"rgba(128, 128, 0, 1.0)\", \"width\": 1}}, \"name\": \"car name\", \"orientation\": \"v\", \"text\": \"\", \"type\": \"bar\", \"x\": [15, 385, 293, 61, 17, 280, 155, 231, 74, 196, 187, 62, 123, 176, 227, 263, 259, 124, 212, 317, 175, 182, 149, 238, 282, 66, 256, 275, 92, 228, 390, 1, 326, 37, 287, 132, 95, 136, 269, 204, 253, 90, 12, 278, 344, 11, 134, 214, 140, 266, 52, 71, 281, 246, 96, 308, 354, 372, 268, 26, 315, 388, 381, 324, 356, 59, 63, 199, 162, 69, 45, 178, 153, 301, 294, 13, 102, 347, 41, 186, 365, 221, 111, 383, 330, 286, 43, 207, 54, 169, 320, 379, 200, 27, 311, 220, 247, 101, 150, 109, 252, 6, 239, 303, 167, 166, 157, 279, 258, 325, 130, 339, 210, 154, 233, 358, 394, 14, 86, 56, 106, 65, 133, 274, 298, 98, 216, 389, 229, 234, 97, 318, 142, 305, 116, 0, 254, 76, 73, 332, 377, 215, 135, 24, 336, 18, 51, 392, 375, 328, 283, 60, 138, 208, 68, 122, 20, 386, 340, 304, 341, 194, 245, 114, 120, 173, 21, 342, 129, 240, 148, 248, 249, 164, 58, 260, 7, 217, 55, 236, 307, 188, 48, 89, 158, 81, 77, 103, 219, 44, 126, 144, 156, 19, 23, 327, 118, 107, 205, 255, 380, 8, 322, 299, 139, 36, 378, 218, 50, 34, 264, 125, 371, 284, 40, 67, 367, 310, 110, 108, 198, 329, 179, 64, 168, 29, 349, 223, 224, 100, 104, 237, 161, 213, 152, 49, 184, 261, 297, 296, 5, 189, 145, 79, 374, 289, 146, 361, 352, 397, 137, 250, 85, 225, 222, 10, 171, 206, 348, 201, 271, 170, 190, 16, 209, 309, 33, 181, 350, 302, 313, 46, 226, 295, 357, 391, 35, 80, 232, 312, 160, 319, 331, 83, 395, 300, 363, 316, 373, 270, 141, 393, 113, 369, 2, 78, 143, 272, 191, 3, 93, 387, 230, 346, 362, 22, 159, 30, 235, 376, 4, 241, 112, 276, 306, 75, 334, 94], \"y\": [\"plymouth duster\", \"datsun 310 gx\", \"vw rabbit custom\", \"ford pinto runabout\", \"ford maverick\", \"pontiac lemans v6\", \"ford maverick\", \"chrysler cordoba\", \"ford gran torino (sw)\", \"chevrolet woody\", \"chevrolet chevelle malibu classic\", \"chevrolet impala\", \"toyota mark ii\", \"amc pacer\", \"plymouth volare custom\", \"buick regal sport coupe (turbo)\", \"mercury zephyr\", \"oldsmobile omega\", \"cadillac seville\", \"audi 4000\", \"volkswagen rabbit\", \"fiat 131\", \"honda civic\", \"dodge colt m/m\", \"ford fairmont 4\", \"amc ambassador sst\", \"plymouth volare\", \"volvo 264gl\", \"ford ltd\", \"ford granada\", \"toyota celica gt\", \"buick skylark 320\", \"vw dasher (diesel)\", \"amc matador\", \"mercury grand marquis\", \"chevrolet vega\", \"buick electra 225 custom\", \"ford gran torino\", \"dodge omni\", \"datsun b-210\", \"chevrolet malibu\", \"mercury marquis brougham\", \"chevrolet monte carlo\", \"volkswagen scirocco\", \"plymouth champ\", \"plymouth 'cuda 340\", \"amc matador\", \"ford f108\", \"amc matador (sw)\", \"chevrolet chevette\", \"fiat 124b\", \"mazda rx2 coupe\", \"mercury zephyr 6\", \"mazda glc deluxe\", \"amc ambassador brougham\", \"pontiac phoenix\", \"renault 18i\", \"pontiac phoenix\", \"datsun 510\", \"chevy c20\", \"amc concord\", \"chrysler lebaron medallion\", \"honda accord\", \"datsun 210\", \"toyota corolla\", \"volkswagen type 3\", \"pontiac catalina\", \"dodge aspen se\", \"amc matador\", \"oldsmobile delta 88 royale\", \"amc hornet sportabout (sw)\", \"peugeot 504\", \"chevrolet nova\", \"plymouth horizon\", \"maxda glc deluxe\", \"buick estate wagon (sw)\", \"volkswagen super beetle\", \"datsun 210 mpg\", \"plymouth fury iii\", \"renault 12tl\", \"ford granada gl\", \"chevrolet caprice classic\", \"maxda rx3\", \"honda civic\", \"renault lecar deluxe\", \"ford ltd landau\", \"ford country squire (sw)\", \"volvo 245\", \"datsun 1200\", \"amc gremlin\", \"datsun 510 hatchback\", \"mercury lynx l\", \"ford granada ghia\", \"dodge d200\", \"chevrolet chevette\", \"datsun f-10 hatchback\", \"datsun b210 gx\", \"plymouth duster\", \"subaru\", \"chevrolet vega\", \"pontiac phoenix lj\", \"chevrolet impala\", \"subaru dl\", \"datsun 210\", \"toyota corolla\", \"ford mustang ii\", \"chevrolet bel air\", \"honda accord lx\", \"buick century special\", \"vw rabbit c (diesel)\", \"ford pinto\", \"buick skylark\", \"toyota mark ii\", \"mercury monarch\", \"volkswagen rabbit custom\", \"mazda 626\", \"vw pickup\", \"toyota corona mark ii\", \"amc matador\", \"plymouth cricket\", \"oldsmobile vista cruiser\", \"ford galaxie 500\", \"chevrolet chevelle malibu classic\", \"audi 5000\", \"cadillac eldorado\", \"chevrolet nova custom\", \"honda accord cvcc\", \"ford granada l\", \"pontiac grand prix lj\", \"pontiac sunbird coupe\", \"plymouth valiant\", \"toyota corona liftback\", \"volkswagen dasher\", \"buick skylark limited\", \"pontiac grand prix\", \"chevrolet chevelle malibu\", \"ford fairmont (auto)\", \"volvo 145e (sw)\", \"chevrolet chevelle concours (sw)\", \"vokswagen rabbit\", \"mazda glc custom\", \"dodge d100\", \"plymouth satellite sebring\", \"amc gremlin\", \"ford mustang cobra\", \"datsun pl510\", \"peugeot 304\", \"chevrolet camaro\", \"volkswagen rabbit l\", \"mercedes-benz 240d\", \"amc concord dl 6\", \"chevrolet vega\", \"dodge coronet custom (sw)\", \"plymouth volare premier v8\", \"buick lesabre custom\", \"saab 99le\", \"peugeot 504\", \"buick century limited\", \"dodge aries wagon (sw)\", \"fiat strada custom\", \"chevrolet citation\", \"amc hornet\", \"ford fiesta\", \"fiat 124 sport coupe\", \"volvo 144ea\", \"datsun 710\", \"audi 100 ls\", \"plymouth reliant\", \"datsun b210\", \"volkswagen dasher\", \"fiat 124 tc\", \"honda civic cvcc\", \"oldsmobile cutlass salon brougham\", \"buick skyhawk\", \"dodge colt hardtop\", \"dodge aspen\", \"plymouth fury iii\", \"buick opel isuzu deluxe\", \"volkswagen model 111\", \"ford mustang ii 2+2\", \"oldsmobile omega brougham\", \"dodge coronet brougham\", \"ford mustang\", \"dodge coronet custom\", \"plymouth grand fury\", \"datsun 510 (sw)\", \"volkswagen 411 (sw)\", \"chevrolet impala\", \"plymouth arrow gs\", \"pontiac safari (sw)\", \"ford maverick\", \"toyota corona\", \"pontiac catalina\", \"volkswagen 1131 deluxe sedan\", \"bmw 2002\", \"audi 5000s (diesel)\", \"opel manta\", \"amc gremlin\", \"toyota corolla\", \"ford fairmont (man)\", \"nissan stanza xe\", \"pontiac catalina\", \"mazda glc\", \"peugeot 504\", \"ford gran torino (sw)\", \"ford torino 500\", \"plymouth horizon miser\", \"renault 5 gtl\", \"opel 1900\", \"plymouth satellite custom\", \"ford futura\", \"plymouth duster\", \"dodge aries se\", \"dodge aspen 6\", \"ford galaxie 500\", \"mercury marquis\", \"chevrolet cavalier\", \"toyota corolla tercel\", \"datsun 610\", \"toyota carina\", \"honda civic\", \"honda civic 1500 gl\", \"volvo 244dl\", \"plymouth fury iii\", \"ford pinto\", \"datsun pl510\", \"mazda glc 4\", \"dodge monaco brougham\", \"mercury cougar brougham\", \"ford maverick\", \"ford country\", \"chevrolet chevette\", \"chevroelt chevelle malibu\", \"chevy c10\", \"plymouth valiant custom\", \"mercury capri 2000\", \"capri ii\", \"amc concord d/l\", \"mercedes benz 300d\", \"amc spirit dl\", \"ford galaxie 500\", \"amc matador\", \"datsun 710\", \"renault 12 (sw)\", \"amc concord dl\", \"buick estate wagon (sw)\", \"dodge colt\", \"toyota cressida\", \"ford escort 2h\", \"chevy s-10\", \"buick century luxus (sw)\", \"dodge diplomat\", \"buick century 350\", \"chevrolet concours\", \"oldsmobile cutlass supreme\", \"dodge challenger se\", \"toyota corona\", \"ford pinto\", \"toyota tercel\", \"pontiac ventura sj\", \"plymouth sapporo\", \"pontiac astro\", \"ford gran torino\", \"amc hornet\", \"peugeot 504\", \"vw rabbit\", \"amc gremlin\", \"honda civic cvcc\", \"plymouth horizon 4\", \"plymouth horizon tc3\", \"chevrolet citation\", \"chevrolet vega (sw)\", \"buick skylark\", \"dodge colt hatchback custom\", \"datsun 200sx\", \"dodge charger 2.2\", \"chevrolet chevelle malibu\", \"ford pinto (sw)\", \"ford thunderbird\", \"datsun 310\", \"buick century\", \"mazda 626\", \"subaru dl\", \"dodge colt (sw)\", \"dodge rampage\", \"oldsmobile cutlass salon brougham\", \"buick century\", \"dodge aspen\", \"ford fairmont futura\", \"toyota celica gt liftback\", \"audi fox\", \"ford mustang gl\", \"mercury capri v6\", \"chevrolet cavalier 2-door\", \"plymouth satellite\", \"peugeot 504 (sw)\", \"opel manta\", \"oldsmobile starfire sx\", \"plymouth valiant\", \"amc rebel sst\", \"plymouth fury gran sedan\", \"oldsmobile cutlass ciera (diesel)\", \"chevrolet monte carlo landau\", \"subaru\", \"datsun 810 maxima\", \"saab 99e\", \"ford ltd\", \"chevrolet vega 2300\", \"toyota corolla liftback\", \"mazda glc custom l\", \"ford torino\", \"datsun 810\", \"ford pinto\", \"saab 99gle\", \"chevrolet citation\", \"plymouth satellite custom (sw)\", \"mazda rx-7 gs\", \"chrysler new yorker brougham\"]}, {\"marker\": {\"color\": \"rgba(251, 128, 114, 0.6)\", \"line\": {\"color\": \"rgba(251, 128, 114, 1.0)\", \"width\": 1}}, \"name\": \"USA\", \"orientation\": \"v\", \"text\": \"\", \"type\": \"bar\", \"x\": [15, 385, 293, 61, 17, 280, 155, 231, 74, 196, 187, 62, 123, 176, 227, 263, 259, 124, 212, 317, 175, 182, 149, 238, 282, 66, 256, 275, 92, 228, 390, 1, 326, 37, 287, 132, 95, 136, 269, 204, 253, 90, 12, 278, 344, 11, 134, 214, 140, 266, 52, 71, 281, 246, 96, 308, 354, 372, 268, 26, 315, 388, 381, 324, 356, 59, 63, 199, 162, 69, 45, 178, 153, 301, 294, 13, 102, 347, 41, 186, 365, 221, 111, 383, 330, 286, 43, 207, 54, 169, 320, 379, 200, 27, 311, 220, 247, 101, 150, 109, 252, 6, 239, 303, 167, 166, 157, 279, 258, 325, 130, 339, 210, 154, 233, 358, 394, 14, 86, 56, 106, 65, 133, 274, 298, 98, 216, 389, 229, 234, 97, 318, 142, 305, 116, 0, 254, 76, 73, 332, 377, 215, 135, 24, 336, 18, 51, 392, 375, 328, 283, 60, 138, 208, 68, 122, 20, 386, 340, 304, 341, 194, 245, 114, 120, 173, 21, 342, 129, 240, 148, 248, 249, 164, 58, 260, 7, 217, 55, 236, 307, 188, 48, 89, 158, 81, 77, 103, 219, 44, 126, 144, 156, 19, 23, 327, 118, 107, 205, 255, 380, 8, 322, 299, 139, 36, 378, 218, 50, 34, 264, 125, 371, 284, 40, 67, 367, 310, 110, 108, 198, 329, 179, 64, 168, 29, 349, 223, 224, 100, 104, 237, 161, 213, 152, 49, 184, 261, 297, 296, 5, 189, 145, 79, 374, 289, 146, 361, 352, 397, 137, 250, 85, 225, 222, 10, 171, 206, 348, 201, 271, 170, 190, 16, 209, 309, 33, 181, 350, 302, 313, 46, 226, 295, 357, 391, 35, 80, 232, 312, 160, 319, 331, 83, 395, 300, 363, 316, 373, 270, 141, 393, 113, 369, 2, 78, 143, 272, 191, 3, 93, 387, 230, 346, 362, 22, 159, 30, 235, 376, 4, 241, 112, 276, 306, 75, 334, 94], \"y\": [1.0, 0.0, 0.0, 1.0, 1.0, 1.0, 1.0, 1.0, 1.0, 1.0, 1.0, 1.0, 0.0, 1.0, 1.0, 1.0, 1.0, 1.0, 1.0, 0.0, 0.0, 0.0, 0.0, 1.0, 1.0, 1.0, 1.0, 0.0, 1.0, 1.0, 0.0, 1.0, 0.0, 1.0, 1.0, 1.0, 1.0, 1.0, 1.0, 0.0, 1.0, 1.0, 1.0, 0.0, 1.0, 1.0, 1.0, 1.0, 1.0, 1.0, 0.0, 0.0, 1.0, 0.0, 1.0, 1.0, 0.0, 1.0, 0.0, 1.0, 1.0, 1.0, 0.0, 0.0, 0.0, 0.0, 1.0, 1.0, 1.0, 1.0, 1.0, 0.0, 1.0, 1.0, 0.0, 1.0, 0.0, 0.0, 1.0, 0.0, 1.0, 1.0, 0.0, 0.0, 0.0, 1.0, 1.0, 0.0, 0.0, 1.0, 0.0, 1.0, 1.0, 1.0, 1.0, 0.0, 0.0, 1.0, 0.0, 1.0, 1.0, 1.0, 0.0, 0.0, 0.0, 1.0, 1.0, 0.0, 1.0, 0.0, 1.0, 1.0, 0.0, 1.0, 0.0, 0.0, 0.0, 0.0, 1.0, 1.0, 1.0, 1.0, 1.0, 0.0, 1.0, 1.0, 0.0, 1.0, 1.0, 1.0, 1.0, 0.0, 0.0, 1.0, 1.0, 1.0, 1.0, 0.0, 1.0, 0.0, 0.0, 1.0, 1.0, 1.0, 1.0, 0.0, 0.0, 1.0, 0.0, 0.0, 1.0, 1.0, 1.0, 1.0, 1.0, 0.0, 0.0, 1.0, 1.0, 0.0, 1.0, 1.0, 1.0, 0.0, 0.0, 0.0, 0.0, 1.0, 0.0, 0.0, 0.0, 0.0, 1.0, 1.0, 1.0, 1.0, 1.0, 1.0, 0.0, 1.0, 1.0, 1.0, 1.0, 1.0, 1.0, 0.0, 0.0, 1.0, 1.0, 1.0, 1.0, 0.0, 1.0, 0.0, 0.0, 0.0, 0.0, 1.0, 0.0, 1.0, 0.0, 1.0, 0.0, 0.0, 1.0, 1.0, 1.0, 0.0, 0.0, 1.0, 1.0, 1.0, 1.0, 1.0, 1.0, 1.0, 1.0, 0.0, 0.0, 0.0, 0.0, 0.0, 0.0, 1.0, 1.0, 0.0, 0.0, 1.0, 1.0, 1.0, 1.0, 1.0, 1.0, 1.0, 1.0, 1.0, 1.0, 1.0, 0.0, 1.0, 1.0, 1.0, 0.0, 0.0, 1.0, 1.0, 1.0, 0.0, 1.0, 1.0, 1.0, 1.0, 1.0, 1.0, 1.0, 1.0, 0.0, 1.0, 0.0, 1.0, 1.0, 1.0, 1.0, 1.0, 0.0, 0.0, 1.0, 0.0, 1.0, 1.0, 1.0, 1.0, 1.0, 1.0, 0.0, 1.0, 1.0, 1.0, 1.0, 0.0, 1.0, 0.0, 0.0, 1.0, 1.0, 1.0, 1.0, 1.0, 1.0, 0.0, 0.0, 1.0, 1.0, 1.0, 1.0, 0.0, 0.0, 1.0, 1.0, 1.0, 1.0, 1.0, 1.0, 0.0, 0.0, 0.0, 1.0, 1.0, 0.0, 0.0, 1.0, 0.0, 1.0, 0.0, 1.0, 1.0, 0.0, 1.0]}, {\"marker\": {\"color\": \"rgba(128, 177, 211, 0.6)\", \"line\": {\"color\": \"rgba(128, 177, 211, 1.0)\", \"width\": 1}}, \"name\": \"Europe\", \"orientation\": \"v\", \"text\": \"\", \"type\": \"bar\", \"x\": [15, 385, 293, 61, 17, 280, 155, 231, 74, 196, 187, 62, 123, 176, 227, 263, 259, 124, 212, 317, 175, 182, 149, 238, 282, 66, 256, 275, 92, 228, 390, 1, 326, 37, 287, 132, 95, 136, 269, 204, 253, 90, 12, 278, 344, 11, 134, 214, 140, 266, 52, 71, 281, 246, 96, 308, 354, 372, 268, 26, 315, 388, 381, 324, 356, 59, 63, 199, 162, 69, 45, 178, 153, 301, 294, 13, 102, 347, 41, 186, 365, 221, 111, 383, 330, 286, 43, 207, 54, 169, 320, 379, 200, 27, 311, 220, 247, 101, 150, 109, 252, 6, 239, 303, 167, 166, 157, 279, 258, 325, 130, 339, 210, 154, 233, 358, 394, 14, 86, 56, 106, 65, 133, 274, 298, 98, 216, 389, 229, 234, 97, 318, 142, 305, 116, 0, 254, 76, 73, 332, 377, 215, 135, 24, 336, 18, 51, 392, 375, 328, 283, 60, 138, 208, 68, 122, 20, 386, 340, 304, 341, 194, 245, 114, 120, 173, 21, 342, 129, 240, 148, 248, 249, 164, 58, 260, 7, 217, 55, 236, 307, 188, 48, 89, 158, 81, 77, 103, 219, 44, 126, 144, 156, 19, 23, 327, 118, 107, 205, 255, 380, 8, 322, 299, 139, 36, 378, 218, 50, 34, 264, 125, 371, 284, 40, 67, 367, 310, 110, 108, 198, 329, 179, 64, 168, 29, 349, 223, 224, 100, 104, 237, 161, 213, 152, 49, 184, 261, 297, 296, 5, 189, 145, 79, 374, 289, 146, 361, 352, 397, 137, 250, 85, 225, 222, 10, 171, 206, 348, 201, 271, 170, 190, 16, 209, 309, 33, 181, 350, 302, 313, 46, 226, 295, 357, 391, 35, 80, 232, 312, 160, 319, 331, 83, 395, 300, 363, 316, 373, 270, 141, 393, 113, 369, 2, 78, 143, 272, 191, 3, 93, 387, 230, 346, 362, 22, 159, 30, 235, 376, 4, 241, 112, 276, 306, 75, 334, 94], \"y\": [0.0, 0.0, 1.0, 0.0, 0.0, 0.0, 0.0, 0.0, 0.0, 0.0, 0.0, 0.0, 0.0, 0.0, 0.0, 0.0, 0.0, 0.0, 0.0, 1.0, 1.0, 1.0, 0.0, 0.0, 0.0, 0.0, 0.0, 1.0, 0.0, 0.0, 0.0, 0.0, 1.0, 0.0, 0.0, 0.0, 0.0, 0.0, 0.0, 0.0, 0.0, 0.0, 0.0, 1.0, 0.0, 0.0, 0.0, 0.0, 0.0, 0.0, 1.0, 0.0, 0.0, 0.0, 0.0, 0.0, 1.0, 0.0, 0.0, 0.0, 0.0, 0.0, 0.0, 0.0, 0.0, 1.0, 0.0, 0.0, 0.0, 0.0, 0.0, 1.0, 0.0, 0.0, 0.0, 0.0, 1.0, 0.0, 0.0, 1.0, 0.0, 0.0, 0.0, 0.0, 1.0, 0.0, 0.0, 1.0, 0.0, 0.0, 0.0, 0.0, 0.0, 0.0, 0.0, 0.0, 0.0, 0.0, 0.0, 0.0, 0.0, 0.0, 0.0, 0.0, 0.0, 0.0, 0.0, 0.0, 0.0, 1.0, 0.0, 0.0, 0.0, 0.0, 1.0, 0.0, 1.0, 0.0, 0.0, 0.0, 0.0, 0.0, 0.0, 1.0, 0.0, 0.0, 0.0, 0.0, 0.0, 0.0, 0.0, 0.0, 1.0, 0.0, 0.0, 0.0, 0.0, 1.0, 0.0, 1.0, 0.0, 0.0, 0.0, 0.0, 0.0, 0.0, 1.0, 0.0, 1.0, 1.0, 0.0, 0.0, 0.0, 0.0, 0.0, 1.0, 1.0, 0.0, 0.0, 1.0, 0.0, 0.0, 0.0, 1.0, 1.0, 0.0, 1.0, 0.0, 0.0, 1.0, 1.0, 0.0, 0.0, 0.0, 0.0, 0.0, 0.0, 0.0, 1.0, 0.0, 0.0, 0.0, 0.0, 0.0, 0.0, 0.0, 1.0, 0.0, 0.0, 0.0, 0.0, 0.0, 0.0, 1.0, 1.0, 1.0, 1.0, 0.0, 0.0, 0.0, 0.0, 0.0, 0.0, 1.0, 0.0, 0.0, 0.0, 1.0, 1.0, 0.0, 0.0, 0.0, 0.0, 0.0, 0.0, 0.0, 0.0, 0.0, 0.0, 0.0, 0.0, 0.0, 1.0, 0.0, 0.0, 0.0, 0.0, 0.0, 0.0, 0.0, 0.0, 0.0, 0.0, 0.0, 0.0, 0.0, 0.0, 0.0, 1.0, 0.0, 0.0, 0.0, 0.0, 1.0, 0.0, 0.0, 0.0, 0.0, 0.0, 0.0, 0.0, 0.0, 0.0, 0.0, 0.0, 0.0, 0.0, 0.0, 0.0, 0.0, 0.0, 0.0, 0.0, 0.0, 1.0, 1.0, 0.0, 0.0, 0.0, 0.0, 0.0, 0.0, 0.0, 0.0, 0.0, 0.0, 0.0, 0.0, 0.0, 0.0, 0.0, 0.0, 0.0, 0.0, 0.0, 0.0, 0.0, 0.0, 0.0, 0.0, 1.0, 0.0, 0.0, 0.0, 0.0, 1.0, 1.0, 0.0, 0.0, 0.0, 0.0, 0.0, 0.0, 0.0, 0.0, 1.0, 0.0, 0.0, 0.0, 0.0, 0.0, 0.0, 0.0, 1.0, 0.0, 0.0, 0.0, 0.0]}, {\"marker\": {\"color\": \"rgba(128, 177, 211, 0.6)\", \"line\": {\"color\": \"rgba(128, 177, 211, 0.8999999999999999)\", \"width\": 1}}, \"name\": \"Japan\", \"orientation\": \"v\", \"text\": \"\", \"type\": \"bar\", \"x\": [15, 385, 293, 61, 17, 280, 155, 231, 74, 196, 187, 62, 123, 176, 227, 263, 259, 124, 212, 317, 175, 182, 149, 238, 282, 66, 256, 275, 92, 228, 390, 1, 326, 37, 287, 132, 95, 136, 269, 204, 253, 90, 12, 278, 344, 11, 134, 214, 140, 266, 52, 71, 281, 246, 96, 308, 354, 372, 268, 26, 315, 388, 381, 324, 356, 59, 63, 199, 162, 69, 45, 178, 153, 301, 294, 13, 102, 347, 41, 186, 365, 221, 111, 383, 330, 286, 43, 207, 54, 169, 320, 379, 200, 27, 311, 220, 247, 101, 150, 109, 252, 6, 239, 303, 167, 166, 157, 279, 258, 325, 130, 339, 210, 154, 233, 358, 394, 14, 86, 56, 106, 65, 133, 274, 298, 98, 216, 389, 229, 234, 97, 318, 142, 305, 116, 0, 254, 76, 73, 332, 377, 215, 135, 24, 336, 18, 51, 392, 375, 328, 283, 60, 138, 208, 68, 122, 20, 386, 340, 304, 341, 194, 245, 114, 120, 173, 21, 342, 129, 240, 148, 248, 249, 164, 58, 260, 7, 217, 55, 236, 307, 188, 48, 89, 158, 81, 77, 103, 219, 44, 126, 144, 156, 19, 23, 327, 118, 107, 205, 255, 380, 8, 322, 299, 139, 36, 378, 218, 50, 34, 264, 125, 371, 284, 40, 67, 367, 310, 110, 108, 198, 329, 179, 64, 168, 29, 349, 223, 224, 100, 104, 237, 161, 213, 152, 49, 184, 261, 297, 296, 5, 189, 145, 79, 374, 289, 146, 361, 352, 397, 137, 250, 85, 225, 222, 10, 171, 206, 348, 201, 271, 170, 190, 16, 209, 309, 33, 181, 350, 302, 313, 46, 226, 295, 357, 391, 35, 80, 232, 312, 160, 319, 331, 83, 395, 300, 363, 316, 373, 270, 141, 393, 113, 369, 2, 78, 143, 272, 191, 3, 93, 387, 230, 346, 362, 22, 159, 30, 235, 376, 4, 241, 112, 276, 306, 75, 334, 94], \"y\": [0.0, 1.0, 0.0, 0.0, 0.0, 0.0, 0.0, 0.0, 0.0, 0.0, 0.0, 0.0, 1.0, 0.0, 0.0, 0.0, 0.0, 0.0, 0.0, 0.0, 0.0, 0.0, 1.0, 0.0, 0.0, 0.0, 0.0, 0.0, 0.0, 0.0, 1.0, 0.0, 0.0, 0.0, 0.0, 0.0, 0.0, 0.0, 0.0, 1.0, 0.0, 0.0, 0.0, 0.0, 0.0, 0.0, 0.0, 0.0, 0.0, 0.0, 0.0, 1.0, 0.0, 1.0, 0.0, 0.0, 0.0, 0.0, 1.0, 0.0, 0.0, 0.0, 1.0, 1.0, 1.0, 0.0, 0.0, 0.0, 0.0, 0.0, 0.0, 0.0, 0.0, 0.0, 1.0, 0.0, 0.0, 1.0, 0.0, 0.0, 0.0, 0.0, 1.0, 1.0, 0.0, 0.0, 0.0, 0.0, 1.0, 0.0, 1.0, 0.0, 0.0, 0.0, 0.0, 1.0, 1.0, 0.0, 1.0, 0.0, 0.0, 0.0, 1.0, 1.0, 1.0, 0.0, 0.0, 1.0, 0.0, 0.0, 0.0, 0.0, 1.0, 0.0, 0.0, 1.0, 0.0, 1.0, 0.0, 0.0, 0.0, 0.0, 0.0, 0.0, 0.0, 0.0, 1.0, 0.0, 0.0, 0.0, 0.0, 1.0, 0.0, 0.0, 0.0, 0.0, 0.0, 0.0, 0.0, 0.0, 1.0, 0.0, 0.0, 0.0, 0.0, 1.0, 0.0, 0.0, 0.0, 0.0, 0.0, 0.0, 0.0, 0.0, 0.0, 0.0, 0.0, 0.0, 0.0, 0.0, 0.0, 0.0, 0.0, 0.0, 0.0, 1.0, 0.0, 0.0, 1.0, 0.0, 0.0, 1.0, 0.0, 0.0, 0.0, 0.0, 0.0, 0.0, 0.0, 0.0, 0.0, 0.0, 0.0, 0.0, 0.0, 1.0, 0.0, 0.0, 0.0, 0.0, 0.0, 1.0, 0.0, 0.0, 0.0, 0.0, 0.0, 0.0, 1.0, 0.0, 1.0, 0.0, 1.0, 0.0, 0.0, 0.0, 0.0, 0.0, 0.0, 0.0, 0.0, 0.0, 0.0, 0.0, 0.0, 0.0, 0.0, 1.0, 1.0, 1.0, 1.0, 1.0, 0.0, 0.0, 0.0, 1.0, 1.0, 0.0, 0.0, 0.0, 0.0, 0.0, 0.0, 0.0, 0.0, 0.0, 0.0, 0.0, 0.0, 0.0, 0.0, 0.0, 1.0, 0.0, 0.0, 0.0, 0.0, 1.0, 0.0, 0.0, 0.0, 0.0, 0.0, 0.0, 0.0, 0.0, 1.0, 0.0, 1.0, 0.0, 0.0, 0.0, 0.0, 0.0, 0.0, 0.0, 0.0, 1.0, 0.0, 0.0, 0.0, 0.0, 0.0, 0.0, 1.0, 0.0, 0.0, 0.0, 0.0, 1.0, 0.0, 1.0, 1.0, 0.0, 0.0, 0.0, 0.0, 0.0, 0.0, 1.0, 0.0, 0.0, 0.0, 0.0, 0.0, 0.0, 0.0, 0.0, 0.0, 0.0, 0.0, 0.0, 0.0, 1.0, 1.0, 0.0, 0.0, 0.0, 1.0, 1.0, 0.0, 1.0, 0.0, 0.0, 0.0, 0.0, 1.0, 0.0]}, {\"marker\": {\"color\": \"rgba(255, 153, 51, 0.6)\", \"line\": {\"color\": \"rgba(255, 153, 51, 0.8999999999999999)\", \"width\": 1}}, \"name\": \"Continent\", \"orientation\": \"v\", \"text\": \"\", \"type\": \"bar\", \"x\": [15, 385, 293, 61, 17, 280, 155, 231, 74, 196, 187, 62, 123, 176, 227, 263, 259, 124, 212, 317, 175, 182, 149, 238, 282, 66, 256, 275, 92, 228, 390, 1, 326, 37, 287, 132, 95, 136, 269, 204, 253, 90, 12, 278, 344, 11, 134, 214, 140, 266, 52, 71, 281, 246, 96, 308, 354, 372, 268, 26, 315, 388, 381, 324, 356, 59, 63, 199, 162, 69, 45, 178, 153, 301, 294, 13, 102, 347, 41, 186, 365, 221, 111, 383, 330, 286, 43, 207, 54, 169, 320, 379, 200, 27, 311, 220, 247, 101, 150, 109, 252, 6, 239, 303, 167, 166, 157, 279, 258, 325, 130, 339, 210, 154, 233, 358, 394, 14, 86, 56, 106, 65, 133, 274, 298, 98, 216, 389, 229, 234, 97, 318, 142, 305, 116, 0, 254, 76, 73, 332, 377, 215, 135, 24, 336, 18, 51, 392, 375, 328, 283, 60, 138, 208, 68, 122, 20, 386, 340, 304, 341, 194, 245, 114, 120, 173, 21, 342, 129, 240, 148, 248, 249, 164, 58, 260, 7, 217, 55, 236, 307, 188, 48, 89, 158, 81, 77, 103, 219, 44, 126, 144, 156, 19, 23, 327, 118, 107, 205, 255, 380, 8, 322, 299, 139, 36, 378, 218, 50, 34, 264, 125, 371, 284, 40, 67, 367, 310, 110, 108, 198, 329, 179, 64, 168, 29, 349, 223, 224, 100, 104, 237, 161, 213, 152, 49, 184, 261, 297, 296, 5, 189, 145, 79, 374, 289, 146, 361, 352, 397, 137, 250, 85, 225, 222, 10, 171, 206, 348, 201, 271, 170, 190, 16, 209, 309, 33, 181, 350, 302, 313, 46, 226, 295, 357, 391, 35, 80, 232, 312, 160, 319, 331, 83, 395, 300, 363, 316, 373, 270, 141, 393, 113, 369, 2, 78, 143, 272, 191, 3, 93, 387, 230, 346, 362, 22, 159, 30, 235, 376, 4, 241, 112, 276, 306, 75, 334, 94], \"y\": [\"USA\", \"Japan\", \"Europe\", \"USA\", \"USA\", \"USA\", \"USA\", \"USA\", \"USA\", \"USA\", \"USA\", \"USA\", \"Japan\", \"USA\", \"USA\", \"USA\", \"USA\", \"USA\", \"USA\", \"Europe\", \"Europe\", \"Europe\", \"Japan\", \"USA\", \"USA\", \"USA\", \"USA\", \"Europe\", \"USA\", \"USA\", \"Japan\", \"USA\", \"Europe\", \"USA\", \"USA\", \"USA\", \"USA\", \"USA\", \"USA\", \"Japan\", \"USA\", \"USA\", \"USA\", \"Europe\", \"USA\", \"USA\", \"USA\", \"USA\", \"USA\", \"USA\", \"Europe\", \"Japan\", \"USA\", \"Japan\", \"USA\", \"USA\", \"Europe\", \"USA\", \"Japan\", \"USA\", \"USA\", \"USA\", \"Japan\", \"Japan\", \"Japan\", \"Europe\", \"USA\", \"USA\", \"USA\", \"USA\", \"USA\", \"Europe\", \"USA\", \"USA\", \"Japan\", \"USA\", \"Europe\", \"Japan\", \"USA\", \"Europe\", \"USA\", \"USA\", \"Japan\", \"Japan\", \"Europe\", \"USA\", \"USA\", \"Europe\", \"Japan\", \"USA\", \"Japan\", \"USA\", \"USA\", \"USA\", \"USA\", \"Japan\", \"Japan\", \"USA\", \"Japan\", \"USA\", \"USA\", \"USA\", \"Japan\", \"Japan\", \"Japan\", \"USA\", \"USA\", \"Japan\", \"USA\", \"Europe\", \"USA\", \"USA\", \"Japan\", \"USA\", \"Europe\", \"Japan\", \"Europe\", \"Japan\", \"USA\", \"USA\", \"USA\", \"USA\", \"USA\", \"Europe\", \"USA\", \"USA\", \"Japan\", \"USA\", \"USA\", \"USA\", \"USA\", \"Japan\", \"Europe\", \"USA\", \"USA\", \"USA\", \"USA\", \"Europe\", \"USA\", \"Europe\", \"Japan\", \"USA\", \"USA\", \"USA\", \"USA\", \"Japan\", \"Europe\", \"USA\", \"Europe\", \"Europe\", \"USA\", \"USA\", \"USA\", \"USA\", \"USA\", \"Europe\", \"Europe\", \"USA\", \"USA\", \"Europe\", \"USA\", \"USA\", \"USA\", \"Europe\", \"Europe\", \"Japan\", \"Europe\", \"USA\", \"Japan\", \"Europe\", \"Europe\", \"Japan\", \"USA\", \"USA\", \"USA\", \"USA\", \"USA\", \"USA\", \"Europe\", \"USA\", \"USA\", \"USA\", \"USA\", \"USA\", \"USA\", \"Japan\", \"Europe\", \"USA\", \"USA\", \"USA\", \"USA\", \"Japan\", \"USA\", \"Europe\", \"Europe\", \"Europe\", \"Europe\", \"USA\", \"Japan\", \"USA\", \"Japan\", \"USA\", \"Japan\", \"Europe\", \"USA\", \"USA\", \"USA\", \"Europe\", \"Europe\", \"USA\", \"USA\", \"USA\", \"USA\", \"USA\", \"USA\", \"USA\", \"USA\", \"Japan\", \"Japan\", \"Japan\", \"Japan\", \"Japan\", \"Europe\", \"USA\", \"USA\", \"Japan\", \"Japan\", \"USA\", \"USA\", \"USA\", \"USA\", \"USA\", \"USA\", \"USA\", \"USA\", \"USA\", \"USA\", \"USA\", \"Europe\", \"USA\", \"USA\", \"USA\", \"Japan\", \"Europe\", \"USA\", \"USA\", \"USA\", \"Japan\", \"USA\", \"USA\", \"USA\", \"USA\", \"USA\", \"USA\", \"USA\", \"USA\", \"Japan\", \"USA\", \"Japan\", \"USA\", \"USA\", \"USA\", \"USA\", \"USA\", \"Europe\", \"Europe\", \"USA\", \"Japan\", \"USA\", \"USA\", \"USA\", \"USA\", \"USA\", \"USA\", \"Japan\", \"USA\", \"USA\", \"USA\", \"USA\", \"Japan\", \"USA\", \"Japan\", \"Japan\", \"USA\", \"USA\", \"USA\", \"USA\", \"USA\", \"USA\", \"Japan\", \"Europe\", \"USA\", \"USA\", \"USA\", \"USA\", \"Europe\", \"Europe\", \"USA\", \"USA\", \"USA\", \"USA\", \"USA\", \"USA\", \"Japan\", \"Japan\", \"Europe\", \"USA\", \"USA\", \"Japan\", \"Japan\", \"USA\", \"Japan\", \"USA\", \"Europe\", \"USA\", \"USA\", \"Japan\", \"USA\"]}, {\"marker\": {\"color\": \"rgba(55, 128, 191, 0.6)\", \"line\": {\"color\": \"rgba(55, 128, 191, 0.8999999999999999)\", \"width\": 1}}, \"name\": \"Origin\", \"orientation\": \"v\", \"text\": \"\", \"type\": \"bar\", \"x\": [15, 385, 293, 61, 17, 280, 155, 231, 74, 196, 187, 62, 123, 176, 227, 263, 259, 124, 212, 317, 175, 182, 149, 238, 282, 66, 256, 275, 92, 228, 390, 1, 326, 37, 287, 132, 95, 136, 269, 204, 253, 90, 12, 278, 344, 11, 134, 214, 140, 266, 52, 71, 281, 246, 96, 308, 354, 372, 268, 26, 315, 388, 381, 324, 356, 59, 63, 199, 162, 69, 45, 178, 153, 301, 294, 13, 102, 347, 41, 186, 365, 221, 111, 383, 330, 286, 43, 207, 54, 169, 320, 379, 200, 27, 311, 220, 247, 101, 150, 109, 252, 6, 239, 303, 167, 166, 157, 279, 258, 325, 130, 339, 210, 154, 233, 358, 394, 14, 86, 56, 106, 65, 133, 274, 298, 98, 216, 389, 229, 234, 97, 318, 142, 305, 116, 0, 254, 76, 73, 332, 377, 215, 135, 24, 336, 18, 51, 392, 375, 328, 283, 60, 138, 208, 68, 122, 20, 386, 340, 304, 341, 194, 245, 114, 120, 173, 21, 342, 129, 240, 148, 248, 249, 164, 58, 260, 7, 217, 55, 236, 307, 188, 48, 89, 158, 81, 77, 103, 219, 44, 126, 144, 156, 19, 23, 327, 118, 107, 205, 255, 380, 8, 322, 299, 139, 36, 378, 218, 50, 34, 264, 125, 371, 284, 40, 67, 367, 310, 110, 108, 198, 329, 179, 64, 168, 29, 349, 223, 224, 100, 104, 237, 161, 213, 152, 49, 184, 261, 297, 296, 5, 189, 145, 79, 374, 289, 146, 361, 352, 397, 137, 250, 85, 225, 222, 10, 171, 206, 348, 201, 271, 170, 190, 16, 209, 309, 33, 181, 350, 302, 313, 46, 226, 295, 357, 391, 35, 80, 232, 312, 160, 319, 331, 83, 395, 300, 363, 316, 373, 270, 141, 393, 113, 369, 2, 78, 143, 272, 191, 3, 93, 387, 230, 346, 362, 22, 159, 30, 235, 376, 4, 241, 112, 276, 306, 75, 334, 94], \"y\": [1, 3, 2, 1, 1, 1, 1, 1, 1, 1, 1, 1, 3, 1, 1, 1, 1, 1, 1, 2, 2, 2, 3, 1, 1, 1, 1, 2, 1, 1, 3, 1, 2, 1, 1, 1, 1, 1, 1, 3, 1, 1, 1, 2, 1, 1, 1, 1, 1, 1, 2, 3, 1, 3, 1, 1, 2, 1, 3, 1, 1, 1, 3, 3, 3, 2, 1, 1, 1, 1, 1, 2, 1, 1, 3, 1, 2, 3, 1, 2, 1, 1, 3, 3, 2, 1, 1, 2, 3, 1, 3, 1, 1, 1, 1, 3, 3, 1, 3, 1, 1, 1, 3, 3, 3, 1, 1, 3, 1, 2, 1, 1, 3, 1, 2, 3, 2, 3, 1, 1, 1, 1, 1, 2, 1, 1, 3, 1, 1, 1, 1, 3, 2, 1, 1, 1, 1, 2, 1, 2, 3, 1, 1, 1, 1, 3, 2, 1, 2, 2, 1, 1, 1, 1, 1, 2, 2, 1, 1, 2, 1, 1, 1, 2, 2, 3, 2, 1, 3, 2, 2, 3, 1, 1, 1, 1, 1, 1, 2, 1, 1, 1, 1, 1, 1, 3, 2, 1, 1, 1, 1, 3, 1, 2, 2, 2, 2, 1, 3, 1, 3, 1, 3, 2, 1, 1, 1, 2, 2, 1, 1, 1, 1, 1, 1, 1, 1, 3, 3, 3, 3, 3, 2, 1, 1, 3, 3, 1, 1, 1, 1, 1, 1, 1, 1, 1, 1, 1, 2, 1, 1, 1, 3, 2, 1, 1, 1, 3, 1, 1, 1, 1, 1, 1, 1, 1, 3, 1, 3, 1, 1, 1, 1, 1, 2, 2, 1, 3, 1, 1, 1, 1, 1, 1, 3, 1, 1, 1, 1, 3, 1, 3, 3, 1, 1, 1, 1, 1, 1, 3, 2, 1, 1, 1, 1, 2, 2, 1, 1, 1, 1, 1, 1, 3, 3, 2, 1, 1, 3, 3, 1, 3, 1, 2, 1, 1, 3, 1]}],                        {\"barmode\": \"stack\", \"legend\": {\"bgcolor\": \"#F5F6F9\", \"font\": {\"color\": \"#4D5663\"}, \"traceorder\": \"normal\"}, \"paper_bgcolor\": \"#F5F6F9\", \"plot_bgcolor\": \"#F5F6F9\", \"template\": {\"data\": {\"bar\": [{\"error_x\": {\"color\": \"#2a3f5f\"}, \"error_y\": {\"color\": \"#2a3f5f\"}, \"marker\": {\"line\": {\"color\": \"#E5ECF6\", \"width\": 0.5}}, \"type\": \"bar\"}], \"barpolar\": [{\"marker\": {\"line\": {\"color\": \"#E5ECF6\", \"width\": 0.5}}, \"type\": \"barpolar\"}], \"carpet\": [{\"aaxis\": {\"endlinecolor\": \"#2a3f5f\", \"gridcolor\": \"white\", \"linecolor\": \"white\", \"minorgridcolor\": \"white\", \"startlinecolor\": \"#2a3f5f\"}, \"baxis\": {\"endlinecolor\": \"#2a3f5f\", \"gridcolor\": \"white\", \"linecolor\": \"white\", \"minorgridcolor\": \"white\", \"startlinecolor\": \"#2a3f5f\"}, \"type\": \"carpet\"}], \"choropleth\": [{\"colorbar\": {\"outlinewidth\": 0, \"ticks\": \"\"}, \"type\": \"choropleth\"}], \"contour\": [{\"colorbar\": {\"outlinewidth\": 0, \"ticks\": \"\"}, \"colorscale\": [[0.0, \"#0d0887\"], [0.1111111111111111, \"#46039f\"], [0.2222222222222222, \"#7201a8\"], [0.3333333333333333, \"#9c179e\"], [0.4444444444444444, \"#bd3786\"], [0.5555555555555556, \"#d8576b\"], [0.6666666666666666, \"#ed7953\"], [0.7777777777777778, \"#fb9f3a\"], [0.8888888888888888, \"#fdca26\"], [1.0, \"#f0f921\"]], \"type\": \"contour\"}], \"contourcarpet\": [{\"colorbar\": {\"outlinewidth\": 0, \"ticks\": \"\"}, \"type\": \"contourcarpet\"}], \"heatmap\": [{\"colorbar\": {\"outlinewidth\": 0, \"ticks\": \"\"}, \"colorscale\": [[0.0, \"#0d0887\"], [0.1111111111111111, \"#46039f\"], [0.2222222222222222, \"#7201a8\"], [0.3333333333333333, \"#9c179e\"], [0.4444444444444444, \"#bd3786\"], [0.5555555555555556, \"#d8576b\"], [0.6666666666666666, \"#ed7953\"], [0.7777777777777778, \"#fb9f3a\"], [0.8888888888888888, \"#fdca26\"], [1.0, \"#f0f921\"]], \"type\": \"heatmap\"}], \"heatmapgl\": [{\"colorbar\": {\"outlinewidth\": 0, \"ticks\": \"\"}, \"colorscale\": [[0.0, \"#0d0887\"], [0.1111111111111111, \"#46039f\"], [0.2222222222222222, \"#7201a8\"], [0.3333333333333333, \"#9c179e\"], [0.4444444444444444, \"#bd3786\"], [0.5555555555555556, \"#d8576b\"], [0.6666666666666666, \"#ed7953\"], [0.7777777777777778, \"#fb9f3a\"], [0.8888888888888888, \"#fdca26\"], [1.0, \"#f0f921\"]], \"type\": \"heatmapgl\"}], \"histogram\": [{\"marker\": {\"colorbar\": {\"outlinewidth\": 0, \"ticks\": \"\"}}, \"type\": \"histogram\"}], \"histogram2d\": [{\"colorbar\": {\"outlinewidth\": 0, \"ticks\": \"\"}, \"colorscale\": [[0.0, \"#0d0887\"], [0.1111111111111111, \"#46039f\"], [0.2222222222222222, \"#7201a8\"], [0.3333333333333333, \"#9c179e\"], [0.4444444444444444, \"#bd3786\"], [0.5555555555555556, \"#d8576b\"], [0.6666666666666666, \"#ed7953\"], [0.7777777777777778, \"#fb9f3a\"], [0.8888888888888888, \"#fdca26\"], [1.0, \"#f0f921\"]], \"type\": \"histogram2d\"}], \"histogram2dcontour\": [{\"colorbar\": {\"outlinewidth\": 0, \"ticks\": \"\"}, \"colorscale\": [[0.0, \"#0d0887\"], [0.1111111111111111, \"#46039f\"], [0.2222222222222222, \"#7201a8\"], [0.3333333333333333, \"#9c179e\"], [0.4444444444444444, \"#bd3786\"], [0.5555555555555556, \"#d8576b\"], [0.6666666666666666, \"#ed7953\"], [0.7777777777777778, \"#fb9f3a\"], [0.8888888888888888, \"#fdca26\"], [1.0, \"#f0f921\"]], \"type\": \"histogram2dcontour\"}], \"mesh3d\": [{\"colorbar\": {\"outlinewidth\": 0, \"ticks\": \"\"}, \"type\": \"mesh3d\"}], \"parcoords\": [{\"line\": {\"colorbar\": {\"outlinewidth\": 0, \"ticks\": \"\"}}, \"type\": \"parcoords\"}], \"pie\": [{\"automargin\": true, \"type\": \"pie\"}], \"scatter\": [{\"marker\": {\"colorbar\": {\"outlinewidth\": 0, \"ticks\": \"\"}}, \"type\": \"scatter\"}], \"scatter3d\": [{\"line\": {\"colorbar\": {\"outlinewidth\": 0, \"ticks\": \"\"}}, \"marker\": {\"colorbar\": {\"outlinewidth\": 0, \"ticks\": \"\"}}, \"type\": \"scatter3d\"}], \"scattercarpet\": [{\"marker\": {\"colorbar\": {\"outlinewidth\": 0, \"ticks\": \"\"}}, \"type\": \"scattercarpet\"}], \"scattergeo\": [{\"marker\": {\"colorbar\": {\"outlinewidth\": 0, \"ticks\": \"\"}}, \"type\": \"scattergeo\"}], \"scattergl\": [{\"marker\": {\"colorbar\": {\"outlinewidth\": 0, \"ticks\": \"\"}}, \"type\": \"scattergl\"}], \"scattermapbox\": [{\"marker\": {\"colorbar\": {\"outlinewidth\": 0, \"ticks\": \"\"}}, \"type\": \"scattermapbox\"}], \"scatterpolar\": [{\"marker\": {\"colorbar\": {\"outlinewidth\": 0, \"ticks\": \"\"}}, \"type\": \"scatterpolar\"}], \"scatterpolargl\": [{\"marker\": {\"colorbar\": {\"outlinewidth\": 0, \"ticks\": \"\"}}, \"type\": \"scatterpolargl\"}], \"scatterternary\": [{\"marker\": {\"colorbar\": {\"outlinewidth\": 0, \"ticks\": \"\"}}, \"type\": \"scatterternary\"}], \"surface\": [{\"colorbar\": {\"outlinewidth\": 0, \"ticks\": \"\"}, \"colorscale\": [[0.0, \"#0d0887\"], [0.1111111111111111, \"#46039f\"], [0.2222222222222222, \"#7201a8\"], [0.3333333333333333, \"#9c179e\"], [0.4444444444444444, \"#bd3786\"], [0.5555555555555556, \"#d8576b\"], [0.6666666666666666, \"#ed7953\"], [0.7777777777777778, \"#fb9f3a\"], [0.8888888888888888, \"#fdca26\"], [1.0, \"#f0f921\"]], \"type\": \"surface\"}], \"table\": [{\"cells\": {\"fill\": {\"color\": \"#EBF0F8\"}, \"line\": {\"color\": \"white\"}}, \"header\": {\"fill\": {\"color\": \"#C8D4E3\"}, \"line\": {\"color\": \"white\"}}, \"type\": \"table\"}]}, \"layout\": {\"annotationdefaults\": {\"arrowcolor\": \"#2a3f5f\", \"arrowhead\": 0, \"arrowwidth\": 1}, \"autotypenumbers\": \"strict\", \"coloraxis\": {\"colorbar\": {\"outlinewidth\": 0, \"ticks\": \"\"}}, \"colorscale\": {\"diverging\": [[0, \"#8e0152\"], [0.1, \"#c51b7d\"], [0.2, \"#de77ae\"], [0.3, \"#f1b6da\"], [0.4, \"#fde0ef\"], [0.5, \"#f7f7f7\"], [0.6, \"#e6f5d0\"], [0.7, \"#b8e186\"], [0.8, \"#7fbc41\"], [0.9, \"#4d9221\"], [1, \"#276419\"]], \"sequential\": [[0.0, \"#0d0887\"], [0.1111111111111111, \"#46039f\"], [0.2222222222222222, \"#7201a8\"], [0.3333333333333333, \"#9c179e\"], [0.4444444444444444, \"#bd3786\"], [0.5555555555555556, \"#d8576b\"], [0.6666666666666666, \"#ed7953\"], [0.7777777777777778, \"#fb9f3a\"], [0.8888888888888888, \"#fdca26\"], [1.0, \"#f0f921\"]], \"sequentialminus\": [[0.0, \"#0d0887\"], [0.1111111111111111, \"#46039f\"], [0.2222222222222222, \"#7201a8\"], [0.3333333333333333, \"#9c179e\"], [0.4444444444444444, \"#bd3786\"], [0.5555555555555556, \"#d8576b\"], [0.6666666666666666, \"#ed7953\"], [0.7777777777777778, \"#fb9f3a\"], [0.8888888888888888, \"#fdca26\"], [1.0, \"#f0f921\"]]}, \"colorway\": [\"#636efa\", \"#EF553B\", \"#00cc96\", \"#ab63fa\", \"#FFA15A\", \"#19d3f3\", \"#FF6692\", \"#B6E880\", \"#FF97FF\", \"#FECB52\"], \"font\": {\"color\": \"#2a3f5f\"}, \"geo\": {\"bgcolor\": \"white\", \"lakecolor\": \"white\", \"landcolor\": \"#E5ECF6\", \"showlakes\": true, \"showland\": true, \"subunitcolor\": \"white\"}, \"hoverlabel\": {\"align\": \"left\"}, \"hovermode\": \"closest\", \"mapbox\": {\"style\": \"light\"}, \"paper_bgcolor\": \"white\", \"plot_bgcolor\": \"#E5ECF6\", \"polar\": {\"angularaxis\": {\"gridcolor\": \"white\", \"linecolor\": \"white\", \"ticks\": \"\"}, \"bgcolor\": \"#E5ECF6\", \"radialaxis\": {\"gridcolor\": \"white\", \"linecolor\": \"white\", \"ticks\": \"\"}}, \"scene\": {\"xaxis\": {\"backgroundcolor\": \"#E5ECF6\", \"gridcolor\": \"white\", \"gridwidth\": 2, \"linecolor\": \"white\", \"showbackground\": true, \"ticks\": \"\", \"zerolinecolor\": \"white\"}, \"yaxis\": {\"backgroundcolor\": \"#E5ECF6\", \"gridcolor\": \"white\", \"gridwidth\": 2, \"linecolor\": \"white\", \"showbackground\": true, \"ticks\": \"\", \"zerolinecolor\": \"white\"}, \"zaxis\": {\"backgroundcolor\": \"#E5ECF6\", \"gridcolor\": \"white\", \"gridwidth\": 2, \"linecolor\": \"white\", \"showbackground\": true, \"ticks\": \"\", \"zerolinecolor\": \"white\"}}, \"shapedefaults\": {\"line\": {\"color\": \"#2a3f5f\"}}, \"ternary\": {\"aaxis\": {\"gridcolor\": \"white\", \"linecolor\": \"white\", \"ticks\": \"\"}, \"baxis\": {\"gridcolor\": \"white\", \"linecolor\": \"white\", \"ticks\": \"\"}, \"bgcolor\": \"#E5ECF6\", \"caxis\": {\"gridcolor\": \"white\", \"linecolor\": \"white\", \"ticks\": \"\"}}, \"title\": {\"x\": 0.05}, \"xaxis\": {\"automargin\": true, \"gridcolor\": \"white\", \"linecolor\": \"white\", \"ticks\": \"\", \"title\": {\"standoff\": 15}, \"zerolinecolor\": \"white\", \"zerolinewidth\": 2}, \"yaxis\": {\"automargin\": true, \"gridcolor\": \"white\", \"linecolor\": \"white\", \"ticks\": \"\", \"title\": {\"standoff\": 15}, \"zerolinecolor\": \"white\", \"zerolinewidth\": 2}}}, \"title\": {\"font\": {\"color\": \"#4D5663\"}}, \"xaxis\": {\"gridcolor\": \"#E1E5ED\", \"showgrid\": true, \"tickfont\": {\"color\": \"#4D5663\"}, \"title\": {\"font\": {\"color\": \"#4D5663\"}, \"text\": \"\"}, \"zerolinecolor\": \"#E1E5ED\"}, \"yaxis\": {\"gridcolor\": \"#E1E5ED\", \"showgrid\": true, \"tickfont\": {\"color\": \"#4D5663\"}, \"title\": {\"font\": {\"color\": \"#4D5663\"}, \"text\": \"\"}, \"zerolinecolor\": \"#E1E5ED\"}},                        {\"showLink\": true, \"linkText\": \"Export to plot.ly\", \"plotlyServerURL\": \"https://plot.ly\", \"responsive\": true}                    ).then(function(){\n",
       "                            \n",
       "var gd = document.getElementById('2883a150-34d4-4af7-9d5d-aac1fc305d28');\n",
       "var x = new MutationObserver(function (mutations, observer) {{\n",
       "        var display = window.getComputedStyle(gd).display;\n",
       "        if (!display || display === 'none') {{\n",
       "            console.log([gd, 'removed!']);\n",
       "            Plotly.purge(gd);\n",
       "            observer.disconnect();\n",
       "        }}\n",
       "}});\n",
       "\n",
       "// Listen for the removal of the full notebook cells\n",
       "var notebookContainer = gd.closest('#notebook-container');\n",
       "if (notebookContainer) {{\n",
       "    x.observe(notebookContainer, {childList: true});\n",
       "}}\n",
       "\n",
       "// Listen for the clearing of the current output cell\n",
       "var outputEl = gd.closest('.output');\n",
       "if (outputEl) {{\n",
       "    x.observe(outputEl, {childList: true});\n",
       "}}\n",
       "\n",
       "                        })                };                });            </script>        </div>"
      ]
     },
     "metadata": {},
     "output_type": "display_data"
    },
    {
     "data": {
      "application/vnd.plotly.v1+json": {
       "config": {
        "linkText": "Export to plot.ly",
        "plotlyServerURL": "https://plot.ly",
        "showLink": true
       },
       "data": [
        {
         "marker": {
          "color": [
           "rgb(255,0,0)",
           "rgb(255,0,0)",
           "rgb(255,0,0)",
           "rgb(255,0,0)",
           "rgb(255,0,0)",
           "rgb(255,0,0)",
           "rgb(255,0,0)",
           "rgb(255,0,0)",
           "rgb(255,0,0)",
           "rgb(255,0,0)",
           "rgb(255,0,0)",
           "rgb(255,0,0)",
           "rgb(255,0,0)",
           "rgb(255,0,0)",
           "rgb(255,0,0)",
           "rgb(255,0,0)",
           "rgb(255,0,0)",
           "rgb(255,0,0)",
           "rgb(255,0,0)",
           "rgb(255,0,0)",
           "rgb(255,0,0)",
           "rgb(255,0,0)",
           "rgb(255,0,0)",
           "rgb(255,0,0)",
           "rgb(255,0,0)",
           "rgb(255,0,0)",
           "rgb(255,0,0)",
           "rgb(255,0,0)",
           "rgb(255,0,0)",
           "rgb(255,0,0)",
           "rgb(255,0,0)",
           "rgb(255,0,0)",
           "rgb(255,0,0)",
           "rgb(255,0,0)",
           "rgb(255,0,0)",
           "rgb(255,0,0)",
           "rgb(255,0,0)",
           "rgb(255,0,0)",
           "rgb(255,0,0)",
           "rgb(255,0,0)",
           "rgb(255,0,0)",
           "rgb(255,0,0)",
           "rgb(255,0,0)",
           "rgb(255,0,0)",
           "rgb(255,0,0)",
           "rgb(255,0,0)",
           "rgb(255,0,0)",
           "rgb(255,0,0)",
           "rgb(255,0,0)",
           "rgb(255,0,0)",
           "rgb(255,0,0)",
           "rgb(255,0,0)",
           "rgb(255,0,0)",
           "rgb(255,0,0)",
           "rgb(255,0,0)",
           "rgb(255,0,0)",
           "rgb(255,0,0)",
           "rgb(255,0,0)",
           "rgb(255,0,0)",
           "rgb(255,0,0)",
           "rgb(255,0,0)",
           "rgb(255,0,0)",
           "rgb(255,0,0)",
           "rgb(255,0,0)",
           "rgb(255,0,0)",
           "rgb(255,0,0)",
           "rgb(255,0,0)",
           "rgb(255,0,0)",
           "rgb(255,0,0)",
           "rgb(255,0,0)",
           "rgb(255,0,0)",
           "rgb(255,0,0)",
           "rgb(255,0,0)",
           "rgb(255,0,0)",
           "rgb(255,0,0)",
           "rgb(255,0,0)",
           "rgb(255,0,0)",
           "rgb(255,0,0)",
           "rgb(255,0,0)",
           "rgb(255,0,0)",
           "rgb(255,0,0)",
           "rgb(255,0,0)",
           "rgb(255,0,0)",
           "rgb(255,0,0)",
           "rgb(255,0,0)",
           "rgb(255,0,0)",
           "rgb(255,0,0)",
           "rgb(255,0,0)",
           "rgb(255,0,0)",
           "rgb(255,0,0)",
           "rgb(255,0,0)",
           "rgb(255,0,0)",
           "rgb(255,0,0)",
           "rgb(255,0,0)",
           "rgb(255,0,0)",
           "rgb(255,0,0)",
           "rgb(255,0,0)",
           "rgb(255,0,0)",
           "rgb(255,0,0)",
           "rgb(255,0,0)",
           "rgb(255,0,0)",
           "rgb(255,0,0)",
           "rgb(255,0,0)",
           "rgb(255,0,0)",
           "rgb(255,0,0)",
           "rgb(255,0,0)",
           "rgb(255,0,0)",
           "rgb(255,0,0)",
           "rgb(255,0,0)",
           "rgb(255,0,0)",
           "rgb(255,0,0)",
           "rgb(255,0,0)",
           "rgb(255,0,0)",
           "rgb(255,0,0)",
           "rgb(255,0,0)",
           "rgb(255,0,0)",
           "rgb(255,0,0)",
           "rgb(255,0,0)",
           "rgb(255,0,0)",
           "rgb(255,0,0)",
           "rgb(255,0,0)",
           "rgb(255,0,0)",
           "rgb(255,0,0)",
           "rgb(255,0,0)",
           "rgb(255,0,0)",
           "rgb(255,0,0)",
           "rgb(255,0,0)",
           "rgb(255,0,0)",
           "rgb(255,0,0)",
           "rgb(255,0,0)",
           "rgb(255,0,0)",
           "rgb(255,0,0)",
           "rgb(255,0,0)",
           "rgb(255,0,0)",
           "rgb(255,0,0)",
           "rgb(255,0,0)",
           "rgb(255,0,0)",
           "rgb(255,0,0)",
           "rgb(255,0,0)",
           "rgb(255,0,0)",
           "rgb(255,0,0)",
           "rgb(255,0,0)",
           "rgb(255,0,0)",
           "rgb(255,0,0)",
           "rgb(255,0,0)",
           "rgb(255,0,0)",
           "rgb(255,0,0)",
           "rgb(255,0,0)",
           "rgb(255,0,0)",
           "rgb(255,0,0)",
           "rgb(255,0,0)",
           "rgb(255,0,0)",
           "rgb(255,0,0)",
           "rgb(255,0,0)",
           "rgb(255,0,0)",
           "rgb(255,0,0)",
           "rgb(255,0,0)",
           "rgb(255,0,0)",
           "rgb(255,0,0)",
           "rgb(255,0,0)",
           "rgb(255,0,0)",
           "rgb(255,0,0)",
           "rgb(255,0,0)",
           "rgb(255,0,0)",
           "rgb(255,0,0)",
           "rgb(255,0,0)",
           "rgb(255,0,0)",
           "rgb(255,0,0)",
           "rgb(255,0,0)",
           "rgb(255,0,0)",
           "rgb(255,0,0)",
           "rgb(255,0,0)",
           "rgb(255,0,0)",
           "rgb(255,0,0)",
           "rgb(255,0,0)",
           "rgb(255,0,0)",
           "rgb(255,0,0)",
           "rgb(255,0,0)",
           "rgb(255,0,0)",
           "rgb(255,0,0)",
           "rgb(255,0,0)",
           "rgb(255,0,0)",
           "rgb(255,0,0)",
           "rgb(255,0,0)",
           "rgb(255,0,0)",
           "rgb(255,0,0)",
           "rgb(255,0,0)",
           "rgb(255,0,0)",
           "rgb(255,0,0)",
           "rgb(255,0,0)",
           "rgb(255,0,0)",
           "rgb(255,0,0)",
           "rgb(255,0,0)",
           "rgb(255,0,0)",
           "rgb(255,0,0)",
           "rgb(255,0,0)",
           "rgb(255,0,0)",
           "rgb(255,0,0)",
           "rgb(255,0,0)",
           "rgb(255,0,0)",
           "rgb(255,0,0)",
           "rgb(255,0,0)",
           "rgb(255,0,0)",
           "rgb(255,0,0)",
           "rgb(255,0,0)",
           "rgb(255,0,0)",
           "rgb(255,0,0)",
           "rgb(255,0,0)",
           "rgb(255,0,0)",
           "rgb(255,0,0)",
           "rgb(255,0,0)",
           "rgb(255,0,0)",
           "rgb(255,0,0)",
           "rgb(255,0,0)",
           "rgb(255,0,0)",
           "rgb(255,0,0)",
           "rgb(255,0,0)",
           "rgb(255,0,0)",
           "rgb(255,0,0)",
           "rgb(255,0,0)",
           "rgb(255,0,0)",
           "rgb(255,0,0)",
           "rgb(255,0,0)",
           "rgb(255,0,0)",
           "rgb(255,0,0)",
           "rgb(255,0,0)",
           "rgb(255,0,0)",
           "rgb(255,0,0)",
           "rgb(255,0,0)",
           "rgb(255,0,0)",
           "rgb(255,0,0)",
           "rgb(255,0,0)",
           "rgb(255,0,0)",
           "rgb(255,0,0)",
           "rgb(255,0,0)",
           "rgb(255,0,0)",
           "rgb(255,0,0)",
           "rgb(255,0,0)",
           "rgb(255,0,0)",
           "rgb(255,0,0)",
           "rgb(255,0,0)",
           "rgb(255,0,0)",
           "rgb(255,0,0)",
           "rgb(255,0,0)",
           "rgb(255,0,0)",
           "rgb(255,0,0)",
           "rgb(255,0,0)",
           "rgb(255,0,0)",
           "rgb(255,0,0)",
           "rgb(255,0,0)",
           "rgb(255,0,0)",
           "rgb(255,0,0)",
           "rgb(255,0,0)",
           "rgb(255,0,0)",
           "rgb(255,0,0)",
           "rgb(255,0,0)",
           "rgb(255,0,0)",
           "rgb(255,0,0)",
           "rgb(255,0,0)",
           "rgb(255,0,0)",
           "rgb(255,0,0)",
           "rgb(255,0,0)",
           "rgb(255,0,0)",
           "rgb(255,0,0)",
           "rgb(255,0,0)",
           "rgb(255,0,0)",
           "rgb(255,0,0)",
           "rgb(255,0,0)",
           "rgb(255,0,0)",
           "rgb(255,0,0)",
           "rgb(255,0,0)",
           "rgb(255,0,0)",
           "rgb(255,0,0)",
           "rgb(255,0,0)",
           "rgb(255,0,0)",
           "rgb(255,0,0)",
           "rgb(255,0,0)",
           "rgb(255,0,0)",
           "rgb(255,0,0)",
           "rgb(255,0,0)",
           "rgb(255,0,0)",
           "rgb(255,0,0)",
           "rgb(255,0,0)",
           "rgb(255,0,0)",
           "rgb(255,0,0)",
           "rgb(255,0,0)",
           "rgb(255,0,0)",
           "rgb(255,0,0)",
           "rgb(255,0,0)",
           "rgb(255,0,0)",
           "rgb(255,0,0)",
           "rgb(255,0,0)",
           "rgb(255,0,0)",
           "rgb(255,0,0)",
           "rgb(255,0,0)",
           "rgb(255,0,0)",
           "rgb(255,0,0)",
           "rgb(255,0,0)",
           "rgb(255,0,0)",
           "rgb(255,0,0)",
           "rgb(255,0,0)",
           "rgb(255,0,0)",
           "rgb(255,0,0)",
           "rgb(255,0,0)",
           "rgb(255,0,0)",
           "rgb(255,0,0)",
           "rgb(255,0,0)",
           "rgb(255,0,0)",
           "rgb(255,0,0)",
           "rgb(255,0,0)",
           "rgb(255,0,0)",
           "rgb(255,0,0)",
           "rgb(255,0,0)",
           "rgb(255,0,0)",
           "rgb(255,0,0)",
           "rgb(255,0,0)",
           "rgb(255,0,0)",
           "rgb(255,0,0)"
          ],
          "line": {
           "width": 1.3
          },
          "size": [
           12,
           112,
           62,
           12,
           12,
           12,
           12,
           12,
           12,
           12,
           12,
           12,
           112,
           12,
           12,
           12,
           12,
           12,
           12,
           62,
           62,
           62,
           112,
           12,
           12,
           12,
           12,
           62,
           12,
           12,
           112,
           12,
           62,
           12,
           12,
           12,
           12,
           12,
           12,
           112,
           12,
           12,
           12,
           62,
           12,
           12,
           12,
           12,
           12,
           12,
           62,
           112,
           12,
           112,
           12,
           12,
           62,
           12,
           112,
           12,
           12,
           12,
           112,
           112,
           112,
           62,
           12,
           12,
           12,
           12,
           12,
           62,
           12,
           12,
           112,
           12,
           62,
           112,
           12,
           62,
           12,
           12,
           112,
           112,
           62,
           12,
           12,
           62,
           112,
           12,
           112,
           12,
           12,
           12,
           12,
           112,
           112,
           12,
           112,
           12,
           12,
           12,
           112,
           112,
           112,
           12,
           12,
           112,
           12,
           62,
           12,
           12,
           112,
           12,
           62,
           112,
           62,
           112,
           12,
           12,
           12,
           12,
           12,
           62,
           12,
           12,
           112,
           12,
           12,
           12,
           12,
           112,
           62,
           12,
           12,
           12,
           12,
           62,
           12,
           62,
           112,
           12,
           12,
           12,
           12,
           112,
           62,
           12,
           62,
           62,
           12,
           12,
           12,
           12,
           12,
           62,
           62,
           12,
           12,
           62,
           12,
           12,
           12,
           62,
           62,
           112,
           62,
           12,
           112,
           62,
           62,
           112,
           12,
           12,
           12,
           12,
           12,
           12,
           62,
           12,
           12,
           12,
           12,
           12,
           12,
           112,
           62,
           12,
           12,
           12,
           12,
           112,
           12,
           62,
           62,
           62,
           62,
           12,
           112,
           12,
           112,
           12,
           112,
           62,
           12,
           12,
           12,
           62,
           62,
           12,
           12,
           12,
           12,
           12,
           12,
           12,
           12,
           112,
           112,
           112,
           112,
           112,
           62,
           12,
           12,
           112,
           112,
           12,
           12,
           12,
           12,
           12,
           12,
           12,
           12,
           12,
           12,
           12,
           62,
           12,
           12,
           12,
           112,
           62,
           12,
           12,
           12,
           112,
           12,
           12,
           12,
           12,
           12,
           12,
           12,
           12,
           112,
           12,
           112,
           12,
           12,
           12,
           12,
           12,
           62,
           62,
           12,
           112,
           12,
           12,
           12,
           12,
           12,
           12,
           112,
           12,
           12,
           12,
           12,
           112,
           12,
           112,
           112,
           12,
           12,
           12,
           12,
           12,
           12,
           112,
           62,
           12,
           12,
           12,
           12,
           62,
           62,
           12,
           12,
           12,
           12,
           12,
           12,
           112,
           112,
           62,
           12,
           12,
           112,
           112,
           12,
           112,
           12,
           62,
           12,
           12,
           112,
           12
          ],
          "symbol": "circle"
         },
         "mode": "markers",
         "text": [
          "USA",
          "Japan",
          "Europe",
          "USA",
          "USA",
          "USA",
          "USA",
          "USA",
          "USA",
          "USA",
          "USA",
          "USA",
          "Japan",
          "USA",
          "USA",
          "USA",
          "USA",
          "USA",
          "USA",
          "Europe",
          "Europe",
          "Europe",
          "Japan",
          "USA",
          "USA",
          "USA",
          "USA",
          "Europe",
          "USA",
          "USA",
          "Japan",
          "USA",
          "Europe",
          "USA",
          "USA",
          "USA",
          "USA",
          "USA",
          "USA",
          "Japan",
          "USA",
          "USA",
          "USA",
          "Europe",
          "USA",
          "USA",
          "USA",
          "USA",
          "USA",
          "USA",
          "Europe",
          "Japan",
          "USA",
          "Japan",
          "USA",
          "USA",
          "Europe",
          "USA",
          "Japan",
          "USA",
          "USA",
          "USA",
          "Japan",
          "Japan",
          "Japan",
          "Europe",
          "USA",
          "USA",
          "USA",
          "USA",
          "USA",
          "Europe",
          "USA",
          "USA",
          "Japan",
          "USA",
          "Europe",
          "Japan",
          "USA",
          "Europe",
          "USA",
          "USA",
          "Japan",
          "Japan",
          "Europe",
          "USA",
          "USA",
          "Europe",
          "Japan",
          "USA",
          "Japan",
          "USA",
          "USA",
          "USA",
          "USA",
          "Japan",
          "Japan",
          "USA",
          "Japan",
          "USA",
          "USA",
          "USA",
          "Japan",
          "Japan",
          "Japan",
          "USA",
          "USA",
          "Japan",
          "USA",
          "Europe",
          "USA",
          "USA",
          "Japan",
          "USA",
          "Europe",
          "Japan",
          "Europe",
          "Japan",
          "USA",
          "USA",
          "USA",
          "USA",
          "USA",
          "Europe",
          "USA",
          "USA",
          "Japan",
          "USA",
          "USA",
          "USA",
          "USA",
          "Japan",
          "Europe",
          "USA",
          "USA",
          "USA",
          "USA",
          "Europe",
          "USA",
          "Europe",
          "Japan",
          "USA",
          "USA",
          "USA",
          "USA",
          "Japan",
          "Europe",
          "USA",
          "Europe",
          "Europe",
          "USA",
          "USA",
          "USA",
          "USA",
          "USA",
          "Europe",
          "Europe",
          "USA",
          "USA",
          "Europe",
          "USA",
          "USA",
          "USA",
          "Europe",
          "Europe",
          "Japan",
          "Europe",
          "USA",
          "Japan",
          "Europe",
          "Europe",
          "Japan",
          "USA",
          "USA",
          "USA",
          "USA",
          "USA",
          "USA",
          "Europe",
          "USA",
          "USA",
          "USA",
          "USA",
          "USA",
          "USA",
          "Japan",
          "Europe",
          "USA",
          "USA",
          "USA",
          "USA",
          "Japan",
          "USA",
          "Europe",
          "Europe",
          "Europe",
          "Europe",
          "USA",
          "Japan",
          "USA",
          "Japan",
          "USA",
          "Japan",
          "Europe",
          "USA",
          "USA",
          "USA",
          "Europe",
          "Europe",
          "USA",
          "USA",
          "USA",
          "USA",
          "USA",
          "USA",
          "USA",
          "USA",
          "Japan",
          "Japan",
          "Japan",
          "Japan",
          "Japan",
          "Europe",
          "USA",
          "USA",
          "Japan",
          "Japan",
          "USA",
          "USA",
          "USA",
          "USA",
          "USA",
          "USA",
          "USA",
          "USA",
          "USA",
          "USA",
          "USA",
          "Europe",
          "USA",
          "USA",
          "USA",
          "Japan",
          "Europe",
          "USA",
          "USA",
          "USA",
          "Japan",
          "USA",
          "USA",
          "USA",
          "USA",
          "USA",
          "USA",
          "USA",
          "USA",
          "Japan",
          "USA",
          "Japan",
          "USA",
          "USA",
          "USA",
          "USA",
          "USA",
          "Europe",
          "Europe",
          "USA",
          "Japan",
          "USA",
          "USA",
          "USA",
          "USA",
          "USA",
          "USA",
          "Japan",
          "USA",
          "USA",
          "USA",
          "USA",
          "Japan",
          "USA",
          "Japan",
          "Japan",
          "USA",
          "USA",
          "USA",
          "USA",
          "USA",
          "USA",
          "Japan",
          "Europe",
          "USA",
          "USA",
          "USA",
          "USA",
          "Europe",
          "Europe",
          "USA",
          "USA",
          "USA",
          "USA",
          "USA",
          "USA",
          "Japan",
          "Japan",
          "Europe",
          "USA",
          "USA",
          "Japan",
          "Japan",
          "USA",
          "Japan",
          "USA",
          "Europe",
          "USA",
          "USA",
          "Japan",
          "USA"
         ],
         "type": "scatter",
         "x": [
          198,
          91,
          89,
          122,
          200,
          231,
          250,
          400,
          302,
          98,
          305,
          350,
          156,
          232,
          225,
          231,
          200,
          350,
          350,
          97,
          90,
          107,
          120,
          98,
          140,
          304,
          225,
          163,
          351,
          250,
          144,
          350,
          90,
          232,
          351,
          140,
          455,
          302,
          105,
          85,
          200,
          429,
          400,
          89,
          86,
          340,
          258,
          302,
          304,
          98,
          88,
          70,
          200,
          78,
          360,
          151,
          100,
          151,
          119,
          307,
          151,
          156,
          107,
          85,
          108,
          97,
          400,
          225,
          258,
          350,
          258,
          120,
          250,
          105,
          86,
          455,
          97,
          85,
          318,
          101,
          200,
          305,
          70,
          91,
          85,
          302,
          400,
          130,
          72,
          232,
          119,
          98,
          250,
          318,
          98,
          85,
          85,
          198,
          108,
          140,
          231,
          454,
          97,
          85,
          97,
          302,
          350,
          98,
          231,
          90,
          122,
          151,
          156,
          250,
          97,
          120,
          97,
          113,
          304,
          91,
          350,
          351,
          250,
          131,
          350,
          250,
          98,
          232,
          400,
          151,
          225,
          134,
          79,
          151,
          400,
          307,
          200,
          121,
          307,
          89,
          91,
          318,
          225,
          199,
          140,
          97,
          79,
          151,
          105,
          146,
          232,
          140,
          318,
          318,
          350,
          121,
          110,
          181,
          156,
          91,
          173,
          232,
          98,
          98,
          121,
          119,
          107,
          135,
          79,
          97,
          116,
          91,
          260,
          231,
          97.5,
          225,
          440,
          111,
          97,
          140,
          173,
          318,
          250,
          318,
          318,
          97,
          121,
          400,
          122,
          400,
          200,
          76,
          400,
          97,
          121,
          121,
          116,
          232,
          97,
          140,
          120,
          455,
          86,
          141,
          302,
          250,
          105,
          79,
          116,
          225,
          302,
          198,
          135,
          225,
          351,
          429,
          112,
          89,
          108,
          97,
          91,
          91,
          121,
          318,
          140,
          97,
          91,
          318,
          302,
          250,
          400,
          98,
          250,
          350,
          225,
          122,
          140,
          258,
          183,
          121,
          429,
          304,
          83,
          96,
          151,
          350,
          90,
          168,
          98,
          119,
          350,
          318,
          350,
          250,
          260,
          383,
          134,
          140,
          89,
          250,
          156,
          140,
          351,
          199,
          120,
          98,
          232,
          91,
          105,
          105,
          151,
          140,
          231,
          98,
          119,
          135,
          250,
          122,
          351,
          86,
          231,
          120,
          97,
          98,
          135,
          260,
          231,
          225,
          140,
          134,
          98,
          140,
          155,
          112,
          318,
          120,
          97,
          151,
          225,
          304,
          318,
          262,
          350,
          97,
          146,
          104,
          351,
          140,
          97,
          91,
          302,
          146,
          122,
          121,
          173,
          318,
          70,
          440
         ],
         "y": [
          22,
          38,
          31.9,
          21,
          21,
          21.5,
          15,
          15.5,
          13,
          24.5,
          17.5,
          13,
          20,
          19,
          19,
          17.7,
          20.8,
          11,
          16.5,
          34.3,
          29,
          28,
          24,
          33.5,
          22.3,
          17,
          20.5,
          17,
          13,
          18.5,
          32,
          15,
          43.4,
          18,
          16.5,
          25,
          12,
          16,
          30.9,
          32,
          20.5,
          12,
          15,
          31.5,
          39,
          14,
          16,
          13,
          14,
          30,
          30,
          19,
          19.8,
          32.8,
          13,
          33.5,
          34.5,
          27,
          27.2,
          10,
          24.3,
          26,
          36,
          40.8,
          32.4,
          23,
          14,
          20,
          15,
          12,
          18,
          23,
          18,
          34.2,
          34.1,
          14,
          26,
          37,
          14,
          27,
          20.2,
          17.5,
          18,
          38,
          40.9,
          17.6,
          13,
          20,
          35,
          20,
          37,
          36,
          18,
          11,
          32.1,
          33.5,
          39.4,
          23,
          26,
          21,
          19.2,
          14,
          30,
          31.8,
          29,
          13,
          15,
          29.5,
          20.6,
          44.3,
          26,
          26.6,
          19,
          15,
          29,
          31.6,
          44,
          24,
          14,
          26,
          12,
          14,
          16,
          20.3,
          23,
          16,
          31.5,
          22,
          16,
          24.5,
          18,
          29.8,
          26,
          28.4,
          16,
          18,
          20.2,
          18,
          13,
          29.8,
          31,
          13,
          18,
          21,
          23.6,
          27,
          30,
          27,
          36,
          30,
          20.2,
          20,
          14,
          13,
          13,
          24,
          25,
          25,
          25.8,
          37.3,
          23.5,
          22.5,
          36.1,
          26,
          19,
          24,
          24,
          30,
          31,
          30.5,
          26,
          36.1,
          19.9,
          21,
          25,
          18.6,
          14,
          30,
          27,
          25.5,
          26.8,
          16,
          18,
          15,
          16,
          28,
          22,
          11,
          25.5,
          13,
          21,
          31,
          16,
          26,
          26,
          36.4,
          24,
          18,
          28,
          25.1,
          36,
          14,
          46.6,
          27.2,
          14,
          19,
          38,
          36,
          28,
          16,
          18.1,
          20,
          29,
          20.6,
          14,
          11,
          28,
          38.1,
          22,
          20,
          33,
          44.6,
          22,
          15,
          23,
          27,
          34.1,
          15.5,
          15,
          18,
          12,
          30.5,
          16,
          13,
          19,
          23,
          25,
          18.1,
          25.4,
          27.4,
          15,
          15.5,
          32,
          26,
          23,
          16.9,
          28,
          25.4,
          29.9,
          31,
          13,
          19.4,
          13,
          17.5,
          17,
          15,
          24,
          26.5,
          37.7,
          18.5,
          23.2,
          23,
          14.5,
          18,
          19,
          41.5,
          19,
          33,
          34.7,
          34.5,
          28,
          22,
          20.5,
          35.7,
          32.9,
          36,
          17,
          22,
          16,
          37.2,
          17,
          31.3,
          33.8,
          28,
          32,
          23.9,
          22.4,
          19.1,
          24,
          21.1,
          29,
          27,
          21,
          34,
          18,
          21,
          26,
          23.8,
          22,
          16,
          14,
          38,
          15.5,
          32.3,
          24.2,
          25,
          14,
          28,
          26,
          37,
          17,
          22,
          19,
          21.6,
          28.8,
          14,
          23.7,
          13
         ]
        }
       ],
       "layout": {
        "legend": {
         "bgcolor": "#F5F6F9",
         "font": {
          "color": "#4D5663"
         }
        },
        "paper_bgcolor": "#F5F6F9",
        "plot_bgcolor": "#F5F6F9",
        "template": {
         "data": {
          "bar": [
           {
            "error_x": {
             "color": "#2a3f5f"
            },
            "error_y": {
             "color": "#2a3f5f"
            },
            "marker": {
             "line": {
              "color": "#E5ECF6",
              "width": 0.5
             }
            },
            "type": "bar"
           }
          ],
          "barpolar": [
           {
            "marker": {
             "line": {
              "color": "#E5ECF6",
              "width": 0.5
             }
            },
            "type": "barpolar"
           }
          ],
          "carpet": [
           {
            "aaxis": {
             "endlinecolor": "#2a3f5f",
             "gridcolor": "white",
             "linecolor": "white",
             "minorgridcolor": "white",
             "startlinecolor": "#2a3f5f"
            },
            "baxis": {
             "endlinecolor": "#2a3f5f",
             "gridcolor": "white",
             "linecolor": "white",
             "minorgridcolor": "white",
             "startlinecolor": "#2a3f5f"
            },
            "type": "carpet"
           }
          ],
          "choropleth": [
           {
            "colorbar": {
             "outlinewidth": 0,
             "ticks": ""
            },
            "type": "choropleth"
           }
          ],
          "contour": [
           {
            "colorbar": {
             "outlinewidth": 0,
             "ticks": ""
            },
            "colorscale": [
             [
              0,
              "#0d0887"
             ],
             [
              0.1111111111111111,
              "#46039f"
             ],
             [
              0.2222222222222222,
              "#7201a8"
             ],
             [
              0.3333333333333333,
              "#9c179e"
             ],
             [
              0.4444444444444444,
              "#bd3786"
             ],
             [
              0.5555555555555556,
              "#d8576b"
             ],
             [
              0.6666666666666666,
              "#ed7953"
             ],
             [
              0.7777777777777778,
              "#fb9f3a"
             ],
             [
              0.8888888888888888,
              "#fdca26"
             ],
             [
              1,
              "#f0f921"
             ]
            ],
            "type": "contour"
           }
          ],
          "contourcarpet": [
           {
            "colorbar": {
             "outlinewidth": 0,
             "ticks": ""
            },
            "type": "contourcarpet"
           }
          ],
          "heatmap": [
           {
            "colorbar": {
             "outlinewidth": 0,
             "ticks": ""
            },
            "colorscale": [
             [
              0,
              "#0d0887"
             ],
             [
              0.1111111111111111,
              "#46039f"
             ],
             [
              0.2222222222222222,
              "#7201a8"
             ],
             [
              0.3333333333333333,
              "#9c179e"
             ],
             [
              0.4444444444444444,
              "#bd3786"
             ],
             [
              0.5555555555555556,
              "#d8576b"
             ],
             [
              0.6666666666666666,
              "#ed7953"
             ],
             [
              0.7777777777777778,
              "#fb9f3a"
             ],
             [
              0.8888888888888888,
              "#fdca26"
             ],
             [
              1,
              "#f0f921"
             ]
            ],
            "type": "heatmap"
           }
          ],
          "heatmapgl": [
           {
            "colorbar": {
             "outlinewidth": 0,
             "ticks": ""
            },
            "colorscale": [
             [
              0,
              "#0d0887"
             ],
             [
              0.1111111111111111,
              "#46039f"
             ],
             [
              0.2222222222222222,
              "#7201a8"
             ],
             [
              0.3333333333333333,
              "#9c179e"
             ],
             [
              0.4444444444444444,
              "#bd3786"
             ],
             [
              0.5555555555555556,
              "#d8576b"
             ],
             [
              0.6666666666666666,
              "#ed7953"
             ],
             [
              0.7777777777777778,
              "#fb9f3a"
             ],
             [
              0.8888888888888888,
              "#fdca26"
             ],
             [
              1,
              "#f0f921"
             ]
            ],
            "type": "heatmapgl"
           }
          ],
          "histogram": [
           {
            "marker": {
             "colorbar": {
              "outlinewidth": 0,
              "ticks": ""
             }
            },
            "type": "histogram"
           }
          ],
          "histogram2d": [
           {
            "colorbar": {
             "outlinewidth": 0,
             "ticks": ""
            },
            "colorscale": [
             [
              0,
              "#0d0887"
             ],
             [
              0.1111111111111111,
              "#46039f"
             ],
             [
              0.2222222222222222,
              "#7201a8"
             ],
             [
              0.3333333333333333,
              "#9c179e"
             ],
             [
              0.4444444444444444,
              "#bd3786"
             ],
             [
              0.5555555555555556,
              "#d8576b"
             ],
             [
              0.6666666666666666,
              "#ed7953"
             ],
             [
              0.7777777777777778,
              "#fb9f3a"
             ],
             [
              0.8888888888888888,
              "#fdca26"
             ],
             [
              1,
              "#f0f921"
             ]
            ],
            "type": "histogram2d"
           }
          ],
          "histogram2dcontour": [
           {
            "colorbar": {
             "outlinewidth": 0,
             "ticks": ""
            },
            "colorscale": [
             [
              0,
              "#0d0887"
             ],
             [
              0.1111111111111111,
              "#46039f"
             ],
             [
              0.2222222222222222,
              "#7201a8"
             ],
             [
              0.3333333333333333,
              "#9c179e"
             ],
             [
              0.4444444444444444,
              "#bd3786"
             ],
             [
              0.5555555555555556,
              "#d8576b"
             ],
             [
              0.6666666666666666,
              "#ed7953"
             ],
             [
              0.7777777777777778,
              "#fb9f3a"
             ],
             [
              0.8888888888888888,
              "#fdca26"
             ],
             [
              1,
              "#f0f921"
             ]
            ],
            "type": "histogram2dcontour"
           }
          ],
          "mesh3d": [
           {
            "colorbar": {
             "outlinewidth": 0,
             "ticks": ""
            },
            "type": "mesh3d"
           }
          ],
          "parcoords": [
           {
            "line": {
             "colorbar": {
              "outlinewidth": 0,
              "ticks": ""
             }
            },
            "type": "parcoords"
           }
          ],
          "pie": [
           {
            "automargin": true,
            "type": "pie"
           }
          ],
          "scatter": [
           {
            "marker": {
             "colorbar": {
              "outlinewidth": 0,
              "ticks": ""
             }
            },
            "type": "scatter"
           }
          ],
          "scatter3d": [
           {
            "line": {
             "colorbar": {
              "outlinewidth": 0,
              "ticks": ""
             }
            },
            "marker": {
             "colorbar": {
              "outlinewidth": 0,
              "ticks": ""
             }
            },
            "type": "scatter3d"
           }
          ],
          "scattercarpet": [
           {
            "marker": {
             "colorbar": {
              "outlinewidth": 0,
              "ticks": ""
             }
            },
            "type": "scattercarpet"
           }
          ],
          "scattergeo": [
           {
            "marker": {
             "colorbar": {
              "outlinewidth": 0,
              "ticks": ""
             }
            },
            "type": "scattergeo"
           }
          ],
          "scattergl": [
           {
            "marker": {
             "colorbar": {
              "outlinewidth": 0,
              "ticks": ""
             }
            },
            "type": "scattergl"
           }
          ],
          "scattermapbox": [
           {
            "marker": {
             "colorbar": {
              "outlinewidth": 0,
              "ticks": ""
             }
            },
            "type": "scattermapbox"
           }
          ],
          "scatterpolar": [
           {
            "marker": {
             "colorbar": {
              "outlinewidth": 0,
              "ticks": ""
             }
            },
            "type": "scatterpolar"
           }
          ],
          "scatterpolargl": [
           {
            "marker": {
             "colorbar": {
              "outlinewidth": 0,
              "ticks": ""
             }
            },
            "type": "scatterpolargl"
           }
          ],
          "scatterternary": [
           {
            "marker": {
             "colorbar": {
              "outlinewidth": 0,
              "ticks": ""
             }
            },
            "type": "scatterternary"
           }
          ],
          "surface": [
           {
            "colorbar": {
             "outlinewidth": 0,
             "ticks": ""
            },
            "colorscale": [
             [
              0,
              "#0d0887"
             ],
             [
              0.1111111111111111,
              "#46039f"
             ],
             [
              0.2222222222222222,
              "#7201a8"
             ],
             [
              0.3333333333333333,
              "#9c179e"
             ],
             [
              0.4444444444444444,
              "#bd3786"
             ],
             [
              0.5555555555555556,
              "#d8576b"
             ],
             [
              0.6666666666666666,
              "#ed7953"
             ],
             [
              0.7777777777777778,
              "#fb9f3a"
             ],
             [
              0.8888888888888888,
              "#fdca26"
             ],
             [
              1,
              "#f0f921"
             ]
            ],
            "type": "surface"
           }
          ],
          "table": [
           {
            "cells": {
             "fill": {
              "color": "#EBF0F8"
             },
             "line": {
              "color": "white"
             }
            },
            "header": {
             "fill": {
              "color": "#C8D4E3"
             },
             "line": {
              "color": "white"
             }
            },
            "type": "table"
           }
          ]
         },
         "layout": {
          "annotationdefaults": {
           "arrowcolor": "#2a3f5f",
           "arrowhead": 0,
           "arrowwidth": 1
          },
          "autotypenumbers": "strict",
          "coloraxis": {
           "colorbar": {
            "outlinewidth": 0,
            "ticks": ""
           }
          },
          "colorscale": {
           "diverging": [
            [
             0,
             "#8e0152"
            ],
            [
             0.1,
             "#c51b7d"
            ],
            [
             0.2,
             "#de77ae"
            ],
            [
             0.3,
             "#f1b6da"
            ],
            [
             0.4,
             "#fde0ef"
            ],
            [
             0.5,
             "#f7f7f7"
            ],
            [
             0.6,
             "#e6f5d0"
            ],
            [
             0.7,
             "#b8e186"
            ],
            [
             0.8,
             "#7fbc41"
            ],
            [
             0.9,
             "#4d9221"
            ],
            [
             1,
             "#276419"
            ]
           ],
           "sequential": [
            [
             0,
             "#0d0887"
            ],
            [
             0.1111111111111111,
             "#46039f"
            ],
            [
             0.2222222222222222,
             "#7201a8"
            ],
            [
             0.3333333333333333,
             "#9c179e"
            ],
            [
             0.4444444444444444,
             "#bd3786"
            ],
            [
             0.5555555555555556,
             "#d8576b"
            ],
            [
             0.6666666666666666,
             "#ed7953"
            ],
            [
             0.7777777777777778,
             "#fb9f3a"
            ],
            [
             0.8888888888888888,
             "#fdca26"
            ],
            [
             1,
             "#f0f921"
            ]
           ],
           "sequentialminus": [
            [
             0,
             "#0d0887"
            ],
            [
             0.1111111111111111,
             "#46039f"
            ],
            [
             0.2222222222222222,
             "#7201a8"
            ],
            [
             0.3333333333333333,
             "#9c179e"
            ],
            [
             0.4444444444444444,
             "#bd3786"
            ],
            [
             0.5555555555555556,
             "#d8576b"
            ],
            [
             0.6666666666666666,
             "#ed7953"
            ],
            [
             0.7777777777777778,
             "#fb9f3a"
            ],
            [
             0.8888888888888888,
             "#fdca26"
            ],
            [
             1,
             "#f0f921"
            ]
           ]
          },
          "colorway": [
           "#636efa",
           "#EF553B",
           "#00cc96",
           "#ab63fa",
           "#FFA15A",
           "#19d3f3",
           "#FF6692",
           "#B6E880",
           "#FF97FF",
           "#FECB52"
          ],
          "font": {
           "color": "#2a3f5f"
          },
          "geo": {
           "bgcolor": "white",
           "lakecolor": "white",
           "landcolor": "#E5ECF6",
           "showlakes": true,
           "showland": true,
           "subunitcolor": "white"
          },
          "hoverlabel": {
           "align": "left"
          },
          "hovermode": "closest",
          "mapbox": {
           "style": "light"
          },
          "paper_bgcolor": "white",
          "plot_bgcolor": "#E5ECF6",
          "polar": {
           "angularaxis": {
            "gridcolor": "white",
            "linecolor": "white",
            "ticks": ""
           },
           "bgcolor": "#E5ECF6",
           "radialaxis": {
            "gridcolor": "white",
            "linecolor": "white",
            "ticks": ""
           }
          },
          "scene": {
           "xaxis": {
            "backgroundcolor": "#E5ECF6",
            "gridcolor": "white",
            "gridwidth": 2,
            "linecolor": "white",
            "showbackground": true,
            "ticks": "",
            "zerolinecolor": "white"
           },
           "yaxis": {
            "backgroundcolor": "#E5ECF6",
            "gridcolor": "white",
            "gridwidth": 2,
            "linecolor": "white",
            "showbackground": true,
            "ticks": "",
            "zerolinecolor": "white"
           },
           "zaxis": {
            "backgroundcolor": "#E5ECF6",
            "gridcolor": "white",
            "gridwidth": 2,
            "linecolor": "white",
            "showbackground": true,
            "ticks": "",
            "zerolinecolor": "white"
           }
          },
          "shapedefaults": {
           "line": {
            "color": "#2a3f5f"
           }
          },
          "ternary": {
           "aaxis": {
            "gridcolor": "white",
            "linecolor": "white",
            "ticks": ""
           },
           "baxis": {
            "gridcolor": "white",
            "linecolor": "white",
            "ticks": ""
           },
           "bgcolor": "#E5ECF6",
           "caxis": {
            "gridcolor": "white",
            "linecolor": "white",
            "ticks": ""
           }
          },
          "title": {
           "x": 0.05
          },
          "xaxis": {
           "automargin": true,
           "gridcolor": "white",
           "linecolor": "white",
           "ticks": "",
           "title": {
            "standoff": 15
           },
           "zerolinecolor": "white",
           "zerolinewidth": 2
          },
          "yaxis": {
           "automargin": true,
           "gridcolor": "white",
           "linecolor": "white",
           "ticks": "",
           "title": {
            "standoff": 15
           },
           "zerolinecolor": "white",
           "zerolinewidth": 2
          }
         }
        },
        "title": {
         "font": {
          "color": "#4D5663"
         }
        },
        "xaxis": {
         "gridcolor": "#E1E5ED",
         "showgrid": true,
         "tickfont": {
          "color": "#4D5663"
         },
         "title": {
          "font": {
           "color": "#4D5663"
          },
          "text": "Displacement"
         },
         "zerolinecolor": "#E1E5ED"
        },
        "yaxis": {
         "gridcolor": "#E1E5ED",
         "showgrid": true,
         "tickfont": {
          "color": "#4D5663"
         },
         "title": {
          "font": {
           "color": "#4D5663"
          },
          "text": "Fuel Efficiency (mpg)"
         },
         "zerolinecolor": "#E1E5ED"
        }
       }
      },
      "text/html": [
       "<div>                            <div id=\"927a091f-daaf-4556-8527-8c927446aec0\" class=\"plotly-graph-div\" style=\"height:525px; width:100%;\"></div>            <script type=\"text/javascript\">                require([\"plotly\"], function(Plotly) {                    window.PLOTLYENV=window.PLOTLYENV || {};\n",
       "                    window.PLOTLYENV.BASE_URL='https://plot.ly';                                    if (document.getElementById(\"927a091f-daaf-4556-8527-8c927446aec0\")) {                    Plotly.newPlot(                        \"927a091f-daaf-4556-8527-8c927446aec0\",                        [{\"marker\": {\"color\": [\"rgb(255,0,0)\", \"rgb(255,0,0)\", \"rgb(255,0,0)\", \"rgb(255,0,0)\", \"rgb(255,0,0)\", \"rgb(255,0,0)\", \"rgb(255,0,0)\", \"rgb(255,0,0)\", \"rgb(255,0,0)\", \"rgb(255,0,0)\", \"rgb(255,0,0)\", \"rgb(255,0,0)\", \"rgb(255,0,0)\", \"rgb(255,0,0)\", \"rgb(255,0,0)\", \"rgb(255,0,0)\", \"rgb(255,0,0)\", \"rgb(255,0,0)\", \"rgb(255,0,0)\", \"rgb(255,0,0)\", \"rgb(255,0,0)\", \"rgb(255,0,0)\", \"rgb(255,0,0)\", \"rgb(255,0,0)\", \"rgb(255,0,0)\", \"rgb(255,0,0)\", \"rgb(255,0,0)\", \"rgb(255,0,0)\", \"rgb(255,0,0)\", \"rgb(255,0,0)\", \"rgb(255,0,0)\", \"rgb(255,0,0)\", \"rgb(255,0,0)\", \"rgb(255,0,0)\", \"rgb(255,0,0)\", \"rgb(255,0,0)\", \"rgb(255,0,0)\", \"rgb(255,0,0)\", \"rgb(255,0,0)\", \"rgb(255,0,0)\", \"rgb(255,0,0)\", \"rgb(255,0,0)\", \"rgb(255,0,0)\", \"rgb(255,0,0)\", \"rgb(255,0,0)\", \"rgb(255,0,0)\", \"rgb(255,0,0)\", \"rgb(255,0,0)\", \"rgb(255,0,0)\", \"rgb(255,0,0)\", \"rgb(255,0,0)\", \"rgb(255,0,0)\", \"rgb(255,0,0)\", \"rgb(255,0,0)\", \"rgb(255,0,0)\", \"rgb(255,0,0)\", \"rgb(255,0,0)\", \"rgb(255,0,0)\", \"rgb(255,0,0)\", \"rgb(255,0,0)\", \"rgb(255,0,0)\", \"rgb(255,0,0)\", \"rgb(255,0,0)\", \"rgb(255,0,0)\", \"rgb(255,0,0)\", \"rgb(255,0,0)\", \"rgb(255,0,0)\", \"rgb(255,0,0)\", \"rgb(255,0,0)\", \"rgb(255,0,0)\", \"rgb(255,0,0)\", \"rgb(255,0,0)\", \"rgb(255,0,0)\", \"rgb(255,0,0)\", \"rgb(255,0,0)\", \"rgb(255,0,0)\", \"rgb(255,0,0)\", \"rgb(255,0,0)\", \"rgb(255,0,0)\", \"rgb(255,0,0)\", \"rgb(255,0,0)\", \"rgb(255,0,0)\", \"rgb(255,0,0)\", \"rgb(255,0,0)\", \"rgb(255,0,0)\", \"rgb(255,0,0)\", \"rgb(255,0,0)\", \"rgb(255,0,0)\", \"rgb(255,0,0)\", \"rgb(255,0,0)\", \"rgb(255,0,0)\", \"rgb(255,0,0)\", \"rgb(255,0,0)\", \"rgb(255,0,0)\", \"rgb(255,0,0)\", \"rgb(255,0,0)\", \"rgb(255,0,0)\", \"rgb(255,0,0)\", \"rgb(255,0,0)\", \"rgb(255,0,0)\", \"rgb(255,0,0)\", \"rgb(255,0,0)\", \"rgb(255,0,0)\", \"rgb(255,0,0)\", \"rgb(255,0,0)\", \"rgb(255,0,0)\", \"rgb(255,0,0)\", \"rgb(255,0,0)\", \"rgb(255,0,0)\", \"rgb(255,0,0)\", \"rgb(255,0,0)\", \"rgb(255,0,0)\", \"rgb(255,0,0)\", \"rgb(255,0,0)\", \"rgb(255,0,0)\", \"rgb(255,0,0)\", \"rgb(255,0,0)\", \"rgb(255,0,0)\", \"rgb(255,0,0)\", \"rgb(255,0,0)\", \"rgb(255,0,0)\", \"rgb(255,0,0)\", \"rgb(255,0,0)\", \"rgb(255,0,0)\", \"rgb(255,0,0)\", \"rgb(255,0,0)\", \"rgb(255,0,0)\", \"rgb(255,0,0)\", \"rgb(255,0,0)\", \"rgb(255,0,0)\", \"rgb(255,0,0)\", \"rgb(255,0,0)\", \"rgb(255,0,0)\", \"rgb(255,0,0)\", \"rgb(255,0,0)\", \"rgb(255,0,0)\", \"rgb(255,0,0)\", \"rgb(255,0,0)\", \"rgb(255,0,0)\", \"rgb(255,0,0)\", \"rgb(255,0,0)\", \"rgb(255,0,0)\", \"rgb(255,0,0)\", \"rgb(255,0,0)\", \"rgb(255,0,0)\", \"rgb(255,0,0)\", \"rgb(255,0,0)\", \"rgb(255,0,0)\", \"rgb(255,0,0)\", \"rgb(255,0,0)\", \"rgb(255,0,0)\", \"rgb(255,0,0)\", \"rgb(255,0,0)\", \"rgb(255,0,0)\", \"rgb(255,0,0)\", \"rgb(255,0,0)\", \"rgb(255,0,0)\", \"rgb(255,0,0)\", \"rgb(255,0,0)\", \"rgb(255,0,0)\", \"rgb(255,0,0)\", \"rgb(255,0,0)\", \"rgb(255,0,0)\", \"rgb(255,0,0)\", \"rgb(255,0,0)\", \"rgb(255,0,0)\", \"rgb(255,0,0)\", \"rgb(255,0,0)\", \"rgb(255,0,0)\", \"rgb(255,0,0)\", \"rgb(255,0,0)\", \"rgb(255,0,0)\", \"rgb(255,0,0)\", \"rgb(255,0,0)\", \"rgb(255,0,0)\", \"rgb(255,0,0)\", \"rgb(255,0,0)\", \"rgb(255,0,0)\", \"rgb(255,0,0)\", \"rgb(255,0,0)\", \"rgb(255,0,0)\", \"rgb(255,0,0)\", \"rgb(255,0,0)\", \"rgb(255,0,0)\", \"rgb(255,0,0)\", \"rgb(255,0,0)\", \"rgb(255,0,0)\", \"rgb(255,0,0)\", \"rgb(255,0,0)\", \"rgb(255,0,0)\", \"rgb(255,0,0)\", \"rgb(255,0,0)\", \"rgb(255,0,0)\", \"rgb(255,0,0)\", \"rgb(255,0,0)\", \"rgb(255,0,0)\", \"rgb(255,0,0)\", \"rgb(255,0,0)\", \"rgb(255,0,0)\", \"rgb(255,0,0)\", \"rgb(255,0,0)\", \"rgb(255,0,0)\", \"rgb(255,0,0)\", \"rgb(255,0,0)\", \"rgb(255,0,0)\", \"rgb(255,0,0)\", \"rgb(255,0,0)\", \"rgb(255,0,0)\", \"rgb(255,0,0)\", \"rgb(255,0,0)\", \"rgb(255,0,0)\", \"rgb(255,0,0)\", \"rgb(255,0,0)\", \"rgb(255,0,0)\", \"rgb(255,0,0)\", \"rgb(255,0,0)\", \"rgb(255,0,0)\", \"rgb(255,0,0)\", \"rgb(255,0,0)\", \"rgb(255,0,0)\", \"rgb(255,0,0)\", \"rgb(255,0,0)\", \"rgb(255,0,0)\", \"rgb(255,0,0)\", \"rgb(255,0,0)\", \"rgb(255,0,0)\", \"rgb(255,0,0)\", \"rgb(255,0,0)\", \"rgb(255,0,0)\", \"rgb(255,0,0)\", \"rgb(255,0,0)\", \"rgb(255,0,0)\", \"rgb(255,0,0)\", \"rgb(255,0,0)\", \"rgb(255,0,0)\", \"rgb(255,0,0)\", \"rgb(255,0,0)\", \"rgb(255,0,0)\", \"rgb(255,0,0)\", \"rgb(255,0,0)\", \"rgb(255,0,0)\", \"rgb(255,0,0)\", \"rgb(255,0,0)\", \"rgb(255,0,0)\", \"rgb(255,0,0)\", \"rgb(255,0,0)\", \"rgb(255,0,0)\", \"rgb(255,0,0)\", \"rgb(255,0,0)\", \"rgb(255,0,0)\", \"rgb(255,0,0)\", \"rgb(255,0,0)\", \"rgb(255,0,0)\", \"rgb(255,0,0)\", \"rgb(255,0,0)\", \"rgb(255,0,0)\", \"rgb(255,0,0)\", \"rgb(255,0,0)\", \"rgb(255,0,0)\", \"rgb(255,0,0)\", \"rgb(255,0,0)\", \"rgb(255,0,0)\", \"rgb(255,0,0)\", \"rgb(255,0,0)\", \"rgb(255,0,0)\", \"rgb(255,0,0)\", \"rgb(255,0,0)\", \"rgb(255,0,0)\", \"rgb(255,0,0)\", \"rgb(255,0,0)\", \"rgb(255,0,0)\", \"rgb(255,0,0)\", \"rgb(255,0,0)\", \"rgb(255,0,0)\", \"rgb(255,0,0)\", \"rgb(255,0,0)\", \"rgb(255,0,0)\", \"rgb(255,0,0)\", \"rgb(255,0,0)\", \"rgb(255,0,0)\", \"rgb(255,0,0)\", \"rgb(255,0,0)\", \"rgb(255,0,0)\", \"rgb(255,0,0)\", \"rgb(255,0,0)\", \"rgb(255,0,0)\", \"rgb(255,0,0)\", \"rgb(255,0,0)\", \"rgb(255,0,0)\", \"rgb(255,0,0)\", \"rgb(255,0,0)\", \"rgb(255,0,0)\", \"rgb(255,0,0)\", \"rgb(255,0,0)\", \"rgb(255,0,0)\", \"rgb(255,0,0)\", \"rgb(255,0,0)\", \"rgb(255,0,0)\", \"rgb(255,0,0)\", \"rgb(255,0,0)\", \"rgb(255,0,0)\", \"rgb(255,0,0)\", \"rgb(255,0,0)\", \"rgb(255,0,0)\", \"rgb(255,0,0)\", \"rgb(255,0,0)\", \"rgb(255,0,0)\", \"rgb(255,0,0)\", \"rgb(255,0,0)\", \"rgb(255,0,0)\", \"rgb(255,0,0)\", \"rgb(255,0,0)\", \"rgb(255,0,0)\", \"rgb(255,0,0)\", \"rgb(255,0,0)\", \"rgb(255,0,0)\", \"rgb(255,0,0)\", \"rgb(255,0,0)\"], \"line\": {\"width\": 1.3}, \"size\": [12, 112, 62, 12, 12, 12, 12, 12, 12, 12, 12, 12, 112, 12, 12, 12, 12, 12, 12, 62, 62, 62, 112, 12, 12, 12, 12, 62, 12, 12, 112, 12, 62, 12, 12, 12, 12, 12, 12, 112, 12, 12, 12, 62, 12, 12, 12, 12, 12, 12, 62, 112, 12, 112, 12, 12, 62, 12, 112, 12, 12, 12, 112, 112, 112, 62, 12, 12, 12, 12, 12, 62, 12, 12, 112, 12, 62, 112, 12, 62, 12, 12, 112, 112, 62, 12, 12, 62, 112, 12, 112, 12, 12, 12, 12, 112, 112, 12, 112, 12, 12, 12, 112, 112, 112, 12, 12, 112, 12, 62, 12, 12, 112, 12, 62, 112, 62, 112, 12, 12, 12, 12, 12, 62, 12, 12, 112, 12, 12, 12, 12, 112, 62, 12, 12, 12, 12, 62, 12, 62, 112, 12, 12, 12, 12, 112, 62, 12, 62, 62, 12, 12, 12, 12, 12, 62, 62, 12, 12, 62, 12, 12, 12, 62, 62, 112, 62, 12, 112, 62, 62, 112, 12, 12, 12, 12, 12, 12, 62, 12, 12, 12, 12, 12, 12, 112, 62, 12, 12, 12, 12, 112, 12, 62, 62, 62, 62, 12, 112, 12, 112, 12, 112, 62, 12, 12, 12, 62, 62, 12, 12, 12, 12, 12, 12, 12, 12, 112, 112, 112, 112, 112, 62, 12, 12, 112, 112, 12, 12, 12, 12, 12, 12, 12, 12, 12, 12, 12, 62, 12, 12, 12, 112, 62, 12, 12, 12, 112, 12, 12, 12, 12, 12, 12, 12, 12, 112, 12, 112, 12, 12, 12, 12, 12, 62, 62, 12, 112, 12, 12, 12, 12, 12, 12, 112, 12, 12, 12, 12, 112, 12, 112, 112, 12, 12, 12, 12, 12, 12, 112, 62, 12, 12, 12, 12, 62, 62, 12, 12, 12, 12, 12, 12, 112, 112, 62, 12, 12, 112, 112, 12, 112, 12, 62, 12, 12, 112, 12], \"symbol\": \"circle\"}, \"mode\": \"markers\", \"text\": [\"USA\", \"Japan\", \"Europe\", \"USA\", \"USA\", \"USA\", \"USA\", \"USA\", \"USA\", \"USA\", \"USA\", \"USA\", \"Japan\", \"USA\", \"USA\", \"USA\", \"USA\", \"USA\", \"USA\", \"Europe\", \"Europe\", \"Europe\", \"Japan\", \"USA\", \"USA\", \"USA\", \"USA\", \"Europe\", \"USA\", \"USA\", \"Japan\", \"USA\", \"Europe\", \"USA\", \"USA\", \"USA\", \"USA\", \"USA\", \"USA\", \"Japan\", \"USA\", \"USA\", \"USA\", \"Europe\", \"USA\", \"USA\", \"USA\", \"USA\", \"USA\", \"USA\", \"Europe\", \"Japan\", \"USA\", \"Japan\", \"USA\", \"USA\", \"Europe\", \"USA\", \"Japan\", \"USA\", \"USA\", \"USA\", \"Japan\", \"Japan\", \"Japan\", \"Europe\", \"USA\", \"USA\", \"USA\", \"USA\", \"USA\", \"Europe\", \"USA\", \"USA\", \"Japan\", \"USA\", \"Europe\", \"Japan\", \"USA\", \"Europe\", \"USA\", \"USA\", \"Japan\", \"Japan\", \"Europe\", \"USA\", \"USA\", \"Europe\", \"Japan\", \"USA\", \"Japan\", \"USA\", \"USA\", \"USA\", \"USA\", \"Japan\", \"Japan\", \"USA\", \"Japan\", \"USA\", \"USA\", \"USA\", \"Japan\", \"Japan\", \"Japan\", \"USA\", \"USA\", \"Japan\", \"USA\", \"Europe\", \"USA\", \"USA\", \"Japan\", \"USA\", \"Europe\", \"Japan\", \"Europe\", \"Japan\", \"USA\", \"USA\", \"USA\", \"USA\", \"USA\", \"Europe\", \"USA\", \"USA\", \"Japan\", \"USA\", \"USA\", \"USA\", \"USA\", \"Japan\", \"Europe\", \"USA\", \"USA\", \"USA\", \"USA\", \"Europe\", \"USA\", \"Europe\", \"Japan\", \"USA\", \"USA\", \"USA\", \"USA\", \"Japan\", \"Europe\", \"USA\", \"Europe\", \"Europe\", \"USA\", \"USA\", \"USA\", \"USA\", \"USA\", \"Europe\", \"Europe\", \"USA\", \"USA\", \"Europe\", \"USA\", \"USA\", \"USA\", \"Europe\", \"Europe\", \"Japan\", \"Europe\", \"USA\", \"Japan\", \"Europe\", \"Europe\", \"Japan\", \"USA\", \"USA\", \"USA\", \"USA\", \"USA\", \"USA\", \"Europe\", \"USA\", \"USA\", \"USA\", \"USA\", \"USA\", \"USA\", \"Japan\", \"Europe\", \"USA\", \"USA\", \"USA\", \"USA\", \"Japan\", \"USA\", \"Europe\", \"Europe\", \"Europe\", \"Europe\", \"USA\", \"Japan\", \"USA\", \"Japan\", \"USA\", \"Japan\", \"Europe\", \"USA\", \"USA\", \"USA\", \"Europe\", \"Europe\", \"USA\", \"USA\", \"USA\", \"USA\", \"USA\", \"USA\", \"USA\", \"USA\", \"Japan\", \"Japan\", \"Japan\", \"Japan\", \"Japan\", \"Europe\", \"USA\", \"USA\", \"Japan\", \"Japan\", \"USA\", \"USA\", \"USA\", \"USA\", \"USA\", \"USA\", \"USA\", \"USA\", \"USA\", \"USA\", \"USA\", \"Europe\", \"USA\", \"USA\", \"USA\", \"Japan\", \"Europe\", \"USA\", \"USA\", \"USA\", \"Japan\", \"USA\", \"USA\", \"USA\", \"USA\", \"USA\", \"USA\", \"USA\", \"USA\", \"Japan\", \"USA\", \"Japan\", \"USA\", \"USA\", \"USA\", \"USA\", \"USA\", \"Europe\", \"Europe\", \"USA\", \"Japan\", \"USA\", \"USA\", \"USA\", \"USA\", \"USA\", \"USA\", \"Japan\", \"USA\", \"USA\", \"USA\", \"USA\", \"Japan\", \"USA\", \"Japan\", \"Japan\", \"USA\", \"USA\", \"USA\", \"USA\", \"USA\", \"USA\", \"Japan\", \"Europe\", \"USA\", \"USA\", \"USA\", \"USA\", \"Europe\", \"Europe\", \"USA\", \"USA\", \"USA\", \"USA\", \"USA\", \"USA\", \"Japan\", \"Japan\", \"Europe\", \"USA\", \"USA\", \"Japan\", \"Japan\", \"USA\", \"Japan\", \"USA\", \"Europe\", \"USA\", \"USA\", \"Japan\", \"USA\"], \"type\": \"scatter\", \"x\": [198.0, 91.0, 89.0, 122.0, 200.0, 231.0, 250.0, 400.0, 302.0, 98.0, 305.0, 350.0, 156.0, 232.0, 225.0, 231.0, 200.0, 350.0, 350.0, 97.0, 90.0, 107.0, 120.0, 98.0, 140.0, 304.0, 225.0, 163.0, 351.0, 250.0, 144.0, 350.0, 90.0, 232.0, 351.0, 140.0, 455.0, 302.0, 105.0, 85.0, 200.0, 429.0, 400.0, 89.0, 86.0, 340.0, 258.0, 302.0, 304.0, 98.0, 88.0, 70.0, 200.0, 78.0, 360.0, 151.0, 100.0, 151.0, 119.0, 307.0, 151.0, 156.0, 107.0, 85.0, 108.0, 97.0, 400.0, 225.0, 258.0, 350.0, 258.0, 120.0, 250.0, 105.0, 86.0, 455.0, 97.0, 85.0, 318.0, 101.0, 200.0, 305.0, 70.0, 91.0, 85.0, 302.0, 400.0, 130.0, 72.0, 232.0, 119.0, 98.0, 250.0, 318.0, 98.0, 85.0, 85.0, 198.0, 108.0, 140.0, 231.0, 454.0, 97.0, 85.0, 97.0, 302.0, 350.0, 98.0, 231.0, 90.0, 122.0, 151.0, 156.0, 250.0, 97.0, 120.0, 97.0, 113.0, 304.0, 91.0, 350.0, 351.0, 250.0, 131.0, 350.0, 250.0, 98.0, 232.0, 400.0, 151.0, 225.0, 134.0, 79.0, 151.0, 400.0, 307.0, 200.0, 121.0, 307.0, 89.0, 91.0, 318.0, 225.0, 199.0, 140.0, 97.0, 79.0, 151.0, 105.0, 146.0, 232.0, 140.0, 318.0, 318.0, 350.0, 121.0, 110.0, 181.0, 156.0, 91.0, 173.0, 232.0, 98.0, 98.0, 121.0, 119.0, 107.0, 135.0, 79.0, 97.0, 116.0, 91.0, 260.0, 231.0, 97.5, 225.0, 440.0, 111.0, 97.0, 140.0, 173.0, 318.0, 250.0, 318.0, 318.0, 97.0, 121.0, 400.0, 122.0, 400.0, 200.0, 76.0, 400.0, 97.0, 121.0, 121.0, 116.0, 232.0, 97.0, 140.0, 120.0, 455.0, 86.0, 141.0, 302.0, 250.0, 105.0, 79.0, 116.0, 225.0, 302.0, 198.0, 135.0, 225.0, 351.0, 429.0, 112.0, 89.0, 108.0, 97.0, 91.0, 91.0, 121.0, 318.0, 140.0, 97.0, 91.0, 318.0, 302.0, 250.0, 400.0, 98.0, 250.0, 350.0, 225.0, 122.0, 140.0, 258.0, 183.0, 121.0, 429.0, 304.0, 83.0, 96.0, 151.0, 350.0, 90.0, 168.0, 98.0, 119.0, 350.0, 318.0, 350.0, 250.0, 260.0, 383.0, 134.0, 140.0, 89.0, 250.0, 156.0, 140.0, 351.0, 199.0, 120.0, 98.0, 232.0, 91.0, 105.0, 105.0, 151.0, 140.0, 231.0, 98.0, 119.0, 135.0, 250.0, 122.0, 351.0, 86.0, 231.0, 120.0, 97.0, 98.0, 135.0, 260.0, 231.0, 225.0, 140.0, 134.0, 98.0, 140.0, 155.0, 112.0, 318.0, 120.0, 97.0, 151.0, 225.0, 304.0, 318.0, 262.0, 350.0, 97.0, 146.0, 104.0, 351.0, 140.0, 97.0, 91.0, 302.0, 146.0, 122.0, 121.0, 173.0, 318.0, 70.0, 440.0], \"y\": [22.0, 38.0, 31.9, 21.0, 21.0, 21.5, 15.0, 15.5, 13.0, 24.5, 17.5, 13.0, 20.0, 19.0, 19.0, 17.7, 20.8, 11.0, 16.5, 34.3, 29.0, 28.0, 24.0, 33.5, 22.3, 17.0, 20.5, 17.0, 13.0, 18.5, 32.0, 15.0, 43.4, 18.0, 16.5, 25.0, 12.0, 16.0, 30.9, 32.0, 20.5, 12.0, 15.0, 31.5, 39.0, 14.0, 16.0, 13.0, 14.0, 30.0, 30.0, 19.0, 19.8, 32.8, 13.0, 33.5, 34.5, 27.0, 27.2, 10.0, 24.3, 26.0, 36.0, 40.8, 32.4, 23.0, 14.0, 20.0, 15.0, 12.0, 18.0, 23.0, 18.0, 34.2, 34.1, 14.0, 26.0, 37.0, 14.0, 27.0, 20.2, 17.5, 18.0, 38.0, 40.9, 17.6, 13.0, 20.0, 35.0, 20.0, 37.0, 36.0, 18.0, 11.0, 32.1, 33.5, 39.4, 23.0, 26.0, 21.0, 19.2, 14.0, 30.0, 31.8, 29.0, 13.0, 15.0, 29.5, 20.6, 44.3, 26.0, 26.6, 19.0, 15.0, 29.0, 31.6, 44.0, 24.0, 14.0, 26.0, 12.0, 14.0, 16.0, 20.3, 23.0, 16.0, 31.5, 22.0, 16.0, 24.5, 18.0, 29.8, 26.0, 28.4, 16.0, 18.0, 20.2, 18.0, 13.0, 29.8, 31.0, 13.0, 18.0, 21.0, 23.6, 27.0, 30.0, 27.0, 36.0, 30.0, 20.2, 20.0, 14.0, 13.0, 13.0, 24.0, 25.0, 25.0, 25.8, 37.3, 23.5, 22.5, 36.1, 26.0, 19.0, 24.0, 24.0, 30.0, 31.0, 30.5, 26.0, 36.1, 19.9, 21.0, 25.0, 18.6, 14.0, 30.0, 27.0, 25.5, 26.8, 16.0, 18.0, 15.0, 16.0, 28.0, 22.0, 11.0, 25.5, 13.0, 21.0, 31.0, 16.0, 26.0, 26.0, 36.4, 24.0, 18.0, 28.0, 25.1, 36.0, 14.0, 46.6, 27.2, 14.0, 19.0, 38.0, 36.0, 28.0, 16.0, 18.1, 20.0, 29.0, 20.6, 14.0, 11.0, 28.0, 38.1, 22.0, 20.0, 33.0, 44.6, 22.0, 15.0, 23.0, 27.0, 34.1, 15.5, 15.0, 18.0, 12.0, 30.5, 16.0, 13.0, 19.0, 23.0, 25.0, 18.1, 25.4, 27.4, 15.0, 15.5, 32.0, 26.0, 23.0, 16.9, 28.0, 25.4, 29.9, 31.0, 13.0, 19.4, 13.0, 17.5, 17.0, 15.0, 24.0, 26.5, 37.7, 18.5, 23.2, 23.0, 14.5, 18.0, 19.0, 41.5, 19.0, 33.0, 34.7, 34.5, 28.0, 22.0, 20.5, 35.7, 32.9, 36.0, 17.0, 22.0, 16.0, 37.2, 17.0, 31.3, 33.8, 28.0, 32.0, 23.9, 22.4, 19.1, 24.0, 21.1, 29.0, 27.0, 21.0, 34.0, 18.0, 21.0, 26.0, 23.8, 22.0, 16.0, 14.0, 38.0, 15.5, 32.3, 24.2, 25.0, 14.0, 28.0, 26.0, 37.0, 17.0, 22.0, 19.0, 21.6, 28.8, 14.0, 23.7, 13.0]}],                        {\"legend\": {\"bgcolor\": \"#F5F6F9\", \"font\": {\"color\": \"#4D5663\"}}, \"paper_bgcolor\": \"#F5F6F9\", \"plot_bgcolor\": \"#F5F6F9\", \"template\": {\"data\": {\"bar\": [{\"error_x\": {\"color\": \"#2a3f5f\"}, \"error_y\": {\"color\": \"#2a3f5f\"}, \"marker\": {\"line\": {\"color\": \"#E5ECF6\", \"width\": 0.5}}, \"type\": \"bar\"}], \"barpolar\": [{\"marker\": {\"line\": {\"color\": \"#E5ECF6\", \"width\": 0.5}}, \"type\": \"barpolar\"}], \"carpet\": [{\"aaxis\": {\"endlinecolor\": \"#2a3f5f\", \"gridcolor\": \"white\", \"linecolor\": \"white\", \"minorgridcolor\": \"white\", \"startlinecolor\": \"#2a3f5f\"}, \"baxis\": {\"endlinecolor\": \"#2a3f5f\", \"gridcolor\": \"white\", \"linecolor\": \"white\", \"minorgridcolor\": \"white\", \"startlinecolor\": \"#2a3f5f\"}, \"type\": \"carpet\"}], \"choropleth\": [{\"colorbar\": {\"outlinewidth\": 0, \"ticks\": \"\"}, \"type\": \"choropleth\"}], \"contour\": [{\"colorbar\": {\"outlinewidth\": 0, \"ticks\": \"\"}, \"colorscale\": [[0.0, \"#0d0887\"], [0.1111111111111111, \"#46039f\"], [0.2222222222222222, \"#7201a8\"], [0.3333333333333333, \"#9c179e\"], [0.4444444444444444, \"#bd3786\"], [0.5555555555555556, \"#d8576b\"], [0.6666666666666666, \"#ed7953\"], [0.7777777777777778, \"#fb9f3a\"], [0.8888888888888888, \"#fdca26\"], [1.0, \"#f0f921\"]], \"type\": \"contour\"}], \"contourcarpet\": [{\"colorbar\": {\"outlinewidth\": 0, \"ticks\": \"\"}, \"type\": \"contourcarpet\"}], \"heatmap\": [{\"colorbar\": {\"outlinewidth\": 0, \"ticks\": \"\"}, \"colorscale\": [[0.0, \"#0d0887\"], [0.1111111111111111, \"#46039f\"], [0.2222222222222222, \"#7201a8\"], [0.3333333333333333, \"#9c179e\"], [0.4444444444444444, \"#bd3786\"], [0.5555555555555556, \"#d8576b\"], [0.6666666666666666, \"#ed7953\"], [0.7777777777777778, \"#fb9f3a\"], [0.8888888888888888, \"#fdca26\"], [1.0, \"#f0f921\"]], \"type\": \"heatmap\"}], \"heatmapgl\": [{\"colorbar\": {\"outlinewidth\": 0, \"ticks\": \"\"}, \"colorscale\": [[0.0, \"#0d0887\"], [0.1111111111111111, \"#46039f\"], [0.2222222222222222, \"#7201a8\"], [0.3333333333333333, \"#9c179e\"], [0.4444444444444444, \"#bd3786\"], [0.5555555555555556, \"#d8576b\"], [0.6666666666666666, \"#ed7953\"], [0.7777777777777778, \"#fb9f3a\"], [0.8888888888888888, \"#fdca26\"], [1.0, \"#f0f921\"]], \"type\": \"heatmapgl\"}], \"histogram\": [{\"marker\": {\"colorbar\": {\"outlinewidth\": 0, \"ticks\": \"\"}}, \"type\": \"histogram\"}], \"histogram2d\": [{\"colorbar\": {\"outlinewidth\": 0, \"ticks\": \"\"}, \"colorscale\": [[0.0, \"#0d0887\"], [0.1111111111111111, \"#46039f\"], [0.2222222222222222, \"#7201a8\"], [0.3333333333333333, \"#9c179e\"], [0.4444444444444444, \"#bd3786\"], [0.5555555555555556, \"#d8576b\"], [0.6666666666666666, \"#ed7953\"], [0.7777777777777778, \"#fb9f3a\"], [0.8888888888888888, \"#fdca26\"], [1.0, \"#f0f921\"]], \"type\": \"histogram2d\"}], \"histogram2dcontour\": [{\"colorbar\": {\"outlinewidth\": 0, \"ticks\": \"\"}, \"colorscale\": [[0.0, \"#0d0887\"], [0.1111111111111111, \"#46039f\"], [0.2222222222222222, \"#7201a8\"], [0.3333333333333333, \"#9c179e\"], [0.4444444444444444, \"#bd3786\"], [0.5555555555555556, \"#d8576b\"], [0.6666666666666666, \"#ed7953\"], [0.7777777777777778, \"#fb9f3a\"], [0.8888888888888888, \"#fdca26\"], [1.0, \"#f0f921\"]], \"type\": \"histogram2dcontour\"}], \"mesh3d\": [{\"colorbar\": {\"outlinewidth\": 0, \"ticks\": \"\"}, \"type\": \"mesh3d\"}], \"parcoords\": [{\"line\": {\"colorbar\": {\"outlinewidth\": 0, \"ticks\": \"\"}}, \"type\": \"parcoords\"}], \"pie\": [{\"automargin\": true, \"type\": \"pie\"}], \"scatter\": [{\"marker\": {\"colorbar\": {\"outlinewidth\": 0, \"ticks\": \"\"}}, \"type\": \"scatter\"}], \"scatter3d\": [{\"line\": {\"colorbar\": {\"outlinewidth\": 0, \"ticks\": \"\"}}, \"marker\": {\"colorbar\": {\"outlinewidth\": 0, \"ticks\": \"\"}}, \"type\": \"scatter3d\"}], \"scattercarpet\": [{\"marker\": {\"colorbar\": {\"outlinewidth\": 0, \"ticks\": \"\"}}, \"type\": \"scattercarpet\"}], \"scattergeo\": [{\"marker\": {\"colorbar\": {\"outlinewidth\": 0, \"ticks\": \"\"}}, \"type\": \"scattergeo\"}], \"scattergl\": [{\"marker\": {\"colorbar\": {\"outlinewidth\": 0, \"ticks\": \"\"}}, \"type\": \"scattergl\"}], \"scattermapbox\": [{\"marker\": {\"colorbar\": {\"outlinewidth\": 0, \"ticks\": \"\"}}, \"type\": \"scattermapbox\"}], \"scatterpolar\": [{\"marker\": {\"colorbar\": {\"outlinewidth\": 0, \"ticks\": \"\"}}, \"type\": \"scatterpolar\"}], \"scatterpolargl\": [{\"marker\": {\"colorbar\": {\"outlinewidth\": 0, \"ticks\": \"\"}}, \"type\": \"scatterpolargl\"}], \"scatterternary\": [{\"marker\": {\"colorbar\": {\"outlinewidth\": 0, \"ticks\": \"\"}}, \"type\": \"scatterternary\"}], \"surface\": [{\"colorbar\": {\"outlinewidth\": 0, \"ticks\": \"\"}, \"colorscale\": [[0.0, \"#0d0887\"], [0.1111111111111111, \"#46039f\"], [0.2222222222222222, \"#7201a8\"], [0.3333333333333333, \"#9c179e\"], [0.4444444444444444, \"#bd3786\"], [0.5555555555555556, \"#d8576b\"], [0.6666666666666666, \"#ed7953\"], [0.7777777777777778, \"#fb9f3a\"], [0.8888888888888888, \"#fdca26\"], [1.0, \"#f0f921\"]], \"type\": \"surface\"}], \"table\": [{\"cells\": {\"fill\": {\"color\": \"#EBF0F8\"}, \"line\": {\"color\": \"white\"}}, \"header\": {\"fill\": {\"color\": \"#C8D4E3\"}, \"line\": {\"color\": \"white\"}}, \"type\": \"table\"}]}, \"layout\": {\"annotationdefaults\": {\"arrowcolor\": \"#2a3f5f\", \"arrowhead\": 0, \"arrowwidth\": 1}, \"autotypenumbers\": \"strict\", \"coloraxis\": {\"colorbar\": {\"outlinewidth\": 0, \"ticks\": \"\"}}, \"colorscale\": {\"diverging\": [[0, \"#8e0152\"], [0.1, \"#c51b7d\"], [0.2, \"#de77ae\"], [0.3, \"#f1b6da\"], [0.4, \"#fde0ef\"], [0.5, \"#f7f7f7\"], [0.6, \"#e6f5d0\"], [0.7, \"#b8e186\"], [0.8, \"#7fbc41\"], [0.9, \"#4d9221\"], [1, \"#276419\"]], \"sequential\": [[0.0, \"#0d0887\"], [0.1111111111111111, \"#46039f\"], [0.2222222222222222, \"#7201a8\"], [0.3333333333333333, \"#9c179e\"], [0.4444444444444444, \"#bd3786\"], [0.5555555555555556, \"#d8576b\"], [0.6666666666666666, \"#ed7953\"], [0.7777777777777778, \"#fb9f3a\"], [0.8888888888888888, \"#fdca26\"], [1.0, \"#f0f921\"]], \"sequentialminus\": [[0.0, \"#0d0887\"], [0.1111111111111111, \"#46039f\"], [0.2222222222222222, \"#7201a8\"], [0.3333333333333333, \"#9c179e\"], [0.4444444444444444, \"#bd3786\"], [0.5555555555555556, \"#d8576b\"], [0.6666666666666666, \"#ed7953\"], [0.7777777777777778, \"#fb9f3a\"], [0.8888888888888888, \"#fdca26\"], [1.0, \"#f0f921\"]]}, \"colorway\": [\"#636efa\", \"#EF553B\", \"#00cc96\", \"#ab63fa\", \"#FFA15A\", \"#19d3f3\", \"#FF6692\", \"#B6E880\", \"#FF97FF\", \"#FECB52\"], \"font\": {\"color\": \"#2a3f5f\"}, \"geo\": {\"bgcolor\": \"white\", \"lakecolor\": \"white\", \"landcolor\": \"#E5ECF6\", \"showlakes\": true, \"showland\": true, \"subunitcolor\": \"white\"}, \"hoverlabel\": {\"align\": \"left\"}, \"hovermode\": \"closest\", \"mapbox\": {\"style\": \"light\"}, \"paper_bgcolor\": \"white\", \"plot_bgcolor\": \"#E5ECF6\", \"polar\": {\"angularaxis\": {\"gridcolor\": \"white\", \"linecolor\": \"white\", \"ticks\": \"\"}, \"bgcolor\": \"#E5ECF6\", \"radialaxis\": {\"gridcolor\": \"white\", \"linecolor\": \"white\", \"ticks\": \"\"}}, \"scene\": {\"xaxis\": {\"backgroundcolor\": \"#E5ECF6\", \"gridcolor\": \"white\", \"gridwidth\": 2, \"linecolor\": \"white\", \"showbackground\": true, \"ticks\": \"\", \"zerolinecolor\": \"white\"}, \"yaxis\": {\"backgroundcolor\": \"#E5ECF6\", \"gridcolor\": \"white\", \"gridwidth\": 2, \"linecolor\": \"white\", \"showbackground\": true, \"ticks\": \"\", \"zerolinecolor\": \"white\"}, \"zaxis\": {\"backgroundcolor\": \"#E5ECF6\", \"gridcolor\": \"white\", \"gridwidth\": 2, \"linecolor\": \"white\", \"showbackground\": true, \"ticks\": \"\", \"zerolinecolor\": \"white\"}}, \"shapedefaults\": {\"line\": {\"color\": \"#2a3f5f\"}}, \"ternary\": {\"aaxis\": {\"gridcolor\": \"white\", \"linecolor\": \"white\", \"ticks\": \"\"}, \"baxis\": {\"gridcolor\": \"white\", \"linecolor\": \"white\", \"ticks\": \"\"}, \"bgcolor\": \"#E5ECF6\", \"caxis\": {\"gridcolor\": \"white\", \"linecolor\": \"white\", \"ticks\": \"\"}}, \"title\": {\"x\": 0.05}, \"xaxis\": {\"automargin\": true, \"gridcolor\": \"white\", \"linecolor\": \"white\", \"ticks\": \"\", \"title\": {\"standoff\": 15}, \"zerolinecolor\": \"white\", \"zerolinewidth\": 2}, \"yaxis\": {\"automargin\": true, \"gridcolor\": \"white\", \"linecolor\": \"white\", \"ticks\": \"\", \"title\": {\"standoff\": 15}, \"zerolinecolor\": \"white\", \"zerolinewidth\": 2}}}, \"title\": {\"font\": {\"color\": \"#4D5663\"}}, \"xaxis\": {\"gridcolor\": \"#E1E5ED\", \"showgrid\": true, \"tickfont\": {\"color\": \"#4D5663\"}, \"title\": {\"font\": {\"color\": \"#4D5663\"}, \"text\": \"Displacement\"}, \"zerolinecolor\": \"#E1E5ED\"}, \"yaxis\": {\"gridcolor\": \"#E1E5ED\", \"showgrid\": true, \"tickfont\": {\"color\": \"#4D5663\"}, \"title\": {\"font\": {\"color\": \"#4D5663\"}, \"text\": \"Fuel Efficiency (mpg)\"}, \"zerolinecolor\": \"#E1E5ED\"}},                        {\"showLink\": true, \"linkText\": \"Export to plot.ly\", \"plotlyServerURL\": \"https://plot.ly\", \"responsive\": true}                    ).then(function(){\n",
       "                            \n",
       "var gd = document.getElementById('927a091f-daaf-4556-8527-8c927446aec0');\n",
       "var x = new MutationObserver(function (mutations, observer) {{\n",
       "        var display = window.getComputedStyle(gd).display;\n",
       "        if (!display || display === 'none') {{\n",
       "            console.log([gd, 'removed!']);\n",
       "            Plotly.purge(gd);\n",
       "            observer.disconnect();\n",
       "        }}\n",
       "}});\n",
       "\n",
       "// Listen for the removal of the full notebook cells\n",
       "var notebookContainer = gd.closest('#notebook-container');\n",
       "if (notebookContainer) {{\n",
       "    x.observe(notebookContainer, {childList: true});\n",
       "}}\n",
       "\n",
       "// Listen for the clearing of the current output cell\n",
       "var outputEl = gd.closest('.output');\n",
       "if (outputEl) {{\n",
       "    x.observe(outputEl, {childList: true});\n",
       "}}\n",
       "\n",
       "                        })                };                });            </script>        </div>"
      ]
     },
     "metadata": {},
     "output_type": "display_data"
    }
   ],
   "source": [
    "#Ploting Stacked Bar Chart\n",
    "df.iplot(kind='bar', barmode='stack', filename='cufflinks/grouped-bar-chart')\n",
    "\n",
    "#Plotting Bubble Chart\n",
    "df.iplot(kind='bubble', x='displacement', y='mpg', size='Origin', text='Continent',\n",
    "             xTitle='Displacement', yTitle='Fuel Efficiency (mpg)', colors='rgb(255,0,0)', \n",
    "             filename='simple-bubble-chart')"
   ]
  },
  {
   "cell_type": "markdown",
   "metadata": {
    "_uuid": "5f75d41e32938176d75c2e84c5d1f1a59cb07419"
   },
   "source": [
    "**Split features from labels**"
   ]
  },
  {
   "cell_type": "code",
   "execution_count": 50,
   "metadata": {
    "_uuid": "02a17505c1aab1f3f37b0c7c89ef50130f79f607"
   },
   "outputs": [
    {
     "data": {
      "text/html": [
       "<div>\n",
       "<style scoped>\n",
       "    .dataframe tbody tr th:only-of-type {\n",
       "        vertical-align: middle;\n",
       "    }\n",
       "\n",
       "    .dataframe tbody tr th {\n",
       "        vertical-align: top;\n",
       "    }\n",
       "\n",
       "    .dataframe thead th {\n",
       "        text-align: right;\n",
       "    }\n",
       "</style>\n",
       "<table border=\"1\" class=\"dataframe\">\n",
       "  <thead>\n",
       "    <tr style=\"text-align: right;\">\n",
       "      <th></th>\n",
       "      <th>cylinders</th>\n",
       "      <th>displacement</th>\n",
       "      <th>horsepower</th>\n",
       "      <th>weight</th>\n",
       "      <th>acceleration</th>\n",
       "      <th>model year</th>\n",
       "      <th>USA</th>\n",
       "      <th>Europe</th>\n",
       "      <th>Japan</th>\n",
       "    </tr>\n",
       "  </thead>\n",
       "  <tbody>\n",
       "    <tr>\n",
       "      <th>207</th>\n",
       "      <td>4</td>\n",
       "      <td>130.0</td>\n",
       "      <td>102</td>\n",
       "      <td>3150</td>\n",
       "      <td>15.7</td>\n",
       "      <td>76</td>\n",
       "      <td>0.0</td>\n",
       "      <td>1.0</td>\n",
       "      <td>0.0</td>\n",
       "    </tr>\n",
       "    <tr>\n",
       "      <th>279</th>\n",
       "      <td>4</td>\n",
       "      <td>98.0</td>\n",
       "      <td>68</td>\n",
       "      <td>2135</td>\n",
       "      <td>16.6</td>\n",
       "      <td>78</td>\n",
       "      <td>0.0</td>\n",
       "      <td>0.0</td>\n",
       "      <td>1.0</td>\n",
       "    </tr>\n",
       "    <tr>\n",
       "      <th>227</th>\n",
       "      <td>6</td>\n",
       "      <td>225.0</td>\n",
       "      <td>100</td>\n",
       "      <td>3630</td>\n",
       "      <td>17.7</td>\n",
       "      <td>77</td>\n",
       "      <td>1.0</td>\n",
       "      <td>0.0</td>\n",
       "      <td>0.0</td>\n",
       "    </tr>\n",
       "    <tr>\n",
       "      <th>148</th>\n",
       "      <td>4</td>\n",
       "      <td>116.0</td>\n",
       "      <td>75</td>\n",
       "      <td>2246</td>\n",
       "      <td>14.0</td>\n",
       "      <td>74</td>\n",
       "      <td>0.0</td>\n",
       "      <td>1.0</td>\n",
       "      <td>0.0</td>\n",
       "    </tr>\n",
       "    <tr>\n",
       "      <th>143</th>\n",
       "      <td>4</td>\n",
       "      <td>97.0</td>\n",
       "      <td>78</td>\n",
       "      <td>2300</td>\n",
       "      <td>14.5</td>\n",
       "      <td>74</td>\n",
       "      <td>0.0</td>\n",
       "      <td>1.0</td>\n",
       "      <td>0.0</td>\n",
       "    </tr>\n",
       "  </tbody>\n",
       "</table>\n",
       "</div>"
      ],
      "text/plain": [
       "     cylinders  displacement horsepower  weight  acceleration  model year  \\\n",
       "207          4         130.0        102    3150          15.7          76   \n",
       "279          4          98.0         68    2135          16.6          78   \n",
       "227          6         225.0        100    3630          17.7          77   \n",
       "148          4         116.0         75    2246          14.0          74   \n",
       "143          4          97.0         78    2300          14.5          74   \n",
       "\n",
       "     USA  Europe  Japan  \n",
       "207  0.0     1.0    0.0  \n",
       "279  0.0     0.0    1.0  \n",
       "227  1.0     0.0    0.0  \n",
       "148  0.0     1.0    0.0  \n",
       "143  0.0     1.0    0.0  "
      ]
     },
     "execution_count": 50,
     "metadata": {},
     "output_type": "execute_result"
    }
   ],
   "source": [
    "# Separate the target value, or \"label\", from the features. This label is the value that you \n",
    "# will train the model to predict.\n",
    "train_labels = train_dataset.pop('mpg')\n",
    "test_labels = test_dataset.pop('mpg')\n",
    "train_dataset.tail()"
   ]
  },
  {
   "cell_type": "markdown",
   "metadata": {
    "_uuid": "d99da783d4a975475a0807262e71bab350d53925"
   },
   "source": [
    "**Normalize the data**"
   ]
  },
  {
   "cell_type": "code",
   "execution_count": 51,
   "metadata": {
    "_uuid": "de73731fd43342d47aeab6f21d2e3b9ff90cc30b"
   },
   "outputs": [],
   "source": [
    "# Look again at the train_stats block above and note how different the ranges of each feature are.\n",
    "# It is good practice to normalize features that use different scales and ranges. Although the model \n",
    "# might converge without feature normalization, it makes training more difficult, and it makes the \n",
    "# resulting model dependent on the choice of units used in the input.\n",
    "\n",
    "# This normalized data is what we will use to train the model.\n",
    "\n",
    "train_dataset.dropna()\n",
    "test_dataset.dropna()\n",
    "\n",
    "train_dataset.pop('horsepower')\n",
    "test_dataset.pop('horsepower')\n",
    "\n",
    "def norm(x):\n",
    "    return (x - train_stats['mean']) / train_stats['std']\n",
    "\n",
    "normed_train_data = norm(train_dataset)\n",
    "normed_test_data = norm(test_dataset)"
   ]
  },
  {
   "cell_type": "markdown",
   "metadata": {
    "_uuid": "ed01b19e57aeecb78e8fc0309ea8fbd7773f69c1"
   },
   "source": [
    "**Build the model**"
   ]
  },
  {
   "cell_type": "code",
   "execution_count": 52,
   "metadata": {
    "_uuid": "2c5e1348f07454e6534b121e756ba5eb7c234072"
   },
   "outputs": [
    {
     "ename": "AttributeError",
     "evalue": "module 'tensorflow._api.v2.train' has no attribute 'RMSPropOptimizer'",
     "output_type": "error",
     "traceback": [
      "\u001b[1;31m---------------------------------------------------------------------------\u001b[0m",
      "\u001b[1;31mAttributeError\u001b[0m                            Traceback (most recent call last)",
      "\u001b[1;32m<ipython-input-52-3ba0d62f1dee>\u001b[0m in \u001b[0;36m<module>\u001b[1;34m\u001b[0m\n\u001b[0;32m     16\u001b[0m                 metrics=['mae', 'mse'])\n\u001b[0;32m     17\u001b[0m   \u001b[1;32mreturn\u001b[0m \u001b[0mmodel\u001b[0m\u001b[1;33m\u001b[0m\u001b[1;33m\u001b[0m\u001b[0m\n\u001b[1;32m---> 18\u001b[1;33m \u001b[0mmodel\u001b[0m \u001b[1;33m=\u001b[0m \u001b[0mbuild_model\u001b[0m\u001b[1;33m(\u001b[0m\u001b[1;33m)\u001b[0m\u001b[1;33m\u001b[0m\u001b[1;33m\u001b[0m\u001b[0m\n\u001b[0m",
      "\u001b[1;32m<ipython-input-52-3ba0d62f1dee>\u001b[0m in \u001b[0;36mbuild_model\u001b[1;34m()\u001b[0m\n\u001b[0;32m     10\u001b[0m   ])\n\u001b[0;32m     11\u001b[0m \u001b[1;33m\u001b[0m\u001b[0m\n\u001b[1;32m---> 12\u001b[1;33m   \u001b[0moptimizer\u001b[0m \u001b[1;33m=\u001b[0m \u001b[0mtf\u001b[0m\u001b[1;33m.\u001b[0m\u001b[0mtrain\u001b[0m\u001b[1;33m.\u001b[0m\u001b[0mRMSPropOptimizer\u001b[0m\u001b[1;33m(\u001b[0m\u001b[1;36m0.001\u001b[0m\u001b[1;33m)\u001b[0m\u001b[1;33m\u001b[0m\u001b[1;33m\u001b[0m\u001b[0m\n\u001b[0m\u001b[0;32m     13\u001b[0m \u001b[1;33m\u001b[0m\u001b[0m\n\u001b[0;32m     14\u001b[0m   model.compile(loss='mse',\n",
      "\u001b[1;31mAttributeError\u001b[0m: module 'tensorflow._api.v2.train' has no attribute 'RMSPropOptimizer'"
     ]
    }
   ],
   "source": [
    "# Let's build our model. Here, we'll use a TensorFlow Keras Sequential model with two densely \n",
    "# connected hidden layers, and an output layer that returns a single, continuous value. The model \n",
    "# building steps are wrapped in a function, build_model, since we'll create a second model, later on.\n",
    "\n",
    "def build_model():\n",
    "  model = keras.Sequential([\n",
    "    layers.Dense(64, activation=tf.nn.relu, input_shape=[len(train_dataset.keys())]),\n",
    "    layers.Dense(64, activation=tf.nn.relu),\n",
    "    layers.Dense(1)\n",
    "  ])\n",
    "\n",
    "  optimizer = tf.train.RMSPropOptimizer(0.001)\n",
    "\n",
    "  model.compile(loss='mse',\n",
    "                optimizer=optimizer,\n",
    "                metrics=['mae', 'mse'])\n",
    "  return model\n",
    "model = build_model()\n"
   ]
  },
  {
   "cell_type": "markdown",
   "metadata": {
    "_uuid": "566b3db3c00f1999f7e9f32915e4aed21aeb04da"
   },
   "source": [
    "**Inspect the model**"
   ]
  },
  {
   "cell_type": "code",
   "execution_count": null,
   "metadata": {
    "_uuid": "c921fffe4b1be2e3cec2fe5fe72a5a7b2432a873"
   },
   "outputs": [],
   "source": [
    "# Use the .summary method to print a simple description of the model\n",
    "\n",
    "model.summary()"
   ]
  },
  {
   "cell_type": "code",
   "execution_count": null,
   "metadata": {
    "_uuid": "ddeaf79fb8f071e074d206cb22eeb23ed0f8aaf9"
   },
   "outputs": [],
   "source": [
    "# Now try out the model. Take a batch of 10 exampes from the training data and call \n",
    "# model.predict on it.\n",
    "\n",
    "example_batch = normed_train_data[:10]\n",
    "example_result = model.predict(example_batch)\n",
    "example_result\n"
   ]
  },
  {
   "cell_type": "code",
   "execution_count": null,
   "metadata": {
    "_uuid": "f89a0d58e831636b16b79bbe2ac47422f60334a5"
   },
   "outputs": [],
   "source": [
    "# Train the model\n",
    "# ---------------\n",
    "\n",
    "# The model is trained for 1000 epochs, and record the training and validation accuracy in the history object.\n",
    "\n",
    "# Display training progress by printing a single dot for each completed epoch\n",
    "class PrintDot(keras.callbacks.Callback):\n",
    "  def on_epoch_end(self, epoch, logs):\n",
    "    if epoch % 100 == 0: print('')\n",
    "    print('.', end='')\n",
    "\n",
    "EPOCHS = 1000\n",
    "\n",
    "history = model.fit(\n",
    "  normed_train_data, train_labels,\n",
    "  epochs=EPOCHS, validation_split = 0.2, verbose=0,\n",
    "  callbacks=[PrintDot()])"
   ]
  },
  {
   "cell_type": "code",
   "execution_count": null,
   "metadata": {
    "_uuid": "21c29becf71ae0a9ea3b947ba3744e70731c38ae"
   },
   "outputs": [],
   "source": [
    "# Visualize the model's training progress using the stats stored in the history object.\n",
    "\n",
    "hist = pd.DataFrame(history.history)\n",
    "hist['epoch'] = history.epoch\n",
    "hist.tail()"
   ]
  },
  {
   "cell_type": "code",
   "execution_count": null,
   "metadata": {
    "_uuid": "487ce346337d1df77850e9d589a66f77dd9141a3"
   },
   "outputs": [],
   "source": [
    "import matplotlib.pyplot as plt\n",
    "\n",
    "def plot_history(history):\n",
    "  plt.figure()\n",
    "  plt.xlabel('Epoch')\n",
    "  plt.ylabel('Mean Abs Error [MPG]')\n",
    "  plt.plot(hist['epoch'], hist['mean_absolute_error'],\n",
    "           label='Train Error')\n",
    "  plt.plot(hist['epoch'], hist['val_mean_absolute_error'],\n",
    "           label = 'Val Error')\n",
    "  plt.legend()\n",
    "  plt.ylim([0,5])\n",
    "  \n",
    "  plt.figure()\n",
    "  plt.xlabel('Epoch')\n",
    "  plt.ylabel('Mean Square Error [$MPG^2$]')\n",
    "  plt.plot(hist['epoch'], hist['mean_squared_error'],\n",
    "           label='Train Error')\n",
    "  plt.plot(hist['epoch'], hist['val_mean_squared_error'],\n",
    "           label = 'Val Error')\n",
    "  plt.legend()\n",
    "  plt.ylim([0,20])\n",
    "\n",
    "plot_history(history)"
   ]
  },
  {
   "cell_type": "code",
   "execution_count": null,
   "metadata": {
    "_uuid": "88203a8917703a9a7b04decac70fb424b9c6b85d"
   },
   "outputs": [],
   "source": [
    "# This graph shows little improvement, or even degradation in the validation error after a few \n",
    "# hundred epochs. Let's update the model.fit method to automatically stop training when the \n",
    "# validation score doesn't improve. We'll use a callback that tests a training condition for \n",
    "# every epoch. If a set amount of epochs elapses without showing improvement, then automatically \n",
    "# stop the training.\n",
    "\n",
    "# You can learn more about this callback here.\n",
    "\n",
    "model = build_model()\n",
    "\n",
    "# The patience parameter is the amount of epochs to check for improvement\n",
    "early_stop = keras.callbacks.EarlyStopping(monitor='val_loss', patience=50)\n",
    "\n",
    "history = model.fit(normed_train_data, train_labels, epochs=EPOCHS,\n",
    "                    validation_split = 0.2, verbose=0, callbacks=[early_stop, PrintDot()])\n",
    "\n",
    "plot_history(history)"
   ]
  },
  {
   "cell_type": "code",
   "execution_count": null,
   "metadata": {
    "_uuid": "13cec88b6107ca8187f932d95ce3709c06568e50"
   },
   "outputs": [],
   "source": [
    "# The graph shows that on the validation set, the average error usually around +/- 2 MPG. Is this good? \n",
    "# We'll leave that decision up to you.\n",
    "\n",
    "# Let's see how did the model performs on the test set, which we did not use when training the model:\n",
    "\n",
    "loss, mae, mse = model.evaluate(normed_test_data, test_labels, verbose=0)\n",
    "\n",
    "print(\"Testing set Mean Abs Error: {:5.2f} MPG\".format(mae))"
   ]
  },
  {
   "cell_type": "code",
   "execution_count": null,
   "metadata": {
    "_uuid": "4eb403594d7149552490a20cbe3fec7784d65e1d"
   },
   "outputs": [],
   "source": [
    "# Make predictions\n",
    "# ----------------\n",
    "\n",
    "# Finally, predict MPG values using data in the testing set:\n",
    "\n",
    "test_predictions = model.predict(normed_test_data).flatten()\n",
    "\n",
    "plt.scatter(test_labels, test_predictions)\n",
    "plt.xlabel('True Values [MPG]')\n",
    "plt.ylabel('Predictions [MPG]')\n",
    "plt.axis('equal')\n",
    "plt.axis('square')\n",
    "plt.xlim([0,plt.xlim()[1]])\n",
    "plt.ylim([0,plt.ylim()[1]])\n",
    "_ = plt.plot([-100, 100], [-100, 100])"
   ]
  },
  {
   "cell_type": "code",
   "execution_count": null,
   "metadata": {
    "_uuid": "2ae22d3e5ea435790a02afc91108ef8d7ab1fa84"
   },
   "outputs": [],
   "source": [
    "error = test_predictions - test_labels\n",
    "plt.hist(error, bins = 25)\n",
    "plt.xlabel(\"Prediction Error [MPG]\")\n",
    "_ = plt.ylabel(\"Count\")"
   ]
  },
  {
   "cell_type": "code",
   "execution_count": null,
   "metadata": {
    "_uuid": "019859c4febb06b83b5d65ee0bcdab8f7484b5f2"
   },
   "outputs": [],
   "source": [
    "# This notebook introduced a few techniques to handle a regression problem.\n",
    "\n",
    "#     1. Mean Squared Error (MSE) is a common loss function used for regression problems \n",
    "#        (different than classification problems).\n",
    "#     2. Similarly, evaluation metrics used for regression differ from classification. A common \n",
    "#        regression metric is Mean Absolute Error (MAE).\n",
    "#     3. When input data features have values with different ranges, each feature should be scaled independently.\n",
    "#     4. If there is not much training data, prefer a small network with few hidden layers to avoid overfitting.\n",
    "#     5. Early stopping is a useful technique to prevent overfitting."
   ]
  },
  {
   "cell_type": "markdown",
   "metadata": {
    "_uuid": "f54bedc9c2399765d768cd6d84eaa518a7367f6a"
   },
   "source": [
    "**Scikit Learn Modeling**"
   ]
  },
  {
   "cell_type": "code",
   "execution_count": null,
   "metadata": {
    "_uuid": "cfcac12f89443176ccd71da4e9b465bccd4aa403"
   },
   "outputs": [],
   "source": [
    "# Features Scaling\n",
    "columns = normed_train_data.columns\n",
    "column_test = normed_test_data.columns\n",
    "y_train = train_labels.copy()\n",
    "\n",
    "lab_enc = preprocessing.LabelEncoder()\n",
    "y_train_encoded = lab_enc.fit_transform(y_train)\n",
    "\n",
    "scaler = preprocessing.Normalizer()\n",
    "X_train = scaler.fit_transform(normed_train_data)\n",
    "X_train = pd.DataFrame(X_train, columns=columns)\n",
    "\n",
    "X_test = scaler.transform(normed_test_data)\n",
    "X_test = pd.DataFrame(X_test, columns=column_test)"
   ]
  },
  {
   "cell_type": "markdown",
   "metadata": {
    "_uuid": "61b5802b034b9113244cd256cfb80dcae6f448f3"
   },
   "source": [
    "**Try Different Scikit Learn Models and Evaluate Model Score**"
   ]
  },
  {
   "cell_type": "code",
   "execution_count": null,
   "metadata": {
    "_uuid": "5a0dcd4f1bdcb6a146f4548347a1889e3a8361cc"
   },
   "outputs": [],
   "source": [
    "# Scikit learn Logistic Regression\n",
    "log = LogisticRegression()\n",
    "log.fit(X_train, y_train_encoded)\n",
    "\n",
    "pred_log = log.predict(X_test)\n",
    "\n",
    "log.score(X_train, y_train_encoded)\n",
    "logistic_score = round(log.score(X_train, y_train_encoded)*100,2)\n",
    "logistic_score"
   ]
  },
  {
   "cell_type": "code",
   "execution_count": null,
   "metadata": {
    "_uuid": "daf4d7bf088d88eb05cfac5e9d66c5e797ef43fb"
   },
   "outputs": [],
   "source": [
    "# Scikit learn RandomForestClassifier\n",
    "rf = RandomForestClassifier()\n",
    "rf.fit(X_train, y_train_encoded)\n",
    "pred_random = rf.predict(X_test)\n",
    "\n",
    "rf.score(X_train, y_train_encoded)\n",
    "\n",
    "random_score = round(rf.score(X_train, y_train_encoded)*100,2)\n",
    "random_score"
   ]
  },
  {
   "cell_type": "code",
   "execution_count": null,
   "metadata": {
    "_uuid": "96b97cc4e96b10fde084484420b2c3501c0be4ee"
   },
   "outputs": [],
   "source": [
    "# Scikit learn DecisionTreeClassifier\n",
    "\n",
    "tree = DecisionTreeClassifier()\n",
    "tree.fit(X_train, y_train_encoded)\n",
    "\n",
    "pred_tree = tree.predict(X_test)\n",
    "\n",
    "tree.score(X_train, y_train_encoded)\n",
    "tree_score = round(tree.score(X_train, y_train_encoded)*100,2)\n",
    "tree_score"
   ]
  },
  {
   "cell_type": "code",
   "execution_count": null,
   "metadata": {
    "_uuid": "4206e80252888d1b833e42129077948c40f02bac"
   },
   "outputs": [],
   "source": [
    "# Scikit learn KNeighborsClassifier\n",
    "\n",
    "knn = KNeighborsClassifier(n_neighbors=1)\n",
    "knn.fit(X_train, y_train_encoded)\n",
    "pred_knn = knn.predict(X_test)\n",
    "\n",
    "knn.score(X_train, y_train_encoded)\n",
    "knn_score = round(knn.score(X_train, y_train_encoded)*100,2)\n",
    "knn_score"
   ]
  },
  {
   "cell_type": "code",
   "execution_count": null,
   "metadata": {
    "_uuid": "81751275ea64cb67e9fe1fba2eb9125c2717720d"
   },
   "outputs": [],
   "source": [
    "# Scikit learn GaussianNB (Gaussian Naive Bayes)\n",
    "\n",
    "gaus = GaussianNB()\n",
    "gaus.fit(X_train, y_train_encoded)\n",
    "pred_gaus = gaus.predict(X_test)\n",
    "\n",
    "gaus.score(X_train, y_train_encoded)\n",
    "gaus_score = round(gaus.score(X_train, y_train_encoded)*100,2)\n",
    "gaus_score"
   ]
  },
  {
   "cell_type": "code",
   "execution_count": null,
   "metadata": {
    "_uuid": "18e1aff72d1f770283d0247bf23fcd5c4d71387f"
   },
   "outputs": [],
   "source": [
    "# Scikit learn Perceptron\n",
    "\n",
    "per = Perceptron(max_iter=5)\n",
    "per.fit(X_train, y_train_encoded)\n",
    "\n",
    "perd_per = per.predict(X_test)\n",
    "\n",
    "per.score(X_train, y_train_encoded)\n",
    "perceptron_score = round(per.score(X_train, y_train_encoded) * 100, 2)\n",
    "perceptron_score"
   ]
  },
  {
   "cell_type": "code",
   "execution_count": null,
   "metadata": {
    "_uuid": "48589f6bfc2422bea71515a3ba5f788739f3edf9"
   },
   "outputs": [],
   "source": [
    "# Scikit learn LinearSVC (Linear Support Vector Machine)\n",
    "\n",
    "svc = LinearSVC()\n",
    "svc.fit(X_train, y_train_encoded)\n",
    "\n",
    "pred_svc = svc.predict(X_test)\n",
    "\n",
    "svc.score(X_train, y_train_encoded)\n",
    "svc_score = round(svc.score(X_train, y_train_encoded) * 100, 2)\n",
    "svc_score"
   ]
  },
  {
   "cell_type": "markdown",
   "metadata": {
    "_uuid": "50c7c03dc2945ea17e8fe8eb15b0331a023d2d53"
   },
   "source": [
    "**Model scores at a glance**"
   ]
  },
  {
   "cell_type": "code",
   "execution_count": null,
   "metadata": {
    "_uuid": "acecd153e73307c30769d7f45f19c80e4b2578ec"
   },
   "outputs": [],
   "source": [
    "df_score = pd.DataFrame({\"Models\": ['Support Vector Machines', 'KNN', 'Logistic Regression', \n",
    "              'Random Forest', 'Naive Bayes', 'Perceptron', 'Decision Tree'], \n",
    "                       \"Score\": [svc_score, knn_score, logistic_score, random_score, gaus_score, \n",
    "                                 perceptron_score, tree_score]})\n",
    "df_score.sort_values(by= \"Score\", ascending=False)"
   ]
  }
 ],
 "metadata": {
  "kernelspec": {
   "display_name": "Python 3",
   "language": "python",
   "name": "python3"
  },
  "language_info": {
   "codemirror_mode": {
    "name": "ipython",
    "version": 3
   },
   "file_extension": ".py",
   "mimetype": "text/x-python",
   "name": "python",
   "nbconvert_exporter": "python",
   "pygments_lexer": "ipython3",
   "version": "3.7.10"
  }
 },
 "nbformat": 4,
 "nbformat_minor": 1
}
